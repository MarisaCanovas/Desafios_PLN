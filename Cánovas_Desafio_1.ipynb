{
  "cells": [
    {
      "cell_type": "code",
      "execution_count": null,
      "metadata": {
        "colab": {
          "base_uri": "https://localhost:8080/"
        },
        "id": "yHy25EeLrKVP",
        "outputId": "f004f46b-df67-4e0a-a799-affd512e9d2e"
      },
      "outputs": [
        {
          "output_type": "stream",
          "name": "stdout",
          "text": [
            "Requirement already satisfied: numpy in /usr/local/lib/python3.12/dist-packages (2.0.2)\n",
            "Requirement already satisfied: scikit-learn in /usr/local/lib/python3.12/dist-packages (1.6.1)\n",
            "Requirement already satisfied: scipy>=1.6.0 in /usr/local/lib/python3.12/dist-packages (from scikit-learn) (1.16.1)\n",
            "Requirement already satisfied: joblib>=1.2.0 in /usr/local/lib/python3.12/dist-packages (from scikit-learn) (1.5.2)\n",
            "Requirement already satisfied: threadpoolctl>=3.1.0 in /usr/local/lib/python3.12/dist-packages (from scikit-learn) (3.6.0)\n"
          ]
        }
      ],
      "source": [
        "%pip install numpy scikit-learn"
      ]
    },
    {
      "cell_type": "markdown",
      "metadata": {
        "id": "zq6j8LsYq1Dr"
      },
      "source": [
        "### Vectorización de texto y modelo de clasificación Naïve Bayes con el dataset 20 newsgroups"
      ]
    },
    {
      "cell_type": "code",
      "execution_count": null,
      "metadata": {
        "id": "l7cXR6CI30ry"
      },
      "outputs": [],
      "source": [
        "from sklearn.feature_extraction.text import CountVectorizer, TfidfVectorizer#bag of words y td idf\n",
        "from sklearn.metrics.pairwise import cosine_similarity#similaridad de coseno de vectores, similaridad de  documentos (0 a 1)\n",
        "from sklearn.naive_bayes import MultinomialNB, ComplementNB#modelos de clasificacion probabilistica\n",
        "from sklearn.metrics import f1_score#combina precisión y recall(sensibilidad)\n",
        "\n",
        "# 20newsgroups por ser un dataset clásico de NLP ya viene incluido y formateado en sklearn\n",
        "from sklearn.datasets import fetch_20newsgroups #devuelve el dataset de forma de diccionario claves: data(texto), target (numérica y nombre de las categorías )y file name(nombre del archivo)\n",
        "import numpy as np"
      ]
    },
    {
      "cell_type": "markdown",
      "metadata": {
        "id": "yD-pVDWV_rQc"
      },
      "source": [
        "## Carga de datos"
      ]
    },
    {
      "cell_type": "code",
      "execution_count": null,
      "metadata": {
        "id": "Ech9qJaUo9vK"
      },
      "outputs": [],
      "source": [
        "# cargamos los datos (ya separados de forma predeterminada en train y test)\n",
        "newsgroups_train = fetch_20newsgroups(subset='train', remove=('headers', 'footers', 'quotes'))#solo aprende el contenido real\n",
        "newsgroups_test = fetch_20newsgroups(subset='test', remove=('headers', 'footers', 'quotes'))"
      ]
    },
    {
      "cell_type": "markdown",
      "metadata": {
        "id": "UxjSI7su_uWI"
      },
      "source": [
        "## Vectorización"
      ]
    },
    {
      "cell_type": "code",
      "execution_count": null,
      "metadata": {
        "id": "-94VP0QYCzDn"
      },
      "outputs": [],
      "source": [
        "# instanciamos un vectorizador\n",
        "# ver diferentes parámetros de instanciación en la documentación de sklearn https://scikit-learn.org/stable/modules/generated/sklearn.feature_extraction.text.TfidfVectorizer.html\n",
        "tfidfvect = TfidfVectorizer()#fila=un documento  columna=cada palabra  valor=peso de esa palabras en ese doc. Peso alto son raras y útiles para detectar"
      ]
    },
    {
      "cell_type": "code",
      "execution_count": null,
      "metadata": {
        "colab": {
          "base_uri": "https://localhost:8080/"
        },
        "id": "ftPlyanuak8n",
        "outputId": "7e66777d-647a-47e5-e8b1-576523625481"
      },
      "outputs": [
        {
          "output_type": "stream",
          "name": "stdout",
          "text": [
            "I was wondering if anyone out there could enlighten me on this car I saw\n",
            "the other day. It was a 2-door sports car, looked to be from the late 60s/\n",
            "early 70s. It was called a Bricklin. The doors were really small. In addition,\n",
            "the front bumper was separate from the rest of the body. This is \n",
            "all I know. If anyone can tellme a model name, engine specs, years\n",
            "of production, where this car is made, history, or whatever info you\n",
            "have on this funky looking car, please e-mail.\n"
          ]
        }
      ],
      "source": [
        "# en el atributo `data` accedemos al texto\n",
        "print(newsgroups_train.data[0])"
      ]
    },
    {
      "cell_type": "code",
      "execution_count": null,
      "metadata": {
        "id": "1zxcXV6aC_oL"
      },
      "outputs": [],
      "source": [
        "# con la interfaz habitual de sklearn podemos fitear el vectorizador  (obtener el vocabulario y calcular el vector IDF) y transformar directamente los datos\n",
        "# Parámetros por defecto relevantes:\n",
        "#   - lowercase=True: convierte todo a minúsculas\n",
        "#   - token_pattern='(?u)\\\\b\\\\w\\\\w+\\\\b': toma palabras de 2 o más caracteres alfanuméricos\n",
        "#   - stop_words=None: no se remueven palabras vacías\n",
        "#   - max_features=None: se incluyen TODAS las palabras (sin límite)\n",
        "#   - max_df=1.0, min_df=1: no se filtran palabras por frecuencia   Podría ser min_df= ? filtra palabras que aparecen con poca frecuencia o max si lo hace con palabras muy comunes\n",
        "X_train = tfidfvect.fit_transform(newsgroups_train.data)\n",
        "# `X_train` la podemos denominar como la matriz documento-término"
      ]
    },
    {
      "cell_type": "code",
      "execution_count": null,
      "metadata": {
        "colab": {
          "base_uri": "https://localhost:8080/"
        },
        "id": "4Sv7TXbda41-",
        "outputId": "a14b64fa-d933-4f01-c53f-3c053fe4bd55"
      },
      "outputs": [
        {
          "output_type": "stream",
          "name": "stdout",
          "text": [
            "<class 'scipy.sparse._csr.csr_matrix'>\n",
            "shape: (11314, 101631)\n",
            "Cantidad de documentos: 11314\n",
            "Tamaño del vocabulario (dimensionalidad de los vectores): 101631\n"
          ]
        }
      ],
      "source": [
        "# recordar que las vectorizaciones por conteos son esparsas por ello sklearn convenientemente devuelve los vectores de documentos como matrices esparsas\n",
        "print(type(X_train))\n",
        "print(f'shape: {X_train.shape}')\n",
        "print(f'Cantidad de documentos: {X_train.shape[0]}')\n",
        "print(f'Tamaño del vocabulario (dimensionalidad de los vectores): {X_train.shape[1]}')"
      ]
    },
    {
      "cell_type": "markdown",
      "source": [
        "X_train es una matriz dispersa (sparse matrix) en formato CSR (Compressed Sparse Row).No se almacenan los ceros, solo los valores no nulos\n",
        "\n",
        "print(f'shape: {X_train.shape}')(n_documentos, n_palabras_del_vocabulario).\n",
        "\n",
        "max_df=1.0, min_df=1 stop_words=None  max_features=None"
      ],
      "metadata": {
        "id": "5gW85AGQBiWH"
      }
    },
    {
      "cell_type": "code",
      "execution_count": null,
      "metadata": {
        "colab": {
          "base_uri": "https://localhost:8080/"
        },
        "id": "dgydNTZ2pAgR",
        "outputId": "11657bbb-d552-4d18-a1e3-9b8c02b76711"
      },
      "outputs": [
        {
          "output_type": "execute_result",
          "data": {
            "text/plain": [
              "25775"
            ]
          },
          "metadata": {},
          "execution_count": 8
        }
      ],
      "source": [
        "# una vez fiteado el vectorizador, podemos acceder a atributos como el vocabulario aprendido. Es un diccionario que va de términos a índices.\n",
        "# El índice es la posición en el vector de documento.\n",
        "tfidfvect.vocabulary_['car']"
      ]
    },
    {
      "cell_type": "code",
      "execution_count": null,
      "metadata": {
        "id": "xnTSZuvyrTcP"
      },
      "outputs": [],
      "source": [
        "# es muy útil tener el diccionario opuesto que va de índices a términos\n",
        "idx2word = {v: k for k,v in tfidfvect.vocabulary_.items()}"
      ]
    },
    {
      "cell_type": "code",
      "execution_count": null,
      "metadata": {
        "colab": {
          "base_uri": "https://localhost:8080/"
        },
        "id": "swa-AgWrMSHM",
        "outputId": "bfc8106d-74b0-4d65-830c-44faf9a5c9ca"
      },
      "outputs": [
        {
          "output_type": "execute_result",
          "data": {
            "text/plain": [
              "array([ 7,  4,  4,  1, 14, 16, 13,  3,  2,  4])"
            ]
          },
          "metadata": {},
          "execution_count": 10
        }
      ],
      "source": [
        "# en `y_train` guardamos los targets que son enteros\n",
        "y_train = newsgroups_train.target\n",
        "y_train[:10]"
      ]
    },
    {
      "cell_type": "code",
      "execution_count": null,
      "metadata": {
        "colab": {
          "base_uri": "https://localhost:8080/"
        },
        "id": "je5kxvQMDLvf",
        "outputId": "83c03256-f7fe-4a9e-d5a2-ae101a768b0a"
      },
      "outputs": [
        {
          "output_type": "stream",
          "name": "stdout",
          "text": [
            "clases [ 0  1  2  3  4  5  6  7  8  9 10 11 12 13 14 15 16 17 18 19]\n"
          ]
        },
        {
          "output_type": "execute_result",
          "data": {
            "text/plain": [
              "['alt.atheism',\n",
              " 'comp.graphics',\n",
              " 'comp.os.ms-windows.misc',\n",
              " 'comp.sys.ibm.pc.hardware',\n",
              " 'comp.sys.mac.hardware',\n",
              " 'comp.windows.x',\n",
              " 'misc.forsale',\n",
              " 'rec.autos',\n",
              " 'rec.motorcycles',\n",
              " 'rec.sport.baseball',\n",
              " 'rec.sport.hockey',\n",
              " 'sci.crypt',\n",
              " 'sci.electronics',\n",
              " 'sci.med',\n",
              " 'sci.space',\n",
              " 'soc.religion.christian',\n",
              " 'talk.politics.guns',\n",
              " 'talk.politics.mideast',\n",
              " 'talk.politics.misc',\n",
              " 'talk.religion.misc']"
            ]
          },
          "metadata": {},
          "execution_count": 11
        }
      ],
      "source": [
        "# hay 20 clases correspondientes a los 20 grupos de noticias\n",
        "print(f'clases {np.unique(newsgroups_test.target)}')\n",
        "newsgroups_test.target_names"
      ]
    },
    {
      "cell_type": "markdown",
      "metadata": {
        "id": "SXCICFSd_y90"
      },
      "source": [
        "## Similaridad de documentos"
      ]
    },
    {
      "cell_type": "code",
      "execution_count": null,
      "metadata": {
        "colab": {
          "base_uri": "https://localhost:8080/"
        },
        "id": "_pki_olShnyE",
        "outputId": "dbb3ae75-c1ae-4fd4-8a2e-8fee7e91a8ea"
      },
      "outputs": [
        {
          "output_type": "stream",
          "name": "stdout",
          "text": [
            "THE WHITE HOUSE\n",
            "\n",
            "                  Office of the Press Secretary\n",
            "                   (Pittsburgh, Pennslyvania)\n",
            "______________________________________________________________\n",
            "For Immediate Release                         April 17, 1993     \n",
            "\n",
            "             \n",
            "                  RADIO ADDRESS TO THE NATION \n",
            "                        BY THE PRESIDENT\n",
            "             \n",
            "                Pittsburgh International Airport\n",
            "                    Pittsburgh, Pennsylvania\n",
            "             \n",
            "             \n",
            "10:06 A.M. EDT\n",
            "             \n",
            "             \n",
            "             THE PRESIDENT:  Good morning.  My voice is coming to\n",
            "you this morning through the facilities of the oldest radio\n",
            "station in America, KDKA in Pittsburgh.  I'm visiting the city to\n",
            "meet personally with citizens here to discuss my plans for jobs,\n",
            "health care and the economy.  But I wanted first to do my weekly\n",
            "broadcast with the American people. \n",
            "             \n",
            "             I'm told this station first broadcast in 1920 when\n",
            "it reported that year's presidential elections.  Over the past\n",
            "seven decades presidents have found ways to keep in touch with\n",
            "the people, from whistle-stop tours to fire-side chats to the bus\n",
            "tour that I adopted, along with Vice President Gore, in last\n",
            "year's campaign.\n",
            "             \n",
            "             Every Saturday morning I take this time to talk with\n",
            "you, my fellow Americans, about the problems on your minds and\n",
            "what I'm doing to try and solve them.  It's my way of reporting\n",
            "to you and of giving you a way to hold me accountable.\n",
            "             \n",
            "             You sent me to Washington to get our government and\n",
            "economy moving after years of paralysis and policy and a bad\n",
            "experiment with trickle-down economics.  You know how important\n",
            "it is for us to make bold, comprehensive changes in the way we do\n",
            "business.  \n",
            "             \n",
            "             We live in a competitive global economy.  Nations\n",
            "rise and fall on the skills of their workers, the competitiveness\n",
            "of their companies, the imagination of their industries, and the\n",
            "cooperative experience and spirit that exists between business,\n",
            "labor and government.  Although many of the economies of the\n",
            "industrialized world are now suffering from slow growth, they've\n",
            "made many of the smart investments and the tough choices which\n",
            "our government has for too long ignored.  That's why many of them\n",
            "have been moving ahead and too many of our people have been\n",
            "falling behind.\n",
            "             \n",
            "             We have an economy today that even when it grows is\n",
            "not producing new jobs.  We've increased the debt of our nation\n",
            "by four times over the last 12 years, and we don't have much to\n",
            "show for it.  We know that wages of most working people have\n",
            "stopped rising, that most people are working longer work weeks\n",
            "and that too many families can no longer afford the escalating\n",
            "cost of health care.\n",
            "             \n",
            "             But we also know that, given the right tools, the\n",
            "right incentives and the right encouragement, our workers and\n",
            "businesses can make the kinds of products and profits our economy\n",
            "needs to expand opportunity and to make our communities better\n",
            "places to live.\n",
            "             \n",
            "             In many critical products today Americans are the\n",
            "low cost, high quality producers.  Our task is to make sure that\n",
            "we create more of those kinds of jobs.\n",
            "             \n",
            "             Just two months ago I gave Congress my plan for\n",
            "long-term jobs and economic growth.  It changes the old\n",
            "priorities in Washington and puts our emphasis where it needs to\n",
            "be -- on people's real needs, on increasing investments and jobs\n",
            "and education, on cutting the federal deficit, on stopping the\n",
            "waste which pays no dividends, and redirecting our precious\n",
            "resources toward investment that creates jobs now and lays the\n",
            "groundwork for robust economic growth in the future.\n",
            "             \n",
            "             These new directions passed the Congress in record\n",
            "time and created a new sense of hope and opportunity in our\n",
            "country.  Then the jobs plan I presented to Congress, which would\n",
            "create hundreds of thousands of jobs, most of them in the private\n",
            "sector in 1993 and 1994, passed the House of Representatives.  It\n",
            "now has the support of a majority of the United States Senate. \n",
            "But it's been held up by a filibuster of a minority in the\n",
            "Senate, just 43 senators.  They blocked a vote that they know\n",
            "would result in the passage of our bill and the creation of jobs.\n",
            "             \n",
            "             The issue isn't politics; the issue is people. \n",
            "Millions of Americans are waiting for this legislation and\n",
            "counting on it, counting on us in Washington.  But the jobs bill\n",
            "has been grounded by gridlock.  \n",
            "             \n",
            "             I know the American people are tired of business as\n",
            "usual and politics as usual.  I know they don't want us to spin\n",
            "or wheels.  They want the recovery to get moving.  So I have\n",
            "taken a first step to break this gridlock and gone the extra\n",
            "mile.  Yesterday I offered to cut the size of this plan by 25\n",
            "percent -- from $16 billion to $12 billion.  \n",
            "             \n",
            "             It's not what I'd hoped for.  With 16 million\n",
            "Americans looking for full-time work, I simply can't let the bill\n",
            "languish when I know that even a compromise bill will mean\n",
            "hundreds of thousands of jobs for our people.  The mandate is to\n",
            "act to achieve change and move the country forward.  By taking\n",
            "this initiative in the face of an unrelenting Senate talkathon, I\n",
            "think we can respond to your mandate and achieve a significant\n",
            "portion of our original goals.\n",
            "             \n",
            "             First, we want to keep the programs as much as\n",
            "possible that are needed to generate jobs and meet human needs,\n",
            "including highway and road construction, summer jobs for young\n",
            "people, immunization for children, construction of waste water\n",
            "sites, and aid to small businesses.  We also want to keep funding\n",
            "for extended unemployment compensation benefits, for people who\n",
            "have been unemployed for a long time because the economy isn't\n",
            "creating jobs.\n",
            "             \n",
            "             Second, I've recommended that all the other programs\n",
            "in the bill be cut across-the-board by a little more than 40\n",
            "percent.\n",
            "             \n",
            "             And third, I've recommended a new element in this\n",
            "program to help us immediately start our attempt to fight against\n",
            "crime by providing $200 million for cities and towns to rehire\n",
            "police officers who lost their jobs during the recession and put\n",
            "them back to work protecting our people.  I'm also going to fight\n",
            "for a tough crime bill because the people of this country need it\n",
            "and deserve it.\n",
            "             \n",
            "             Now, the people who are filibustering this bill --\n",
            "the Republican senators -- say they won't vote for it because it\n",
            "increases deficit spending, because there's extra spending this\n",
            "year that hasn't already been approved.  That sounds reasonable,\n",
            "doesn't it?  Here's what they don't say.  This program is more\n",
            "than paid for by budget cuts over my five-year budget, and this\n",
            "budget is well within the spending limits already approved by the\n",
            "Congress this year.\n",
            "             \n",
            "             It's amazing to me that many of these same senators\n",
            "who are filibustering the bill voted during the previous\n",
            "administration for billions of dollars of the same kind of\n",
            "emergency spending, and much of it was not designed to put the\n",
            "American people to work.  \n",
            "             \n",
            "             This is not about deficit spending.  We have offered\n",
            "a plan to cut the deficit.  This is about where your priorities\n",
            "are -- on people or on politics.  \n",
            "             \n",
            "             Keep in mind that our jobs bill is paid for dollar\n",
            "for dollar.  It is paid for by budget cuts.  And it's the\n",
            "soundest investment we can now make for ourselves and our\n",
            "children.  I urge all Americans to take another look at this jobs\n",
            "and investment program; to consider again the benefits for all of\n",
            "us when we've helped make more American partners working to\n",
            "ensure the future of our nation and the strength of our economy.\n",
            "             \n",
            "             You know, if every American who wanted a job had\n",
            "one, we wouldn't have a lot of the other problems we have in this\n",
            "country today.  This bill is not a miracle, it's a modest first\n",
            "step to try to set off a job creation explosion in this country\n",
            "again.  But it's a step we ought to take.  And it is fully paid\n",
            "for over the life of our budget.\n",
            "             \n",
            "             Tell your lawmakers what you think.  Tell them how\n",
            "important the bill is.  If it passes, we'll all be winners.\n",
            "             \n",
            "             Good morning, and thank you for listening.\n"
          ]
        }
      ],
      "source": [
        "# Veamos similaridad de documentos. Tomemos algún documento\n",
        "idx = 4811\n",
        "print(newsgroups_train.data[idx])"
      ]
    },
    {
      "cell_type": "code",
      "execution_count": null,
      "metadata": {
        "id": "Ssa9bqJ-hA_v"
      },
      "outputs": [],
      "source": [
        "# midamos la similaridad coseno con todos los documentos de train\n",
        "cossim = cosine_similarity(X_train[idx], X_train)[0]# 0 porque es un solo documento una sola fila\n",
        "#X_train[idx]Contiene los pesos TF-IDF de cada palabra en ese documento específico."
      ]
    },
    {
      "cell_type": "code",
      "execution_count": null,
      "metadata": {
        "colab": {
          "base_uri": "https://localhost:8080/"
        },
        "id": "p_mDA7p3AzcQ",
        "outputId": "29e027c0-dae0-4926-e7b7-09c4cd7376ea"
      },
      "outputs": [
        {
          "output_type": "execute_result",
          "data": {
            "text/plain": [
              "array([1.        , 0.70930477, 0.67474953, ..., 0.        , 0.        ,\n",
              "       0.        ])"
            ]
          },
          "metadata": {},
          "execution_count": 14
        }
      ],
      "source": [
        "# podemos ver los valores de similaridad ordenados de mayor a menos\n",
        "np.sort(cossim)[::-1]"
      ]
    },
    {
      "cell_type": "code",
      "execution_count": null,
      "metadata": {
        "colab": {
          "base_uri": "https://localhost:8080/"
        },
        "id": "0OIhDA1jAryX",
        "outputId": "07916264-2528-473b-913b-521668295a51"
      },
      "outputs": [
        {
          "output_type": "execute_result",
          "data": {
            "text/plain": [
              "array([4811, 6635, 4253, ..., 9019, 9016, 8748])"
            ]
          },
          "metadata": {},
          "execution_count": 15
        }
      ],
      "source": [
        "# y a qué documentos corresponden\n",
        "np.argsort(cossim)[::-1]"
      ]
    },
    {
      "cell_type": "code",
      "execution_count": null,
      "metadata": {
        "id": "hP7qLS4ZBLps"
      },
      "outputs": [],
      "source": [
        "# los 5 documentos más similares:\n",
        "mostsim = np.argsort(cossim)[::-1][1:6]"
      ]
    },
    {
      "cell_type": "code",
      "execution_count": null,
      "metadata": {
        "colab": {
          "base_uri": "https://localhost:8080/",
          "height": 36
        },
        "id": "QdJLHPJACvaj",
        "outputId": "32b90a8c-1236-4224-b08b-88a701d7e873"
      },
      "outputs": [
        {
          "output_type": "execute_result",
          "data": {
            "text/plain": [
              "'talk.politics.misc'"
            ],
            "application/vnd.google.colaboratory.intrinsic+json": {
              "type": "string"
            }
          },
          "metadata": {},
          "execution_count": 17
        }
      ],
      "source": [
        "# el documento original pertenece a la clase:\n",
        "newsgroups_train.target_names[y_train[idx]]"
      ]
    },
    {
      "cell_type": "code",
      "execution_count": null,
      "metadata": {
        "colab": {
          "base_uri": "https://localhost:8080/"
        },
        "id": "RWy_73epCbFG",
        "outputId": "3573b25f-c82e-4867-8087-df9abe07c666"
      },
      "outputs": [
        {
          "output_type": "stream",
          "name": "stdout",
          "text": [
            "talk.politics.misc\n",
            "talk.politics.misc\n",
            "talk.politics.misc\n",
            "talk.politics.misc\n",
            "talk.politics.misc\n"
          ]
        }
      ],
      "source": [
        "# y los 5 más similares son de las clases:\n",
        "for i in mostsim:\n",
        "  print(newsgroups_train.target_names[y_train[i]])"
      ]
    },
    {
      "cell_type": "markdown",
      "metadata": {
        "id": "zRoNnKwhBqzq"
      },
      "source": [
        "### Modelo de clasificación Naïve Bayes"
      ]
    },
    {
      "cell_type": "code",
      "execution_count": null,
      "metadata": {
        "colab": {
          "base_uri": "https://localhost:8080/",
          "height": 80
        },
        "id": "TPM0thDaLk0R",
        "outputId": "e5cdd23d-1286-4ea9-b7ad-90060c2b1ae0"
      },
      "outputs": [
        {
          "output_type": "execute_result",
          "data": {
            "text/plain": [
              "MultinomialNB()"
            ],
            "text/html": [
              "<style>#sk-container-id-1 {\n",
              "  /* Definition of color scheme common for light and dark mode */\n",
              "  --sklearn-color-text: #000;\n",
              "  --sklearn-color-text-muted: #666;\n",
              "  --sklearn-color-line: gray;\n",
              "  /* Definition of color scheme for unfitted estimators */\n",
              "  --sklearn-color-unfitted-level-0: #fff5e6;\n",
              "  --sklearn-color-unfitted-level-1: #f6e4d2;\n",
              "  --sklearn-color-unfitted-level-2: #ffe0b3;\n",
              "  --sklearn-color-unfitted-level-3: chocolate;\n",
              "  /* Definition of color scheme for fitted estimators */\n",
              "  --sklearn-color-fitted-level-0: #f0f8ff;\n",
              "  --sklearn-color-fitted-level-1: #d4ebff;\n",
              "  --sklearn-color-fitted-level-2: #b3dbfd;\n",
              "  --sklearn-color-fitted-level-3: cornflowerblue;\n",
              "\n",
              "  /* Specific color for light theme */\n",
              "  --sklearn-color-text-on-default-background: var(--sg-text-color, var(--theme-code-foreground, var(--jp-content-font-color1, black)));\n",
              "  --sklearn-color-background: var(--sg-background-color, var(--theme-background, var(--jp-layout-color0, white)));\n",
              "  --sklearn-color-border-box: var(--sg-text-color, var(--theme-code-foreground, var(--jp-content-font-color1, black)));\n",
              "  --sklearn-color-icon: #696969;\n",
              "\n",
              "  @media (prefers-color-scheme: dark) {\n",
              "    /* Redefinition of color scheme for dark theme */\n",
              "    --sklearn-color-text-on-default-background: var(--sg-text-color, var(--theme-code-foreground, var(--jp-content-font-color1, white)));\n",
              "    --sklearn-color-background: var(--sg-background-color, var(--theme-background, var(--jp-layout-color0, #111)));\n",
              "    --sklearn-color-border-box: var(--sg-text-color, var(--theme-code-foreground, var(--jp-content-font-color1, white)));\n",
              "    --sklearn-color-icon: #878787;\n",
              "  }\n",
              "}\n",
              "\n",
              "#sk-container-id-1 {\n",
              "  color: var(--sklearn-color-text);\n",
              "}\n",
              "\n",
              "#sk-container-id-1 pre {\n",
              "  padding: 0;\n",
              "}\n",
              "\n",
              "#sk-container-id-1 input.sk-hidden--visually {\n",
              "  border: 0;\n",
              "  clip: rect(1px 1px 1px 1px);\n",
              "  clip: rect(1px, 1px, 1px, 1px);\n",
              "  height: 1px;\n",
              "  margin: -1px;\n",
              "  overflow: hidden;\n",
              "  padding: 0;\n",
              "  position: absolute;\n",
              "  width: 1px;\n",
              "}\n",
              "\n",
              "#sk-container-id-1 div.sk-dashed-wrapped {\n",
              "  border: 1px dashed var(--sklearn-color-line);\n",
              "  margin: 0 0.4em 0.5em 0.4em;\n",
              "  box-sizing: border-box;\n",
              "  padding-bottom: 0.4em;\n",
              "  background-color: var(--sklearn-color-background);\n",
              "}\n",
              "\n",
              "#sk-container-id-1 div.sk-container {\n",
              "  /* jupyter's `normalize.less` sets `[hidden] { display: none; }`\n",
              "     but bootstrap.min.css set `[hidden] { display: none !important; }`\n",
              "     so we also need the `!important` here to be able to override the\n",
              "     default hidden behavior on the sphinx rendered scikit-learn.org.\n",
              "     See: https://github.com/scikit-learn/scikit-learn/issues/21755 */\n",
              "  display: inline-block !important;\n",
              "  position: relative;\n",
              "}\n",
              "\n",
              "#sk-container-id-1 div.sk-text-repr-fallback {\n",
              "  display: none;\n",
              "}\n",
              "\n",
              "div.sk-parallel-item,\n",
              "div.sk-serial,\n",
              "div.sk-item {\n",
              "  /* draw centered vertical line to link estimators */\n",
              "  background-image: linear-gradient(var(--sklearn-color-text-on-default-background), var(--sklearn-color-text-on-default-background));\n",
              "  background-size: 2px 100%;\n",
              "  background-repeat: no-repeat;\n",
              "  background-position: center center;\n",
              "}\n",
              "\n",
              "/* Parallel-specific style estimator block */\n",
              "\n",
              "#sk-container-id-1 div.sk-parallel-item::after {\n",
              "  content: \"\";\n",
              "  width: 100%;\n",
              "  border-bottom: 2px solid var(--sklearn-color-text-on-default-background);\n",
              "  flex-grow: 1;\n",
              "}\n",
              "\n",
              "#sk-container-id-1 div.sk-parallel {\n",
              "  display: flex;\n",
              "  align-items: stretch;\n",
              "  justify-content: center;\n",
              "  background-color: var(--sklearn-color-background);\n",
              "  position: relative;\n",
              "}\n",
              "\n",
              "#sk-container-id-1 div.sk-parallel-item {\n",
              "  display: flex;\n",
              "  flex-direction: column;\n",
              "}\n",
              "\n",
              "#sk-container-id-1 div.sk-parallel-item:first-child::after {\n",
              "  align-self: flex-end;\n",
              "  width: 50%;\n",
              "}\n",
              "\n",
              "#sk-container-id-1 div.sk-parallel-item:last-child::after {\n",
              "  align-self: flex-start;\n",
              "  width: 50%;\n",
              "}\n",
              "\n",
              "#sk-container-id-1 div.sk-parallel-item:only-child::after {\n",
              "  width: 0;\n",
              "}\n",
              "\n",
              "/* Serial-specific style estimator block */\n",
              "\n",
              "#sk-container-id-1 div.sk-serial {\n",
              "  display: flex;\n",
              "  flex-direction: column;\n",
              "  align-items: center;\n",
              "  background-color: var(--sklearn-color-background);\n",
              "  padding-right: 1em;\n",
              "  padding-left: 1em;\n",
              "}\n",
              "\n",
              "\n",
              "/* Toggleable style: style used for estimator/Pipeline/ColumnTransformer box that is\n",
              "clickable and can be expanded/collapsed.\n",
              "- Pipeline and ColumnTransformer use this feature and define the default style\n",
              "- Estimators will overwrite some part of the style using the `sk-estimator` class\n",
              "*/\n",
              "\n",
              "/* Pipeline and ColumnTransformer style (default) */\n",
              "\n",
              "#sk-container-id-1 div.sk-toggleable {\n",
              "  /* Default theme specific background. It is overwritten whether we have a\n",
              "  specific estimator or a Pipeline/ColumnTransformer */\n",
              "  background-color: var(--sklearn-color-background);\n",
              "}\n",
              "\n",
              "/* Toggleable label */\n",
              "#sk-container-id-1 label.sk-toggleable__label {\n",
              "  cursor: pointer;\n",
              "  display: flex;\n",
              "  width: 100%;\n",
              "  margin-bottom: 0;\n",
              "  padding: 0.5em;\n",
              "  box-sizing: border-box;\n",
              "  text-align: center;\n",
              "  align-items: start;\n",
              "  justify-content: space-between;\n",
              "  gap: 0.5em;\n",
              "}\n",
              "\n",
              "#sk-container-id-1 label.sk-toggleable__label .caption {\n",
              "  font-size: 0.6rem;\n",
              "  font-weight: lighter;\n",
              "  color: var(--sklearn-color-text-muted);\n",
              "}\n",
              "\n",
              "#sk-container-id-1 label.sk-toggleable__label-arrow:before {\n",
              "  /* Arrow on the left of the label */\n",
              "  content: \"▸\";\n",
              "  float: left;\n",
              "  margin-right: 0.25em;\n",
              "  color: var(--sklearn-color-icon);\n",
              "}\n",
              "\n",
              "#sk-container-id-1 label.sk-toggleable__label-arrow:hover:before {\n",
              "  color: var(--sklearn-color-text);\n",
              "}\n",
              "\n",
              "/* Toggleable content - dropdown */\n",
              "\n",
              "#sk-container-id-1 div.sk-toggleable__content {\n",
              "  max-height: 0;\n",
              "  max-width: 0;\n",
              "  overflow: hidden;\n",
              "  text-align: left;\n",
              "  /* unfitted */\n",
              "  background-color: var(--sklearn-color-unfitted-level-0);\n",
              "}\n",
              "\n",
              "#sk-container-id-1 div.sk-toggleable__content.fitted {\n",
              "  /* fitted */\n",
              "  background-color: var(--sklearn-color-fitted-level-0);\n",
              "}\n",
              "\n",
              "#sk-container-id-1 div.sk-toggleable__content pre {\n",
              "  margin: 0.2em;\n",
              "  border-radius: 0.25em;\n",
              "  color: var(--sklearn-color-text);\n",
              "  /* unfitted */\n",
              "  background-color: var(--sklearn-color-unfitted-level-0);\n",
              "}\n",
              "\n",
              "#sk-container-id-1 div.sk-toggleable__content.fitted pre {\n",
              "  /* unfitted */\n",
              "  background-color: var(--sklearn-color-fitted-level-0);\n",
              "}\n",
              "\n",
              "#sk-container-id-1 input.sk-toggleable__control:checked~div.sk-toggleable__content {\n",
              "  /* Expand drop-down */\n",
              "  max-height: 200px;\n",
              "  max-width: 100%;\n",
              "  overflow: auto;\n",
              "}\n",
              "\n",
              "#sk-container-id-1 input.sk-toggleable__control:checked~label.sk-toggleable__label-arrow:before {\n",
              "  content: \"▾\";\n",
              "}\n",
              "\n",
              "/* Pipeline/ColumnTransformer-specific style */\n",
              "\n",
              "#sk-container-id-1 div.sk-label input.sk-toggleable__control:checked~label.sk-toggleable__label {\n",
              "  color: var(--sklearn-color-text);\n",
              "  background-color: var(--sklearn-color-unfitted-level-2);\n",
              "}\n",
              "\n",
              "#sk-container-id-1 div.sk-label.fitted input.sk-toggleable__control:checked~label.sk-toggleable__label {\n",
              "  background-color: var(--sklearn-color-fitted-level-2);\n",
              "}\n",
              "\n",
              "/* Estimator-specific style */\n",
              "\n",
              "/* Colorize estimator box */\n",
              "#sk-container-id-1 div.sk-estimator input.sk-toggleable__control:checked~label.sk-toggleable__label {\n",
              "  /* unfitted */\n",
              "  background-color: var(--sklearn-color-unfitted-level-2);\n",
              "}\n",
              "\n",
              "#sk-container-id-1 div.sk-estimator.fitted input.sk-toggleable__control:checked~label.sk-toggleable__label {\n",
              "  /* fitted */\n",
              "  background-color: var(--sklearn-color-fitted-level-2);\n",
              "}\n",
              "\n",
              "#sk-container-id-1 div.sk-label label.sk-toggleable__label,\n",
              "#sk-container-id-1 div.sk-label label {\n",
              "  /* The background is the default theme color */\n",
              "  color: var(--sklearn-color-text-on-default-background);\n",
              "}\n",
              "\n",
              "/* On hover, darken the color of the background */\n",
              "#sk-container-id-1 div.sk-label:hover label.sk-toggleable__label {\n",
              "  color: var(--sklearn-color-text);\n",
              "  background-color: var(--sklearn-color-unfitted-level-2);\n",
              "}\n",
              "\n",
              "/* Label box, darken color on hover, fitted */\n",
              "#sk-container-id-1 div.sk-label.fitted:hover label.sk-toggleable__label.fitted {\n",
              "  color: var(--sklearn-color-text);\n",
              "  background-color: var(--sklearn-color-fitted-level-2);\n",
              "}\n",
              "\n",
              "/* Estimator label */\n",
              "\n",
              "#sk-container-id-1 div.sk-label label {\n",
              "  font-family: monospace;\n",
              "  font-weight: bold;\n",
              "  display: inline-block;\n",
              "  line-height: 1.2em;\n",
              "}\n",
              "\n",
              "#sk-container-id-1 div.sk-label-container {\n",
              "  text-align: center;\n",
              "}\n",
              "\n",
              "/* Estimator-specific */\n",
              "#sk-container-id-1 div.sk-estimator {\n",
              "  font-family: monospace;\n",
              "  border: 1px dotted var(--sklearn-color-border-box);\n",
              "  border-radius: 0.25em;\n",
              "  box-sizing: border-box;\n",
              "  margin-bottom: 0.5em;\n",
              "  /* unfitted */\n",
              "  background-color: var(--sklearn-color-unfitted-level-0);\n",
              "}\n",
              "\n",
              "#sk-container-id-1 div.sk-estimator.fitted {\n",
              "  /* fitted */\n",
              "  background-color: var(--sklearn-color-fitted-level-0);\n",
              "}\n",
              "\n",
              "/* on hover */\n",
              "#sk-container-id-1 div.sk-estimator:hover {\n",
              "  /* unfitted */\n",
              "  background-color: var(--sklearn-color-unfitted-level-2);\n",
              "}\n",
              "\n",
              "#sk-container-id-1 div.sk-estimator.fitted:hover {\n",
              "  /* fitted */\n",
              "  background-color: var(--sklearn-color-fitted-level-2);\n",
              "}\n",
              "\n",
              "/* Specification for estimator info (e.g. \"i\" and \"?\") */\n",
              "\n",
              "/* Common style for \"i\" and \"?\" */\n",
              "\n",
              ".sk-estimator-doc-link,\n",
              "a:link.sk-estimator-doc-link,\n",
              "a:visited.sk-estimator-doc-link {\n",
              "  float: right;\n",
              "  font-size: smaller;\n",
              "  line-height: 1em;\n",
              "  font-family: monospace;\n",
              "  background-color: var(--sklearn-color-background);\n",
              "  border-radius: 1em;\n",
              "  height: 1em;\n",
              "  width: 1em;\n",
              "  text-decoration: none !important;\n",
              "  margin-left: 0.5em;\n",
              "  text-align: center;\n",
              "  /* unfitted */\n",
              "  border: var(--sklearn-color-unfitted-level-1) 1pt solid;\n",
              "  color: var(--sklearn-color-unfitted-level-1);\n",
              "}\n",
              "\n",
              ".sk-estimator-doc-link.fitted,\n",
              "a:link.sk-estimator-doc-link.fitted,\n",
              "a:visited.sk-estimator-doc-link.fitted {\n",
              "  /* fitted */\n",
              "  border: var(--sklearn-color-fitted-level-1) 1pt solid;\n",
              "  color: var(--sklearn-color-fitted-level-1);\n",
              "}\n",
              "\n",
              "/* On hover */\n",
              "div.sk-estimator:hover .sk-estimator-doc-link:hover,\n",
              ".sk-estimator-doc-link:hover,\n",
              "div.sk-label-container:hover .sk-estimator-doc-link:hover,\n",
              ".sk-estimator-doc-link:hover {\n",
              "  /* unfitted */\n",
              "  background-color: var(--sklearn-color-unfitted-level-3);\n",
              "  color: var(--sklearn-color-background);\n",
              "  text-decoration: none;\n",
              "}\n",
              "\n",
              "div.sk-estimator.fitted:hover .sk-estimator-doc-link.fitted:hover,\n",
              ".sk-estimator-doc-link.fitted:hover,\n",
              "div.sk-label-container:hover .sk-estimator-doc-link.fitted:hover,\n",
              ".sk-estimator-doc-link.fitted:hover {\n",
              "  /* fitted */\n",
              "  background-color: var(--sklearn-color-fitted-level-3);\n",
              "  color: var(--sklearn-color-background);\n",
              "  text-decoration: none;\n",
              "}\n",
              "\n",
              "/* Span, style for the box shown on hovering the info icon */\n",
              ".sk-estimator-doc-link span {\n",
              "  display: none;\n",
              "  z-index: 9999;\n",
              "  position: relative;\n",
              "  font-weight: normal;\n",
              "  right: .2ex;\n",
              "  padding: .5ex;\n",
              "  margin: .5ex;\n",
              "  width: min-content;\n",
              "  min-width: 20ex;\n",
              "  max-width: 50ex;\n",
              "  color: var(--sklearn-color-text);\n",
              "  box-shadow: 2pt 2pt 4pt #999;\n",
              "  /* unfitted */\n",
              "  background: var(--sklearn-color-unfitted-level-0);\n",
              "  border: .5pt solid var(--sklearn-color-unfitted-level-3);\n",
              "}\n",
              "\n",
              ".sk-estimator-doc-link.fitted span {\n",
              "  /* fitted */\n",
              "  background: var(--sklearn-color-fitted-level-0);\n",
              "  border: var(--sklearn-color-fitted-level-3);\n",
              "}\n",
              "\n",
              ".sk-estimator-doc-link:hover span {\n",
              "  display: block;\n",
              "}\n",
              "\n",
              "/* \"?\"-specific style due to the `<a>` HTML tag */\n",
              "\n",
              "#sk-container-id-1 a.estimator_doc_link {\n",
              "  float: right;\n",
              "  font-size: 1rem;\n",
              "  line-height: 1em;\n",
              "  font-family: monospace;\n",
              "  background-color: var(--sklearn-color-background);\n",
              "  border-radius: 1rem;\n",
              "  height: 1rem;\n",
              "  width: 1rem;\n",
              "  text-decoration: none;\n",
              "  /* unfitted */\n",
              "  color: var(--sklearn-color-unfitted-level-1);\n",
              "  border: var(--sklearn-color-unfitted-level-1) 1pt solid;\n",
              "}\n",
              "\n",
              "#sk-container-id-1 a.estimator_doc_link.fitted {\n",
              "  /* fitted */\n",
              "  border: var(--sklearn-color-fitted-level-1) 1pt solid;\n",
              "  color: var(--sklearn-color-fitted-level-1);\n",
              "}\n",
              "\n",
              "/* On hover */\n",
              "#sk-container-id-1 a.estimator_doc_link:hover {\n",
              "  /* unfitted */\n",
              "  background-color: var(--sklearn-color-unfitted-level-3);\n",
              "  color: var(--sklearn-color-background);\n",
              "  text-decoration: none;\n",
              "}\n",
              "\n",
              "#sk-container-id-1 a.estimator_doc_link.fitted:hover {\n",
              "  /* fitted */\n",
              "  background-color: var(--sklearn-color-fitted-level-3);\n",
              "}\n",
              "</style><div id=\"sk-container-id-1\" class=\"sk-top-container\"><div class=\"sk-text-repr-fallback\"><pre>MultinomialNB()</pre><b>In a Jupyter environment, please rerun this cell to show the HTML representation or trust the notebook. <br />On GitHub, the HTML representation is unable to render, please try loading this page with nbviewer.org.</b></div><div class=\"sk-container\" hidden><div class=\"sk-item\"><div class=\"sk-estimator fitted sk-toggleable\"><input class=\"sk-toggleable__control sk-hidden--visually\" id=\"sk-estimator-id-1\" type=\"checkbox\" checked><label for=\"sk-estimator-id-1\" class=\"sk-toggleable__label fitted sk-toggleable__label-arrow\"><div><div>MultinomialNB</div></div><div><a class=\"sk-estimator-doc-link fitted\" rel=\"noreferrer\" target=\"_blank\" href=\"https://scikit-learn.org/1.6/modules/generated/sklearn.naive_bayes.MultinomialNB.html\">?<span>Documentation for MultinomialNB</span></a><span class=\"sk-estimator-doc-link fitted\">i<span>Fitted</span></span></div></label><div class=\"sk-toggleable__content fitted\"><pre>MultinomialNB()</pre></div> </div></div></div></div>"
            ]
          },
          "metadata": {},
          "execution_count": 19
        }
      ],
      "source": [
        "# es muy fácil instanciar un modelo de clasificación Naïve Bayes y entrenarlo con sklearn\n",
        "clf = MultinomialNB()\n",
        "clf.fit(X_train, y_train)#Aplica suavizado (smoothing) para evitar log(0), Calcula probabilidades por clase,Calcula probabilidades de palabras dada la clase:"
      ]
    },
    {
      "cell_type": "markdown",
      "source": [
        "Parámetros\n",
        "alpha=1.0 Laplace smoothing\n",
        ": evita que una palabra con frecuencia 0 \"rompa\" el cálculo de probabilidad\n",
        "fit_prior=True  Aprende la probabilidad a priori de cada clase a partir de los datos.\n",
        "class_prior=None Si no se da, usa las frecuencias de clases en\n",
        "y_train\n",
        "clases desbalanceadas, probar con ComplementNB\n"
      ],
      "metadata": {
        "id": "RJGnluahGM9Z"
      }
    },
    {
      "cell_type": "code",
      "execution_count": null,
      "metadata": {
        "id": "NrQjzM48Mu4T"
      },
      "outputs": [],
      "source": [
        "# con nuestro vectorizador ya fiteado en train, vectorizamos los textos\n",
        "# del conjunto de test\n",
        "X_test = tfidfvect.transform(newsgroups_test.data)\n",
        "y_test = newsgroups_test.target\n",
        "y_pred =  clf.predict(X_test)"
      ]
    },
    {
      "cell_type": "code",
      "execution_count": null,
      "metadata": {
        "colab": {
          "base_uri": "https://localhost:8080/"
        },
        "id": "UkGJhetEPdA4",
        "outputId": "02c5d5d0-bc81-483d-84a9-fe3523adde63"
      },
      "outputs": [
        {
          "output_type": "execute_result",
          "data": {
            "text/plain": [
              "0.5854345727938506"
            ]
          },
          "metadata": {},
          "execution_count": 21
        }
      ],
      "source": [
        "# el F1-score es una metrica adecuada para reportar desempeño de modelos de claificación  es robusta al desbalance de clases.\n",
        "#El promediado 'macro' es el promedio de los F1-score de cada clase. El promedio 'micro' es equivalente a la accuracy que no\n",
        "# es una buena métrica cuando los datasets son desbalanceados\n",
        "f1_score(y_test, y_pred, average='macro')"
      ]
    },
    {
      "cell_type": "markdown",
      "metadata": {
        "id": "McArD4rSDR2K"
      },
      "source": [
        "### Consigna del desafío 1"
      ]
    },
    {
      "cell_type": "markdown",
      "metadata": {
        "id": "lJgf6GQIIEH1"
      },
      "source": [
        "**1**. Vectorizar documentos. Tomar 5 documentos al azar y medir similaridad con el resto de los documentos.\n",
        "Estudiar los 5 documentos más similares de cada uno analizar si tiene sentido\n",
        "la similaridad según el contenido del texto y la etiqueta de clasificación.\n",
        "\n",
        "**2**. Entrenar modelos de clasificación Naïve Bayes para maximizar el desempeño de clasificación\n",
        "(f1-score macro) en el conjunto de datos de test. Considerar cambiar parámteros\n",
        "de instanciación del vectorizador y los modelos y probar modelos de Naïve Bayes Multinomial\n",
        "y ComplementNB.\n",
        "\n",
        "**3**. Transponer la matriz documento-término. De esa manera se obtiene una matriz\n",
        "término-documento que puede ser interpretada como una colección de vectorización de palabras.\n",
        "Estudiar ahora similaridad entre palabras tomando 5 palabras y estudiando sus 5 más similares. **La elección de palabras no debe ser al azar para evitar la aparición de términos poco interpretables, elegirlas \"manualmente\"**.\n"
      ]
    },
    {
      "cell_type": "markdown",
      "source": [
        "# 1. Vectorizar documentos. Tomar 5 documentos al azar y medir similaridad con el resto de los documentos. Estudiar los 5 documentos más similares de cada uno analizar si tiene sentido la similaridad según el contenido del texto y la etiqueta de clasificación."
      ],
      "metadata": {
        "id": "J03w9nCTIviw"
      }
    },
    {
      "cell_type": "code",
      "source": [
        "# IMPORTACIONES GENERALES\n",
        "from sklearn.datasets import fetch_20newsgroups\n",
        "from sklearn.feature_extraction.text import TfidfVectorizer\n",
        "from sklearn.naive_bayes import MultinomialNB, ComplementNB\n",
        "from sklearn.metrics import f1_score\n",
        "import numpy as np\n",
        "import pandas as pd"
      ],
      "metadata": {
        "id": "29iQuUSnlWmb"
      },
      "execution_count": 21,
      "outputs": []
    },
    {
      "cell_type": "markdown",
      "source": [
        "**1 Preparación**"
      ],
      "metadata": {
        "id": "D2TFUVevIybX"
      }
    },
    {
      "cell_type": "code",
      "source": [
        "from sklearn.metrics.pairwise import cosine_similarity\n",
        "# Cargar datos\n",
        "newsgroups_train = fetch_20newsgroups(\n",
        "    subset='train',\n",
        "    remove=('headers', 'footers', 'quotes'),\n",
        "    random_state=42\n",
        ")\n",
        "\n",
        "# Vectorizar con parámetros\n",
        "tfidfvect = TfidfVectorizer(\n",
        "    max_features=5000,      # Limito el  tamaño ya que decidí usar bigramas\n",
        "    stop_words='english',\n",
        "    lowercase=True,\n",
        "    ngram_range=(1, 2),     # Unigramas y bigramas\n",
        "    max_df=0.95,  #Ignoraré palabras muy comunes o sea alta frecuencia de aparición\n",
        "    min_df=2  #ignoraré tokens que aparecen en menos de dos documentos\n",
        ")\n",
        "\n",
        "X_train = tfidfvect.fit_transform(newsgroups_train.data)"
      ],
      "metadata": {
        "id": "9NiyLQI6ItZv"
      },
      "execution_count": 22,
      "outputs": []
    },
    {
      "cell_type": "markdown",
      "source": [
        "**2 Elegir los 5 documentos**"
      ],
      "metadata": {
        "id": "VimR4FQMI7Yv"
      }
    },
    {
      "cell_type": "code",
      "source": [
        "np.random.seed(42)\n",
        "random_indices = np.random.choice(len(newsgroups_train.data), size=5, replace=False)# replace=false (los índices elegidos no se repiten)\n",
        "print(\"Índices elegidos:\", random_indices)"
      ],
      "metadata": {
        "colab": {
          "base_uri": "https://localhost:8080/"
        },
        "id": "cte6PvafI-iu",
        "outputId": "9be3d494-185b-4084-eefd-30e3d4f93189"
      },
      "execution_count": 23,
      "outputs": [
        {
          "output_type": "stream",
          "name": "stdout",
          "text": [
            "Índices elegidos: [7492 3546 5582 4793 3813]\n"
          ]
        }
      ]
    },
    {
      "cell_type": "markdown",
      "source": [
        "**3 Definir la función de  similitud**"
      ],
      "metadata": {
        "id": "2tOBTXn4JHx_"
      }
    },
    {
      "cell_type": "code",
      "source": [
        "def analizar_similaridad(idx, X_train, data, target_names, target):\n",
        "    print(f\"\\n\" + \"=\"*60)\n",
        "    print(f\"ANALIZANDO DOCUMENTO {idx} | Categoría: {target_names[target[idx]]}\")\n",
        "    print(\"=\"*60)\n",
        "    print(\"TEXTO:\")\n",
        "    print(data[idx][:300] + \"...\\n\")\n",
        "\n",
        "    # Calcular similitud del coseno\n",
        "    cossim = cosine_similarity(X_train[idx], X_train)[0]\n",
        "    # Ordenar por similitud descendente y tomar los 5 más similares (excluyendo el original en posición 0) asumimos que el documento original (idx) es el más similar (posición 0)\n",
        "    np.sort(cossim)[::-1]\n",
        "    mostsim = np.argsort(cossim)[::-1][1:6]\n",
        "    print(\"DOCUMENTOS MÁS SIMILARES:\")\n",
        "    for i in mostsim:\n",
        "        print(f\"  - Índice {i} | Sim: {cossim[i]:.3f} | Categoría: {target_names[target[i]]}\")\n",
        "        print(f\"    Texto: {data[i][:150]}..........\\n\")"
      ],
      "metadata": {
        "id": "ixZjpGiqc7C1"
      },
      "execution_count": 24,
      "outputs": []
    },
    {
      "cell_type": "markdown",
      "source": [
        "4 **Ejecución y visualización**"
      ],
      "metadata": {
        "id": "k-LCz8QtJY52"
      }
    },
    {
      "cell_type": "markdown",
      "source": [],
      "metadata": {
        "id": "rqS2iU3MbhrU"
      }
    },
    {
      "cell_type": "code",
      "source": [
        "for idx in random_indices:\n",
        "    analizar_similaridad(idx, X_train, newsgroups_train.data,\n",
        "                        newsgroups_train.target_names, newsgroups_train.target)"
      ],
      "metadata": {
        "colab": {
          "base_uri": "https://localhost:8080/"
        },
        "id": "0FqMqVm_JdPv",
        "outputId": "211d5f8b-2f08-44c5-df3f-f1b7fe20fbe9"
      },
      "execution_count": 25,
      "outputs": [
        {
          "output_type": "stream",
          "name": "stdout",
          "text": [
            "\n",
            "============================================================\n",
            "ANALIZANDO DOCUMENTO 7492 | Categoría: comp.sys.mac.hardware\n",
            "============================================================\n",
            "TEXTO:\n",
            "Could someone please post any info on these systems.\n",
            "\n",
            "Thanks.\n",
            "BoB\n",
            "-- \n",
            "---------------------------------------------------------------------- \n",
            "Robert Novitskey | \"Pursuing women is similar to banging one's head\n",
            "rrn@po.cwru.edu  |  against a wall...with less opportunity for reward\" ...\n",
            "\n",
            "DOCUMENTOS MÁS SIMILARES:\n",
            "  - Índice 10935 | Sim: 0.514 | Categoría: comp.sys.mac.hardware\n",
            "    Texto: Hey everybody:\n",
            "\n",
            "   I want to buy a mac and I want to get a good price...who doesn't?  So,\n",
            "could anyone out there who has found a really good deal on a..........\n",
            "\n",
            "  - Índice 985 | Sim: 0.305 | Categoría: comp.sys.ibm.pc.hardware\n",
            "    Texto: What is address interliving? and memmory modules  interliving?\n",
            "Thanks in advance for the info.\n",
            "Robert.\n",
            "\n",
            "..........\n",
            "\n",
            "  - Índice 7258 | Sim: 0.296 | Categoría: comp.sys.ibm.pc.hardware\n",
            "    Texto: Hay all:\n",
            "\n",
            "    Has anyone out there heard of any performance stats on the fabled p24t.\n",
            " I was wondering what it's performance compared to the 486/66 an..........\n",
            "\n",
            "  - Índice 165 | Sim: 0.291 | Categoría: sci.electronics\n",
            "    Texto: Where can you get info (brochures...) on Differential GPS Systems and where to \n",
            "buy them?..........\n",
            "\n",
            "  - Índice 3760 | Sim: 0.267 | Categoría: rec.sport.hockey\n",
            "    Texto: \n",
            "\n",
            "I watched him over his entire career.  I have NEVER seen a player, and that\n",
            "includes Russell Courtnall and Davie Keon, screw up as many breakaways a..........\n",
            "\n",
            "\n",
            "============================================================\n",
            "ANALIZANDO DOCUMENTO 3546 | Categoría: comp.os.ms-windows.misc\n",
            "============================================================\n",
            "TEXTO:\n",
            "\n",
            "\n",
            "     Don't bother if you have CPBackup or Fastback.  They all offer options \n",
            "not available in the stripped-down MS version (FROM CPS!).  Examples - no \n",
            "proprietary format (to save space), probably no direct DMA access, and no \n",
            "tape drive!...\n",
            "\n",
            "DOCUMENTOS MÁS SIMILARES:\n",
            "  - Índice 2229 | Sim: 0.332 | Categoría: comp.windows.x\n",
            "    Texto: Hello Netlanders:\n",
            "\n",
            "       I am a novice X user with a question for any Xgod.\n",
            "\n",
            "       My computer configuration with the X problem is as follows:\n",
            "\n",
            "    ..........\n",
            "\n",
            "  - Índice 6477 | Sim: 0.290 | Categoría: comp.sys.ibm.pc.hardware\n",
            "    Texto: Is there a QIC-80 format tape drive that comes\n",
            "with an EISA controller ?\n",
            "Colorado's 250 only has ISA and MCA controllers.\n",
            "\n",
            "Thanks. e-mail please.\n",
            "\n",
            "-- ..........\n",
            "\n",
            "  - Índice 8394 | Sim: 0.288 | Categoría: comp.sys.mac.hardware\n",
            "    Texto: \n",
            "\n",
            "\n",
            "I also use Retrospect, but I noticed that Central Point Software's\n",
            "\"MacTools Backup\" also supports the Apple tape drive under 7.x. \n",
            "The Apple tape ..........\n",
            "\n",
            "  - Índice 5665 | Sim: 0.285 | Categoría: comp.sys.ibm.pc.hardware\n",
            "    Texto: \n",
            "By initiating a DMA xfer.  :)\n",
            "\n",
            "Seriously, busmastering adapter have their own DMA ability, they don't use\n",
            "the motherboards on-board DMA(which is *MUC..........\n",
            "\n",
            "  - Índice 1546 | Sim: 0.280 | Categoría: comp.sys.ibm.pc.hardware\n",
            "    Texto: \n",
            "\n",
            "     Here's a document that I wrote some time back.  It's slightly\n",
            "out-of-date, now that DOS 6 has been released, but much of it is still\n",
            "useful.\n",
            "\n",
            " ..........\n",
            "\n",
            "\n",
            "============================================================\n",
            "ANALIZANDO DOCUMENTO 5582 | Categoría: misc.forsale\n",
            "============================================================\n",
            "TEXTO:\n",
            "5.25\" Internal Low density disk drive.\n",
            "\n",
            "Monochrome monitor\n",
            "\n",
            "8088 motherboard, built in parallel and serial ports, built in mono and\n",
            "color output, 7Mhz.\n",
            "\n",
            "Libertarian, atheist, semi-anarchal Techno-Rat....\n",
            "\n",
            "DOCUMENTOS MÁS SIMILARES:\n",
            "  - Índice 5990 | Sim: 0.347 | Categoría: comp.windows.x\n",
            "    Texto: I have a Sun 3/60 that has a mono framebuffer (bwtwo0 ?) built on the\n",
            "motherboard.  The same system also has a cgfour (cgfour0 and bwtwo1 ?)\n",
            "daughterb..........\n",
            "\n",
            "  - Índice 5510 | Sim: 0.338 | Categoría: misc.forsale\n",
            "    Texto: I am looking for a 286 motherboard, preferable 12 or 16, 640k or 1 meg RAM. \n",
            "I am also looking for a VGA card.\n",
            "\n",
            "Am willing to trade 1200 external, 5.2..........\n",
            "\n",
            "  - Índice 8057 | Sim: 0.282 | Categoría: misc.forsale\n",
            "    Texto: Hello, I have a motherboard and a case for sale as a package.\n",
            "Both of them came from a CompuAdd computer I bought last August and am \n",
            "  presently upgr..........\n",
            "\n",
            "  - Índice 2202 | Sim: 0.244 | Categoría: sci.electronics\n",
            "    Texto: \n",
            "SW8,SW7\tnumber of 5.25\" drives\n",
            "0,0\t1 drive\n",
            "0,1\t2 drives\n",
            "1,0\t3 drives\n",
            "1,1\t4 drives\n",
            "\n",
            "SW6,SW5\ttype of display\n",
            "0,0\treserved\n",
            "0,1\t40x25 color (mono mode)\n",
            "1..........\n",
            "\n",
            "  - Índice 4347 | Sim: 0.240 | Categoría: comp.graphics\n",
            "    Texto: \n",
            "\n",
            "It's really not that hard to do.  There are books out there which explain\n",
            "everything, and the basic 3D functions, translation, rotation, shading, an..........\n",
            "\n",
            "\n",
            "============================================================\n",
            "ANALIZANDO DOCUMENTO 4793 | Categoría: talk.politics.guns\n",
            "============================================================\n",
            "TEXTO:\n",
            "Hi,\n",
            "\n",
            "In Canada, any gun that enters a National Park must be sealed (I think it's a\n",
            "small metal tag that's placed over the trigger).  The net result of this is\n",
            "that you _can't_ use a gun to protect yourself from bears (or psychos) in the\n",
            "National Parks.  Instead, one has to be sensitive to the danger...\n",
            "\n",
            "DOCUMENTOS MÁS SIMILARES:\n",
            "  - Índice 10468 | Sim: 0.238 | Categoría: comp.sys.mac.hardware\n",
            "    Texto: \n",
            "   I believe that E-Machines might produce something of this nature.\n",
            " ..........\n",
            "\n",
            "  - Índice 495 | Sim: 0.212 | Categoría: alt.atheism\n",
            "    Texto: : \n",
            ": >> Please enlighten me.  How is omnipotence contradictory?\n",
            ": \n",
            ": >By definition, all that can occur in the universe is governed by the rules\n",
            ": >of..........\n",
            "\n",
            "  - Índice 5467 | Sim: 0.204 | Categoría: talk.politics.guns\n",
            "    Texto:    Or, how about the Clint Eastwood line in \"Pink Cadillac\" -\n",
            "      \"I believe in gun control.  If there's a gun around, I wanna be\n",
            "       the one con..........\n",
            "\n",
            "  - Índice 9276 | Sim: 0.191 | Categoría: rec.motorcycles\n",
            "    Texto: \n",
            "And Noemi makes me think of \"cuddle\", not \"KotL\"...........\n",
            "\n",
            "  - Índice 4618 | Sim: 0.189 | Categoría: alt.atheism\n",
            "    Texto: \n",
            ": Mr Connor's assertion that \"more complex\" == later in paleontology\n",
            ": is simply incorrect.  Many lineages are known in which whole\n",
            ": structures are ..........\n",
            "\n",
            "\n",
            "============================================================\n",
            "ANALIZANDO DOCUMENTO 3813 | Categoría: rec.sport.hockey\n",
            "============================================================\n",
            "TEXTO:\n",
            "\n",
            "Doesn't it also have the Statue of Liberty on it or is that Richter's Mask?\n",
            "\n",
            "The back actually has a Bee followed by a Z to represent the Beezer. It \n",
            "also has something that looks like the three interconnecting circles from\n",
            "the Led Zepplin 4 album cover. Is that what it is supposed to be? and if\n",
            "it...\n",
            "\n",
            "DOCUMENTOS MÁS SIMILARES:\n",
            "  - Índice 5585 | Sim: 0.337 | Categoría: comp.sys.ibm.pc.hardware\n",
            "    Texto: Hey, does anybody know anything about Leading Technology Computers??\n",
            "\n",
            "I have a Leading Technology 6000SX and need a new mother board for it.\n",
            "\n",
            "Does any..........\n",
            "\n",
            "  - Índice 7074 | Sim: 0.314 | Categoría: comp.windows.x\n",
            "    Texto: xgetftp-1.2 needs an archie client program.\n",
            "Does anybody know, where I can get it?..........\n",
            "\n",
            "  - Índice 4453 | Sim: 0.294 | Categoría: comp.windows.x\n",
            "    Texto: Hi netlanders,\n",
            "\n",
            "Does anybody know if there is something like Macintosh Hypercard for any UNIX \n",
            "platform?\n",
            "\n",
            "\n",
            "Thanks in advance\n",
            "..........\n",
            "\n",
            "  - Índice 9511 | Sim: 0.274 | Categoría: comp.graphics\n",
            "    Texto: I am looking for a WINDOW 3.1 driver  for \n",
            "     Cornerstone  DualPage (Cornerstone Technology, Inc) \n",
            "video card. Does  anybody know, that has these?  ..........\n",
            "\n",
            "  - Índice 5106 | Sim: 0.274 | Categoría: comp.os.ms-windows.misc\n",
            "    Texto: I am looking for a WINDOW 3.1 driver  for \n",
            "     Cornerstone  DualPage (Cornerstone Technology, Inc) \n",
            "video card. Does  anybody know, that has these?  ..........\n",
            "\n"
          ]
        }
      ]
    },
    {
      "cell_type": "code",
      "source": [
        "from IPython.display import display\n",
        "\n",
        "# Crear el DataFrame\n",
        "df = pd.DataFrame({\n",
        "    'DOCUMENTO': [7492, 3546, 5582, 4793, 3813],\n",
        "    'CATEGORÍA': [\n",
        "        'comp.sys.mac.hardware',\n",
        "        'comp.os.ms-windows.misc',\n",
        "        'misc.forsale',\n",
        "        'talk.politics.guns',\n",
        "        'rec.sport.hockey'\n",
        "    ],\n",
        "    '¿ALGÚN SIMILAR EN MISMA CATEGORÍA?': [\n",
        "        '✅ Sí (el más similar)',\n",
        "        '❌ No',\n",
        "        '✅ Sí (2 de 5)',\n",
        "        '✅ Sí (1 de 5, pero relevante)',\n",
        "        '❌ No'\n",
        "    ],\n",
        "    '¿TIENE SENTIDO LA SIMILITUD?': [\n",
        "        '✅ Sí — el más similar es coherente',\n",
        "        '⚠️ Parcial — vocabulario técnico compartido',\n",
        "        '✅ Sí — muy coherente con otros anuncios',\n",
        "        '⚠️ Parcial — 1 muy bueno, otros débiles',\n",
        "        '❌ No — similitudes parecen ruido léxico'\n",
        "    ]\n",
        "})\n",
        "\n",
        "display(df)"
      ],
      "metadata": {
        "colab": {
          "base_uri": "https://localhost:8080/",
          "height": 206
        },
        "id": "hJ_von-QfZsw",
        "outputId": "58c33ab3-a6c4-408a-b0af-9221f7c35f6f"
      },
      "execution_count": 26,
      "outputs": [
        {
          "output_type": "display_data",
          "data": {
            "text/plain": [
              "   DOCUMENTO                CATEGORÍA ¿ALGÚN SIMILAR EN MISMA CATEGORÍA?  \\\n",
              "0       7492    comp.sys.mac.hardware              ✅ Sí (el más similar)   \n",
              "1       3546  comp.os.ms-windows.misc                               ❌ No   \n",
              "2       5582             misc.forsale                      ✅ Sí (2 de 5)   \n",
              "3       4793       talk.politics.guns      ✅ Sí (1 de 5, pero relevante)   \n",
              "4       3813         rec.sport.hockey                               ❌ No   \n",
              "\n",
              "                  ¿TIENE SENTIDO LA SIMILITUD?  \n",
              "0           ✅ Sí — el más similar es coherente  \n",
              "1  ⚠️ Parcial — vocabulario técnico compartido  \n",
              "2      ✅ Sí — muy coherente con otros anuncios  \n",
              "3      ⚠️ Parcial — 1 muy bueno, otros débiles  \n",
              "4      ❌ No — similitudes parecen ruido léxico  "
            ],
            "text/html": [
              "\n",
              "  <div id=\"df-4bb90633-9e59-4329-8cc0-090c4be247d4\" class=\"colab-df-container\">\n",
              "    <div>\n",
              "<style scoped>\n",
              "    .dataframe tbody tr th:only-of-type {\n",
              "        vertical-align: middle;\n",
              "    }\n",
              "\n",
              "    .dataframe tbody tr th {\n",
              "        vertical-align: top;\n",
              "    }\n",
              "\n",
              "    .dataframe thead th {\n",
              "        text-align: right;\n",
              "    }\n",
              "</style>\n",
              "<table border=\"1\" class=\"dataframe\">\n",
              "  <thead>\n",
              "    <tr style=\"text-align: right;\">\n",
              "      <th></th>\n",
              "      <th>DOCUMENTO</th>\n",
              "      <th>CATEGORÍA</th>\n",
              "      <th>¿ALGÚN SIMILAR EN MISMA CATEGORÍA?</th>\n",
              "      <th>¿TIENE SENTIDO LA SIMILITUD?</th>\n",
              "    </tr>\n",
              "  </thead>\n",
              "  <tbody>\n",
              "    <tr>\n",
              "      <th>0</th>\n",
              "      <td>7492</td>\n",
              "      <td>comp.sys.mac.hardware</td>\n",
              "      <td>✅ Sí (el más similar)</td>\n",
              "      <td>✅ Sí — el más similar es coherente</td>\n",
              "    </tr>\n",
              "    <tr>\n",
              "      <th>1</th>\n",
              "      <td>3546</td>\n",
              "      <td>comp.os.ms-windows.misc</td>\n",
              "      <td>❌ No</td>\n",
              "      <td>⚠️ Parcial — vocabulario técnico compartido</td>\n",
              "    </tr>\n",
              "    <tr>\n",
              "      <th>2</th>\n",
              "      <td>5582</td>\n",
              "      <td>misc.forsale</td>\n",
              "      <td>✅ Sí (2 de 5)</td>\n",
              "      <td>✅ Sí — muy coherente con otros anuncios</td>\n",
              "    </tr>\n",
              "    <tr>\n",
              "      <th>3</th>\n",
              "      <td>4793</td>\n",
              "      <td>talk.politics.guns</td>\n",
              "      <td>✅ Sí (1 de 5, pero relevante)</td>\n",
              "      <td>⚠️ Parcial — 1 muy bueno, otros débiles</td>\n",
              "    </tr>\n",
              "    <tr>\n",
              "      <th>4</th>\n",
              "      <td>3813</td>\n",
              "      <td>rec.sport.hockey</td>\n",
              "      <td>❌ No</td>\n",
              "      <td>❌ No — similitudes parecen ruido léxico</td>\n",
              "    </tr>\n",
              "  </tbody>\n",
              "</table>\n",
              "</div>\n",
              "    <div class=\"colab-df-buttons\">\n",
              "\n",
              "  <div class=\"colab-df-container\">\n",
              "    <button class=\"colab-df-convert\" onclick=\"convertToInteractive('df-4bb90633-9e59-4329-8cc0-090c4be247d4')\"\n",
              "            title=\"Convert this dataframe to an interactive table.\"\n",
              "            style=\"display:none;\">\n",
              "\n",
              "  <svg xmlns=\"http://www.w3.org/2000/svg\" height=\"24px\" viewBox=\"0 -960 960 960\">\n",
              "    <path d=\"M120-120v-720h720v720H120Zm60-500h600v-160H180v160Zm220 220h160v-160H400v160Zm0 220h160v-160H400v160ZM180-400h160v-160H180v160Zm440 0h160v-160H620v160ZM180-180h160v-160H180v160Zm440 0h160v-160H620v160Z\"/>\n",
              "  </svg>\n",
              "    </button>\n",
              "\n",
              "  <style>\n",
              "    .colab-df-container {\n",
              "      display:flex;\n",
              "      gap: 12px;\n",
              "    }\n",
              "\n",
              "    .colab-df-convert {\n",
              "      background-color: #E8F0FE;\n",
              "      border: none;\n",
              "      border-radius: 50%;\n",
              "      cursor: pointer;\n",
              "      display: none;\n",
              "      fill: #1967D2;\n",
              "      height: 32px;\n",
              "      padding: 0 0 0 0;\n",
              "      width: 32px;\n",
              "    }\n",
              "\n",
              "    .colab-df-convert:hover {\n",
              "      background-color: #E2EBFA;\n",
              "      box-shadow: 0px 1px 2px rgba(60, 64, 67, 0.3), 0px 1px 3px 1px rgba(60, 64, 67, 0.15);\n",
              "      fill: #174EA6;\n",
              "    }\n",
              "\n",
              "    .colab-df-buttons div {\n",
              "      margin-bottom: 4px;\n",
              "    }\n",
              "\n",
              "    [theme=dark] .colab-df-convert {\n",
              "      background-color: #3B4455;\n",
              "      fill: #D2E3FC;\n",
              "    }\n",
              "\n",
              "    [theme=dark] .colab-df-convert:hover {\n",
              "      background-color: #434B5C;\n",
              "      box-shadow: 0px 1px 3px 1px rgba(0, 0, 0, 0.15);\n",
              "      filter: drop-shadow(0px 1px 2px rgba(0, 0, 0, 0.3));\n",
              "      fill: #FFFFFF;\n",
              "    }\n",
              "  </style>\n",
              "\n",
              "    <script>\n",
              "      const buttonEl =\n",
              "        document.querySelector('#df-4bb90633-9e59-4329-8cc0-090c4be247d4 button.colab-df-convert');\n",
              "      buttonEl.style.display =\n",
              "        google.colab.kernel.accessAllowed ? 'block' : 'none';\n",
              "\n",
              "      async function convertToInteractive(key) {\n",
              "        const element = document.querySelector('#df-4bb90633-9e59-4329-8cc0-090c4be247d4');\n",
              "        const dataTable =\n",
              "          await google.colab.kernel.invokeFunction('convertToInteractive',\n",
              "                                                    [key], {});\n",
              "        if (!dataTable) return;\n",
              "\n",
              "        const docLinkHtml = 'Like what you see? Visit the ' +\n",
              "          '<a target=\"_blank\" href=https://colab.research.google.com/notebooks/data_table.ipynb>data table notebook</a>'\n",
              "          + ' to learn more about interactive tables.';\n",
              "        element.innerHTML = '';\n",
              "        dataTable['output_type'] = 'display_data';\n",
              "        await google.colab.output.renderOutput(dataTable, element);\n",
              "        const docLink = document.createElement('div');\n",
              "        docLink.innerHTML = docLinkHtml;\n",
              "        element.appendChild(docLink);\n",
              "      }\n",
              "    </script>\n",
              "  </div>\n",
              "\n",
              "\n",
              "    <div id=\"df-3996dfb9-65d9-4128-b04c-e27e7a81b4b6\">\n",
              "      <button class=\"colab-df-quickchart\" onclick=\"quickchart('df-3996dfb9-65d9-4128-b04c-e27e7a81b4b6')\"\n",
              "                title=\"Suggest charts\"\n",
              "                style=\"display:none;\">\n",
              "\n",
              "<svg xmlns=\"http://www.w3.org/2000/svg\" height=\"24px\"viewBox=\"0 0 24 24\"\n",
              "     width=\"24px\">\n",
              "    <g>\n",
              "        <path d=\"M19 3H5c-1.1 0-2 .9-2 2v14c0 1.1.9 2 2 2h14c1.1 0 2-.9 2-2V5c0-1.1-.9-2-2-2zM9 17H7v-7h2v7zm4 0h-2V7h2v10zm4 0h-2v-4h2v4z\"/>\n",
              "    </g>\n",
              "</svg>\n",
              "      </button>\n",
              "\n",
              "<style>\n",
              "  .colab-df-quickchart {\n",
              "      --bg-color: #E8F0FE;\n",
              "      --fill-color: #1967D2;\n",
              "      --hover-bg-color: #E2EBFA;\n",
              "      --hover-fill-color: #174EA6;\n",
              "      --disabled-fill-color: #AAA;\n",
              "      --disabled-bg-color: #DDD;\n",
              "  }\n",
              "\n",
              "  [theme=dark] .colab-df-quickchart {\n",
              "      --bg-color: #3B4455;\n",
              "      --fill-color: #D2E3FC;\n",
              "      --hover-bg-color: #434B5C;\n",
              "      --hover-fill-color: #FFFFFF;\n",
              "      --disabled-bg-color: #3B4455;\n",
              "      --disabled-fill-color: #666;\n",
              "  }\n",
              "\n",
              "  .colab-df-quickchart {\n",
              "    background-color: var(--bg-color);\n",
              "    border: none;\n",
              "    border-radius: 50%;\n",
              "    cursor: pointer;\n",
              "    display: none;\n",
              "    fill: var(--fill-color);\n",
              "    height: 32px;\n",
              "    padding: 0;\n",
              "    width: 32px;\n",
              "  }\n",
              "\n",
              "  .colab-df-quickchart:hover {\n",
              "    background-color: var(--hover-bg-color);\n",
              "    box-shadow: 0 1px 2px rgba(60, 64, 67, 0.3), 0 1px 3px 1px rgba(60, 64, 67, 0.15);\n",
              "    fill: var(--button-hover-fill-color);\n",
              "  }\n",
              "\n",
              "  .colab-df-quickchart-complete:disabled,\n",
              "  .colab-df-quickchart-complete:disabled:hover {\n",
              "    background-color: var(--disabled-bg-color);\n",
              "    fill: var(--disabled-fill-color);\n",
              "    box-shadow: none;\n",
              "  }\n",
              "\n",
              "  .colab-df-spinner {\n",
              "    border: 2px solid var(--fill-color);\n",
              "    border-color: transparent;\n",
              "    border-bottom-color: var(--fill-color);\n",
              "    animation:\n",
              "      spin 1s steps(1) infinite;\n",
              "  }\n",
              "\n",
              "  @keyframes spin {\n",
              "    0% {\n",
              "      border-color: transparent;\n",
              "      border-bottom-color: var(--fill-color);\n",
              "      border-left-color: var(--fill-color);\n",
              "    }\n",
              "    20% {\n",
              "      border-color: transparent;\n",
              "      border-left-color: var(--fill-color);\n",
              "      border-top-color: var(--fill-color);\n",
              "    }\n",
              "    30% {\n",
              "      border-color: transparent;\n",
              "      border-left-color: var(--fill-color);\n",
              "      border-top-color: var(--fill-color);\n",
              "      border-right-color: var(--fill-color);\n",
              "    }\n",
              "    40% {\n",
              "      border-color: transparent;\n",
              "      border-right-color: var(--fill-color);\n",
              "      border-top-color: var(--fill-color);\n",
              "    }\n",
              "    60% {\n",
              "      border-color: transparent;\n",
              "      border-right-color: var(--fill-color);\n",
              "    }\n",
              "    80% {\n",
              "      border-color: transparent;\n",
              "      border-right-color: var(--fill-color);\n",
              "      border-bottom-color: var(--fill-color);\n",
              "    }\n",
              "    90% {\n",
              "      border-color: transparent;\n",
              "      border-bottom-color: var(--fill-color);\n",
              "    }\n",
              "  }\n",
              "</style>\n",
              "\n",
              "      <script>\n",
              "        async function quickchart(key) {\n",
              "          const quickchartButtonEl =\n",
              "            document.querySelector('#' + key + ' button');\n",
              "          quickchartButtonEl.disabled = true;  // To prevent multiple clicks.\n",
              "          quickchartButtonEl.classList.add('colab-df-spinner');\n",
              "          try {\n",
              "            const charts = await google.colab.kernel.invokeFunction(\n",
              "                'suggestCharts', [key], {});\n",
              "          } catch (error) {\n",
              "            console.error('Error during call to suggestCharts:', error);\n",
              "          }\n",
              "          quickchartButtonEl.classList.remove('colab-df-spinner');\n",
              "          quickchartButtonEl.classList.add('colab-df-quickchart-complete');\n",
              "        }\n",
              "        (() => {\n",
              "          let quickchartButtonEl =\n",
              "            document.querySelector('#df-3996dfb9-65d9-4128-b04c-e27e7a81b4b6 button');\n",
              "          quickchartButtonEl.style.display =\n",
              "            google.colab.kernel.accessAllowed ? 'block' : 'none';\n",
              "        })();\n",
              "      </script>\n",
              "    </div>\n",
              "\n",
              "  <div id=\"id_3f89c658-0311-4bb1-967d-21256c024beb\">\n",
              "    <style>\n",
              "      .colab-df-generate {\n",
              "        background-color: #E8F0FE;\n",
              "        border: none;\n",
              "        border-radius: 50%;\n",
              "        cursor: pointer;\n",
              "        display: none;\n",
              "        fill: #1967D2;\n",
              "        height: 32px;\n",
              "        padding: 0 0 0 0;\n",
              "        width: 32px;\n",
              "      }\n",
              "\n",
              "      .colab-df-generate:hover {\n",
              "        background-color: #E2EBFA;\n",
              "        box-shadow: 0px 1px 2px rgba(60, 64, 67, 0.3), 0px 1px 3px 1px rgba(60, 64, 67, 0.15);\n",
              "        fill: #174EA6;\n",
              "      }\n",
              "\n",
              "      [theme=dark] .colab-df-generate {\n",
              "        background-color: #3B4455;\n",
              "        fill: #D2E3FC;\n",
              "      }\n",
              "\n",
              "      [theme=dark] .colab-df-generate:hover {\n",
              "        background-color: #434B5C;\n",
              "        box-shadow: 0px 1px 3px 1px rgba(0, 0, 0, 0.15);\n",
              "        filter: drop-shadow(0px 1px 2px rgba(0, 0, 0, 0.3));\n",
              "        fill: #FFFFFF;\n",
              "      }\n",
              "    </style>\n",
              "    <button class=\"colab-df-generate\" onclick=\"generateWithVariable('df')\"\n",
              "            title=\"Generate code using this dataframe.\"\n",
              "            style=\"display:none;\">\n",
              "\n",
              "  <svg xmlns=\"http://www.w3.org/2000/svg\" height=\"24px\"viewBox=\"0 0 24 24\"\n",
              "       width=\"24px\">\n",
              "    <path d=\"M7,19H8.4L18.45,9,17,7.55,7,17.6ZM5,21V16.75L18.45,3.32a2,2,0,0,1,2.83,0l1.4,1.43a1.91,1.91,0,0,1,.58,1.4,1.91,1.91,0,0,1-.58,1.4L9.25,21ZM18.45,9,17,7.55Zm-12,3A5.31,5.31,0,0,0,4.9,8.1,5.31,5.31,0,0,0,1,6.5,5.31,5.31,0,0,0,4.9,4.9,5.31,5.31,0,0,0,6.5,1,5.31,5.31,0,0,0,8.1,4.9,5.31,5.31,0,0,0,12,6.5,5.46,5.46,0,0,0,6.5,12Z\"/>\n",
              "  </svg>\n",
              "    </button>\n",
              "    <script>\n",
              "      (() => {\n",
              "      const buttonEl =\n",
              "        document.querySelector('#id_3f89c658-0311-4bb1-967d-21256c024beb button.colab-df-generate');\n",
              "      buttonEl.style.display =\n",
              "        google.colab.kernel.accessAllowed ? 'block' : 'none';\n",
              "\n",
              "      buttonEl.onclick = () => {\n",
              "        google.colab.notebook.generateWithVariable('df');\n",
              "      }\n",
              "      })();\n",
              "    </script>\n",
              "  </div>\n",
              "\n",
              "    </div>\n",
              "  </div>\n"
            ],
            "application/vnd.google.colaboratory.intrinsic+json": {
              "type": "dataframe",
              "variable_name": "df",
              "summary": "{\n  \"name\": \"df\",\n  \"rows\": 5,\n  \"fields\": [\n    {\n      \"column\": \"DOCUMENTO\",\n      \"properties\": {\n        \"dtype\": \"number\",\n        \"std\": 1589,\n        \"min\": 3546,\n        \"max\": 7492,\n        \"num_unique_values\": 5,\n        \"samples\": [\n          3546,\n          3813,\n          5582\n        ],\n        \"semantic_type\": \"\",\n        \"description\": \"\"\n      }\n    },\n    {\n      \"column\": \"CATEGOR\\u00cdA\",\n      \"properties\": {\n        \"dtype\": \"string\",\n        \"num_unique_values\": 5,\n        \"samples\": [\n          \"comp.os.ms-windows.misc\",\n          \"rec.sport.hockey\",\n          \"misc.forsale\"\n        ],\n        \"semantic_type\": \"\",\n        \"description\": \"\"\n      }\n    },\n    {\n      \"column\": \"\\u00bfALG\\u00daN SIMILAR EN MISMA CATEGOR\\u00cdA?\",\n      \"properties\": {\n        \"dtype\": \"string\",\n        \"num_unique_values\": 4,\n        \"samples\": [\n          \"\\u274c No\",\n          \"\\u2705 S\\u00ed (1 de 5, pero relevante)\",\n          \"\\u2705 S\\u00ed (el m\\u00e1s similar)\"\n        ],\n        \"semantic_type\": \"\",\n        \"description\": \"\"\n      }\n    },\n    {\n      \"column\": \"\\u00bfTIENE SENTIDO LA SIMILITUD?\",\n      \"properties\": {\n        \"dtype\": \"string\",\n        \"num_unique_values\": 5,\n        \"samples\": [\n          \"\\u26a0\\ufe0f Parcial \\u2014 vocabulario t\\u00e9cnico compartido\",\n          \"\\u274c No \\u2014 similitudes parecen ruido l\\u00e9xico\",\n          \"\\u2705 S\\u00ed \\u2014 muy coherente con otros anuncios\"\n        ],\n        \"semantic_type\": \"\",\n        \"description\": \"\"\n      }\n    }\n  ]\n}"
            }
          },
          "metadata": {}
        }
      ]
    },
    {
      "cell_type": "markdown",
      "source": [
        "Para cada documento seleccionado, se identificaron los 5 documentos más similares según la similitud coseno. Luego, se verificó si alguno de ellos pertenecía a la misma categoría temática y si su contenido textual justificaba dicha similitud.(cuadro  inmediatamente anterior)\n",
        "\n",
        "La similitud coseno basada en TF-IDF logra capturar relaciones temáticas en algunos casos, especialmente cuando el vocabulario es técnico y específico (como en anuncios de venta o consultas de hardware). Sin embargo, en textos con lenguaje más abstracto, coloquial o cultural (como el hockey o la política), la similitud se basa en coincidencias léxicas superficiales, lo que puede llevar a resultados poco intuitivos. Esto revela una limitación del modelo: no entiende el significado profundo, solo la co-ocurrencia de términos.\n"
      ],
      "metadata": {
        "id": "GAjhIRe-fBk_"
      }
    },
    {
      "cell_type": "markdown",
      "source": [
        "# 2. Entrenar modelos de clasificación Naïve Bayes para maximizar el desempeño de clasificación (f1-score macro) en el conjunto de datos de test. Considerar cambiar parámetros de instanciación del vectorizador y los modelos y probar modelos de Naïve Bayes Multinomial y ComplementNB."
      ],
      "metadata": {
        "id": "5o6ivAf9NMhB"
      }
    },
    {
      "cell_type": "markdown",
      "source": [
        "**1. Cargar datos (limpios)**\n",
        "\n",
        "\n",
        "\n"
      ],
      "metadata": {
        "id": "i02hYQHRLd1T"
      }
    },
    {
      "cell_type": "code",
      "source": [
        "# Cargar datos sin headers, footers ni quotes\n",
        "newsgroups_train = fetch_20newsgroups(\n",
        "    subset='train',\n",
        "    remove=('headers', 'footers', 'quotes'),\n",
        "    random_state=42\n",
        ")\n",
        "\n",
        "newsgroups_test = fetch_20newsgroups(\n",
        "    subset='test',\n",
        "    remove=('headers', 'footers', 'quotes'),\n",
        "    random_state=42\n",
        ")"
      ],
      "metadata": {
        "id": "DM-fmnblLhLs"
      },
      "execution_count": 27,
      "outputs": []
    },
    {
      "cell_type": "markdown",
      "source": [
        "**2. Probar diferentes configuraciones del vectorizador**"
      ],
      "metadata": {
        "id": "_Ya97eqILrN1"
      }
    },
    {
      "cell_type": "code",
      "source": [
        "#  Probar diferentes configuraciones\n",
        "configs = [\n",
        "    {  # Config 1: Unigramas, 5k features\n",
        "        'max_features': 5000,\n",
        "        'stop_words': 'english',\n",
        "        'ngram_range': (1, 1),\n",
        "        'max_df': 0.95,\n",
        "        'min_df': 2,\n",
        "        'sublinear_tf': False\n",
        "    },\n",
        "    {  # Config 2: Bigramas, 10k features\n",
        "        'max_features': 10000,\n",
        "        'stop_words': 'english',\n",
        "        'ngram_range': (1, 2),\n",
        "        'max_df': 0.95,\n",
        "        'min_df': 2,\n",
        "        'sublinear_tf': False\n",
        "    },\n",
        "    {  # Config 3: Bigramas + restrictiva\n",
        "        'max_features': 5000,\n",
        "        'stop_words': 'english',\n",
        "        'ngram_range': (1, 2),\n",
        "        'max_df': 0.90,\n",
        "        'min_df': 3,\n",
        "        'sublinear_tf': True\n",
        "    },\n",
        "    {  # Config 4: Bigramas + menos restrictiva en max_df\n",
        "        'max_features': 10000,\n",
        "        'stop_words': 'english',\n",
        "        'ngram_range': (1, 2),\n",
        "        'max_df': 0.98,   # dejo pasar más palabras útiles\n",
        "        'min_df': 2,\n",
        "        'sublinear_tf': False\n",
        "    },\n",
        "    {  # Config 5: Trigramas + menos restrictiva en max_df\n",
        "        'max_features': 6000,\n",
        "        'stop_words': 'english',\n",
        "        'ngram_range': (1, 3),\n",
        "        'max_df': 0.96,\n",
        "        'min_df': 2,\n",
        "        'sublinear_tf': False\n",
        "    },\n",
        "    {  #Configuac 6 en base a la 3 y luego de ver resultados parciales decido aplicar sublinear_tf:true  pero con mas features\n",
        "      'max_features': 10000, # Más grande\n",
        "      'stop_words': 'english',\n",
        "      'ngram_range': (1, 2),\n",
        "      'max_df': 0.95,\n",
        "      'min_df': 2,\n",
        "      'sublinear_tf': True   # ← cambio\n",
        "}\n",
        "]"
      ],
      "metadata": {
        "id": "CcNBoKhGk2dz"
      },
      "execution_count": 28,
      "outputs": []
    },
    {
      "cell_type": "markdown",
      "source": [
        "**3. Entrenar y evaluar con MultinomialNB y ComplementNB**\n",
        "\n"
      ],
      "metadata": {
        "id": "l2TcZDkxLvvj"
      }
    },
    {
      "cell_type": "code",
      "source": [
        "results = []\n",
        "\n",
        "for i, config in enumerate(configs):\n",
        "    print(f\"\\n🔍 Probando configuración {i+1}: {config}\")\n",
        "\n",
        "    vectorizer = TfidfVectorizer(**config)\n",
        "    X_train = vectorizer.fit_transform(newsgroups_train.data)\n",
        "    X_test = vectorizer.transform(newsgroups_test.data)\n",
        "\n",
        "    y_train = newsgroups_train.target\n",
        "    y_test = newsgroups_test.target\n",
        "\n",
        "    models = {\n",
        "        'MultinomialNB': MultinomialNB(),\n",
        "        'ComplementNB': ComplementNB()\n",
        "    }\n",
        "\n",
        "    for name, model in models.items():\n",
        "        model.fit(X_train, y_train)\n",
        "        y_pred = model.predict(X_test)\n",
        "        f1_macro = f1_score(y_test, y_pred, average='macro')\n",
        "        results.append({\n",
        "            'config': i+1,\n",
        "            'vectorizer': config,\n",
        "            'model': name,\n",
        "            'f1_macro': f1_macro\n",
        "        })\n",
        "        print(f\"  {name}: F1-score macro = {f1_macro:.3f}\")"
      ],
      "metadata": {
        "colab": {
          "base_uri": "https://localhost:8080/"
        },
        "id": "p3O33NXCmeSh",
        "outputId": "54f7c512-764b-417d-e816-382047c72313"
      },
      "execution_count": 30,
      "outputs": [
        {
          "output_type": "stream",
          "name": "stdout",
          "text": [
            "\n",
            "🔍 Probando configuración 1: {'max_features': 5000, 'stop_words': 'english', 'ngram_range': (1, 1), 'max_df': 0.95, 'min_df': 2, 'sublinear_tf': False}\n",
            "  MultinomialNB: F1-score macro = 0.625\n",
            "  ComplementNB: F1-score macro = 0.635\n",
            "\n",
            "🔍 Probando configuración 2: {'max_features': 10000, 'stop_words': 'english', 'ngram_range': (1, 2), 'max_df': 0.95, 'min_df': 2, 'sublinear_tf': False}\n",
            "  MultinomialNB: F1-score macro = 0.643\n",
            "  ComplementNB: F1-score macro = 0.664\n",
            "\n",
            "🔍 Probando configuración 3: {'max_features': 5000, 'stop_words': 'english', 'ngram_range': (1, 2), 'max_df': 0.9, 'min_df': 3, 'sublinear_tf': True}\n",
            "  MultinomialNB: F1-score macro = 0.621\n",
            "  ComplementNB: F1-score macro = 0.632\n",
            "\n",
            "🔍 Probando configuración 4: {'max_features': 10000, 'stop_words': 'english', 'ngram_range': (1, 2), 'max_df': 0.98, 'min_df': 2, 'sublinear_tf': False}\n",
            "  MultinomialNB: F1-score macro = 0.643\n",
            "  ComplementNB: F1-score macro = 0.664\n",
            "\n",
            "🔍 Probando configuración 5: {'max_features': 6000, 'stop_words': 'english', 'ngram_range': (1, 3), 'max_df': 0.96, 'min_df': 2, 'sublinear_tf': False}\n",
            "  MultinomialNB: F1-score macro = 0.629\n",
            "  ComplementNB: F1-score macro = 0.642\n",
            "\n",
            "🔍 Probando configuración 6: {'max_features': 10000, 'stop_words': 'english', 'ngram_range': (1, 2), 'max_df': 0.95, 'min_df': 2, 'sublinear_tf': True}\n",
            "  MultinomialNB: F1-score macro = 0.639\n",
            "  ComplementNB: F1-score macro = 0.665\n"
          ]
        }
      ]
    },
    {
      "cell_type": "markdown",
      "source": [
        "**4. Mostrar los mejores resultados**"
      ],
      "metadata": {
        "id": "3s2Tv-cRL0hD"
      }
    },
    {
      "cell_type": "code",
      "source": [
        "best = max(results, key=lambda x: x['f1_macro'])\n",
        "\n",
        "print(\"\\n\" + \"=\"*60)\n",
        "print(\"🏆 MEJOR CONFIGURACIÓN ENCONTRADA\")\n",
        "print(\"=\"*60)\n",
        "print(f\"Configuración N°: {best['config']}\")\n",
        "print(f\"Modelo: {best['model']}\")\n",
        "print(f\"F1-score macro: {best['f1_macro']:.3f}\")\n",
        "print(f\"Parámetros: {best['vectorizer']}\")"
      ],
      "metadata": {
        "colab": {
          "base_uri": "https://localhost:8080/"
        },
        "id": "mK6UrIwJnbBn",
        "outputId": "c36c0223-be53-4873-8e1b-69502435e2d2"
      },
      "execution_count": 31,
      "outputs": [
        {
          "output_type": "stream",
          "name": "stdout",
          "text": [
            "\n",
            "============================================================\n",
            "🏆 MEJOR CONFIGURACIÓN ENCONTRADA\n",
            "============================================================\n",
            "Configuración N°: 6\n",
            "Modelo: ComplementNB\n",
            "F1-score macro: 0.665\n",
            "Parámetros: {'max_features': 10000, 'stop_words': 'english', 'ngram_range': (1, 2), 'max_df': 0.95, 'min_df': 2, 'sublinear_tf': True}\n"
          ]
        }
      ]
    },
    {
      "cell_type": "markdown",
      "source": [
        " CONCLUSIÓN  CLASIFICACIÓN CON NAÏVE BAYES\n",
        "\n",
        "✅ ComplementNB superó consistentemente a MultinomialNB en todas las configuraciones, confirmando su robustez en problemas multiclase desbalanceados como 20newsgroups.\n",
        "\n",
        "✅ La inclusión de bigramas (ngram_range=(1,2)) mejoró significativamente la representación textual, al capturar combinaciones de palabras con significado contextual (ej: “space mission”, “hard disk”, “gun control”) que los unigramas ignoran.\n",
        "\n",
        "⚠️ Contrariamente a lo esperado, el uso de sublinear_tf=True —que aplica una transformación logarítmica a los términos— logró una leve mejora en el F1-score macro (0.665 vs 0.664), pero solo cuando se combinó con un vocabulario amplio (max_features=10000) y sin filtros agresivos (max_df=0.95, min_df=2).\n",
        "\n",
        " Esto sugiere que suavizar las frecuencias de términos ayuda a reducir el peso de palabras muy frecuentes sin eliminarlas, mejorando la discriminación entre categorías — especialmente útil en textos con alto ruido o variabilidad léxica."
      ],
      "metadata": {
        "id": "Gi3ppiUBo8_G"
      }
    },
    {
      "cell_type": "markdown",
      "source": [
        "# 3. Transponer la matriz documento-término. De esa manera se obtiene una matriz término-documento que puede ser interpretada como una colección de vectorización de palabras. Estudiar ahora similaridad entre palabras tomando 5 palabras y estudiando sus 5 más similares. La elección de palabras no debe ser al azar para evitar la aparición de términos poco interpretables, elegirlas \"manualmente\"."
      ],
      "metadata": {
        "id": "iYUxPJOwNUlJ"
      }
    },
    {
      "cell_type": "markdown",
      "source": [
        "**1: Transposicion**"
      ],
      "metadata": {
        "id": "CDfx2wR1NjXx"
      }
    },
    {
      "cell_type": "code",
      "source": [
        "X_terms = X_train.T  # Forma: (n_terminos, n_documentos)"
      ],
      "metadata": {
        "id": "e6impXLWNe5n"
      },
      "execution_count": 33,
      "outputs": []
    },
    {
      "cell_type": "markdown",
      "source": [
        "**2: Calcular similitud entre palabras**"
      ],
      "metadata": {
        "id": "joUuYYrQNiLZ"
      }
    },
    {
      "cell_type": "code",
      "source": [
        "from sklearn.metrics.pairwise import cosine_similarity\n",
        "import numpy as np\n",
        "\n",
        "# Similitud entre todas las palabras (matriz grande, pero manejable si limitamos vocabulario)\n",
        "similarity_matrix = cosine_similarity(X_terms)  # (n_terminos, n_terminos)"
      ],
      "metadata": {
        "id": "pCe7ipcyNn7y"
      },
      "execution_count": 34,
      "outputs": []
    },
    {
      "cell_type": "markdown",
      "source": [
        "** 3: Elegir 5 palabras manualmente (no al azar)**"
      ],
      "metadata": {
        "id": "xrJTRhJzN_ji"
      }
    },
    {
      "cell_type": "markdown",
      "source": [
        "'space', 'windows', 'hockey', 'god', 'graphics'"
      ],
      "metadata": {
        "id": "-yiOVfZWOFcB"
      }
    },
    {
      "cell_type": "markdown",
      "source": [
        " **4: Función para encontrar palabras similares**"
      ],
      "metadata": {
        "id": "wWnTJcNaOJHB"
      }
    },
    {
      "cell_type": "code",
      "source": [
        "def palabras_similares(palabra, vectorizer, similarity_matrix, top_n=5):\n",
        "    try:\n",
        "        idx = vectorizer.vocabulary_[palabra]\n",
        "    except KeyError:\n",
        "        print(f\"La palabra '{palabra}' no está en el vocabulario.\")\n",
        "        return\n",
        "\n",
        "    # Obtener similitudes con todas las demás palabras\n",
        "    similitudes = similarity_matrix[idx]\n",
        "\n",
        "    # Obtener los índices de las palabras más similares (excluyendo ella misma)\n",
        "    similares_idx = np.argsort(similitudes)[-top_n-1:-1][::-1]  # excluye a sí misma\n",
        "\n",
        "    print(f\"\\nPalabra: '{palabra}'\")\n",
        "    print(\"Palabras más similares:\")\n",
        "    for i in similares_idx:\n",
        "        palabra_sim = vectorizer.get_feature_names_out()[i]\n",
        "        sim_val = similitudes[i]\n",
        "        print(f\"  - '{palabra_sim}' (sim: {sim_val:.3f})\")"
      ],
      "metadata": {
        "id": "wLeagxj4OLxC"
      },
      "execution_count": 35,
      "outputs": []
    },
    {
      "cell_type": "markdown",
      "source": [
        "**5: Aplicar a 5 palabras elegidas manualmente**"
      ],
      "metadata": {
        "id": "T1-IVVbWOOaZ"
      }
    },
    {
      "cell_type": "code",
      "source": [
        "# Palabras elegidas por su relevancia temática\n",
        "palabras_clave = ['space', 'windows', 'hockey', 'god', 'graphics']\n",
        "\n",
        "# Re-calculate X_train with the vectorizer used in the function\n",
        "vectorizer = TfidfVectorizer(\n",
        "    max_features=5000,\n",
        "    stop_words='english',\n",
        "    ngram_range=(1, 2),\n",
        "    max_df=0.95,\n",
        "    min_df=2,\n",
        "    sublinear_tf=True\n",
        ")\n",
        "\n",
        "X_train_corrected = vectorizer.fit_transform(newsgroups_train.data)\n",
        "X_terms = X_train_corrected.T\n",
        "\n",
        "# Calcular matriz de similitud entre palabras\n",
        "similarity_matrix = cosine_similarity(X_terms)\n",
        "\n",
        "# Analizar cada una\n",
        "for palabra in palabras_clave:\n",
        "    palabras_similares(palabra, vectorizer, similarity_matrix, top_n=5)"
      ],
      "metadata": {
        "colab": {
          "base_uri": "https://localhost:8080/"
        },
        "id": "W7fi7NLSOQ3B",
        "outputId": "9952841f-4bfe-4450-e833-e31785e922f7"
      },
      "execution_count": 38,
      "outputs": [
        {
          "output_type": "stream",
          "name": "stdout",
          "text": [
            "\n",
            "Palabra: 'space'\n",
            "Palabras más similares:\n",
            "  - 'space station' (sim: 0.308)\n",
            "  - 'sci space' (sim: 0.268)\n",
            "  - 'nasa' (sim: 0.255)\n",
            "  - 'space shuttle' (sim: 0.251)\n",
            "  - 'shuttle' (sim: 0.217)\n",
            "\n",
            "Palabra: 'windows'\n",
            "Palabras más similares:\n",
            "  - 'dos' (sim: 0.327)\n",
            "  - 'ms windows' (sim: 0.277)\n",
            "  - 'dos windows' (sim: 0.249)\n",
            "  - 'ms' (sim: 0.238)\n",
            "  - 'windows nt' (sim: 0.230)\n",
            "\n",
            "Palabra: 'hockey'\n",
            "Palabras más similares:\n",
            "  - 'nhl' (sim: 0.266)\n",
            "  - 'game' (sim: 0.215)\n",
            "  - 'players' (sim: 0.200)\n",
            "  - 'hockey league' (sim: 0.199)\n",
            "  - 'ice' (sim: 0.195)\n",
            "\n",
            "Palabra: 'god'\n",
            "Palabras más similares:\n",
            "  - 'jesus' (sim: 0.295)\n",
            "  - 'christ' (sim: 0.262)\n",
            "  - 'bible' (sim: 0.255)\n",
            "  - 'faith' (sim: 0.252)\n",
            "  - 'lord' (sim: 0.238)\n",
            "\n",
            "Palabra: 'graphics'\n",
            "Palabras más similares:\n",
            "  - 'comp graphics' (sim: 0.327)\n",
            "  - 'computer graphics' (sim: 0.244)\n",
            "  - 'comp' (sim: 0.196)\n",
            "  - '3d' (sim: 0.179)\n",
            "  - 'graphic' (sim: 0.148)\n"
          ]
        }
      ]
    },
    {
      "cell_type": "code",
      "source": [
        "from IPython.display import display\n",
        "\n",
        "# Resultados\n",
        "resultados_palabras = [\n",
        "    {\n",
        "        'Palabra': 'space',\n",
        "        'Más similares': \"'space station', 'sci space', 'nasa', 'space shuttle', 'shuttle'\",\n",
        "        'Observación': '✅ Coherente: términos técnicos y propios del dominio espacial'\n",
        "    },\n",
        "    {\n",
        "        'Palabra': 'windows',\n",
        "        'Más similares': \"'dos', 'ms windows', 'dos windows', 'ms', 'windows nt'\",\n",
        "        'Observación': '✅ Coherente: términos de sistemas operativos y entornos Microsoft/DOS'\n",
        "    },\n",
        "    {\n",
        "        'Palabra': 'hockey',\n",
        "        'Más similares': \"'nhl', 'game', 'players', 'hockey league', 'ice'\",\n",
        "        'Observación': '✅ Coherente: vocabulario deportivo, equipos y contexto de juego'\n",
        "    },\n",
        "    {\n",
        "        'Palabra': 'god',\n",
        "        'Más similares': \"'jesus', 'christ', 'bible', 'faith', 'lord'\",\n",
        "        'Observación': '✅ Coherente: términos religiosos, cristianos, espirituales'\n",
        "    },\n",
        "    {\n",
        "        'Palabra': 'graphics',\n",
        "        'Más similares': \"'comp graphics', 'computer graphics', 'comp', '3d', 'graphic'\",\n",
        "        'Observación': '✅ Coherente: dominio de gráficos por computadora y foros técnicos'\n",
        "    }\n",
        "]\n",
        "\n",
        "df = pd.DataFrame(resultados_palabras)\n",
        "\n",
        "\n",
        "display(df.style.set_properties(**{'text-align': 'left'}).set_table_styles([\n",
        "    {'selector': 'th', 'props': [('text-align', 'left')]}\n",
        "]))"
      ],
      "metadata": {
        "colab": {
          "base_uri": "https://localhost:8080/",
          "height": 206
        },
        "id": "xhKrHNLzuJ44",
        "outputId": "09880aa7-d399-497b-a2fd-1a12ea1c0f75"
      },
      "execution_count": 41,
      "outputs": [
        {
          "output_type": "display_data",
          "data": {
            "text/plain": [
              "<pandas.io.formats.style.Styler at 0x7ff4f13e8440>"
            ],
            "text/html": [
              "<style type=\"text/css\">\n",
              "#T_5717e th {\n",
              "  text-align: left;\n",
              "}\n",
              "#T_5717e_row0_col0, #T_5717e_row0_col1, #T_5717e_row0_col2, #T_5717e_row1_col0, #T_5717e_row1_col1, #T_5717e_row1_col2, #T_5717e_row2_col0, #T_5717e_row2_col1, #T_5717e_row2_col2, #T_5717e_row3_col0, #T_5717e_row3_col1, #T_5717e_row3_col2, #T_5717e_row4_col0, #T_5717e_row4_col1, #T_5717e_row4_col2 {\n",
              "  text-align: left;\n",
              "}\n",
              "</style>\n",
              "<table id=\"T_5717e\" class=\"dataframe\">\n",
              "  <thead>\n",
              "    <tr>\n",
              "      <th class=\"blank level0\" >&nbsp;</th>\n",
              "      <th id=\"T_5717e_level0_col0\" class=\"col_heading level0 col0\" >Palabra</th>\n",
              "      <th id=\"T_5717e_level0_col1\" class=\"col_heading level0 col1\" >Más similares</th>\n",
              "      <th id=\"T_5717e_level0_col2\" class=\"col_heading level0 col2\" >Observación</th>\n",
              "    </tr>\n",
              "  </thead>\n",
              "  <tbody>\n",
              "    <tr>\n",
              "      <th id=\"T_5717e_level0_row0\" class=\"row_heading level0 row0\" >0</th>\n",
              "      <td id=\"T_5717e_row0_col0\" class=\"data row0 col0\" >space</td>\n",
              "      <td id=\"T_5717e_row0_col1\" class=\"data row0 col1\" >'space station', 'sci space', 'nasa', 'space shuttle', 'shuttle'</td>\n",
              "      <td id=\"T_5717e_row0_col2\" class=\"data row0 col2\" >✅ Coherente: términos técnicos y propios del dominio espacial</td>\n",
              "    </tr>\n",
              "    <tr>\n",
              "      <th id=\"T_5717e_level0_row1\" class=\"row_heading level0 row1\" >1</th>\n",
              "      <td id=\"T_5717e_row1_col0\" class=\"data row1 col0\" >windows</td>\n",
              "      <td id=\"T_5717e_row1_col1\" class=\"data row1 col1\" >'dos', 'ms windows', 'dos windows', 'ms', 'windows nt'</td>\n",
              "      <td id=\"T_5717e_row1_col2\" class=\"data row1 col2\" >✅ Coherente: términos de sistemas operativos y entornos Microsoft/DOS</td>\n",
              "    </tr>\n",
              "    <tr>\n",
              "      <th id=\"T_5717e_level0_row2\" class=\"row_heading level0 row2\" >2</th>\n",
              "      <td id=\"T_5717e_row2_col0\" class=\"data row2 col0\" >hockey</td>\n",
              "      <td id=\"T_5717e_row2_col1\" class=\"data row2 col1\" >'nhl', 'game', 'players', 'hockey league', 'ice'</td>\n",
              "      <td id=\"T_5717e_row2_col2\" class=\"data row2 col2\" >✅ Coherente: vocabulario deportivo, equipos y contexto de juego</td>\n",
              "    </tr>\n",
              "    <tr>\n",
              "      <th id=\"T_5717e_level0_row3\" class=\"row_heading level0 row3\" >3</th>\n",
              "      <td id=\"T_5717e_row3_col0\" class=\"data row3 col0\" >god</td>\n",
              "      <td id=\"T_5717e_row3_col1\" class=\"data row3 col1\" >'jesus', 'christ', 'bible', 'faith', 'lord'</td>\n",
              "      <td id=\"T_5717e_row3_col2\" class=\"data row3 col2\" >✅ Coherente: términos religiosos, cristianos, espirituales</td>\n",
              "    </tr>\n",
              "    <tr>\n",
              "      <th id=\"T_5717e_level0_row4\" class=\"row_heading level0 row4\" >4</th>\n",
              "      <td id=\"T_5717e_row4_col0\" class=\"data row4 col0\" >graphics</td>\n",
              "      <td id=\"T_5717e_row4_col1\" class=\"data row4 col1\" >'comp graphics', 'computer graphics', 'comp', '3d', 'graphic'</td>\n",
              "      <td id=\"T_5717e_row4_col2\" class=\"data row4 col2\" >✅ Coherente: dominio de gráficos por computadora y foros técnicos</td>\n",
              "    </tr>\n",
              "  </tbody>\n",
              "</table>\n"
            ]
          },
          "metadata": {}
        }
      ]
    },
    {
      "cell_type": "markdown",
      "source": [
        " CONCLUSIÓN DEL PUNTO 3 — SIMILITUD ENTRE PALABRAS\n",
        "\n",
        "✅ La estrategia de transponer la matriz término-documento y calcular similitud entre palabras arrojó resultados más interpretables y semánticamente coherentes que la similitud entre documentos.\n",
        "➡️ Mientras que en documentos la similitud a veces se basaba en coincidencias léxicas superficiales o ruido, aquí las palabras similares comparten claramente dominio temático\n",
        "\n",
        "La elección del nivel de análisis (documento vs palabra) y la selección cuidadosa de parámetros o vocabulario pueden marcar una gran diferencia en la calidad e interpretabilidad de los resultados."
      ],
      "metadata": {
        "id": "-CGIuSSTsyiB"
      }
    }
  ],
  "metadata": {
    "colab": {
      "provenance": []
    },
    "kernelspec": {
      "display_name": ".venv",
      "language": "python",
      "name": "python3"
    },
    "language_info": {
      "codemirror_mode": {
        "name": "ipython",
        "version": 3
      },
      "file_extension": ".py",
      "mimetype": "text/x-python",
      "name": "python",
      "nbconvert_exporter": "python",
      "pygments_lexer": "ipython3",
      "version": "3.12.3"
    }
  },
  "nbformat": 4,
  "nbformat_minor": 0
}