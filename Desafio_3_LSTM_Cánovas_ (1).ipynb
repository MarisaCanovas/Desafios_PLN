{
  "nbformat": 4,
  "nbformat_minor": 0,
  "metadata": {
    "colab": {
      "provenance": [],
      "gpuType": "T4"
    },
    "kernelspec": {
      "name": "python3",
      "display_name": "Python 3"
    },
    "language_info": {
      "name": "python"
    },
    "accelerator": "GPU"
  },
  "cells": [
    {
      "cell_type": "markdown",
      "source": [
        "En este trabajo se implementó un modelo de lenguaje basado en LSTM, entrenado sobre texto tokenizado por caracteres. La elección de LSTM se fundamenta en su capacidad para aprender dependencias a largo plazo, lo que la convierte en una opción más robusta que una RNN simple para tareas de generación de texto.\n",
        "\n",
        "El modelo logró generar secuencias coherentes y estructuradas, y se evaluó su desempeño mediante la métrica de perplejidad. Además, se exploraron distintas estrategias de generación como greedy search y beam search con ajuste de temperatura, observando cómo estas afectan la diversidad y fluidez del texto generado"
      ],
      "metadata": {
        "id": "xPs3laDFKqgK"
      }
    },
    {
      "cell_type": "markdown",
      "source": [
        "## 🔁 Recuperación de modelo y métricas guardadas\n",
        "\n",
        "Este notebook comienza en modo recuperación. El modelo ya fue entrenado previamente y guardado como `best_model_lstm.keras`, junto con sus métricas de entrenamiento (`loss_history.npy`, `history_ppl.npy`, `best_epoch.npy`, `best_ppl.npy`).\n",
        "\n",
        "Cargaue estos archivos para visualizar los gráficos de evolución y generar texto sin necesidad de reentrenar.\n",
        "\n",
        "Esto garantiza reproducibilidad, eficiencia y claridad en la presentación de resultados.\n"
      ],
      "metadata": {
        "id": "Hre0u8DRZuUH"
      }
    },
    {
      "cell_type": "markdown",
      "source": [
        "# Recuperación y reutilización"
      ],
      "metadata": {
        "id": "qoI04cXsRg7X"
      }
    },
    {
      "cell_type": "markdown",
      "source": [
        "# Recuperar best modelo y métricas"
      ],
      "metadata": {
        "id": "fUvlfGWiX4j_"
      }
    },
    {
      "cell_type": "code",
      "source": [
        "\"\"\"\n",
        "📦 BLOQUE DE RECUPERACIÓN\n",
        "\n",
        "Este bloque carga el modelo previamente entrenado y todas las métricas guardadas,\n",
        "permite visualizar los gráficos y generar texto sin necesidad de reentrenar.\n",
        "\"\"\"\n",
        "\n",
        "# Cargar métricas\n",
        "history_ppl = np.load(\"history_ppl.npy\").tolist()\n",
        "loss_history = np.load(\"loss_history.npy\").tolist()\n",
        "best_epoch = int(np.load(\"best_epoch.npy\"))\n",
        "best_ppl = float(np.load(\"best_ppl.npy\"))\n",
        "\n",
        "# Cargar modelo\n",
        "model_best_lstm = load_model(\"best_model_lstm.keras\")\n",
        "print(f\"✅ Modelo cargado: 'best_model_lstm.keras' con PPL mínima de {best_ppl:.4f} en la época {best_epoch}\")\n"
      ],
      "metadata": {
        "id": "SIbOYC-YRjav"
      },
      "execution_count": null,
      "outputs": []
    },
    {
      "cell_type": "markdown",
      "source": [
        "# Recuperar gráficos"
      ],
      "metadata": {
        "id": "aQoleUOXXzI2"
      }
    },
    {
      "cell_type": "code",
      "source": [
        "# 📊 Visualización de métricas\n",
        "fig, axs = plt.subplots(1, 2, figsize=(16, 5))\n",
        "\n",
        "# 📉 Pérdida en entrenamiento\n",
        "axs[0].plot(loss_history, marker='o', color='darkorange')\n",
        "axs[0].set_title(\"📊 Evolución de la Pérdida en Entrenamiento\")\n",
        "axs[0].set_xlabel(\"Época\")\n",
        "axs[0].set_ylabel(\"Loss\")\n",
        "axs[0].grid(True)\n",
        "\n",
        "# 📈 Perplejidad en validación\n",
        "axs[1].plot(history_ppl, marker='o', color='teal', label='PPL por época')\n",
        "axs[1].scatter(best_epoch, best_ppl, color='red', zorder=5)\n",
        "axs[1].text(best_epoch, best_ppl + 0.5, '💾 Saved', color='red', ha='center', fontsize=10)\n",
        "axs[1].set_title(\"📉 Evolución de la Perplejidad en Validación\")\n",
        "axs[1].set_xlabel(\"Época\")\n",
        "axs[1].set_ylabel(\"Perplejidad (PPL)\")\n",
        "axs[1].grid(True)\n",
        "axs[1].legend()\n",
        "\n",
        "plt.tight_layout()\n",
        "plt.savefig(\"grafico_loss_y_perplejidad_lstm.png\")\n",
        "plt.show()\n"
      ],
      "metadata": {
        "id": "-dWnS-DYX2DX"
      },
      "execution_count": null,
      "outputs": []
    },
    {
      "cell_type": "markdown",
      "source": [
        "# Recuperar y mostrar el texto en Gradio"
      ],
      "metadata": {
        "id": "mEZKTSpifLsV"
      }
    },
    {
      "cell_type": "code",
      "source": [
        "import gradio as gr\n",
        "\n",
        "def recuperar_texto_guardado():\n",
        "    with open(\"salida_generada_lstm.txt\", \"r\", encoding=\"utf-8\") as f:\n",
        "        return f.read()\n",
        "\n",
        "gr.Interface(\n",
        "    fn=recuperar_texto_guardado,\n",
        "    inputs=[],\n",
        "    outputs=\"text\",\n",
        "    title=\"📄 Texto guardado\",\n",
        "    description=\"Visualización del texto generado previamente\"\n",
        ").launch()\n"
      ],
      "metadata": {
        "id": "pzcKjO5tfIWO"
      },
      "execution_count": null,
      "outputs": []
    },
    {
      "cell_type": "markdown",
      "source": [
        "# Import"
      ],
      "metadata": {
        "id": "YBVdJGtgX_yo"
      }
    },
    {
      "cell_type": "code",
      "execution_count": 6,
      "metadata": {
        "id": "zAkBAgRQl52W"
      },
      "outputs": [],
      "source": [
        "import random\n",
        "import io\n",
        "import pickle\n",
        "\n",
        "import numpy as np\n",
        "import pandas as pd\n",
        "import matplotlib.pyplot as plt\n",
        "from sklearn.model_selection import train_test_split\n",
        "\n",
        "from tensorflow import keras\n",
        "from tensorflow.keras import layers\n",
        "from keras.utils import to_categorical\n",
        "from keras.models import Sequential\n",
        "from keras.layers import Dense, LSTM, Embedding, Dropout\n",
        "from tensorflow.keras.losses import SparseCategoricalCrossentropy"
      ]
    },
    {
      "cell_type": "markdown",
      "source": [
        "# Texto"
      ],
      "metadata": {
        "id": "6BbaKJZRYFAf"
      }
    },
    {
      "cell_type": "code",
      "source": [
        "# descargar de textos.info\n",
        "import urllib.request\n",
        "\n",
        "# Para leer y parsear el texto en HTML de wikipedia\n",
        "import bs4 as bs"
      ],
      "metadata": {
        "id": "BWVMG9PWnHMT"
      },
      "execution_count": 7,
      "outputs": []
    },
    {
      "cell_type": "code",
      "source": [
        "raw_html = urllib.request.urlopen('https://www.textos.info/julio-verne/viaje-al-centro-de-la-tierra/ebook')\n",
        "raw_html = raw_html.read()\n",
        "# Parsear artículo, 'lxml' es el parser a utilizar  variable que guarda el HTML parseado.\n",
        "article_html = bs.BeautifulSoup(raw_html, 'lxml')\n",
        "\n",
        "# Encontrar todos los párrafos del HTML (bajo el tag <p>) y tenerlos disponible como lista\n",
        "article_paragraphs = article_html.find_all('p')\n",
        "\n",
        "#variable que vas construyendo concatenando el texto de cada párrafo.\n",
        "article_text = ''\n",
        "\n",
        "for para in article_paragraphs:\n",
        "    article_text += para.text + ' '\n",
        "\n",
        "# pasar todo el texto a minúscula\n",
        "article_text = article_text.lower()"
      ],
      "metadata": {
        "id": "AfYPYFwwvoAh"
      },
      "execution_count": 8,
      "outputs": []
    },
    {
      "cell_type": "code",
      "source": [
        "# en article text se encuentra el texto de todo el libro\n",
        "article_text[:1000]"
      ],
      "metadata": {
        "colab": {
          "base_uri": "https://localhost:8080/",
          "height": 123
        },
        "id": "oFF1RaeVnSpy",
        "outputId": "59fe587c-4ca8-4320-c4ac-eacf63ae4a01"
      },
      "execution_count": 9,
      "outputs": [
        {
          "output_type": "execute_result",
          "data": {
            "text/plain": [
              "' el domingo 24 de mayo de 1863, mi tío, el profesor lidenbrock, entró \\r\\nrápidamente a su hogar, situado en el número 19 de la könig‑strasse, una\\r\\n de las calles más tradicionales del barrio antiguo de hamburgo. marta, su excelente criada, se preocupó sobremanera, creyendo que se \\r\\nhabía retrasado, pues apenas empezaba a cocinar la comida en el \\r\\nhornillo. “bueno” —pensé para mí—, “si mi tío viene con hambre, se va a armar \\r\\nla de san quintín; porque no conozco a otro hombre de menos paciencia”. —¡tan temprano y ya está aquí el señor lidenbrock! —exclamó la pobre marta, con arrebol, entreabriendo la puerta del comedor. —sí, marta; pero tú no tienes la culpa de que la comida no esté lista\\r\\n todavía, porque es temprano, aún no son las dos. acaba de dar la media \\r\\nhora en san miguel. —¿y por qué ha venido tan pronto el señor lidenbrock? —él lo explicará, seguramente. —¡ahí viene! yo me escapo. señor axel, cálmelo usted, por favor. y la excelente marta se retiró presurosa a su recinto culin'"
            ],
            "application/vnd.google.colaboratory.intrinsic+json": {
              "type": "string"
            }
          },
          "metadata": {},
          "execution_count": 9
        }
      ]
    },
    {
      "cell_type": "markdown",
      "source": [
        "Limitación de corpus por problemas de memoria"
      ],
      "metadata": {
        "id": "YSuV3PYGcGNg"
      }
    },
    {
      "cell_type": "code",
      "source": [
        "# Bloque de Limitación de Caracteres para Ahorrar RAM\n",
        "MAX_CHARS = 800000\n",
        "\n",
        "if len(article_text) > MAX_CHARS:\n",
        "    # Truncar el texto a la longitud máxima\n",
        "    limited_text = article_text[:MAX_CHARS]\n",
        "    print(f\"\\n[AVISO]: Texto truncado. Se usarán {len(limited_text)} de {len(article_text)} caracteres.\")\n",
        "else:\n",
        "    limited_text = article_text\n",
        "    print(\"\\n[INFO]: El texto es lo suficientemente corto. Usando el total.\")\n",
        "\n",
        "# Ahora, reemplaza la variable de trabajo\n",
        "article_text = limited_text\n",
        "\n",
        "# Bloque de Vocabulario\n",
        "chars_vocab = sorted(set(article_text))\n",
        "chars_vocab = ['<PAD>'] + chars_vocab\n",
        "char2idx = {ch: idx for idx, ch in enumerate(chars_vocab)}\n",
        "idx2char = {idx: ch for ch, idx in char2idx.items()}\n",
        "vocab_size = len(chars_vocab)\n",
        "\n",
        "print(f\"Tamaño del Vocabulario (incluyendo <PAD>): {vocab_size}\")\n",
        "print(f\"Longitud final del texto para entrenamiento: {len(article_text)}\")\n",
        "\n",
        "# Update max_context_size to match the trained sequence length\n",
        "max_context_size = 99\n",
        "print(f\"Updated max_context_size to: {max_context_size}\")"
      ],
      "metadata": {
        "colab": {
          "base_uri": "https://localhost:8080/"
        },
        "id": "dg0UWFe8qcIg",
        "outputId": "db804d70-ed58-4c5d-b35d-81d9e867d350"
      },
      "execution_count": 10,
      "outputs": [
        {
          "output_type": "stream",
          "name": "stdout",
          "text": [
            "\n",
            "[INFO]: El texto es lo suficientemente corto. Usando el total.\n",
            "Tamaño del Vocabulario (incluyendo <PAD>): 79\n",
            "Longitud final del texto para entrenamiento: 432972\n",
            "Updated max_context_size to: 99\n"
          ]
        }
      ]
    },
    {
      "cell_type": "code",
      "source": [
        "len(chars_vocab)"
      ],
      "metadata": {
        "colab": {
          "base_uri": "https://localhost:8080/"
        },
        "id": "gqYM7sseqm1_",
        "outputId": "4a68379d-98d0-47c7-e773-4d3871a27ae4"
      },
      "execution_count": 11,
      "outputs": [
        {
          "output_type": "execute_result",
          "data": {
            "text/plain": [
              "79"
            ]
          },
          "metadata": {},
          "execution_count": 11
        }
      ]
    },
    {
      "cell_type": "code",
      "source": [
        "# tokenizamos el texto completo\n",
        "#transforma la secuencia larga de caracteres (article_text) en una secuencia larga de índices numéricos (tokenized_text) utilizando tu diccionario char2idx.\n",
        "tokenized_text = [char2idx[ch] for ch in article_text]"
      ],
      "metadata": {
        "id": "EkdTf9Erqpow"
      },
      "execution_count": 12,
      "outputs": []
    },
    {
      "cell_type": "code",
      "source": [
        "tokenized_text[:1000]"
      ],
      "metadata": {
        "colab": {
          "base_uri": "https://localhost:8080/"
        },
        "id": "dirptbiKqsTY",
        "outputId": "32911864-f818-4857-929a-d105b4247d0c",
        "collapsed": true
      },
      "execution_count": 13,
      "outputs": [
        {
          "output_type": "execute_result",
          "data": {
            "text/plain": [
              "[4,\n",
              " 31,\n",
              " 38,\n",
              " 4,\n",
              " 30,\n",
              " 41,\n",
              " 39,\n",
              " 35,\n",
              " 40,\n",
              " 33,\n",
              " 41,\n",
              " 4,\n",
              " 16,\n",
              " 18,\n",
              " 4,\n",
              " 30,\n",
              " 31,\n",
              " 4,\n",
              " 39,\n",
              " 27,\n",
              " 51,\n",
              " 41,\n",
              " 4,\n",
              " 30,\n",
              " 31,\n",
              " 4,\n",
              " 15,\n",
              " 22,\n",
              " 20,\n",
              " 17,\n",
              " 10,\n",
              " 4,\n",
              " 39,\n",
              " 35,\n",
              " 4,\n",
              " 46,\n",
              " 64,\n",
              " 41,\n",
              " 10,\n",
              " 4,\n",
              " 31,\n",
              " 38,\n",
              " 4,\n",
              " 42,\n",
              " 44,\n",
              " 41,\n",
              " 32,\n",
              " 31,\n",
              " 45,\n",
              " 41,\n",
              " 44,\n",
              " 4,\n",
              " 38,\n",
              " 35,\n",
              " 30,\n",
              " 31,\n",
              " 40,\n",
              " 28,\n",
              " 44,\n",
              " 41,\n",
              " 29,\n",
              " 37,\n",
              " 10,\n",
              " 4,\n",
              " 31,\n",
              " 40,\n",
              " 46,\n",
              " 44,\n",
              " 66,\n",
              " 4,\n",
              " 3,\n",
              " 2,\n",
              " 44,\n",
              " 60,\n",
              " 42,\n",
              " 35,\n",
              " 30,\n",
              " 27,\n",
              " 39,\n",
              " 31,\n",
              " 40,\n",
              " 46,\n",
              " 31,\n",
              " 4,\n",
              " 27,\n",
              " 4,\n",
              " 45,\n",
              " 47,\n",
              " 4,\n",
              " 34,\n",
              " 41,\n",
              " 33,\n",
              " 27,\n",
              " 44,\n",
              " 10,\n",
              " 4,\n",
              " 45,\n",
              " 35,\n",
              " 46,\n",
              " 47,\n",
              " 27,\n",
              " 30,\n",
              " 41,\n",
              " 4,\n",
              " 31,\n",
              " 40,\n",
              " 4,\n",
              " 31,\n",
              " 38,\n",
              " 4,\n",
              " 40,\n",
              " 68,\n",
              " 39,\n",
              " 31,\n",
              " 44,\n",
              " 41,\n",
              " 4,\n",
              " 15,\n",
              " 23,\n",
              " 4,\n",
              " 30,\n",
              " 31,\n",
              " 4,\n",
              " 38,\n",
              " 27,\n",
              " 4,\n",
              " 37,\n",
              " 67,\n",
              " 40,\n",
              " 35,\n",
              " 33,\n",
              " 71,\n",
              " 45,\n",
              " 46,\n",
              " 44,\n",
              " 27,\n",
              " 45,\n",
              " 45,\n",
              " 31,\n",
              " 10,\n",
              " 4,\n",
              " 47,\n",
              " 40,\n",
              " 27,\n",
              " 3,\n",
              " 2,\n",
              " 4,\n",
              " 30,\n",
              " 31,\n",
              " 4,\n",
              " 38,\n",
              " 27,\n",
              " 45,\n",
              " 4,\n",
              " 29,\n",
              " 27,\n",
              " 38,\n",
              " 38,\n",
              " 31,\n",
              " 45,\n",
              " 4,\n",
              " 39,\n",
              " 60,\n",
              " 45,\n",
              " 4,\n",
              " 46,\n",
              " 44,\n",
              " 27,\n",
              " 30,\n",
              " 35,\n",
              " 29,\n",
              " 35,\n",
              " 41,\n",
              " 40,\n",
              " 27,\n",
              " 38,\n",
              " 31,\n",
              " 45,\n",
              " 4,\n",
              " 30,\n",
              " 31,\n",
              " 38,\n",
              " 4,\n",
              " 28,\n",
              " 27,\n",
              " 44,\n",
              " 44,\n",
              " 35,\n",
              " 41,\n",
              " 4,\n",
              " 27,\n",
              " 40,\n",
              " 46,\n",
              " 35,\n",
              " 33,\n",
              " 47,\n",
              " 41,\n",
              " 4,\n",
              " 30,\n",
              " 31,\n",
              " 4,\n",
              " 34,\n",
              " 27,\n",
              " 39,\n",
              " 28,\n",
              " 47,\n",
              " 44,\n",
              " 33,\n",
              " 41,\n",
              " 12,\n",
              " 4,\n",
              " 39,\n",
              " 27,\n",
              " 44,\n",
              " 46,\n",
              " 27,\n",
              " 10,\n",
              " 4,\n",
              " 45,\n",
              " 47,\n",
              " 4,\n",
              " 31,\n",
              " 50,\n",
              " 29,\n",
              " 31,\n",
              " 38,\n",
              " 31,\n",
              " 40,\n",
              " 46,\n",
              " 31,\n",
              " 4,\n",
              " 29,\n",
              " 44,\n",
              " 35,\n",
              " 27,\n",
              " 30,\n",
              " 27,\n",
              " 10,\n",
              " 4,\n",
              " 45,\n",
              " 31,\n",
              " 4,\n",
              " 42,\n",
              " 44,\n",
              " 31,\n",
              " 41,\n",
              " 29,\n",
              " 47,\n",
              " 42,\n",
              " 66,\n",
              " 4,\n",
              " 45,\n",
              " 41,\n",
              " 28,\n",
              " 44,\n",
              " 31,\n",
              " 39,\n",
              " 27,\n",
              " 40,\n",
              " 31,\n",
              " 44,\n",
              " 27,\n",
              " 10,\n",
              " 4,\n",
              " 29,\n",
              " 44,\n",
              " 31,\n",
              " 51,\n",
              " 31,\n",
              " 40,\n",
              " 30,\n",
              " 41,\n",
              " 4,\n",
              " 43,\n",
              " 47,\n",
              " 31,\n",
              " 4,\n",
              " 45,\n",
              " 31,\n",
              " 4,\n",
              " 3,\n",
              " 2,\n",
              " 34,\n",
              " 27,\n",
              " 28,\n",
              " 64,\n",
              " 27,\n",
              " 4,\n",
              " 44,\n",
              " 31,\n",
              " 46,\n",
              " 44,\n",
              " 27,\n",
              " 45,\n",
              " 27,\n",
              " 30,\n",
              " 41,\n",
              " 10,\n",
              " 4,\n",
              " 42,\n",
              " 47,\n",
              " 31,\n",
              " 45,\n",
              " 4,\n",
              " 27,\n",
              " 42,\n",
              " 31,\n",
              " 40,\n",
              " 27,\n",
              " 45,\n",
              " 4,\n",
              " 31,\n",
              " 39,\n",
              " 42,\n",
              " 31,\n",
              " 52,\n",
              " 27,\n",
              " 28,\n",
              " 27,\n",
              " 4,\n",
              " 27,\n",
              " 4,\n",
              " 29,\n",
              " 41,\n",
              " 29,\n",
              " 35,\n",
              " 40,\n",
              " 27,\n",
              " 44,\n",
              " 4,\n",
              " 38,\n",
              " 27,\n",
              " 4,\n",
              " 29,\n",
              " 41,\n",
              " 39,\n",
              " 35,\n",
              " 30,\n",
              " 27,\n",
              " 4,\n",
              " 31,\n",
              " 40,\n",
              " 4,\n",
              " 31,\n",
              " 38,\n",
              " 4,\n",
              " 3,\n",
              " 2,\n",
              " 34,\n",
              " 41,\n",
              " 44,\n",
              " 40,\n",
              " 35,\n",
              " 38,\n",
              " 38,\n",
              " 41,\n",
              " 12,\n",
              " 4,\n",
              " 75,\n",
              " 28,\n",
              " 47,\n",
              " 31,\n",
              " 40,\n",
              " 41,\n",
              " 76,\n",
              " 4,\n",
              " 73,\n",
              " 42,\n",
              " 31,\n",
              " 40,\n",
              " 45,\n",
              " 63,\n",
              " 4,\n",
              " 42,\n",
              " 27,\n",
              " 44,\n",
              " 27,\n",
              " 4,\n",
              " 39,\n",
              " 64,\n",
              " 73,\n",
              " 10,\n",
              " 4,\n",
              " 75,\n",
              " 45,\n",
              " 35,\n",
              " 4,\n",
              " 39,\n",
              " 35,\n",
              " 4,\n",
              " 46,\n",
              " 64,\n",
              " 41,\n",
              " 4,\n",
              " 48,\n",
              " 35,\n",
              " 31,\n",
              " 40,\n",
              " 31,\n",
              " 4,\n",
              " 29,\n",
              " 41,\n",
              " 40,\n",
              " 4,\n",
              " 34,\n",
              " 27,\n",
              " 39,\n",
              " 28,\n",
              " 44,\n",
              " 31,\n",
              " 10,\n",
              " 4,\n",
              " 45,\n",
              " 31,\n",
              " 4,\n",
              " 48,\n",
              " 27,\n",
              " 4,\n",
              " 27,\n",
              " 4,\n",
              " 27,\n",
              " 44,\n",
              " 39,\n",
              " 27,\n",
              " 44,\n",
              " 4,\n",
              " 3,\n",
              " 2,\n",
              " 38,\n",
              " 27,\n",
              " 4,\n",
              " 30,\n",
              " 31,\n",
              " 4,\n",
              " 45,\n",
              " 27,\n",
              " 40,\n",
              " 4,\n",
              " 43,\n",
              " 47,\n",
              " 35,\n",
              " 40,\n",
              " 46,\n",
              " 64,\n",
              " 40,\n",
              " 25,\n",
              " 4,\n",
              " 42,\n",
              " 41,\n",
              " 44,\n",
              " 43,\n",
              " 47,\n",
              " 31,\n",
              " 4,\n",
              " 40,\n",
              " 41,\n",
              " 4,\n",
              " 29,\n",
              " 41,\n",
              " 40,\n",
              " 41,\n",
              " 52,\n",
              " 29,\n",
              " 41,\n",
              " 4,\n",
              " 27,\n",
              " 4,\n",
              " 41,\n",
              " 46,\n",
              " 44,\n",
              " 41,\n",
              " 4,\n",
              " 34,\n",
              " 41,\n",
              " 39,\n",
              " 28,\n",
              " 44,\n",
              " 31,\n",
              " 4,\n",
              " 30,\n",
              " 31,\n",
              " 4,\n",
              " 39,\n",
              " 31,\n",
              " 40,\n",
              " 41,\n",
              " 45,\n",
              " 4,\n",
              " 42,\n",
              " 27,\n",
              " 29,\n",
              " 35,\n",
              " 31,\n",
              " 40,\n",
              " 29,\n",
              " 35,\n",
              " 27,\n",
              " 76,\n",
              " 12,\n",
              " 4,\n",
              " 73,\n",
              " 54,\n",
              " 46,\n",
              " 27,\n",
              " 40,\n",
              " 4,\n",
              " 46,\n",
              " 31,\n",
              " 39,\n",
              " 42,\n",
              " 44,\n",
              " 27,\n",
              " 40,\n",
              " 41,\n",
              " 4,\n",
              " 51,\n",
              " 4,\n",
              " 51,\n",
              " 27,\n",
              " 4,\n",
              " 31,\n",
              " 45,\n",
              " 46,\n",
              " 60,\n",
              " 4,\n",
              " 27,\n",
              " 43,\n",
              " 47,\n",
              " 64,\n",
              " 4,\n",
              " 31,\n",
              " 38,\n",
              " 4,\n",
              " 45,\n",
              " 31,\n",
              " 65,\n",
              " 41,\n",
              " 44,\n",
              " 4,\n",
              " 38,\n",
              " 35,\n",
              " 30,\n",
              " 31,\n",
              " 40,\n",
              " 28,\n",
              " 44,\n",
              " 41,\n",
              " 29,\n",
              " 37,\n",
              " 5,\n",
              " 4,\n",
              " 73,\n",
              " 31,\n",
              " 50,\n",
              " 29,\n",
              " 38,\n",
              " 27,\n",
              " 39,\n",
              " 66,\n",
              " 4,\n",
              " 38,\n",
              " 27,\n",
              " 4,\n",
              " 42,\n",
              " 41,\n",
              " 28,\n",
              " 44,\n",
              " 31,\n",
              " 4,\n",
              " 39,\n",
              " 27,\n",
              " 44,\n",
              " 46,\n",
              " 27,\n",
              " 10,\n",
              " 4,\n",
              " 29,\n",
              " 41,\n",
              " 40,\n",
              " 4,\n",
              " 27,\n",
              " 44,\n",
              " 44,\n",
              " 31,\n",
              " 28,\n",
              " 41,\n",
              " 38,\n",
              " 10,\n",
              " 4,\n",
              " 31,\n",
              " 40,\n",
              " 46,\n",
              " 44,\n",
              " 31,\n",
              " 27,\n",
              " 28,\n",
              " 44,\n",
              " 35,\n",
              " 31,\n",
              " 40,\n",
              " 30,\n",
              " 41,\n",
              " 4,\n",
              " 38,\n",
              " 27,\n",
              " 4,\n",
              " 42,\n",
              " 47,\n",
              " 31,\n",
              " 44,\n",
              " 46,\n",
              " 27,\n",
              " 4,\n",
              " 30,\n",
              " 31,\n",
              " 38,\n",
              " 4,\n",
              " 29,\n",
              " 41,\n",
              " 39,\n",
              " 31,\n",
              " 30,\n",
              " 41,\n",
              " 44,\n",
              " 12,\n",
              " 4,\n",
              " 73,\n",
              " 45,\n",
              " 64,\n",
              " 10,\n",
              " 4,\n",
              " 39,\n",
              " 27,\n",
              " 44,\n",
              " 46,\n",
              " 27,\n",
              " 25,\n",
              " 4,\n",
              " 42,\n",
              " 31,\n",
              " 44,\n",
              " 41,\n",
              " 4,\n",
              " 46,\n",
              " 68,\n",
              " 4,\n",
              " 40,\n",
              " 41,\n",
              " 4,\n",
              " 46,\n",
              " 35,\n",
              " 31,\n",
              " 40,\n",
              " 31,\n",
              " 45,\n",
              " 4,\n",
              " 38,\n",
              " 27,\n",
              " 4,\n",
              " 29,\n",
              " 47,\n",
              " 38,\n",
              " 42,\n",
              " 27,\n",
              " 4,\n",
              " 30,\n",
              " 31,\n",
              " 4,\n",
              " 43,\n",
              " 47,\n",
              " 31,\n",
              " 4,\n",
              " 38,\n",
              " 27,\n",
              " 4,\n",
              " 29,\n",
              " 41,\n",
              " 39,\n",
              " 35,\n",
              " 30,\n",
              " 27,\n",
              " 4,\n",
              " 40,\n",
              " 41,\n",
              " 4,\n",
              " 31,\n",
              " 45,\n",
              " 46,\n",
              " 63,\n",
              " 4,\n",
              " 38,\n",
              " 35,\n",
              " 45,\n",
              " 46,\n",
              " 27,\n",
              " 3,\n",
              " 2,\n",
              " 4,\n",
              " 46,\n",
              " 41,\n",
              " 30,\n",
              " 27,\n",
              " 48,\n",
              " 64,\n",
              " 27,\n",
              " 10,\n",
              " 4,\n",
              " 42,\n",
              " 41,\n",
              " 44,\n",
              " 43,\n",
              " 47,\n",
              " 31,\n",
              " 4,\n",
              " 31,\n",
              " 45,\n",
              " 4,\n",
              " 46,\n",
              " 31,\n",
              " 39,\n",
              " 42,\n",
              " 44,\n",
              " 27,\n",
              " 40,\n",
              " 41,\n",
              " 10,\n",
              " 4,\n",
              " 27,\n",
              " 68,\n",
              " 40,\n",
              " 4,\n",
              " 40,\n",
              " 41,\n",
              " 4,\n",
              " 45,\n",
              " 41,\n",
              " 40,\n",
              " 4,\n",
              " 38,\n",
              " 27,\n",
              " 45,\n",
              " 4,\n",
              " 30,\n",
              " 41,\n",
              " 45,\n",
              " 12,\n",
              " 4,\n",
              " 27,\n",
              " 29,\n",
              " 27,\n",
              " 28,\n",
              " 27,\n",
              " 4,\n",
              " 30,\n",
              " 31,\n",
              " 4,\n",
              " 30,\n",
              " 27,\n",
              " 44,\n",
              " 4,\n",
              " 38,\n",
              " 27,\n",
              " 4,\n",
              " 39,\n",
              " 31,\n",
              " 30,\n",
              " 35,\n",
              " 27,\n",
              " 4,\n",
              " 3,\n",
              " 2,\n",
              " 34,\n",
              " 41,\n",
              " 44,\n",
              " 27,\n",
              " 4,\n",
              " 31,\n",
              " 40,\n",
              " 4,\n",
              " 45,\n",
              " 27,\n",
              " 40,\n",
              " 4,\n",
              " 39,\n",
              " 35,\n",
              " 33,\n",
              " 47,\n",
              " 31,\n",
              " 38,\n",
              " 12,\n",
              " 4,\n",
              " 73,\n",
              " 59,\n",
              " 51,\n",
              " 4,\n",
              " 42,\n",
              " 41,\n",
              " 44,\n",
              " 4,\n",
              " 43,\n",
              " 47,\n",
              " 63,\n",
              " 4,\n",
              " 34,\n",
              " 27,\n",
              " 4,\n",
              " 48,\n",
              " 31,\n",
              " 40,\n",
              " 35,\n",
              " 30,\n",
              " 41,\n",
              " 4,\n",
              " 46,\n",
              " 27,\n",
              " 40,\n",
              " 4,\n",
              " 42,\n",
              " 44,\n",
              " 41,\n",
              " 40,\n",
              " 46,\n",
              " 41,\n",
              " 4,\n",
              " 31,\n",
              " 38,\n",
              " 4,\n",
              " 45,\n",
              " 31,\n",
              " 65,\n",
              " 41,\n",
              " 44,\n",
              " 4,\n",
              " 38,\n",
              " 35,\n",
              " 30,\n",
              " 31,\n",
              " 40,\n",
              " 28,\n",
              " 44,\n",
              " 41,\n",
              " 29,\n",
              " 37,\n",
              " 26,\n",
              " 4,\n",
              " 73,\n",
              " 63,\n",
              " 38,\n",
              " 4,\n",
              " 38,\n",
              " 41,\n",
              " 4,\n",
              " 31,\n",
              " 50,\n",
              " 42,\n",
              " 38,\n",
              " 35,\n",
              " 29,\n",
              " 27,\n",
              " 44,\n",
              " 60,\n",
              " 10,\n",
              " 4,\n",
              " 45,\n",
              " 31,\n",
              " 33,\n",
              " 47,\n",
              " 44,\n",
              " 27,\n",
              " 39,\n",
              " 31,\n",
              " 40,\n",
              " 46,\n",
              " 31,\n",
              " 12,\n",
              " 4,\n",
              " 73,\n",
              " 54,\n",
              " 27,\n",
              " 34,\n",
              " 64,\n",
              " 4,\n",
              " 48,\n",
              " 35,\n",
              " 31,\n",
              " 40,\n",
              " 31,\n",
              " 5,\n",
              " 4,\n",
              " 51,\n",
              " 41,\n",
              " 4,\n",
              " 39,\n",
              " 31,\n",
              " 4,\n",
              " 31,\n",
              " 45,\n",
              " 29,\n",
              " 27,\n",
              " 42,\n",
              " 41,\n",
              " 12,\n",
              " 4,\n",
              " 45,\n",
              " 31,\n",
              " 65,\n",
              " 41,\n",
              " 44,\n",
              " 4,\n",
              " 27,\n",
              " 50,\n",
              " 31,\n",
              " 38,\n",
              " 10,\n",
              " 4,\n",
              " 29,\n",
              " 60,\n",
              " 38,\n",
              " 39,\n",
              " 31,\n",
              " 38,\n",
              " 41,\n",
              " 4,\n",
              " 47,\n",
              " 45,\n",
              " 46,\n",
              " 31,\n",
              " 30,\n",
              " 10,\n",
              " 4,\n",
              " 42,\n",
              " 41,\n",
              " 44,\n",
              " 4,\n",
              " 32,\n",
              " 27,\n",
              " 48,\n",
              " 41,\n",
              " 44,\n",
              " 12,\n",
              " 4,\n",
              " 51,\n",
              " 4,\n",
              " 38,\n",
              " 27,\n",
              " 4,\n",
              " 31,\n",
              " 50,\n",
              " 29,\n",
              " 31,\n",
              " 38,\n",
              " 31,\n",
              " 40,\n",
              " 46,\n",
              " 31,\n",
              " 4,\n",
              " 39,\n",
              " 27,\n",
              " 44,\n",
              " 46,\n",
              " 27,\n",
              " 4,\n",
              " 45,\n",
              " 31,\n",
              " 4,\n",
              " 44,\n",
              " 31,\n",
              " 46,\n",
              " 35,\n",
              " 44,\n",
              " 66,\n",
              " 4,\n",
              " 42,\n",
              " 44,\n",
              " 31,\n",
              " 45,\n",
              " 47,\n",
              " 44,\n",
              " 41,\n",
              " 45,\n",
              " 27,\n",
              " 4,\n",
              " 27,\n",
              " 4,\n",
              " 45,\n",
              " 47,\n",
              " 4,\n",
              " 44,\n",
              " 31,\n",
              " 29,\n",
              " 35,\n",
              " 40,\n",
              " 46,\n",
              " 41,\n",
              " 4,\n",
              " 29,\n",
              " 47,\n",
              " 38,\n",
              " 35,\n",
              " 40]"
            ]
          },
          "metadata": {},
          "execution_count": 13
        }
      ]
    },
    {
      "cell_type": "markdown",
      "source": [
        "# Preparación del Dataset: Secuencias de Contexto y Etiquetas para el Modelo LSTM"
      ],
      "metadata": {
        "id": "31bOZHB1kB4j"
      }
    },
    {
      "cell_type": "code",
      "source": [
        "import numpy as np\n",
        "\n",
        "# --- Definición de variables clave ---\n",
        "max_context_size= 100\n",
        "STEP = 100  # Para generar secuencias no solapadas\n",
        "\n",
        "# --- Dividir tokenized_text en entrenamiento y validación ---\n",
        "split = int(0.9 * len(tokenized_text))\n",
        "train_idx = tokenized_text[:split]\n",
        "val_idx = tokenized_text[split:]\n",
        "\n",
        "# --- Inicializar listas para X e Y ---\n",
        "X_train_idx, Y_train_idx = [], []\n",
        "X_val_idx, Y_val_idx = [], []\n",
        "\n",
        "# --- Generación de dataset de entrenamiento ---\n",
        "for i in range(0, len(train_idx) - max_context_size, STEP):\n",
        "    X_train_idx.append(train_idx[i:i+max_context_size])\n",
        "    Y_train_idx.append(train_idx[i+max_context_size])\n",
        "\n",
        "# --- Generación de dataset de validación ---\n",
        "for i in range(0, len(val_idx) - max_context_size, STEP):\n",
        "    X_val_idx.append(val_idx[i:i+max_context_size])\n",
        "    Y_val_idx.append(val_idx[i+max_context_size])\n",
        "\n",
        "# --- Conversión a arrays de NumPy ---\n",
        "X_train_idx = np.array(X_train_idx)\n",
        "Y_train_idx = np.array(Y_train_idx)\n",
        "X_val_idx = np.array(X_val_idx)\n",
        "Y_val_idx = np.array(Y_val_idx)\n",
        "\n",
        "# --- Verificación de shapes ---\n",
        "print(f\"X_train_idx: {X_train_idx.shape}, Y_train_idx: {Y_train_idx.shape}\")\n",
        "print(f\"X_val_idx: {X_val_idx.shape}, Y_val_idx: {Y_val_idx.shape}\")\n"
      ],
      "metadata": {
        "colab": {
          "base_uri": "https://localhost:8080/"
        },
        "id": "to9vJdy6y8iw",
        "outputId": "62bcceca-3e45-4182-e64f-5edbbf2d679d"
      },
      "execution_count": 14,
      "outputs": [
        {
          "output_type": "stream",
          "name": "stdout",
          "text": [
            "X_train_idx: (3896, 100), Y_train_idx: (3896,)\n",
            "X_val_idx: (432, 100), Y_val_idx: (432,)\n"
          ]
        }
      ]
    },
    {
      "cell_type": "code",
      "source": [
        "max_context_size=100\n",
        "p_val = 0.01  #lo reducí porque  al entrenar  daba error  relacionado a estos datos\n",
        "num_val = int(np.ceil(len(tokenized_text)*p_val/max_context_size))"
      ],
      "metadata": {
        "id": "mh2K3sg3qvJn"
      },
      "execution_count": 15,
      "outputs": []
    },
    {
      "cell_type": "code",
      "source": [
        "# separamos la porción de texto utilizada en entrenamiento de la de validación.\n",
        "train_text = tokenized_text[:-num_val*max_context_size]\n",
        "val_text = tokenized_text[-num_val*max_context_size:]"
      ],
      "metadata": {
        "id": "8d_bYb_WqxOm"
      },
      "execution_count": 16,
      "outputs": []
    },
    {
      "cell_type": "code",
      "source": [
        "#Esta línea genera las secuencias de validación de manera no solapada (con un step igual al tamaño de la secuencia). Esto es común para validación, ya que da una medida más \"limpia\" del rendimiento del modelo.\n",
        "#tokenized_sentences_val = [val_text[init*max_context_size:init*(max_context_size+1)] for init in range(num_val)]\n",
        "tokenized_sentences_val = [\n",
        "    val_text[init*max_context_size : (init + 1) * max_context_size]\n",
        "    for init in range(num_val)\n",
        "]"
      ],
      "metadata": {
        "id": "ta6P-Jl_qzbf"
      },
      "execution_count": 17,
      "outputs": []
    },
    {
      "cell_type": "code",
      "source": [
        "STEP = 100\n",
        "# El conjunto de entrenamiento en formato One-Hot Encoding (X_train_one_hot) resultó ser demasiado grande para ser cargado en la memoria RAM del entorno\n",
        "# (problema de out-of-memory - OOM), dada la gran dimensionalidad [N_secuencias, 99, vocab_size].\n",
        "tokenized_sentences_train = [\n",
        "    train_text[init:init+max_context_size]\n",
        "    for init in range(0, len(train_text) - max_context_size + 1, STEP)\n",
        "]"
      ],
      "metadata": {
        "id": "Bf0EVUKVq70-"
      },
      "execution_count": 18,
      "outputs": []
    },
    {
      "cell_type": "markdown",
      "source": [
        "# Generación de Secuencias de Entrenamiento (X_train, Y_train) a partir de train_text"
      ],
      "metadata": {
        "id": "O0UJwH_0qLD7"
      }
    },
    {
      "cell_type": "markdown",
      "source": [
        "Este bloque genera el conjunto de entrenamiento para tu modelo carácter a carácter. Recorre train_text en ventanas de max_context_size caracteres (por ejemplo, 100), y para cada ventana:\n",
        "\n",
        "X_train[i] es la secuencia de entrada (los 100 caracteres).\n",
        "\n",
        "Y_train[i] es el carácter que sigue justo después.\n",
        "\n",
        "Así el modelo aprende a predecir el próximo carácter dado un contexto fijo. Luego convertís esas listas a arrays NumPy para entrenar el modelo"
      ],
      "metadata": {
        "id": "oVL5uR9FqDDE"
      }
    },
    {
      "cell_type": "code",
      "source": [
        "# Definición de variables clave\n",
        "X_train_list = []\n",
        "Y_train_list = []\n",
        "\n",
        "# Recorrer el texto de entrenamiento para crear secuencias de entrada y salida (etiquetas)\n",
        "for i in range(0, len(train_text) - max_context_size, STEP):\n",
        "    # X (Entrada): Secuencia de MAX_CONTEXT_SIZE tokens\n",
        "    # Usar train_text para los datos de entrenamiento\n",
        "    seq_in = train_text[i : i + max_context_size]\n",
        "\n",
        "    # Y (Salida/Etiqueta): El token que SIGUE a esa secuencia\n",
        "    # Usar train_text para las etiquetas de entrenamiento\n",
        "    seq_out = train_text[i + max_context_size]\n",
        "\n",
        "    X_train_list.append(seq_in)\n",
        "    Y_train_list.append(seq_out) # <<< Un solo token como etiqueta\n",
        "\n",
        "# Convertir a arrays de NumPy\n",
        "X_train = np.array(X_train_list)\n",
        "Y_train = np.array(Y_train_list)\n",
        "\n",
        "# Repetir la lógica para X_val y Y_val (usando STEP = MAX_CONTEXT_SIZE para validación limpia)\n",
        "# ...\n",
        "# X_val = np.array(X_val_list)\n",
        "# Y_val = np.array(Y_val_list)\n",
        "# ...\n",
        "\n",
        "print(f\"X_train (Entrada): {X_train.shape}\")\n",
        "print(f\"Y_train (Etiqueta): {Y_train.shape}\")"
      ],
      "metadata": {
        "colab": {
          "base_uri": "https://localhost:8080/"
        },
        "id": "qu0t61NXp5gc",
        "outputId": "4b1dcf8a-cfad-4c20-8902-ccc3de752b66"
      },
      "execution_count": 19,
      "outputs": [
        {
          "output_type": "stream",
          "name": "stdout",
          "text": [
            "X_train (Entrada): (4285, 100)\n",
            "Y_train (Etiqueta): (4285,)\n"
          ]
        }
      ]
    },
    {
      "cell_type": "code",
      "source": [
        "#X-train tupla q indica número de secuencias de entrenamiento y longitud de la secuencia\n",
        "X_train.shape"
      ],
      "metadata": {
        "colab": {
          "base_uri": "https://localhost:8080/"
        },
        "id": "fJIvdeO5rBuI",
        "outputId": "ac1e68a4-8f74-40a7-e3e8-f8822fa9b3e6"
      },
      "execution_count": 20,
      "outputs": [
        {
          "output_type": "execute_result",
          "data": {
            "text/plain": [
              "(4285, 100)"
            ]
          },
          "metadata": {},
          "execution_count": 20
        }
      ]
    },
    {
      "cell_type": "code",
      "source": [
        "#los 10 primeros tokens de la primera secuencia de entrenamiento\n",
        "X_train[0,:10]"
      ],
      "metadata": {
        "colab": {
          "base_uri": "https://localhost:8080/"
        },
        "id": "NlnORnmrrDuu",
        "outputId": "99a9d9ef-0ec4-421b-e68b-513bd90895b6"
      },
      "execution_count": 21,
      "outputs": [
        {
          "output_type": "execute_result",
          "data": {
            "text/plain": [
              "array([ 4, 31, 38,  4, 30, 41, 39, 35, 40, 33])"
            ]
          },
          "metadata": {},
          "execution_count": 21
        }
      ]
    },
    {
      "cell_type": "code",
      "source": [
        "#los primeros 10 tokens de la secuencia objetivo correspondiente a la primera secuencia de entrenamiento de mi conjunto de datos , o sea corrida uno (desfase)\n",
        "Y_train[0]"
      ],
      "metadata": {
        "colab": {
          "base_uri": "https://localhost:8080/"
        },
        "id": "yjigYPt_rF32",
        "outputId": "6c8aecf6-875c-497f-fffe-58defc894acd"
      },
      "execution_count": 22,
      "outputs": [
        {
          "output_type": "execute_result",
          "data": {
            "text/plain": [
              "np.int64(27)"
            ]
          },
          "metadata": {},
          "execution_count": 22
        }
      ]
    },
    {
      "cell_type": "code",
      "source": [
        "# Ordenar vocabulario y añadir <PAD> al inicio\n",
        "#chars_vocab es una lista ordenada de todos los caracteres únicos de mi vocabulario\n",
        "chars_vocab = sorted(set(article_text))\n",
        "chars_vocab = ['<PAD>'] + chars_vocab  # ¡Índice 0 reservado para padding!no para un carácter real.\n",
        "#char2idx / idx2char: Crean los diccionarios de mapeo para que los índices comiencen correctamente: {'<PAD>': 0, ...}.\n",
        "char2idx = {ch: idx for idx, ch in enumerate(chars_vocab)}\n",
        "idx2char = {idx: ch for ch, idx in char2idx.items()}\n",
        "vocab_size = len(chars_vocab)\n",
        "print(f\"Tamaño del Vocabulario (incluyendo <PAD>): {vocab_size}\")"
      ],
      "metadata": {
        "colab": {
          "base_uri": "https://localhost:8080/"
        },
        "id": "Naco-z4HrIwm",
        "outputId": "3618a572-f9c7-4aeb-85a3-49d1a1915abc"
      },
      "execution_count": 23,
      "outputs": [
        {
          "output_type": "stream",
          "name": "stdout",
          "text": [
            "Tamaño del Vocabulario (incluyendo <PAD>): 79\n"
          ]
        }
      ]
    },
    {
      "cell_type": "markdown",
      "source": [
        "# Definir el modelo"
      ],
      "metadata": {
        "id": "6AqwaaOfrZuu"
      }
    },
    {
      "cell_type": "code",
      "source": [
        "from tensorflow.keras.models import Sequential\n",
        "from tensorflow.keras.layers import LSTM, Dense, Dropout, Embedding\n",
        "from tensorflow.keras.optimizers import RMSprop\n",
        "from tensorflow.keras.losses import SparseCategoricalCrossentropy # Importar la pérdida\n",
        "\n",
        "# --- Parámetros del Modelo ---\n",
        "EMBEDDING_DIM = 100\n",
        "RNN_UNITS = 200\n",
        "\n",
        "model_lstm = Sequential()\n",
        "\n",
        "# 1. Capa Embedding: (Entrada: X_train (índices enteros))\n",
        "# input_length DEBE ser max_context_size (la longitud de tu secuencia, ej. 99 o 100)\n",
        "model_lstm.add(Embedding(\n",
        "    input_dim=vocab_size,\n",
        "    output_dim=EMBEDDING_DIM,\n",
        "    input_length=max_context_size\n",
        "))\n",
        "\n",
        "# 2. Capa LSTM (return_sequences=False para Secuencia a Uno)\n",
        "model_lstm.add(LSTM(\n",
        "    RNN_UNITS,\n",
        "    dropout=0.1,\n",
        "    recurrent_dropout=0.1\n",
        "))\n",
        "\n",
        "# 3. Dropout\n",
        "model_lstm.add(Dropout(0.2))\n",
        "\n",
        "# 4. Capa Densa Final (Salida: vocab_size para predecir todos los tokens)\n",
        "model_lstm.add(Dense(vocab_size, activation='softmax'))\n",
        "\n",
        "# 5. Compilación\n",
        "model_lstm.compile(\n",
        "    # USAR SparseCategoricalCrossentropy porque Y_train es un array de enteros.\n",
        "    loss='sparse_categorical_crossentropy',\n",
        "    optimizer=RMSprop(learning_rate=0.005),\n",
        "    metrics=['accuracy']\n",
        ")\n",
        "model_lstm.build(input_shape=(None, max_context_size))\n",
        "model_lstm.summary()"
      ],
      "metadata": {
        "colab": {
          "base_uri": "https://localhost:8080/",
          "height": 292
        },
        "id": "frTPe5vwgNWK",
        "outputId": "310c5320-1d81-4607-86c4-a4490b5ba4e9"
      },
      "execution_count": 24,
      "outputs": [
        {
          "output_type": "stream",
          "name": "stderr",
          "text": [
            "/usr/local/lib/python3.12/dist-packages/keras/src/layers/core/embedding.py:97: UserWarning: Argument `input_length` is deprecated. Just remove it.\n",
            "  warnings.warn(\n"
          ]
        },
        {
          "output_type": "display_data",
          "data": {
            "text/plain": [
              "\u001b[1mModel: \"sequential\"\u001b[0m\n"
            ],
            "text/html": [
              "<pre style=\"white-space:pre;overflow-x:auto;line-height:normal;font-family:Menlo,'DejaVu Sans Mono',consolas,'Courier New',monospace\"><span style=\"font-weight: bold\">Model: \"sequential\"</span>\n",
              "</pre>\n"
            ]
          },
          "metadata": {}
        },
        {
          "output_type": "display_data",
          "data": {
            "text/plain": [
              "┏━━━━━━━━━━━━━━━━━━━━━━━━━━━━━━━━━┳━━━━━━━━━━━━━━━━━━━━━━━━┳━━━━━━━━━━━━━━━┓\n",
              "┃\u001b[1m \u001b[0m\u001b[1mLayer (type)                   \u001b[0m\u001b[1m \u001b[0m┃\u001b[1m \u001b[0m\u001b[1mOutput Shape          \u001b[0m\u001b[1m \u001b[0m┃\u001b[1m \u001b[0m\u001b[1m      Param #\u001b[0m\u001b[1m \u001b[0m┃\n",
              "┡━━━━━━━━━━━━━━━━━━━━━━━━━━━━━━━━━╇━━━━━━━━━━━━━━━━━━━━━━━━╇━━━━━━━━━━━━━━━┩\n",
              "│ embedding (\u001b[38;5;33mEmbedding\u001b[0m)           │ (\u001b[38;5;45mNone\u001b[0m, \u001b[38;5;34m100\u001b[0m, \u001b[38;5;34m100\u001b[0m)       │         \u001b[38;5;34m7,900\u001b[0m │\n",
              "├─────────────────────────────────┼────────────────────────┼───────────────┤\n",
              "│ lstm (\u001b[38;5;33mLSTM\u001b[0m)                     │ (\u001b[38;5;45mNone\u001b[0m, \u001b[38;5;34m200\u001b[0m)            │       \u001b[38;5;34m240,800\u001b[0m │\n",
              "├─────────────────────────────────┼────────────────────────┼───────────────┤\n",
              "│ dropout (\u001b[38;5;33mDropout\u001b[0m)               │ (\u001b[38;5;45mNone\u001b[0m, \u001b[38;5;34m200\u001b[0m)            │             \u001b[38;5;34m0\u001b[0m │\n",
              "├─────────────────────────────────┼────────────────────────┼───────────────┤\n",
              "│ dense (\u001b[38;5;33mDense\u001b[0m)                   │ (\u001b[38;5;45mNone\u001b[0m, \u001b[38;5;34m79\u001b[0m)             │        \u001b[38;5;34m15,879\u001b[0m │\n",
              "└─────────────────────────────────┴────────────────────────┴───────────────┘\n"
            ],
            "text/html": [
              "<pre style=\"white-space:pre;overflow-x:auto;line-height:normal;font-family:Menlo,'DejaVu Sans Mono',consolas,'Courier New',monospace\">┏━━━━━━━━━━━━━━━━━━━━━━━━━━━━━━━━━┳━━━━━━━━━━━━━━━━━━━━━━━━┳━━━━━━━━━━━━━━━┓\n",
              "┃<span style=\"font-weight: bold\"> Layer (type)                    </span>┃<span style=\"font-weight: bold\"> Output Shape           </span>┃<span style=\"font-weight: bold\">       Param # </span>┃\n",
              "┡━━━━━━━━━━━━━━━━━━━━━━━━━━━━━━━━━╇━━━━━━━━━━━━━━━━━━━━━━━━╇━━━━━━━━━━━━━━━┩\n",
              "│ embedding (<span style=\"color: #0087ff; text-decoration-color: #0087ff\">Embedding</span>)           │ (<span style=\"color: #00d7ff; text-decoration-color: #00d7ff\">None</span>, <span style=\"color: #00af00; text-decoration-color: #00af00\">100</span>, <span style=\"color: #00af00; text-decoration-color: #00af00\">100</span>)       │         <span style=\"color: #00af00; text-decoration-color: #00af00\">7,900</span> │\n",
              "├─────────────────────────────────┼────────────────────────┼───────────────┤\n",
              "│ lstm (<span style=\"color: #0087ff; text-decoration-color: #0087ff\">LSTM</span>)                     │ (<span style=\"color: #00d7ff; text-decoration-color: #00d7ff\">None</span>, <span style=\"color: #00af00; text-decoration-color: #00af00\">200</span>)            │       <span style=\"color: #00af00; text-decoration-color: #00af00\">240,800</span> │\n",
              "├─────────────────────────────────┼────────────────────────┼───────────────┤\n",
              "│ dropout (<span style=\"color: #0087ff; text-decoration-color: #0087ff\">Dropout</span>)               │ (<span style=\"color: #00d7ff; text-decoration-color: #00d7ff\">None</span>, <span style=\"color: #00af00; text-decoration-color: #00af00\">200</span>)            │             <span style=\"color: #00af00; text-decoration-color: #00af00\">0</span> │\n",
              "├─────────────────────────────────┼────────────────────────┼───────────────┤\n",
              "│ dense (<span style=\"color: #0087ff; text-decoration-color: #0087ff\">Dense</span>)                   │ (<span style=\"color: #00d7ff; text-decoration-color: #00d7ff\">None</span>, <span style=\"color: #00af00; text-decoration-color: #00af00\">79</span>)             │        <span style=\"color: #00af00; text-decoration-color: #00af00\">15,879</span> │\n",
              "└─────────────────────────────────┴────────────────────────┴───────────────┘\n",
              "</pre>\n"
            ]
          },
          "metadata": {}
        },
        {
          "output_type": "display_data",
          "data": {
            "text/plain": [
              "\u001b[1m Total params: \u001b[0m\u001b[38;5;34m264,579\u001b[0m (1.01 MB)\n"
            ],
            "text/html": [
              "<pre style=\"white-space:pre;overflow-x:auto;line-height:normal;font-family:Menlo,'DejaVu Sans Mono',consolas,'Courier New',monospace\"><span style=\"font-weight: bold\"> Total params: </span><span style=\"color: #00af00; text-decoration-color: #00af00\">264,579</span> (1.01 MB)\n",
              "</pre>\n"
            ]
          },
          "metadata": {}
        },
        {
          "output_type": "display_data",
          "data": {
            "text/plain": [
              "\u001b[1m Trainable params: \u001b[0m\u001b[38;5;34m264,579\u001b[0m (1.01 MB)\n"
            ],
            "text/html": [
              "<pre style=\"white-space:pre;overflow-x:auto;line-height:normal;font-family:Menlo,'DejaVu Sans Mono',consolas,'Courier New',monospace\"><span style=\"font-weight: bold\"> Trainable params: </span><span style=\"color: #00af00; text-decoration-color: #00af00\">264,579</span> (1.01 MB)\n",
              "</pre>\n"
            ]
          },
          "metadata": {}
        },
        {
          "output_type": "display_data",
          "data": {
            "text/plain": [
              "\u001b[1m Non-trainable params: \u001b[0m\u001b[38;5;34m0\u001b[0m (0.00 B)\n"
            ],
            "text/html": [
              "<pre style=\"white-space:pre;overflow-x:auto;line-height:normal;font-family:Menlo,'DejaVu Sans Mono',consolas,'Courier New',monospace\"><span style=\"font-weight: bold\"> Non-trainable params: </span><span style=\"color: #00af00; text-decoration-color: #00af00\">0</span> (0.00 B)\n",
              "</pre>\n"
            ]
          },
          "metadata": {}
        }
      ]
    },
    {
      "cell_type": "markdown",
      "source": [
        "![image.png](data:image/png;base64,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)"
      ],
      "metadata": {
        "id": "uIng1ZslauhO"
      }
    },
    {
      "cell_type": "markdown",
      "source": [
        " **Resumen del modelo LSTM final**\n",
        "\n",
        "El modelo consta de:\n",
        "- Una capa `Embedding` con vocabulario de 79 caracteres y dimensión de 100.\n",
        "- Una capa `LSTM` con 200 unidades.\n",
        "- Una capa `Dropout` para regularización.\n",
        "- Una capa `Dense` de salida con 79 unidades (una por cada carácter del vocabulario).\n",
        "\n",
        "Total de parámetros entrenables: **264,579**  \n",
        "Modelo construido y listo para entrenamiento y generación.\n"
      ],
      "metadata": {
        "id": "ByaFAPTDa7T-"
      }
    },
    {
      "cell_type": "markdown",
      "source": [
        "# Definir modelo LSTM"
      ],
      "metadata": {
        "id": "z-GZqHKJxr11"
      }
    },
    {
      "cell_type": "markdown",
      "source": [
        "# Callback Personalizado: Cálculo de Perplejidad (PPL) y Control de Entrenamiento\n",
        "Callback esencial para:\n",
        "\n",
        "    1. Calcular la Perplejidad (PPL) en datos de validación al final de cada época.\n",
        "\n",
        "    2. Guardar el modelo en 'best_model_lstm.keras' si la PPL mejora.\n",
        "    \n",
        "    3. Implementar Early Stopping si la PPL no mejora después de `patience` épocas"
      ],
      "metadata": {
        "id": "N8r9FpDgr3I7"
      }
    },
    {
      "cell_type": "code",
      "source": [
        "import keras\n",
        "from tensorflow.keras.utils import pad_sequences\n",
        "\n",
        "class PplCallback(keras.callbacks.Callback):\n",
        "    def __init__(self, val_data, history_ppl, patience=5):\n",
        "        global vocab_size, max_context_size\n",
        "\n",
        "        self.val_data = val_data\n",
        "        self.history_ppl = history_ppl\n",
        "        self.target = []\n",
        "        self.padded = []\n",
        "        self.min_score = np.inf\n",
        "        self.patience_counter = 0\n",
        "        self.patience = patience\n",
        "\n",
        "        count = 0\n",
        "        self.info = []\n",
        "\n",
        "        # --- Pre-procesamiento de Datos de Validación  ---\n",
        "        # Este proceso crea secuencias de validación y sus etiquetas (self.target)\n",
        "        for seq in self.val_data:\n",
        "            len_seq = len(seq)\n",
        "            if len_seq > 1:\n",
        "                subseq = [seq[:i] for i in range(1, len_seq)]\n",
        "                self.target.extend([seq[i] for i in range(1, len_seq)])\n",
        "\n",
        "                if subseq:\n",
        "                    self.padded.append(pad_sequences(subseq, maxlen=max_context_size, padding='pre'))\n",
        "                    self.info.append((count, count + len(subseq)))\n",
        "                    count += len(subseq)\n",
        "\n",
        "        if self.padded:\n",
        "            self.padded = np.vstack(self.padded)\n",
        "        else:\n",
        "            self.padded = np.array([])\n",
        "\n",
        "        #el target también es un array de numpy\n",
        "        self.target = np.array(self.target)\n",
        "\n",
        "\n",
        "    def on_epoch_end(self, epoch, logs=None):\n",
        "        global vocab_size, history_ppl\n",
        "\n",
        "        if self.padded.size == 0:\n",
        "            print(\"\\n [WARNING] Validation data is empty. Skipping Perplexity check.\")\n",
        "            return\n",
        "\n",
        "        scores = []\n",
        "\n",
        "        # 1. PREDICCIÓN (SIN OHE)\n",
        "        # Se pasa self.padded (array de índices enteros) directamente.\n",
        "        # Esto es compatible con la capa Embedding y ahorra memoria.\n",
        "        predictions = self.model.predict(self.padded, verbose=0) #\n",
        "\n",
        "        # 2. Calcular Perplejidad (PPL)\n",
        "        # Se necesita un índice para seleccionar la probabilidad correcta de la predicción.\n",
        "\n",
        "        # Obtenemos solo las probabilidades de los tokens correctos\n",
        "        # predictions tiene forma (N_muestras, vocab_size)\n",
        "\n",
        "        # Creamos una matriz de índices (filas de 0 a N) para usar en la indexación avanzada\n",
        "        idx_rows = np.arange(predictions.shape[0])\n",
        "\n",
        "        # Indexación avanzada: selecciona la probabilidad en [fila, columna] donde columna es el target\n",
        "        probs = predictions[idx_rows, self.target] #\n",
        "\n",
        "        # Clamp, cálculo de PPL y promediado por secuencia (usando self.info para agrupar)\n",
        "\n",
        "        current_idx = 0\n",
        "        for start_info, end_info in self.info:\n",
        "\n",
        "            # Ajustamos el slicing para trabajar con la matriz de probabilidades completa\n",
        "            # es más limpio calcular la PPL sobre el conjunto completo de validación.\n",
        "\n",
        "            # La lógica del callback original era compleja y puede ser simplificada, pero la mantendremos si es un requisito:\n",
        "\n",
        "            # --- Lógica Original: Agrupando por Secuencia ---\n",
        "            if (end_info - start_info) > 0:\n",
        "                # Slicing de las probabilidades correspondientes a esta secuencia\n",
        "                seq_probs = probs[start_info:end_info]\n",
        "\n",
        "                # Clamp: Asegura que no haya log(0)\n",
        "                seq_probs = np.clip(seq_probs, a_min=1e-10, a_max=None)\n",
        "\n",
        "                # Cálculo de PPL: exponenciación del log-likelihood promedio\n",
        "                ppl = np.exp(-np.sum(np.log(seq_probs)) / (end_info - start_info))\n",
        "                scores.append(ppl)\n",
        "\n",
        "        # 4. Promediar e imprimir PPL\n",
        "        if scores:\n",
        "            current_score = np.mean(scores)\n",
        "            history_ppl.append(current_score)\n",
        "            print(f'\\n 📜 mean perplexity: {current_score:.4f} 📜 \\n')\n",
        "        else:\n",
        "            print(\"\\n [WARNING] No scores calculated for PPL.\")\n",
        "            return\n",
        "\n",
        "        # 5. Early Stopping y Guardado del Modelo (Lógica de control correcta)\n",
        "        if current_score < self.min_score:\n",
        "            self.min_score = current_score\n",
        "            self.model.save(\"best_model_lstm.keras\")\n",
        "            print(\"💾 Saved new best_model_lstm.keras! (Lowest PPL)\")\n",
        "            self.patience_counter = 0\n",
        "        else:\n",
        "            self.patience_counter += 1\n",
        "            if self.patience_counter == self.patience:\n",
        "                print(f\"🛑 Stopping training... PPL did not improve for {self.patience} epochs.\")\n",
        "                self.model.stop_training = True"
      ],
      "metadata": {
        "id": "SGYC7o9zgo7r"
      },
      "execution_count": 25,
      "outputs": []
    },
    {
      "cell_type": "markdown",
      "source": [
        "# Entrenamiento del Modelo LSTM con Cálculo de Perplejidad y Guardado del Mejor Modelo\n",
        "Entrenamiento x_train_idx y_train_idx"
      ],
      "metadata": {
        "id": "EKQtWJHuthV4"
      }
    },
    {
      "cell_type": "code",
      "source": [
        "# Inicializar historial de perplejidad\n",
        "history_ppl = []\n",
        "\n",
        "print(\"\\n--- INICIANDO ENTRENAMIENTO LSTM ---\")\n",
        "\n",
        "# Entrenamiento del modelo\n",
        "hist_lstm = model_lstm.fit(\n",
        "    X_train_idx,                # Secuencias de entrada (índices enteros)\n",
        "    Y_train_idx,                # Etiquetas (índices enteros)\n",
        "    epochs=20,\n",
        "    batch_size=256,\n",
        "    callbacks=[PplCallback(tokenized_sentences_val, history_ppl)]\n",
        ")\n",
        "\n",
        "print(\"\\n--- ENTRENAMIENTO FINALIZADO ---\")\n",
        "print(\"📁 Modelo guardado como 'best_model_lstm.keras' si la PPL mejoró.\")\n"
      ],
      "metadata": {
        "colab": {
          "base_uri": "https://localhost:8080/"
        },
        "id": "rU0UcV2FtmV4",
        "outputId": "8180fd4b-3f2f-44fb-b848-b153e265b370"
      },
      "execution_count": 26,
      "outputs": [
        {
          "output_type": "stream",
          "name": "stdout",
          "text": [
            "\n",
            "--- INICIANDO ENTRENAMIENTO LSTM ---\n",
            "Epoch 1/20\n",
            "\u001b[1m16/16\u001b[0m \u001b[32m━━━━━━━━━━━━━━━━━━━━\u001b[0m\u001b[37m\u001b[0m \u001b[1m0s\u001b[0m 2s/step - accuracy: 0.1054 - loss: 3.6875\n",
            " 📜 mean perplexity: 24.9807 📜 \n",
            "\n",
            "💾 Saved new best_model_lstm.keras! (Lowest PPL)\n",
            "\u001b[1m16/16\u001b[0m \u001b[32m━━━━━━━━━━━━━━━━━━━━\u001b[0m\u001b[37m\u001b[0m \u001b[1m41s\u001b[0m 2s/step - accuracy: 0.1067 - loss: 3.6691\n",
            "Epoch 2/20\n",
            "\u001b[1m16/16\u001b[0m \u001b[32m━━━━━━━━━━━━━━━━━━━━\u001b[0m\u001b[37m\u001b[0m \u001b[1m0s\u001b[0m 2s/step - accuracy: 0.1636 - loss: 3.0069\n",
            " 📜 mean perplexity: 19.9973 📜 \n",
            "\n",
            "💾 Saved new best_model_lstm.keras! (Lowest PPL)\n",
            "\u001b[1m16/16\u001b[0m \u001b[32m━━━━━━━━━━━━━━━━━━━━\u001b[0m\u001b[37m\u001b[0m \u001b[1m40s\u001b[0m 2s/step - accuracy: 0.1648 - loss: 3.0047\n",
            "Epoch 3/20\n",
            "\u001b[1m16/16\u001b[0m \u001b[32m━━━━━━━━━━━━━━━━━━━━\u001b[0m\u001b[37m\u001b[0m \u001b[1m0s\u001b[0m 2s/step - accuracy: 0.2092 - loss: 2.7756\n",
            " 📜 mean perplexity: 15.3391 📜 \n",
            "\n",
            "💾 Saved new best_model_lstm.keras! (Lowest PPL)\n",
            "\u001b[1m16/16\u001b[0m \u001b[32m━━━━━━━━━━━━━━━━━━━━\u001b[0m\u001b[37m\u001b[0m \u001b[1m36s\u001b[0m 2s/step - accuracy: 0.2095 - loss: 2.7734\n",
            "Epoch 4/20\n",
            "\u001b[1m16/16\u001b[0m \u001b[32m━━━━━━━━━━━━━━━━━━━━\u001b[0m\u001b[37m\u001b[0m \u001b[1m0s\u001b[0m 2s/step - accuracy: 0.2362 - loss: 2.6134\n",
            " 📜 mean perplexity: 14.5851 📜 \n",
            "\n",
            "💾 Saved new best_model_lstm.keras! (Lowest PPL)\n",
            "\u001b[1m16/16\u001b[0m \u001b[32m━━━━━━━━━━━━━━━━━━━━\u001b[0m\u001b[37m\u001b[0m \u001b[1m50s\u001b[0m 3s/step - accuracy: 0.2359 - loss: 2.6120\n",
            "Epoch 5/20\n",
            "\u001b[1m16/16\u001b[0m \u001b[32m━━━━━━━━━━━━━━━━━━━━\u001b[0m\u001b[37m\u001b[0m \u001b[1m0s\u001b[0m 1s/step - accuracy: 0.2552 - loss: 2.5143\n",
            " 📜 mean perplexity: 13.7700 📜 \n",
            "\n",
            "💾 Saved new best_model_lstm.keras! (Lowest PPL)\n",
            "\u001b[1m16/16\u001b[0m \u001b[32m━━━━━━━━━━━━━━━━━━━━\u001b[0m\u001b[37m\u001b[0m \u001b[1m45s\u001b[0m 3s/step - accuracy: 0.2556 - loss: 2.5132\n",
            "Epoch 6/20\n",
            "\u001b[1m16/16\u001b[0m \u001b[32m━━━━━━━━━━━━━━━━━━━━\u001b[0m\u001b[37m\u001b[0m \u001b[1m0s\u001b[0m 2s/step - accuracy: 0.2665 - loss: 2.4545\n",
            " 📜 mean perplexity: 13.4353 📜 \n",
            "\n",
            "💾 Saved new best_model_lstm.keras! (Lowest PPL)\n",
            "\u001b[1m16/16\u001b[0m \u001b[32m━━━━━━━━━━━━━━━━━━━━\u001b[0m\u001b[37m\u001b[0m \u001b[1m37s\u001b[0m 2s/step - accuracy: 0.2665 - loss: 2.4538\n",
            "Epoch 7/20\n",
            "\u001b[1m16/16\u001b[0m \u001b[32m━━━━━━━━━━━━━━━━━━━━\u001b[0m\u001b[37m\u001b[0m \u001b[1m0s\u001b[0m 2s/step - accuracy: 0.2851 - loss: 2.3977\n",
            " 📜 mean perplexity: 13.1035 📜 \n",
            "\n",
            "💾 Saved new best_model_lstm.keras! (Lowest PPL)\n",
            "\u001b[1m16/16\u001b[0m \u001b[32m━━━━━━━━━━━━━━━━━━━━\u001b[0m\u001b[37m\u001b[0m \u001b[1m49s\u001b[0m 3s/step - accuracy: 0.2852 - loss: 2.3971\n",
            "Epoch 8/20\n",
            "\u001b[1m16/16\u001b[0m \u001b[32m━━━━━━━━━━━━━━━━━━━━\u001b[0m\u001b[37m\u001b[0m \u001b[1m0s\u001b[0m 1s/step - accuracy: 0.2940 - loss: 2.3446\n",
            " 📜 mean perplexity: 12.3579 📜 \n",
            "\n",
            "💾 Saved new best_model_lstm.keras! (Lowest PPL)\n",
            "\u001b[1m16/16\u001b[0m \u001b[32m━━━━━━━━━━━━━━━━━━━━\u001b[0m\u001b[37m\u001b[0m \u001b[1m34s\u001b[0m 2s/step - accuracy: 0.2945 - loss: 2.3437\n",
            "Epoch 9/20\n",
            "\u001b[1m16/16\u001b[0m \u001b[32m━━━━━━━━━━━━━━━━━━━━\u001b[0m\u001b[37m\u001b[0m \u001b[1m0s\u001b[0m 2s/step - accuracy: 0.3092 - loss: 2.2691\n",
            " 📜 mean perplexity: 12.4416 📜 \n",
            "\n",
            "\u001b[1m16/16\u001b[0m \u001b[32m━━━━━━━━━━━━━━━━━━━━\u001b[0m\u001b[37m\u001b[0m \u001b[1m43s\u001b[0m 2s/step - accuracy: 0.3090 - loss: 2.2701\n",
            "Epoch 10/20\n",
            "\u001b[1m16/16\u001b[0m \u001b[32m━━━━━━━━━━━━━━━━━━━━\u001b[0m\u001b[37m\u001b[0m \u001b[1m0s\u001b[0m 2s/step - accuracy: 0.3196 - loss: 2.2242\n",
            " 📜 mean perplexity: 12.4239 📜 \n",
            "\n",
            "\u001b[1m16/16\u001b[0m \u001b[32m━━━━━━━━━━━━━━━━━━━━\u001b[0m\u001b[37m\u001b[0m \u001b[1m43s\u001b[0m 2s/step - accuracy: 0.3190 - loss: 2.2256\n",
            "Epoch 11/20\n",
            "\u001b[1m16/16\u001b[0m \u001b[32m━━━━━━━━━━━━━━━━━━━━\u001b[0m\u001b[37m\u001b[0m \u001b[1m0s\u001b[0m 2s/step - accuracy: 0.3270 - loss: 2.2326\n",
            " 📜 mean perplexity: 11.8201 📜 \n",
            "\n",
            "💾 Saved new best_model_lstm.keras! (Lowest PPL)\n",
            "\u001b[1m16/16\u001b[0m \u001b[32m━━━━━━━━━━━━━━━━━━━━\u001b[0m\u001b[37m\u001b[0m \u001b[1m36s\u001b[0m 2s/step - accuracy: 0.3271 - loss: 2.2313\n",
            "Epoch 12/20\n",
            "\u001b[1m16/16\u001b[0m \u001b[32m━━━━━━━━━━━━━━━━━━━━\u001b[0m\u001b[37m\u001b[0m \u001b[1m0s\u001b[0m 1s/step - accuracy: 0.3428 - loss: 2.1566\n",
            " 📜 mean perplexity: 12.4650 📜 \n",
            "\n",
            "\u001b[1m16/16\u001b[0m \u001b[32m━━━━━━━━━━━━━━━━━━━━\u001b[0m\u001b[37m\u001b[0m \u001b[1m34s\u001b[0m 2s/step - accuracy: 0.3426 - loss: 2.1572\n",
            "Epoch 13/20\n",
            "\u001b[1m16/16\u001b[0m \u001b[32m━━━━━━━━━━━━━━━━━━━━\u001b[0m\u001b[37m\u001b[0m \u001b[1m0s\u001b[0m 2s/step - accuracy: 0.3348 - loss: 2.1518\n",
            " 📜 mean perplexity: 11.7803 📜 \n",
            "\n",
            "💾 Saved new best_model_lstm.keras! (Lowest PPL)\n",
            "\u001b[1m16/16\u001b[0m \u001b[32m━━━━━━━━━━━━━━━━━━━━\u001b[0m\u001b[37m\u001b[0m \u001b[1m45s\u001b[0m 3s/step - accuracy: 0.3356 - loss: 2.1510\n",
            "Epoch 14/20\n",
            "\u001b[1m16/16\u001b[0m \u001b[32m━━━━━━━━━━━━━━━━━━━━\u001b[0m\u001b[37m\u001b[0m \u001b[1m0s\u001b[0m 2s/step - accuracy: 0.3729 - loss: 2.0883\n",
            " 📜 mean perplexity: 11.9073 📜 \n",
            "\n",
            "\u001b[1m16/16\u001b[0m \u001b[32m━━━━━━━━━━━━━━━━━━━━\u001b[0m\u001b[37m\u001b[0m \u001b[1m34s\u001b[0m 2s/step - accuracy: 0.3725 - loss: 2.0882\n",
            "Epoch 15/20\n",
            "\u001b[1m16/16\u001b[0m \u001b[32m━━━━━━━━━━━━━━━━━━━━\u001b[0m\u001b[37m\u001b[0m \u001b[1m0s\u001b[0m 1s/step - accuracy: 0.3554 - loss: 2.0525\n",
            " 📜 mean perplexity: 11.8028 📜 \n",
            "\n",
            "\u001b[1m16/16\u001b[0m \u001b[32m━━━━━━━━━━━━━━━━━━━━\u001b[0m\u001b[37m\u001b[0m \u001b[1m45s\u001b[0m 3s/step - accuracy: 0.3558 - loss: 2.0527\n",
            "Epoch 16/20\n",
            "\u001b[1m16/16\u001b[0m \u001b[32m━━━━━━━━━━━━━━━━━━━━\u001b[0m\u001b[37m\u001b[0m \u001b[1m0s\u001b[0m 2s/step - accuracy: 0.3667 - loss: 2.0304\n",
            " 📜 mean perplexity: 11.6561 📜 \n",
            "\n",
            "💾 Saved new best_model_lstm.keras! (Lowest PPL)\n",
            "\u001b[1m16/16\u001b[0m \u001b[32m━━━━━━━━━━━━━━━━━━━━\u001b[0m\u001b[37m\u001b[0m \u001b[1m39s\u001b[0m 3s/step - accuracy: 0.3675 - loss: 2.0290\n",
            "Epoch 17/20\n",
            "\u001b[1m16/16\u001b[0m \u001b[32m━━━━━━━━━━━━━━━━━━━━\u001b[0m\u001b[37m\u001b[0m \u001b[1m0s\u001b[0m 2s/step - accuracy: 0.3833 - loss: 1.9720\n",
            " 📜 mean perplexity: 11.8719 📜 \n",
            "\n",
            "\u001b[1m16/16\u001b[0m \u001b[32m━━━━━━━━━━━━━━━━━━━━\u001b[0m\u001b[37m\u001b[0m \u001b[1m37s\u001b[0m 2s/step - accuracy: 0.3835 - loss: 1.9722\n",
            "Epoch 18/20\n",
            "\u001b[1m16/16\u001b[0m \u001b[32m━━━━━━━━━━━━━━━━━━━━\u001b[0m\u001b[37m\u001b[0m \u001b[1m0s\u001b[0m 2s/step - accuracy: 0.4007 - loss: 1.8968\n",
            " 📜 mean perplexity: 12.0297 📜 \n",
            "\n",
            "\u001b[1m16/16\u001b[0m \u001b[32m━━━━━━━━━━━━━━━━━━━━\u001b[0m\u001b[37m\u001b[0m \u001b[1m35s\u001b[0m 2s/step - accuracy: 0.4008 - loss: 1.8988\n",
            "Epoch 19/20\n",
            "\u001b[1m16/16\u001b[0m \u001b[32m━━━━━━━━━━━━━━━━━━━━\u001b[0m\u001b[37m\u001b[0m \u001b[1m0s\u001b[0m 2s/step - accuracy: 0.4151 - loss: 1.8816\n",
            " 📜 mean perplexity: 12.2925 📜 \n",
            "\n",
            "\u001b[1m16/16\u001b[0m \u001b[32m━━━━━━━━━━━━━━━━━━━━\u001b[0m\u001b[37m\u001b[0m \u001b[1m46s\u001b[0m 3s/step - accuracy: 0.4152 - loss: 1.8811\n",
            "Epoch 20/20\n",
            "\u001b[1m16/16\u001b[0m \u001b[32m━━━━━━━━━━━━━━━━━━━━\u001b[0m\u001b[37m\u001b[0m \u001b[1m0s\u001b[0m 2s/step - accuracy: 0.4293 - loss: 1.8663\n",
            " 📜 mean perplexity: 12.3959 📜 \n",
            "\n",
            "\u001b[1m16/16\u001b[0m \u001b[32m━━━━━━━━━━━━━━━━━━━━\u001b[0m\u001b[37m\u001b[0m \u001b[1m47s\u001b[0m 3s/step - accuracy: 0.4292 - loss: 1.8640\n",
            "\n",
            "--- ENTRENAMIENTO FINALIZADO ---\n",
            "📁 Modelo guardado como 'best_model_lstm.keras' si la PPL mejoró.\n"
          ]
        }
      ]
    },
    {
      "cell_type": "markdown",
      "source": [
        "GRÁFICOS DE PÉRDIDA EN ENTRENAMIENTO Y ´PERPLEJIDAD"
      ],
      "metadata": {
        "id": "QCKqqNob0PJw"
      }
    },
    {
      "cell_type": "code",
      "source": [
        "# Crear figura con dos subplots horizontales\n",
        "fig, axs = plt.subplots(1, 2, figsize=(16, 5))\n",
        "\n",
        "# 📉 Gráfico de pérdida\n",
        "axs[0].plot(hist_lstm.history['loss'], marker='o', color='darkorange')\n",
        "axs[0].set_title('📊 Evolución de la Pérdida en Entrenamiento')\n",
        "axs[0].set_xlabel('Época')\n",
        "axs[0].set_ylabel('Loss')\n",
        "axs[0].grid(True)\n",
        "\n",
        "# 📈 Gráfico de perplejidad\n",
        "axs[1].plot(history_ppl, marker='o', color='teal')\n",
        "axs[1].set_title('📉 Evolución de la Perplejidad en Validación')\n",
        "axs[1].set_xlabel('Época')\n",
        "axs[1].set_ylabel('Perplejidad')\n",
        "axs[1].grid(True)\n",
        "\n",
        "# Ajustar diseño y guardar\n",
        "plt.tight_layout()\n",
        "plt.savefig(\"grafico_loss_y_perplejidad_lstm.png\")\n",
        "plt.show()\n"
      ],
      "metadata": {
        "colab": {
          "base_uri": "https://localhost:8080/",
          "height": 650
        },
        "id": "No8bkW4dJvon",
        "outputId": "c7ba0b27-3dd1-45c1-b85a-a815b4df62bb"
      },
      "execution_count": 27,
      "outputs": [
        {
          "output_type": "stream",
          "name": "stderr",
          "text": [
            "/tmp/ipython-input-269666530.py:22: UserWarning: Glyph 128202 (\\N{BAR CHART}) missing from font(s) DejaVu Sans.\n",
            "  plt.tight_layout()\n",
            "/tmp/ipython-input-269666530.py:22: UserWarning: Glyph 128201 (\\N{CHART WITH DOWNWARDS TREND}) missing from font(s) DejaVu Sans.\n",
            "  plt.tight_layout()\n",
            "/tmp/ipython-input-269666530.py:23: UserWarning: Glyph 128202 (\\N{BAR CHART}) missing from font(s) DejaVu Sans.\n",
            "  plt.savefig(\"grafico_loss_y_perplejidad_lstm.png\")\n",
            "/tmp/ipython-input-269666530.py:23: UserWarning: Glyph 128201 (\\N{CHART WITH DOWNWARDS TREND}) missing from font(s) DejaVu Sans.\n",
            "  plt.savefig(\"grafico_loss_y_perplejidad_lstm.png\")\n",
            "/usr/local/lib/python3.12/dist-packages/IPython/core/pylabtools.py:151: UserWarning: Glyph 128202 (\\N{BAR CHART}) missing from font(s) DejaVu Sans.\n",
            "  fig.canvas.print_figure(bytes_io, **kw)\n",
            "/usr/local/lib/python3.12/dist-packages/IPython/core/pylabtools.py:151: UserWarning: Glyph 128201 (\\N{CHART WITH DOWNWARDS TREND}) missing from font(s) DejaVu Sans.\n",
            "  fig.canvas.print_figure(bytes_io, **kw)\n"
          ]
        },
        {
          "output_type": "display_data",
          "data": {
            "text/plain": [
              "<Figure size 1600x500 with 2 Axes>"
            ],
            "image/png": "[encoded data removed]"
          },
          "metadata": {}
        }
      ]
    },
    {
      "cell_type": "markdown",
      "source": [
        "# Configuración de Validación Reducida para Prevenir Timeouts en el Cálculo de Perplejidad"
      ],
      "metadata": {
        "id": "lIrIwG_UwMPv"
      }
    },
    {
      "cell_type": "code",
      "source": [
        "# Limitar la longitud de las secuencias de validación para evitar timeouts\n",
        "MAX_VAL_LEN = 5\n",
        "\n",
        "# Recortar y limitar las secuencias\n",
        "tokenized_sentences_val = [\n",
        "    seq[:MAX_VAL_LEN]\n",
        "    for seq in tokenized_sentences_val[:500]\n",
        "]\n",
        "\n",
        "print(f\"La validación usará {len(tokenized_sentences_val)} secuencias, con un máximo de {MAX_VAL_LEN} sub-secuencias cada una para el cálculo de PPL.\")\n"
      ],
      "metadata": {
        "colab": {
          "base_uri": "https://localhost:8080/"
        },
        "id": "EjawkMXVwYg2",
        "outputId": "16a05038-3f77-4fb6-c8f1-3a1fe2e08bca"
      },
      "execution_count": 28,
      "outputs": [
        {
          "output_type": "stream",
          "name": "stdout",
          "text": [
            "La validación usará 44 secuencias, con un máximo de 5 sub-secuencias cada una para el cálculo de PPL.\n"
          ]
        }
      ]
    },
    {
      "cell_type": "markdown",
      "source": [
        "ENTRENAMIENTO X_TRAIN, Y_TRAIN"
      ],
      "metadata": {
        "id": "Kg9elsmfv2J1"
      }
    },
    {
      "cell_type": "code",
      "source": [
        "# === Entrenamiento del modelo LSTM ===\n",
        "history_ppl = []\n",
        "\n",
        "print(\"\\n--- INICIANDO ENTRENAMIENTO LSTM ---\")\n",
        "hist_lstm = model_lstm.fit(\n",
        "    X_train,  # ✅ array de índices enteros\n",
        "    Y_train,  # ✅ array de índices enteros\n",
        "    epochs=20,\n",
        "    batch_size=256,\n",
        "    callbacks=[PplCallback(tokenized_sentences_val, history_ppl)]\n",
        ")\n",
        "print(\"\\n--- ENTRENAMIENTO FINALIZADO. Revisar 'best_model_lstm.keras' ---\")\n",
        "\n",
        "import matplotlib.pyplot as plt\n",
        "import numpy as np\n",
        "\n",
        "# === Identificar mejor época según PPL ===\n",
        "best_epoch = np.argmin(history_ppl)\n",
        "best_ppl = history_ppl[best_epoch]\n",
        "\n",
        "\n"
      ],
      "metadata": {
        "colab": {
          "base_uri": "https://localhost:8080/"
        },
        "id": "yIFK7kJtIq52",
        "outputId": "2cb121c6-8694-4b82-c7ed-3a87c0dd0a39"
      },
      "execution_count": 29,
      "outputs": [
        {
          "output_type": "stream",
          "name": "stdout",
          "text": [
            "La validación usará 44 secuencias, con un máximo de 5 sub-secuencias cada una para el cálculo de PPL.\n",
            "\n",
            "--- INICIANDO ENTRENAMIENTO LSTM ---\n",
            "Epoch 1/20\n",
            "\u001b[1m17/17\u001b[0m \u001b[32m━━━━━━━━━━━━━━━━━━━━\u001b[0m\u001b[37m\u001b[0m \u001b[1m0s\u001b[0m 2s/step - accuracy: 0.4427 - loss: 1.8072\n",
            " 📜 mean perplexity: 33.1909 📜 \n",
            "\n",
            "💾 Saved new best_model_lstm.keras! (Lowest PPL)\n",
            "\u001b[1m17/17\u001b[0m \u001b[32m━━━━━━━━━━━━━━━━━━━━\u001b[0m\u001b[37m\u001b[0m \u001b[1m31s\u001b[0m 2s/step - accuracy: 0.4426 - loss: 1.8081\n",
            "Epoch 2/20\n",
            "\u001b[1m17/17\u001b[0m \u001b[32m━━━━━━━━━━━━━━━━━━━━\u001b[0m\u001b[37m\u001b[0m \u001b[1m0s\u001b[0m 2s/step - accuracy: 0.4613 - loss: 1.7506\n",
            " 📜 mean perplexity: 38.9137 📜 \n",
            "\n",
            "\u001b[1m17/17\u001b[0m \u001b[32m━━━━━━━━━━━━━━━━━━━━\u001b[0m\u001b[37m\u001b[0m \u001b[1m27s\u001b[0m 2s/step - accuracy: 0.4609 - loss: 1.7518\n",
            "Epoch 3/20\n",
            "\u001b[1m17/17\u001b[0m \u001b[32m━━━━━━━━━━━━━━━━━━━━\u001b[0m\u001b[37m\u001b[0m \u001b[1m0s\u001b[0m 2s/step - accuracy: 0.4658 - loss: 1.7107\n",
            " 📜 mean perplexity: 48.3407 📜 \n",
            "\n",
            "\u001b[1m17/17\u001b[0m \u001b[32m━━━━━━━━━━━━━━━━━━━━\u001b[0m\u001b[37m\u001b[0m \u001b[1m26s\u001b[0m 2s/step - accuracy: 0.4660 - loss: 1.7105\n",
            "Epoch 4/20\n",
            "\u001b[1m17/17\u001b[0m \u001b[32m━━━━━━━━━━━━━━━━━━━━\u001b[0m\u001b[37m\u001b[0m \u001b[1m0s\u001b[0m 2s/step - accuracy: 0.4950 - loss: 1.6444\n",
            " 📜 mean perplexity: 37.2899 📜 \n",
            "\n",
            "\u001b[1m17/17\u001b[0m \u001b[32m━━━━━━━━━━━━━━━━━━━━\u001b[0m\u001b[37m\u001b[0m \u001b[1m41s\u001b[0m 2s/step - accuracy: 0.4947 - loss: 1.6446\n",
            "Epoch 5/20\n",
            "\u001b[1m17/17\u001b[0m \u001b[32m━━━━━━━━━━━━━━━━━━━━\u001b[0m\u001b[37m\u001b[0m \u001b[1m0s\u001b[0m 2s/step - accuracy: 0.5014 - loss: 1.5785\n",
            " 📜 mean perplexity: 51.5240 📜 \n",
            "\n",
            "\u001b[1m17/17\u001b[0m \u001b[32m━━━━━━━━━━━━━━━━━━━━\u001b[0m\u001b[37m\u001b[0m \u001b[1m41s\u001b[0m 2s/step - accuracy: 0.5014 - loss: 1.5796\n",
            "Epoch 6/20\n",
            "\u001b[1m17/17\u001b[0m \u001b[32m━━━━━━━━━━━━━━━━━━━━\u001b[0m\u001b[37m\u001b[0m \u001b[1m0s\u001b[0m 2s/step - accuracy: 0.5298 - loss: 1.5136\n",
            " 📜 mean perplexity: 53.6754 📜 \n",
            "\n",
            "🛑 Stopping training... PPL did not improve for 5 epochs.\n",
            "\u001b[1m17/17\u001b[0m \u001b[32m━━━━━━━━━━━━━━━━━━━━\u001b[0m\u001b[37m\u001b[0m \u001b[1m27s\u001b[0m 2s/step - accuracy: 0.5295 - loss: 1.5146\n",
            "\n",
            "--- ENTRENAMIENTO FINALIZADO. Revisar 'best_model_lstm.keras' ---\n"
          ]
        }
      ]
    },
    {
      "cell_type": "code",
      "source": [
        "# === Crear figura con dos subplots horizontales ===\n",
        "fig, axs = plt.subplots(1, 2, figsize=(16, 5))\n",
        "\n",
        "# 📉 Subplot 1: Pérdida\n",
        "axs[0].plot(hist_lstm.history['loss'], marker='o', color='purple')\n",
        "axs[0].set_title(\"Pérdida durante el entrenamiento\")\n",
        "axs[0].set_xlabel(\"Época\")\n",
        "axs[0].set_ylabel(\"Loss\")\n",
        "axs[0].grid(True)\n",
        "\n",
        "# 📈 Subplot 2: Perplejidad\n",
        "axs[1].plot(history_ppl, marker='o', color='blue', label='PPL por época')\n",
        "axs[1].scatter(best_epoch, best_ppl, color='red', zorder=5)\n",
        "axs[1].text(best_epoch, best_ppl + 0.5, '💾 Saved', color='red', ha='center', fontsize=10)\n",
        "axs[1].set_title(\"Evolución de la Perplejidad en Validación\")\n",
        "axs[1].set_xlabel(\"Época\")\n",
        "axs[1].set_ylabel(\"Perplejidad (PPL)\")\n",
        "axs[1].grid(True)\n",
        "axs[1].legend()\n",
        "\n",
        "# === Ajustar y guardar ===\n",
        "plt.tight_layout()\n",
        "plt.savefig(\"grafico_loss_y_perplejidad_lstm.png\")\n",
        "plt.show()\n"
      ],
      "metadata": {
        "colab": {
          "base_uri": "https://localhost:8080/",
          "height": 546
        },
        "id": "OWnQMaGZKDBH",
        "outputId": "e9125354-c2fe-4e7d-dbff-3fb343c48918"
      },
      "execution_count": 30,
      "outputs": [
        {
          "output_type": "stream",
          "name": "stderr",
          "text": [
            "/tmp/ipython-input-603325942.py:22: UserWarning: Glyph 128190 (\\N{FLOPPY DISK}) missing from font(s) DejaVu Sans.\n",
            "  plt.tight_layout()\n",
            "/tmp/ipython-input-603325942.py:23: UserWarning: Glyph 128190 (\\N{FLOPPY DISK}) missing from font(s) DejaVu Sans.\n",
            "  plt.savefig(\"grafico_loss_y_perplejidad_lstm.png\")\n",
            "/usr/local/lib/python3.12/dist-packages/IPython/core/pylabtools.py:151: UserWarning: Glyph 128190 (\\N{FLOPPY DISK}) missing from font(s) DejaVu Sans.\n",
            "  fig.canvas.print_figure(bytes_io, **kw)\n"
          ]
        },
        {
          "output_type": "display_data",
          "data": {
            "text/plain": [
              "<Figure size 1600x500 with 2 Axes>"
            ],
            "image/png": "[encoded data removed]"
          },
          "metadata": {}
        }
      ]
    },
    {
      "cell_type": "markdown",
      "source": [
        "# **Cargado del modelo en best**"
      ],
      "metadata": {
        "id": "XFkBXfp4w3me"
      }
    },
    {
      "cell_type": "markdown",
      "source": [
        "Carga del Mejor Modelo **LSTM Guardado  como (best_model_lstm.keras)**"
      ],
      "metadata": {
        "id": "9ZJ8dkHSwx8r"
      }
    },
    {
      "cell_type": "code",
      "source": [
        "from tensorflow.keras.models import load_model\n",
        "\n",
        "# Cargar el modelo guardado por el callback PplCallback\n",
        "try:\n",
        "    model_best_lstm = load_model('best_model_lstm.keras')\n",
        "    print(\"✅ Modelo LSTM ('best_model_lstm.keras') cargado exitosamente. Listo para la generación de texto.\")\n",
        "except Exception as e:\n",
        "    print(f\"❌ ERROR: No se pudo cargar el modelo LSTM. Verifica el nombre del archivo guardado. {e}\")\n"
      ],
      "metadata": {
        "colab": {
          "base_uri": "https://localhost:8080/"
        },
        "id": "Kh4GjexGxMTU",
        "outputId": "9b0ea344-4ce9-4906-f58c-4dda525fda14"
      },
      "execution_count": 31,
      "outputs": [
        {
          "output_type": "stream",
          "name": "stdout",
          "text": [
            "✅ Modelo LSTM ('best_model_lstm.keras') cargado exitosamente. Listo para la generación de texto.\n"
          ]
        }
      ]
    },
    {
      "cell_type": "markdown",
      "source": [
        "# Guardar history_ppl como .npy"
      ],
      "metadata": {
        "id": "FoCpp1SbPJcC"
      }
    },
    {
      "cell_type": "code",
      "source": [
        "# Guardar y cargar history_ppl\n",
        "np.save(\"history_ppl.npy\", np.array(history_ppl))\n",
        "history_ppl = np.load(\"history_ppl.npy\").tolist()\n",
        "\n",
        "# Identificar mejor época\n",
        "best_epoch = np.argmin(history_ppl)\n",
        "best_ppl = history_ppl[best_epoch]\n",
        "\n",
        "\n",
        "# Verificar archivo guardado\n",
        "!ls -lh grafico_perplejidad_lstm.png\n"
      ],
      "metadata": {
        "colab": {
          "base_uri": "https://localhost:8080/"
        },
        "id": "mi7I5rg_cAor",
        "outputId": "20c05d9a-cd4b-4313-812e-2804dbf56ff6"
      },
      "execution_count": 39,
      "outputs": [
        {
          "output_type": "stream",
          "name": "stdout",
          "text": [
            "ls: cannot access 'grafico_perplejidad_lstm.png': No such file or directory\n"
          ]
        }
      ]
    },
    {
      "cell_type": "markdown",
      "source": [
        "# Preparación de Validación Limpia del Modelo LSTM para Evaluación"
      ],
      "metadata": {
        "id": "s9ocMLh3zbNh"
      }
    },
    {
      "cell_type": "markdown",
      "source": [
        "Primero: recortás las secuencias de validación.\n",
        "\n",
        "\n",
        "Segundo: entrenás el modelo con fit(...).\n",
        "\n",
        "\n",
        "Tercero: cargás el modelo guardado.\n",
        "\n",
        "\n",
        "Cuarto:preparar X_val, Y_val y evaluar."
      ],
      "metadata": {
        "id": "xJqUwbWbzioB"
      }
    },
    {
      "cell_type": "code",
      "source": [
        "tokenized_sentences_val_eval = [\n",
        "    val_text[i:i+max_context_size+1]\n",
        "    for i in range(0, len(val_text) - max_context_size)\n",
        "]\n"
      ],
      "metadata": {
        "id": "B_CAgJMhWP_G"
      },
      "execution_count": 75,
      "outputs": []
    },
    {
      "cell_type": "code",
      "source": [
        "# Preparar datos de validación para evaluación con .evaluate()\n",
        "X_val_list = []\n",
        "Y_val_list = []\n",
        "\n",
        "for seq in tokenized_sentences_val_eval:\n",
        "\n",
        "\n",
        "    if len(seq) > max_context_size:\n",
        "        for i in range(max_context_size, len(seq)):\n",
        "            context = seq[i - max_context_size:i]\n",
        "            target = seq[i]\n",
        "            X_val_list.append(context)\n",
        "            Y_val_list.append(target)\n",
        "\n",
        "# Rellenar los contextos para que tengan la longitud esperada\n",
        "X_val_padded = pad_sequences(X_val_list, maxlen=max_context_size, padding='pre')\n",
        "X_val = np.array(X_val_padded)\n",
        "Y_val = np.array(Y_val_list)\n",
        "\n",
        "print(f\"🔍 Validación lista: {X_val.shape[0]} muestras con contexto de {max_context_size} tokens.\")\n",
        "\n",
        "# Evaluación del modelo\n",
        "if X_val.shape[0] > 0:\n",
        "    loss_val = model_best_lstm.evaluate(X_val, Y_val)\n",
        "    print(f\"📉 Loss en validación limpia: {loss_val[0]:.4f}\")\n",
        "    print(f\"✅ Accuracy en validación limpia: {loss_val[1]:.4f}\")\n",
        "\n",
        "\n",
        "\n",
        "else:\n",
        "    print(\"⚠️ No hay suficientes muestras en X_val para evaluar el modelo.\")\n"
      ],
      "metadata": {
        "colab": {
          "base_uri": "https://localhost:8080/"
        },
        "id": "L8OpRf38Li4F",
        "outputId": "54c7b0d4-833e-4c6d-a184-a58fe895c328"
      },
      "execution_count": 77,
      "outputs": [
        {
          "output_type": "stream",
          "name": "stdout",
          "text": [
            "🔍 Validación lista: 4300 muestras con contexto de 100 tokens.\n",
            "\u001b[1m135/135\u001b[0m \u001b[32m━━━━━━━━━━━━━━━━━━━━\u001b[0m\u001b[37m\u001b[0m \u001b[1m15s\u001b[0m 109ms/step - accuracy: 0.3650 - loss: 2.2096\n",
            "📉 Loss en validación limpia: 2.3129\n",
            "✅ Accuracy en validación limpia: 0.3565\n"
          ]
        }
      ]
    },
    {
      "cell_type": "markdown",
      "source": [
        "# Callback personalizado"
      ],
      "metadata": {
        "id": "dfdcJIpc6WP5"
      }
    },
    {
      "cell_type": "markdown",
      "source": [
        "✅ Callback personalizado (PplCallback) que calcula la perplejidad al final de cada época.\n",
        "\n",
        "💾 Guardado automático del mejor modelo si la PPL mejora.\n",
        "\n",
        "🛑 Early stopping si no mejora durante patience épocas.\n",
        "\n",
        "📈 Historial de PPL (history_ppl) que podés graficar para mostrar cómo evolucionó el modelo."
      ],
      "metadata": {
        "id": "v73vJaLJYlxT"
      }
    },
    {
      "cell_type": "markdown",
      "source": [
        "------------------------------------------------------------------------------------------------------------------------"
      ],
      "metadata": {
        "id": "O-7DQefJJY-d"
      }
    },
    {
      "cell_type": "code",
      "source": [
        "import keras\n",
        "from tensorflow.keras.utils import pad_sequences\n",
        "import numpy as np\n",
        "\n",
        "class PplCallback(keras.callbacks.Callback):\n",
        "\n",
        "    '''\n",
        "    Callback esencial para:\n",
        "    1. Calcular la Perplejidad (PPL) en datos de validación al final de cada época.\n",
        "    2. Guardar el modelo en 'best_model_lstm.keras' si la PPL mejora.\n",
        "    3. Implementar Early Stopping si la PPL no mejora después de `patience` épocas.\n",
        "    '''\n",
        "\n",
        "    def __init__(self, val_data, history_ppl, patience=5):\n",
        "        # Asume que vocab_size y max_context_size están definidos globalmente.\n",
        "        global max_context_size\n",
        "\n",
        "        self.val_data = val_data\n",
        "        self.history_ppl = history_ppl\n",
        "        self.target = []\n",
        "        self.padded = []\n",
        "        self.min_score = np.inf\n",
        "        self.patience_counter = 0\n",
        "        self.patience = patience\n",
        "\n",
        "        count = 0\n",
        "        self.info = []\n",
        "\n",
        "        # --- Pre-procesamiento de Datos de Validación (Crea el set de índices) ---\n",
        "        # Este proceso crea secuencias de validación y sus etiquetas (self.target)\n",
        "        for seq in self.val_data:\n",
        "            len_seq = len(seq)\n",
        "            if len_seq > 1:\n",
        "                # Crea sub-secuencias de entrada (ej: [1, 2], [1, 2, 3])\n",
        "                subseq = [seq[:i] for i in range(1, len_seq)]\n",
        "                # Las etiquetas son los siguientes tokens (ej: 2, 3)\n",
        "                self.target.extend([seq[i] for i in range(1, len_seq)])\n",
        "\n",
        "                if subseq:\n",
        "                    # Aplica padding a las sub-secuencias de índices\n",
        "                    self.padded.append(pad_sequences(subseq, maxlen=max_context_size, padding='pre'))\n",
        "                    self.info.append((count, count + len(subseq)))\n",
        "                    count += len(subseq)\n",
        "\n",
        "        if self.padded:\n",
        "            # Concatena todas las secuencias en un único array (compatible con Embedding)\n",
        "            self.padded = np.vstack(self.padded)\n",
        "        else:\n",
        "            self.padded = np.array([])\n",
        "\n",
        "        # Asegurarse de que el target también sea un array de numpy\n",
        "        self.target = np.array(self.target)\n",
        "\n",
        "\n",
        "    def on_epoch_end(self, epoch, logs=None):\n",
        "        global history_ppl\n",
        "\n",
        "        if self.padded.size == 0:\n",
        "            print(\"\\n [WARNING] Validation data is empty. Skipping Perplexity check.\")\n",
        "            return\n",
        "\n",
        "        scores = []\n",
        "\n",
        "        # 1. PREDICCIÓN (SIN OHE)\n",
        "        # Se pasa self.padded (array de índices enteros) directamente.\n",
        "        # Compatible con la capa Embedding.\n",
        "        predictions = self.model.predict(self.padded, verbose=0) #\n",
        "\n",
        "        # 2. Calcular Perplejidad (PPL)\n",
        "\n",
        "        # predictions tiene forma (N_muestras, vocab_size)\n",
        "\n",
        "        # Creamos una matriz de índices (filas de 0 a N) para la indexación avanzada\n",
        "        idx_rows = np.arange(predictions.shape[0])\n",
        "\n",
        "        # Indexación avanzada: selecciona la probabilidad en [fila, columna] donde columna es el target\n",
        "        probs = predictions[idx_rows, self.target]\n",
        "\n",
        "        # 3. Cálculo de PPL por secuencia (usando self.info para agrupar)\n",
        "\n",
        "        for start_info, end_info in self.info:\n",
        "\n",
        "            if (end_info - start_info) > 0:\n",
        "                # Slicing de las probabilidades correspondientes a esta secuencia\n",
        "                seq_probs = probs[start_info:end_info]\n",
        "\n",
        "                # Clamp: Asegura que no haya log(0)\n",
        "                seq_probs = np.clip(seq_probs, a_min=1e-10, a_max=None)\n",
        "\n",
        "                # Cálculo de PPL: exponenciación del log-likelihood promedio\n",
        "                ppl = np.exp(-np.sum(np.log(seq_probs)) / (end_info - start_info))\n",
        "                scores.append(ppl)\n",
        "\n",
        "        # 4. Promediar e imprimir PPL\n",
        "        if scores:\n",
        "            current_score = np.mean(scores)\n",
        "            history_ppl.append(current_score)\n",
        "            print(f'\\n 📜 mean perplexity: {current_score:.4f} 📜 \\n')\n",
        "        else:\n",
        "            print(\"\\n [WARNING] No scores calculated for PPL.\")\n",
        "            return\n",
        "\n",
        "        # 5. Early Stopping y Guardado del Modelo\n",
        "        if current_score < self.min_score:\n",
        "            self.min_score = current_score\n",
        "            self.model.save(\"best_model_lstm.keras\")\n",
        "            print(\"💾 Saved new best_model_lstm.keras! (Lowest PPL)\")\n",
        "            self.patience_counter = 0\n",
        "        else:\n",
        "            self.patience_counter += 1\n",
        "            if self.patience_counter == self.patience:\n",
        "                print(f\"🛑 Stopping training... PPL did not improve for {self.patience} epochs.\")\n",
        "                self.model.stop_training = True"
      ],
      "metadata": {
        "id": "AB1fOhFRBWS0"
      },
      "execution_count": 78,
      "outputs": []
    },
    {
      "cell_type": "markdown",
      "source": [
        "# Entrenamiento del modelo"
      ],
      "metadata": {
        "id": "YjHzqXxIMJ88"
      }
    },
    {
      "cell_type": "code",
      "source": [
        "history_ppl = []\n",
        "ppl_callback = PplCallback(tokenized_sentences_val, history_ppl, patience=5)\n",
        "\n",
        "model_lstm.fit(\n",
        "    X_train_idx,\n",
        "    Y_train_idx,\n",
        "    epochs=50,\n",
        "    batch_size=128,\n",
        "    callbacks=[ppl_callback]\n",
        ")\n"
      ],
      "metadata": {
        "colab": {
          "base_uri": "https://localhost:8080/"
        },
        "id": "s1rpZMND6a7Z",
        "outputId": "e5d3fcd5-7989-407c-ac69-06a1d990d110"
      },
      "execution_count": 81,
      "outputs": [
        {
          "output_type": "stream",
          "name": "stdout",
          "text": [
            "Epoch 1/50\n",
            "\u001b[1m31/31\u001b[0m \u001b[32m━━━━━━━━━━━━━━━━━━━━\u001b[0m\u001b[37m\u001b[0m \u001b[1m0s\u001b[0m 1s/step - accuracy: 0.5265 - loss: 1.4658\n",
            " 📜 mean perplexity: 59.2010 📜 \n",
            "\n",
            "💾 Saved new best_model_lstm.keras! (Lowest PPL)\n",
            "\u001b[1m31/31\u001b[0m \u001b[32m━━━━━━━━━━━━━━━━━━━━\u001b[0m\u001b[37m\u001b[0m \u001b[1m36s\u001b[0m 1s/step - accuracy: 0.5263 - loss: 1.4668\n",
            "Epoch 2/50\n",
            "\u001b[1m31/31\u001b[0m \u001b[32m━━━━━━━━━━━━━━━━━━━━\u001b[0m\u001b[37m\u001b[0m \u001b[1m0s\u001b[0m 1s/step - accuracy: 0.5737 - loss: 1.3695\n",
            " 📜 mean perplexity: 51.0545 📜 \n",
            "\n",
            "💾 Saved new best_model_lstm.keras! (Lowest PPL)\n",
            "\u001b[1m31/31\u001b[0m \u001b[32m━━━━━━━━━━━━━━━━━━━━\u001b[0m\u001b[37m\u001b[0m \u001b[1m33s\u001b[0m 1s/step - accuracy: 0.5731 - loss: 1.3708\n",
            "Epoch 3/50\n",
            "\u001b[1m31/31\u001b[0m \u001b[32m━━━━━━━━━━━━━━━━━━━━\u001b[0m\u001b[37m\u001b[0m \u001b[1m0s\u001b[0m 1s/step - accuracy: 0.6072 - loss: 1.2734\n",
            " 📜 mean perplexity: 58.8567 📜 \n",
            "\n",
            "\u001b[1m31/31\u001b[0m \u001b[32m━━━━━━━━━━━━━━━━━━━━\u001b[0m\u001b[37m\u001b[0m \u001b[1m42s\u001b[0m 1s/step - accuracy: 0.6066 - loss: 1.2746\n",
            "Epoch 4/50\n",
            "\u001b[1m31/31\u001b[0m \u001b[32m━━━━━━━━━━━━━━━━━━━━\u001b[0m\u001b[37m\u001b[0m \u001b[1m0s\u001b[0m 1s/step - accuracy: 0.6346 - loss: 1.1810\n",
            " 📜 mean perplexity: 59.7337 📜 \n",
            "\n",
            "\u001b[1m31/31\u001b[0m \u001b[32m━━━━━━━━━━━━━━━━━━━━\u001b[0m\u001b[37m\u001b[0m \u001b[1m32s\u001b[0m 1s/step - accuracy: 0.6340 - loss: 1.1827\n",
            "Epoch 5/50\n",
            "\u001b[1m31/31\u001b[0m \u001b[32m━━━━━━━━━━━━━━━━━━━━\u001b[0m\u001b[37m\u001b[0m \u001b[1m0s\u001b[0m 1s/step - accuracy: 0.6611 - loss: 1.1084\n",
            " 📜 mean perplexity: 138.9525 📜 \n",
            "\n",
            "\u001b[1m31/31\u001b[0m \u001b[32m━━━━━━━━━━━━━━━━━━━━\u001b[0m\u001b[37m\u001b[0m \u001b[1m47s\u001b[0m 1s/step - accuracy: 0.6606 - loss: 1.1095\n",
            "Epoch 6/50\n",
            "\u001b[1m31/31\u001b[0m \u001b[32m━━━━━━━━━━━━━━━━━━━━\u001b[0m\u001b[37m\u001b[0m \u001b[1m0s\u001b[0m 1s/step - accuracy: 0.6821 - loss: 1.0230\n",
            " 📜 mean perplexity: 134.2276 📜 \n",
            "\n",
            "\u001b[1m31/31\u001b[0m \u001b[32m━━━━━━━━━━━━━━━━━━━━\u001b[0m\u001b[37m\u001b[0m \u001b[1m31s\u001b[0m 1s/step - accuracy: 0.6816 - loss: 1.0243\n",
            "Epoch 7/50\n",
            "\u001b[1m31/31\u001b[0m \u001b[32m━━━━━━━━━━━━━━━━━━━━\u001b[0m\u001b[37m\u001b[0m \u001b[1m0s\u001b[0m 1s/step - accuracy: 0.7148 - loss: 0.9513\n",
            " 📜 mean perplexity: 149.7797 📜 \n",
            "\n",
            "🛑 Stopping training... PPL did not improve for 5 epochs.\n",
            "\u001b[1m31/31\u001b[0m \u001b[32m━━━━━━━━━━━━━━━━━━━━\u001b[0m\u001b[37m\u001b[0m \u001b[1m41s\u001b[0m 1s/step - accuracy: 0.7144 - loss: 0.9520\n"
          ]
        },
        {
          "output_type": "execute_result",
          "data": {
            "text/plain": [
              "<keras.src.callbacks.history.History at 0x7d842d1b02f0>"
            ]
          },
          "metadata": {},
          "execution_count": 81
        }
      ]
    },
    {
      "cell_type": "markdown",
      "source": [
        "# Carga del mejor modelo **mejorado**"
      ],
      "metadata": {
        "id": "PuE4IajOMPyz"
      }
    },
    {
      "cell_type": "code",
      "source": [
        "from tensorflow.keras.models import load_model\n",
        "model_best_lstm = load_model(\"best_model_lstm.keras\")\n",
        "# Cargar history_ppl desde archivo\n",
        "history_ppl = np.load(\"history_ppl.npy\").tolist()\n",
        "\n",
        "# Identificar mejor época\n",
        "best_epoch = np.argmin(history_ppl)\n",
        "best_ppl = history_ppl[best_epoch]\n",
        "\n",
        "# Mostrar resultado\n",
        "print(f\"🔍 Mejor PPL registrada: {best_ppl:.4f} en la época {best_epoch}\")\n"
      ],
      "metadata": {
        "colab": {
          "base_uri": "https://localhost:8080/"
        },
        "id": "beuNHPkfwhLi",
        "outputId": "aeb9a4f5-1ca9-4907-dbd5-6e232c3a3f5d"
      },
      "execution_count": 83,
      "outputs": [
        {
          "output_type": "stream",
          "name": "stdout",
          "text": [
            "🔍 Mejor PPL registrada: 33.1909 en la época 0\n"
          ]
        }
      ]
    },
    {
      "cell_type": "markdown",
      "source": [
        "# **PREDICCIONES**"
      ],
      "metadata": {
        "id": "j5IsTgWONLqR"
      }
    },
    {
      "cell_type": "markdown",
      "source": [
        "\n",
        "\n",
        "### 📋 Comparación de Interfaces de Generación que se desarrollara a continuación\n",
        "\n",
        "| **Interfaz**              | **Función usada**             | **Tipo de generación**       | **¿Usa temperatura?** |\n",
        "|---------------------------|-------------------------------|-------------------------------|------------------------|\n",
        "| Carácter por carácter     | `model_response_lstm(...)`    | Sampling estocástico          | ✅ Sí                  |\n",
        "| Generación extendida      | `generate_stochastic(...)`    | Sampling estocástico          | ✅ Sí                  |\n",
        "\n",
        "\n"
      ],
      "metadata": {
        "id": "QZ9j-6UtjJ85"
      }
    },
    {
      "cell_type": "code",
      "source": [
        "# === 🎲 Muestreo probabilístico con temperatura ===\n",
        "# Esta función permite seleccionar el siguiente carácter de forma aleatoria pero ponderada,\n",
        "# introduciendo variabilidad controlada en la generación. A diferencia del argmax (Greedy),\n",
        "# este enfoque produce texto más creativo, fluido y menos repetitivo.\n"
      ],
      "metadata": {
        "id": "MQKSCdrDHXHg"
      },
      "execution_count": null,
      "outputs": []
    },
    {
      "cell_type": "markdown",
      "source": [
        " Importaciones y Definiciones Globales"
      ],
      "metadata": {
        "id": "BPFQ3E4N1FAn"
      }
    },
    {
      "cell_type": "code",
      "source": [
        "def sample_from_distribution(preds, temperature=1.0):\n",
        "    preds = np.asarray(preds).astype(\"float64\")\n",
        "    preds = np.log(preds + 1e-8) / temperature\n",
        "    exp_preds = np.exp(preds)\n",
        "    preds = exp_preds / np.sum(exp_preds)\n",
        "    probas = np.random.multinomial(1, preds, 1)\n",
        "    return np.argmax(probas)\n"
      ],
      "metadata": {
        "id": "tB1PRsDxAyYR"
      },
      "execution_count": 84,
      "outputs": []
    },
    {
      "cell_type": "markdown",
      "source": [
        "# Función de Respuesta del Modelo LSTM por caracter a caracter"
      ],
      "metadata": {
        "id": "MFcK0jbF1PCx"
      }
    },
    {
      "cell_type": "markdown",
      "source": [
        "Interfaz Gradio"
      ],
      "metadata": {
        "id": "vT0xkOf91UHw"
      }
    },
    {
      "cell_type": "code",
      "source": [
        "import gradio as gr\n",
        "\n",
        "def model_response_lstm(human_text, temperatura):\n",
        "    global char2idx, idx2char, max_context_size, model_best_lstm\n",
        "\n",
        "    # 1. Preparación de la entrada\n",
        "    current_context = human_text.lower()[-max_context_size:]\n",
        "    encoded = [char2idx.get(ch, 0) for ch in current_context]\n",
        "\n",
        "    # 2. Padding\n",
        "    padded_sequence = pad_sequences(\n",
        "        [encoded],\n",
        "        maxlen=max_context_size,\n",
        "        padding='pre',\n",
        "        truncating='pre'\n",
        "    )\n",
        "\n",
        "    # 3. Predicción\n",
        "    preds = model_best_lstm.predict(padded_sequence, verbose=0)[0]\n",
        "    if preds.ndim == 2:\n",
        "        preds = preds[-1, :]\n",
        "\n",
        "    # 4. Sampling\n",
        "    next_index = sample_from_distribution(preds, temperature=temperatura)\n",
        "\n",
        "    # 5. Decodificación\n",
        "    out_char = idx2char.get(next_index, ' ')\n",
        "    return human_text + out_char\n",
        "\n",
        "# === Interfaz Gradio ===\n",
        "iface = gr.Interface(\n",
        "    fn=model_response_lstm,\n",
        "    inputs=[\n",
        "        gr.Textbox(lines=2, placeholder=\"Escribí tu prompt...\"),\n",
        "        gr.Slider(0.1, 1.5, value=0.7, label=\"Temperatura\"),\n",
        "    ],\n",
        "    outputs=\"text\",\n",
        "    title=\"Generador LSTM (carácter por carácter)\",\n",
        "    description=\"Generación de texto paso a paso. Ajustá la temperatura para controlar la creatividad.\"\n",
        ")\n",
        "\n",
        "#iface.launch(share=True, debug=True)\n"
      ],
      "metadata": {
        "colab": {
          "base_uri": "https://localhost:8080/",
          "height": 646
        },
        "id": "N-T99gj6AU1m",
        "outputId": "13317b71-1fbe-4a16-a8c9-2539f17c1348"
      },
      "execution_count": 86,
      "outputs": [
        {
          "output_type": "stream",
          "name": "stdout",
          "text": [
            "Colab notebook detected. This cell will run indefinitely so that you can see errors and logs. To turn off, set debug=False in launch().\n",
            "* Running on public URL: https://c6c9e89d391655ff6f.gradio.live\n",
            "\n",
            "This share link expires in 1 week. For free permanent hosting and GPU upgrades, run `gradio deploy` from the terminal in the working directory to deploy to Hugging Face Spaces (https://huggingface.co/spaces)\n"
          ]
        },
        {
          "output_type": "display_data",
          "data": {
            "text/plain": [
              "<IPython.core.display.HTML object>"
            ],
            "text/html": [
              "<div><iframe src=\"https://c6c9e89d391655ff6f.gradio.live\" width=\"100%\" height=\"500\" allow=\"autoplay; camera; microphone; clipboard-read; clipboard-write;\" frameborder=\"0\" allowfullscreen></iframe></div>"
            ]
          },
          "metadata": {}
        },
        {
          "output_type": "stream",
          "name": "stdout",
          "text": [
            "Keyboard interruption in main thread... closing server.\n",
            "Killing tunnel 127.0.0.1:7860 <> https://c6c9e89d391655ff6f.gradio.live\n"
          ]
        },
        {
          "output_type": "execute_result",
          "data": {
            "text/plain": []
          },
          "metadata": {},
          "execution_count": 86
        }
      ]
    },
    {
      "cell_type": "markdown",
      "source": [
        "![image.png](data:image/png;base64,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)  por caracter con control de temperatura"
      ],
      "metadata": {
        "id": "6rS99Su-Bp_Q"
      }
    },
    {
      "cell_type": "markdown",
      "source": [
        "# Función de LSTM para generar 50 caracteres seguidos"
      ],
      "metadata": {
        "id": "BqqHdw6JDuEg"
      }
    },
    {
      "cell_type": "code",
      "source": [
        "def generate_stochastic(model, seed_text, max_context_size, chars_to_generate, temperature=0.7):\n",
        "    global char2idx, idx2char\n",
        "    generated = seed_text\n",
        "    for _ in range(chars_to_generate):\n",
        "        context = generated.lower()[-max_context_size:]\n",
        "        encoded = [char2idx.get(ch, 0) for ch in context]\n",
        "        padded = pad_sequences([encoded], maxlen=max_context_size, padding='pre')\n",
        "        preds = model.predict(padded, verbose=0)[0]\n",
        "        if preds.ndim == 2:\n",
        "            preds = preds[-1, :]\n",
        "        next_index = sample_from_distribution(preds, temperature)\n",
        "        next_char = idx2char.get(next_index, ' ')\n",
        "        generated += next_char\n",
        "    return generated\n"
      ],
      "metadata": {
        "id": "qTJkTAq3D-pV"
      },
      "execution_count": 60,
      "outputs": []
    },
    {
      "cell_type": "code",
      "source": [
        "import gradio as gr\n",
        "\n",
        "iface = gr.Interface(\n",
        "    fn=lambda texto, temperatura: generate_stochastic(model_best_lstm, texto, max_context_size, 50, temperature=temperatura),\n",
        "    inputs=[\n",
        "        gr.Textbox(lines=2, placeholder=\"Escribí tu prompt...\"),\n",
        "        gr.Slider(0.1, 1.5, value=0.7, label=\"Temperatura\"),\n",
        "    ],\n",
        "    outputs=\"text\",\n",
        "    title=\"Generador LSTM (50 caracteres)\",\n",
        "    description=\"Generación extendida con modelo LSTM. Ajustá la temperatura para controlar la creatividad.\"\n",
        ")\n",
        "\n",
        "#iface.launch(share=True, debug=True)\n"
      ],
      "metadata": {
        "colab": {
          "base_uri": "https://localhost:8080/",
          "height": 646
        },
        "id": "gXs5ykd9EBEr",
        "outputId": "d62246c9-b16b-4a02-f81a-c98fb07749ad"
      },
      "execution_count": 61,
      "outputs": [
        {
          "output_type": "stream",
          "name": "stdout",
          "text": [
            "Colab notebook detected. This cell will run indefinitely so that you can see errors and logs. To turn off, set debug=False in launch().\n",
            "* Running on public URL: https://d920c6e69462471004.gradio.live\n",
            "\n",
            "This share link expires in 1 week. For free permanent hosting and GPU upgrades, run `gradio deploy` from the terminal in the working directory to deploy to Hugging Face Spaces (https://huggingface.co/spaces)\n"
          ]
        },
        {
          "output_type": "display_data",
          "data": {
            "text/plain": [
              "<IPython.core.display.HTML object>"
            ],
            "text/html": [
              "<div><iframe src=\"https://d920c6e69462471004.gradio.live\" width=\"100%\" height=\"500\" allow=\"autoplay; camera; microphone; clipboard-read; clipboard-write;\" frameborder=\"0\" allowfullscreen></iframe></div>"
            ]
          },
          "metadata": {}
        },
        {
          "output_type": "stream",
          "name": "stdout",
          "text": [
            "Keyboard interruption in main thread... closing server.\n",
            "Killing tunnel 127.0.0.1:7860 <> https://d920c6e69462471004.gradio.live\n"
          ]
        },
        {
          "output_type": "execute_result",
          "data": {
            "text/plain": []
          },
          "metadata": {},
          "execution_count": 61
        }
      ]
    },
    {
      "cell_type": "markdown",
      "source": [
        "![image.png](data:image/png;base64,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) con slider de control de temperatura alta"
      ],
      "metadata": {
        "id": "nPY26eEHEo9r"
      }
    },
    {
      "cell_type": "markdown",
      "source": [
        "![image.png](data:image/png;base64,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)"
      ],
      "metadata": {
        "id": "xo3qAugPonlb"
      }
    },
    {
      "cell_type": "markdown",
      "source": [
        "![image.png](data:image/png;base64,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)"
      ],
      "metadata": {
        "id": "qHkXV0s7oWPj"
      }
    },
    {
      "cell_type": "markdown",
      "source": [
        "![image.png](data:image/png;base64,iVBORw0KGgoAAAANSUhEUgAABfUAAADNCAYAAAARz5rnAAAAAXNSR0IArs4c6QAAAARnQU1BAACxjwv8YQUAAAAJcEhZcwAADsMAAA7DAcdvqGQAAEGqSURBVHhe7d17fFTVvf//9+QKCQlgA0JB5Kh0akQwAuIpFC+IVQxVwGqlfsXYqtBSUJEcW5p6wVYKehR7+gNOKbEtxguXqoByABEQFBUFyq3KpRISRRK5TMxlkknW74+ZJDM7k8zOfQZez8djHoS11t6zZ+2116z9mb3XdhhjjAAAAACEhdLSMhUVFat7929Zs5rl+PGvlZSUqI4dO1izAAAAALSzxpwHRFkTAAAAALSfDh3i5fF4rMnN5vF41KFDvDUZAAAAQBhozHkAQX0AAAAgjDgcDrXGzbTGGDkcDmsyAAAAgDDQmPMAgvoAAAAAAAAAAEQIgvoAAAAAAAAAAEQIgvoAAAAAAAAAAEQIgvoAAAAAAAAAAEQIgvoAAAAAAAAAAEQIgvoAAAAAAAAAAEQIgvoAAAAAAAAAAEQIgvoAAAAAAAAAAEQIgvoAAAAAAAAAAEQIgvoAAAAAAAAAAEQIgvoAAAAAAAAAAEQIgvoAAAAAAAAAAEQIgvoAAAAAAAAAAEQIgvoAAAAAAAAAAESIJgX1//nybD368l5rcvMc36LnH12ojcetGQAAAADONC+/vEIvv7zCmtyidu/ep2ee+ZNOn3ZZswAAAICI1aSgvqe4SEXFHmty81SWylVUpJJKawYAAACAM01JSYlKSkqsyS2qvLxCRUXfqKqqypoFAAAARKzoxx577DFrYv1O6sCHu7Rz92f68nSRvvz8M+3cdVpdLuujLpIkj7765G2t/sdKrf7osI5X9lC/3omKkpT/7qta8X6RuqX2VrLDu7bS/ev04pufyZNQrqO792rn5wUqKvxSB/fuVq6jr5w94r0Fi3K15c3XtXT5O9r1RZGiu5+vnolN+j0CAAAACHtFRd8oObmTNblZWmKdxhgdOvRvvf76m9qw4V0VFX2jXr16KDY2tqbMpk1btW/fpzr//D6Kjo6WJH3+ea7Wrduovn37SDLauXOP9uzZr5MnT+nzz3N14MBh9e3bRxUVFXrzzbU655yuys3N0/LlK7V16weKinKoZ88ecji8JxKff56rN99cp3PP7a7ExARJUnFxiV5//U0lJiaoS5fOOnjwsHbu3K0vvvhSX31VoN2796lLl87q0qVzzbYCAAAA4cTumL2RkfEi5e/fq/wia7oklemTvzylP7y8S6XO4bra2VEHVj6nZ1Z/IUnqdXkflW5fqZc3nfSVL9A7/9ioA7EXyFmaq/2HCxT02v/8dfrD4wv1xn7p4qsu0zn527Rk9lP68ydl1pIAAAAAWokxRm++uU4LFmSrqsrokkucev/9j/T00/+jgoLCmnKHDv1bn356QFVVtbfgfv31Se3d+y+Vl5erosKjgwcP6ZtvvqnJr1ZeXq7du/dp4cIXtGzZG+rQIV4xMdF69dXX9NZb62WMqVnf7t17A9ZRXl6uvXv/pa+/9p5v5Od/qfx877kIAAAAcCZpZFC/j66e+ENdmiSp15W6e+IE3T1xuPpKKt32opbs/7bGPfqw7h45WENHjtV//exKlbz9D208JSnxSt1+07eVv3qFthRLpe+9ofXFl+j2sU4lDbxRd3//25KSdOnNE3T3xAn64cAkSbla8ZeN+uqCMXr813dp9Pev1u3TszT1e7Han/OiPii1bh8AAACA1nDw4GG9++77uuWWm/TTn96pG264TtOn/0Lx8XF67bU3VVlpbx7NxMQE3XzzaJ1zTlf17v1tTZx4h370o5trrrivrKzSJZd8V7/61YO6++4J+vnPf6bvfe8KffjhJwE/HoRy1VXD1L9/qjp06Kjx48do4sQ7fHcKAAAAAJGtkUH9+pTp408OSxcP1vBEv+T/6KPe+kKfH/H+95xrbtN1KYf11sv/0JLVh9XvpnEa0NGvvNW/d2nXqRhdfs2V8i/W99or1avqsD7ZwdX6AAAAQFvYtWuvkpI6acCAS2rSkpI6KS1tgI4ezVNh4YmA8s1x/vl9FBMTI0lyOBxKTXXK7S7TF18csxYFAAAAzjotFNQvkuuUpL2v6qGHZvq9XtV+SRU1F+100+ibB0t7t2v/OaN0+/c6BK7G6uRJFSlJ53gn7K91TlclS/r6ZNB5gAAAAAC0MJfLpYSEjoqLq50/X5LOOeccVVRUqLi4OCC9JcXFxcnhcKiykgfeAgAAAC0U1PeKGXyX/vu/f1fnde/l1SXKtOWd7VJKV3X8cqe2fRm4fH081rF7VYUlAQAAAEBrq6oy8k1r75dmb9odAAAAAC2jhYL63fQffWPkOfiZPrcG4P2Ufviq3jjq1PgHp+jGCwq0/uUtavAm3QsuUC+d1IG91Q/X9dl/WAcUo74XdAtMBwAAANAq+vbtoxMnTgTMa2+M0WefHVSnTp2UkvKtgPL+mnsV/6FD/1Z0dLR69Kh//F9W5lZlpceaDAAAAJxxmhDU76Ye50rKP6wDHkkejzySLr5hlHq5tunP/7tNX1WPpd1f6JPdX3j/Lt2rV17/VOdeP0aXd+yg4T++Ub3y31L2O76Afc+eOkcndeSgd0odj0dSl+EaPbiD8tf+VSv2+9KPb9P8nF3ynDdKoy/2vQ8AAACAVjVo0GVKTEzUsmWv6+uvT6iqqkqbN7+nXbv26j//c4iSk5MkX/D/+PEC/fvfR1RVVaX33vtAGza8q+jo2lOP+Ph4denSWQUFX8vlcsnj8aiqqvbqoE2btiovL19VVVX65z/3auPGLXI6+6lHj3MlST16dFN0dLR2794nj8ejvLx8vfjiUlVUBAb1e/TorrKyMn3xxZeqqqqSx0PQHwAAAJHPYYz1Blob8tfpD89u1FdVkvRt/fC3v9DVXSTPkY368+J3dKDIN1iOitG5l9+mn09wKm/JU/rz4cs09Tdj1Nc3nv9qzXP6w/okjXv8pxqeWKZP/jJXS/Z6H34bM/guzZnglKqK9M9XF2rJhydVPQTv+B+jdO/kq9XX++wsAAAA4IySn39MvXr1sCY3S0us8/jxQv3tby/riy+882jGxsZq5MgRuu66qxUV5R3knzx5SosW/U1ffvmVJOn888/T97//n1q7doPuvz9DXbt6H5h18OC/lZ29RKWlZUpI6KjJk+9RQkKC5s1bqL59z9OhQ/9WcXGJoqKi1L//xfrxj8erQ4d4SVJlZaVWrFipbdu2yxijxMQE3XzzaL377vsaMWKYBg0aKEkqKSnVn//8Vx05clSSlJ7+A1177QgBAAAA4cjumL1pQX1J8pSp6JsKqWOSkrxj69qs4iKVVkgdk5MU08h7ATxFRSqtjFXHLh0UELNv4P0AAACAM4ndwXxjtOQ6i4tLVFFRoU6dEhUTU/dKm6qqKhUVfaOYmBglJiZYs2uUl3sfsNuxYwd16NBBJ0+e0rx5CzVmzA1KS7tURUXfKD4+Th06dLAuKvm2w+PxKCmpU82PClbV2xIV5VCnTp3kcDisRQAAAICwYHfMHnzka0dMByV1CR5gj0lMUlKXxgf0JSkmKUlJ1oC+Gn4/AAAAAG0nMTFBXbp0DhrQl6SoqCh17pzcYEBfkuLiYtW1a5egQfvqdQTLq5aYmKDOnZPrDejLbz1JSUkE9AEAAHBGqH/0CwAAAAAAAAAAwgpBfQAAAABhIS4uTpdc8l1961tdrVkAAAAAfAjqAwAAAAgLiYkJ+tGPblbfvn2sWQAAAAB8COoDAAAAAAAAABAhCOoDAAAAAAAAABAhCOoDAAAAAAAAABAhCOoDAAAAAAAAABAhCOoDAAAAAAAAABAhCOoDAAAAAAAAABAhCOoDAAAAAAAAABAhCOoDAAAAAAAAABAhCOoDAAAAAAAAABAhCOoDAAAAAAAAABAhCOoDAAAAAAAAABAhCOoDAAAAAAAAABAhHMYYY020o6SkVMXFpaqoqFATVwEAAACcERwOh2JjY5WY2FEJCR2t2Y2Wn39MvXr1sCY3S0utk/MAAAAAwKu9zgOaFNQ/fbpI5eXl6tQpUR06xMvhcFiLAAAAAGcNY4zKytz65ptixcXFqXPnJGuRRrE7mG+Mlljn6dNFqqqqUnJykqKjuekXAAAAka+ystKa1GTR0dHWpEaxO2Zv9Ei8pKRU5eXlSkk5Rx07diCgDwAAgLOew+FQx44dlJJyjsrLy1VSUmotEvFKSkpVVVWlrl07E9AHAAAAgmir84BGj8aLi0vVqVMiwXwAAADAwuFwqFOnRBUXt81gvi0VF5cqObl5dyAAAAAAZ7K2Og9odFC/oqJCHTrEW5MBAAAASOrQIV4VFRXW5IhXUVHBFfoAAABAA9rqPKDRo3JjDFfpAwAAAPVwOBxn5ANkz8TPBAAAALSkthozNzqoDwAAAAAAAAAA2gdBfQAAAAAAAAAAgsjLy9OGDRuUl5dnzWo3BPUBAAAAAAAAALDYs2ePli5dql27dmnp0qXas2ePtUi7IKgPAAAAAAAAAICfkpISbdy4MSBt48aNKikpCUhrDwT1AQAAAAAAAADw849//EMVFRUBaRUVFfrHP/4RkNYeCOoDAAAAAAAAAOCzdetWHT9+3JosSTp+/Li2bt1qTW5TBPUBAAAAAAAAAJBUWFioHTt2WJMD7NixQ4WFhdbkNkNQHwAAAAAAAAAASStXrqwz7Y5VRUWFVq5caU1uMwT1AQAAAAAAAABnve3bt+vUqVPW5KBOnTql7du3W5PbBEF9AAAAAAAAAAAihMMYY6yJDcnPP6ZevXpYkwEAAAD4NHfM3Nzlg2nuOpu7PAAAABCOKisrA/6/fft2uVyugLRgkpOTNXjw4IC0Y8cKmjVmtjvm5kr9cOH6QOs2F1lTw0CRtq35QKGbcRsL2/pqhDPhMwAAAKB5wnZMyHlAqzkTPgMAAGewwYMH69prrw35sgb029IZE9Qv3LNe6947LHd1QqVbrpLAMm2tcM96rdtj4ynIlYeVfc89+uVv52lbzQcID4f+kqG7p89Vzv76NqxQ+9as175j1vTGa9f6KjmsbS30OWxpjc8Q7DhotJbbn2hjbd2GAQAIE3XGP5wHtAjOA1pJa3yGYMdBo7Xc/kQba8E2HKod2T5W63UGtbNjHyh79m/1m9/+Vtkfu8PiuyeY5u+zFlByWNvWfKBDza6fM6j9RDi3q6jefsKf+/AHDfYpaJ4zJqi/9+/T9Mu5m1UgSXJr3fTLdcWQyVrWjn3X3r9P0y//vs+abFGkTb/O0B9K7tALb/xGV8Zb89uP651MTfxvaVJOtiZdXN+G7dPiB6Zp8X5reuO1a30VbtacFvocobXSZ6hzHDRFy+1PtLE2bcMAAIQPzgNaHucBraWVPkOd46ApWm5/oo21YBsO1Y7sHasNOUPaWeVOzbr1Hv1hc4GkMkkKi++eYJq/z1pA4WbNeWCuNje7bs6Q9hPp9j+vm664UiNn77Tm1FHwztwG+xQ0zxkT1A8Ur4tHXKfLrr1OaV2teWHm5AdaeWyUXnj5N7oy2ZrZnvK0eUWR7nztRT0wMMma2X7Cqr7y9OJ9P9D9L+VZMxoWVp/hTNbE/QMAACIY5wHNx3lAaE0cZ4bVZziTNXH/AHbtXKWVhRfogf+ZryefmKOMQc347sl/SfePnKwX860ZQAtojfZ1/gilD7xMY6650JqDNnaGBvWl3uPm6eU/jteF0dacMNP1Oj3913Ac1PVW+h/na1K/Frx8pCWEWX2VF+SpoLG3kIXZZziTNWn/AACAiMZ5QHNxHmBHk8aZYfYZzmRN2j+AXS6XXIpXfExtUpO/eyrdKsgvUHngMzqBltEa7SvhMj3wyov6r6Fh9MP/2co0Ul7el9YkWwo2LTAzX9lnjMdlduTMMVNum2CmPJVjdpywFCwrMHuXzzMzp0wwozNmmGeXHzKnLUWMMaZga7aZPWWCuX3KHLNku8uszUw1zluyzdHq/E0LzMw/bTIFluVO71tmnn0ow9yeMcPMztlhTnssBfyUHVlnns2aam5PzzDT5y0zey3bWnZok1n81AwzMX2CmfJUtnnfUjUbM1ONM3OTMSd2mCVPTTW33zbVzJy3zhwt8y+1zyzNyjJL9/mnlZmC3csC3vtgsErwd/qQWTpvhpl4W/W2HjUb5/mvt8Bs/FOWdx/4CV5PZebopur6zTLPvnXUBGxygE1mujPVTN/gqy9f3QZbJnzra505+lm2Gev7HAFO7Kst599eiw+Z999aYKYMSTVDxk81M7OyauuxYJOZn7XM7DVl5uhb88yUjAwzf7v3Q4SqA1N21Kydl2Wm3JZuJj40zyzd57IUCBTqOPBq2v70F3K7/Vk+//SM9Jrt87f3Fb86q7ZvmZmZtczs9U8LcdzW9C1lR83aeVPNxIwFZseJBvZPU9pL2VGzcdGcej9Lve3E1K2P2vawzyzNWmA2FhhzenuOmZmRYWa+5d1zturbThu22Z8CAFpeU8fM1Zq7fDDNXWdTl+c8oC3HtZwHNK6+6hlDmQbGd5wH1I/zgIg7D7DXjmrVHKt+bG1zjdZoZxPMxIfmmbW+ZU5vz6n9TDuDHEcN7TO/fVNfv1Z2aJtZO2eCcTqHmrHTsmrabd0+1ea6Fk41Q2rWlWXmb/KuYe8rvr9P7DBLsjLMxF+t8+4Xm/u2WrB9ZooPBbTrxVut35hBnNhnlvr1UWuP+PUmobbpSLYZ6xxvFh/x32dBjqeQx2ht+6ndz8H7tlBtKqB+fd87s3N2eLe77KhZ63eMFdQZL4ToW33jnZr63VR3+6rVu59NiLZacxxY2rxfnTbUvkyI/tVUr/ehDDP6tqlm9qJNft/Jdb+Pg/bHZcYcXTS+bp8Sqr20E4/H02Kvpo6Zq9ldvs2C+kcXjTfOe2eZJ24cakZPyTIzs6aa0QMsXxhlm8z0Ad4v32dz1pklT00ww5ypZuS8wAHowUXjjdOZ5ltPlpmSPtQ4UwPXFazhHFw03jhTR5j75q0ya1/LNtNvTDXDMjcFbzxHss3Y1FQzOivHrH1rlVmcmW6GTMipWd/BhenGOeB6MzEr26z0rcuZOtWsLa5dxcbMVOMcNsIMG5JupmT5febx2eZgzcFi/VIrMxsz04xzyHgzZV6OWZszx9w+LNU4R82rM8CpcXqTmT4s1TivyjDTs7LMzIcyzLAhaWZAwHqPmsW31O3M69aTy2zMHGGcA9LNEznrat5/7KJDAcvV8m7/2HsnmWG+959+1wjjdA410zfUdlthX18DUo3TOrg45G0DwybNMyvfWmUWP5RunMNmmI2nqzvQDDPSGWSweCTbjHXOMPMXjTdDRnnfY+k+O3Vw1Cwen2qcN2aZJW+tMysXzTCjh0wwS/L8tsmPneOgqfvTvx5Cb7fFkWwz1nm9GZ0+tKZuvG1ihJm+ofYLZmOwAeOGGcbpnGE2+iWFOm6PLhpvnA8tMIvHDzUjM2Z4B1X17p+mtZeZV3nby8xFq8ySpzLMsAF++6WhdmLqbw/euh5vZi+aYYYNGW+mZM0w8zeV2atvO23YZn8KAGgdTR0zV2vu8sE0d51NXZ7zgDYe13Ie0Lj6so6hTIjxXb3jzPrHfaHrgPMAzgPa/jzAXjsKZA0Q29rmAC3VziaZ6VkjzJD0qWZm1gzvvhw2yyxZNMEM8dXNfTemGmdqhlnq/9UVap+ZTWa6M91Mn1V/v1awaYGZmXF9naB+3T61KeuqDbpuzEw1Y+dkm+lXDTVjp2SZ6X/aZMps7lt/1n1mPltgRqemmZEZWWbxa746cKaaKW/VF3b21tvtA1LNgPSp5tkc7/figGGzzPtlNtvbkWwz1jnUDLtqqBl214x6+gY7x6i3/Qy7qnrfZ5mZU9LNAGdg32anTW3MTDWjH8oytw8ZYSY+lGVm3uuth4kLc8zMq3zjlYe8n2XYrB21C4bsW8vMxqwRxjlsknn2NW/+xKtGmCe2Bq/foPvZ2GirvuPgiVnpNXUxJT3NOJ3jzeIj3iINta9Q/WvZpiwzzOnLfyvHzL5rhBn22DbfjxN1j+Og/XGw48JOe2kn1sB8c15NHTNXs7t82wb1U8ebZ/1+KS1bNdXb4PwGK6cLAn+p2zHneuMcMsvUHEL75pmRlgPWGJdZem+Iwfy+eWak83rz7O7apczpVWZK6lDzxHa/NJ+ji8YbZ/oCc9A/0f9Xq9MFpsD/mDy9zNznTDUTX6n91cs7WJljdvifLez2bn9th1n3YDAnCgJ/Ids5x4x0Bt9OY8rM2mmpli+i6mUaP5gve2uqcaZONSvrbHOGWRr0x1tfpzptld+vl/vMs9emGmeW33tFXH3tM8+OSjUjn/HvWFxm5ZRUM6SmQ/edyCyyDHmOeK+UCDwJsVEHR7LNWGe6me/ftOv8Iuxj8zho6v4MqN9Q223l+8Kestw/31t3/l/ItgbzNo7bo4vGG2edujD175+WaC9l1RVio53U1x5821dn3SHru55tqtOGbfSnAIBW09Qxc7XmLh9Mc9fZ1OU5D/Bpt3Et5wFeduvLxviuvnFmfeO+UHXAeQDnAcZOfdezTXXacMv1p1Z1AsQht9mqpdpZqhn7jO+qalNbB8My19Xu4y9zzO3OVDNlVSP2md1+bcOMgOCpCdKnNmddprquLT+IGTv71qLOPjMuUxBQ4b79fteyOne4eXnrzdqOy2qOBRvbZLNvCH2M+o7tOX773hiz95nrA4P2NtqU98fkqWZlzdDGVw+p4838z2oXfv+xocZ5be02hu5bfW18rV9+ff15vfvZRlsNdhwUrzJTnKlmbLbfERysfdnoXzdmphrnQ+v8Cvh/jrrHcX39cd3jwkZ7aSfWwPzatWvN3LlzQ77Wrl1bZ9mmjpmr2V2+befU/066bvV72FL8pWlKVZFOn6wtkpziy690y1V4WGVKkVwunfbl73trtfKib9K0uy+oXUhJ6hbiYST73lqtvIvv0K39/RKTB+ry7xRpx+66D9Dp1quXdCBHz604LHf13FP+c6MlpyjFN82k21WovFwpqZfkKvI++bzGd4bqMv85E/uPUnovad17H/glWnRNUbLvvdwnC3WoTEpRkU67rAUllazXG2uk1Iypusr/fbp2U+OnanRr3er1Uvp4pQds82W6TB9oZwMPTL/y5puUUlM/FyttsKSTRXJXJ0Vafe1Zp1W5F+snt17sl5ikyy67WK6dO1W3xVj11qTH7g6cTy9UHaT0Vq/ow1ry/HIdqp7/sZ75+OwdB03fnwFCbXdQvXX54BS//ydp1A3XSbmb9UEjHtBi+7jtdb+e/Kl/XTSgCe3lsl9kBraXeF+F2G4nQdqDz6hfzQpcd6j6ttuGbfSnAAC0Gc4D2m9ca0vTx42cB1gFGfeFqgPOA+qwfdxyHlC3Dbdif1pHqG22o0nruFhjbr2s9nP3S9XFkq684bqafawevdRbUv6xAu//be8zG/1aIzRrXaMy9btrAuctD7VvQ0tSSk2FF6kwP09K6i25ihS0xves06rcJP1kRmA7jq8+Fmxvk42+weYxesFgv30vKfX6m9S7cr02bfcl2G1Tw8YrvUf1f5KU+t3e0nfSle73TJnevXtL+XnytiI7fWs39e4jrVr4vLYV+vZykOM/gHU/226rluMgYaAuv1hynSiqKRGMnf61W6/e0poFeu6Dwtq2Gupz2OyP7bWX9rdr1y5rUlB2y7WGtg3qB5WnPF8fK0muA8s16/YrNXDAVRr9i3latb/Qv7AKvsqTvpMa9EuxIQVf5Un75+q6716i79a8fqA/7JcU5IER8TfM0erfD9Xhx8do4OU/0N2z1yvPv9etLNS256fppisu0RU/yNBvsjfrcMPHjU+SOidLDfbgrsNa9vhPdMXAS/T9sdP03Or9CqwFP4UFypd0wQW9rTlNUKCCPEmvT/aro0v03e9O1ipJZUHqqUF5Bb6OLwLrqyBPedqvP1zvXw+X6Lq5+4O2l7p82+0vVB0kXKenX3tCVx76nW66/HJdd89crcsN/sHtHQcttD9DbbdN8Qm+L0a779uY4zY5uc5Atl5NaC+9e/gPPvzYbidB2oNPTb1UC1Xfdtuwjf4UAID2xXlAHU0Yp9gZE4TWQuPGapwHBApVB5wH1GH7uOU8IKjW6k/rCLXNdrTEOhKSZKnNumzvs3r492vNZXddQT5XqH1rR+F7z+uXo6/Ud68YpYlZ2dp0pIFwakGe8tRbvXtaM2o1dZvq9A2NOUb9+fqBmr6tiW0quXOoB7/a6Vsv1gOvzNekxOW6e/jluuLWTL34cYg3t+7nZrbVvK8abl12+tfUXyzTwvuTteyeqzTwilv18Es75Qr13jb746a2l7Y2cOBAa1JQdsu1hjAI6vvZ87zGjXleebdk68N/btOWV+bpyf8XpHI87gbHdvUa+oS2/Guv/mV5rfhpsC/FeF04bo5Wf/KJVv/xJsWvmabrRj6pnZWSVKRVD1ylu9d0U+abn2jX+yv1wjMzNKaXdR1NULlfz906Rs/lp+uF9/fqw40v6o9P3K3LrOWsPNaEpku+88U6dfSvf+3V09dYS9oVqfU1VE9uqVsP//rH3QrWYhpmrw7i+43X0ys/0a43n1N6/Cr98vrrNevjwDI1bB4Hzduf9ra7VTXquA2hVdpL27cTKdQ2NaI/BQAgHNj93rI5/qmjUeMJzgOsL3vjxmAitb7afnzHeUAQjTpuQ2iV9tL27UQKtU1t0J/WaMQ216sl1tEYLbnP2oHdfdsA1+ppGn7vOnWfsUq7dm3T6sVz9F83hvr0brnra3ctsE1SM47ROlq/TYXsW7uO0AN/3aRdW5Yp89L9mvOTK3X3q40NXLdyWw3Vv0Yn6aqpi7Xlk01a8chl2j/7J7rinuX2fmRpSEu1lzZw7bXX6sEHHwz5uvbaa62LtpmwCurvW7taef0mKPOOixVfzy/GlwwaKh3YrG3HrDkNu2TQUGn7Zm0LdmtdQ6LjdeGIqVq4eKouLFyllTsllWzW/62T0h/8ja6qvqfHrmPv6v/2S1cOSrXmeO1fp1W5F+jOR+5QaoI1M4g+lyktWdrc0G2pDSgMuC2nt9IGJcm1ebP2hfoFrjEisb4uHaor9YE2fRDiF1W7GlkH8ReM0APzs/VAv0KtfGunNdvmcdAC+7OR292QbZs3S8mXKa2PNaeW62RgfTf5uK1PS7eX9mgnobbJx05/CgBAuLDzvWVv/FNXk8cTnAc0XyTWV3uM7/xwHuDV5OO2Pi3dXtqjnYTaJp/W7E8D2NnmUFpiHXa19D5rB3b2bcPc2rxmvXTDNGVdk1LnLoCgLh2qK3VYGz8IHs5tzjYF9A2NPUb9FG5dp30aqisvbe021bi+NT7lYt366Eo9fZO0bfUm+wHxVm6rjepf41OUOu43Wv30TdIHq7XR9ocIrjntBXWFVVA/+Zwk6fA+7fDNren6+AXdn7U6oEzKDeM1Knqn5s/2zTdY6dahFdM08/WAYnWkjJ+qn3Rdr4fveV47q+fudBdq2+adqtuO3dr0+D2atSav5pdr12eHVKBUXXy+99aYztHSzp07vfnuPK377WTvrSpWaxbqD5t983Ge3KnnpjypnSnjlZFez218XZOVrMPau9N38J7cqez7srTKWq7GZRr/495yvTq3Zq4rd+EHeu6huQqcKtHb+eidVVpV6JYqi7TzL5M18/XAOcUu+9kMXZm/UPdNX157m3HJYW1673BAuUaJxPpKGa8H7kzRuswMPVdzq5RbhR9s1s6aBnOBLrlY2rfzA+9tSO4GrnOwUQfud57U3Y/73d598rAOfiWlfqfu77B2j4Mm78/qX+FtbHdw+/WXeS9pX6Fbklt5K6bp4ZeKlPrz2l/aLxk0VNq/Sqv2+8qs+a3ueH5fwO1ajTturYLsnya0l4yfXyzXS5n6ZfW8uu5CbXv+Sb2Ya7edNIKt+rbXhu30pwAAhAs731t2xz9WjRtPcB7Q6HFjQyKxvmyN74KMM+tjow44D+A8wF5922vDrdmfSpI85d5/bW1zPZrdzpqgpfdZS7kwVanar0+2e7epoe7Ezr4NqnqfKV5JXSXt3qGd3gpX3prf6v7/bqDCU9KVcVuKdj45qXZ+9ZLDWvb489pU0phtCtE3NOIYXbdorjYd9laU6+Pndd+TO5Vy290ak9L6bSpk35r7gu6f/IJfv3VYhw5Lyf0uVD3fZnW1ZFsN0r5C9695yp48Wdl+733owGEp+QJdZPtD+PG7K8h+e4Et1ifnhmL3CbxWwZ54XP205ponJp/eZmanpxmnM9U4nalmQPoss3brAjPWOcNs9Fvs9LY5ZvQAbxmnM9UMm5Rtls4JXH/Q9zuxycweP7RmOaczzYyckmP2+j8V2xhjTJk5+tYsM3ZI7Xs4U0eY+16pfYrzwVcmmWGpfnmLdpilmalm7KLad9yYmWpGP5Ud8J4DRs3we7q2CfLUaJd5/6l0M6D6fQekmyfWbjPzb7E8Id6f55BZOmlE7bYOSDezs+eY0danyh9ZZu4b5ldvD60yBWtn1Kmnss9yzJRRtfvBmTrUjJ21KeDp4rWs2++1MTM1YL3hXl9PrM2p+zk8LrPxqfFmSPV2O1PNgFFTzZJ9fk953zDDDKteT/XTuo9km7HWp4vbqIOyI+vMEwHtM9UMm7Qs4Anz/uwcB6bR+7PALL0r1Tid6Wa+r7mH2u46jmSbsc50M33WVDOyevtSh5qJ8wKfUG+Kd5jZN/rV7YR5ZsfO7DrHe6jjNuix7lN3/zShvRiX2bHIrw6q+6bqdhmqndTTHuq2ZS9b9W2nDdvsTwEAraOpY+ZqzV0+mOaus6nLB/2u5jwgyFigCeOUIGMCzgPqblONIPVVZwxlbIzvgo4z6x/3haoDzgM4DzB269tOG27B/tSq4JUM43SmmtELvY3E1jYHaKl2Zq3XYHXqTQusvxD7LOh66vZrZsMM47RsQ932aHNdxmU2Ztbu0yGzdtSWy9zkt6T9fevPus/MoWXmvqsC9/uO5XW/DwJ4Cszax/yOn+rlTtvcpiPZZqxzqpmf01DfYOcY3WSmO73fc7Xf02lmZOYqU+DXX9ppU8Hqt+4+9KVZ6rfBvvXEDrN4yvUBdTUgfY55P3jHG3Q7jLHRVoMeB0fN4lus6wvevhrsXz0us2OR377y7Y/Z21y+ddZt28HqzhhjzPZZ3r74oXXe/9tpL+3E4/G02KupY+Zqdpd3GGOMNdDfkPz8Y+rVq+bx0K3CfbJQRdFJSklu6FYZt1yFRSqPC1UuiJIiFZa4FZeUolCLuk8WqqgyXkldk+reGuIuUmGRgudZuF2FKqpMUkrXEG9YraRIhSVSUkrdB6PUq3qZrkmKz39B466fqwvmW+ZMrHR7b21MSFFyiFua3K5CFZXX89mbIpzrq6Ht8dVZvW2tEe3JVh1Ur8/GPmrMcWB7f1a65TpZrnj/cna2u1ruCxp3/SqNWbtMGb187a3eurG//Y2qZ3/BlmtKewnVDkLlN4bd+rbRhu31pwCAltbcMXNzlw+muets7vJ22PveasT4wSrYuKAenAfU89mbIpzrq6HtCTW+a0R7slUHnAcE15h69hdsuaa0l1DtIFR+Y9itbxttuLX6U/fJQrnj/dqo3W2u1tx21hJacp+1kJrvHBtt096+rVVnn/n2u53vgwDuIhUWBe+jbG9T9XdRfcez7WM0xGdogzbVYN/qqys1t421UFutt30F6ydr+PoHBVmuEdyuQhUpcPttt5c2VFlpY04lm44dK2jWmNnumDssg/poAbn1DOaB1uY/mG9g3kwAAM5kzR0zN3f5YJq7zuYujzbCeQDaC+cBAIAIFYlB/bCaUx8AAAAAAAAAANSPoP6ZKuECXX/beF0Z+ocdoGUlXKDrbxulC4LdAgcAAIDWxXkA2gvnAQAAtBmm3wEAAABaWHPHzM1dPpjmrrO5ywMAAADhyDr9zvbt2+VyuQLSgklOTtbgwYMD0tpq+h2C+gAAAEALa+6YubnLB9PcdTZ3eQAAACAc+Qf1t2/frnfffTcgvyHf//73AwL7bRXUZ/odAAAAAAAAAAAiBEF9AAAAAAAAAMBZb/DgwerSpYs1OaguXbrUmX6nrRDUBwAAAAAAAABA0pgxYxQbG2tNDhAbG6sxY8ZYk9sMQX0AAAAAAAAAACSlpKQoLS3NmhwgLS1NKSkp1uQ2Q1AfAAAAAAAAAACfYcOGqXv37tZkSVL37t01bNgwa3KbIqgPAAAAAAAAAICfsWPH1pmGJzY2VmPHjg1Iaw8E9QEAAAC0rZLD2rZmvfYds2bY5z78gda9d1huawYAAADQAhISEnT11VcHpF199dVKSEgISGsPBPUBAAAAtK3CzZrzwDQt3m/NsK/gnbn65dzNKrBmAAAAAC2kf//+GjNmjAYOHKgxY8aof//+1iLtgqA+AAAAAAAAAABBXHTRRbr22mt10UUXWbPaDUF9AAAAACE5HA5rEgAAAAA/bTVmJqgPAAAAIKTY2FhVVlZZk+1xHday5zN19+336OHn1yuvvonwT+6vLTf7Je08aS0QQslhbfrLXD18zxj9+Jdzlf1eobUEAAAA0GqsD9ZtLQT1AQAAAISUmNhRLleRNTk012Y9PHqMfrOiUCnO3upwJEc/vnWu9lnLHX5B44bfquf299atGeN1SUGOfjwmU5tc1oL1OLBQNw25VbO2FumSmyfpB3Gb9Yd7rtIv19T3CwIAAADQshITO1qTWgVBfQAAAAAhJSR0VFRUlE6ePN2IK/bdWvfbyVqlm7TwjcV6+okn9OQzi7Xlb3erd0C5/Xpu0ly5frpMW+ZPVfoNNynjmRw9nbZaM57fGVCyXv0m6K+b3tf6xU8o42bv8k+OkNa9tEpcrw8AAIC2kJDQNkF9hzHGWBMbkp9/TL169bAmAwAAAPBp7pi5ucsH01LrLCkpVXFxqSoqKtTIUwkAAADgjOJwOBQbG6vExI4tEtC3O2YnqA8AAAC0sOaOmZu7fDCtsU4AAAAALcfumJ3pdwAAAAAAAAAAiBAE9QEAAAAAAAAAiBAE9QEAAAAAAAAAiBAE9QEAAAAAAAAAiBAE9QEAAAAAAAAAiBAE9QEAAAAAAAAAiBAE9QEAAAAAAAAAiBAE9QEAAAAAAAAAiBAE9QEAAICzgMPhkDHGmgwAAAAgDBhj5HA4rMlBEdQHAAAAzgIxMTEqK3NbkwEAAACEgbIyt2JiYqzJQRHUBwAAAM4CnTolqLi4hKv1AQAAgDBjjFFxcYk6dUqwZgVFUB8AAAA4CyQkdFRMTKy+/vqkSkvLCO4DAAAA7cwYo9LSMn399UnFxMQqIaGjtUhQDtPI0Xx+/jH16tXDmgwAAADAp7lj5uYu35CSklJ9802JPB4PgX0AAACgHTkcDsXExKhTpwTbAX0R1AcAAABaXnPHzM1dHgAAAMCZi+l3AAAAAAAAAACIEAT1AQAAAAAAAACIEAT1AQAAAAAAAACIEI0O6jscDh6oBQAAANTDGCOHw2FNBgAAAIAW0eigfmxsrMrK3NZkAAAAAJLKytyKjY21JgMAAABAi2h0UD8xsaO++aaYq/UBAAAAC2OMvvmmWImJHa1ZAAAAANAiGh3UT0joqLi4OBUWnlBpaRnBfQAAAJz1jDEqLS1TYeEJxcXFKSGBoD4AAACA1uEwTYzKl5SUqri4VBUVFQT2AQAAcFZzOByKjY1VYmLHFgno5+cfU69ePazJAAAAAND0oD4AAACA1kFQHwAAAEB9Gj39DgAAAAAAAAAAaB8E9QEAAAAAAAAAiBAE9QEAAAAAAAAAiBAE9QEAAAAAAAAAiBAE9QEAAAAAAAAAiBAE9QEAAAAAAAAAiBAE9QEAAAAAAAAAiBAE9QEAAIAwYoyRw+GwJgMAAACARFAfAAAACC9lZW7FxMRYkwEAAABAIqgPAAAAhA9jjIqLS9SpU4I1CwAAAAAkSY6qqirD7b0AAABA+zHGqKzMreLiEsXExKpLlyRrkRZXUlKqkpJSVVR4VFVVZc0GAAAA0EqioqIUGxujhISOSkjoaM0OyZGff8wYY6zpAAAAANqIw+FQTEyMOnVKaNKgvjEqKjw6deq0yssrrFkAAAAA2lhcXKy6dOms2Fj7U3A6iOgDAAAAZ4eKCo8KC09wZT4AAAAQRqKiopSSco7twD5z6gMAAABniVOnThPQBwAAAMJMVVWVTp06bU2uF0F9AAAA4CxQUlLKlDsAAABAmCovr1BJSak1OSiC+gAAAMBZwO4JAgAAAID2YXfMTlAfAAAAOAtUVHisSQAAAADCiN0xO0F9AAAA4CzAXPoAAABAeLM7ZieoDwAAAAAAAABAhCCoDwAAAAAAAABAhCCoDwAAAAAAAABAhCCoDwAAAAAAAABAhCCoDwAAAAAAAABAhCCoDwAAAAAAAABAhCCoDwAAAAAAAABAhCCoDwAAAAAAAABAhCCoDwAAAAAAAABAhCCoDwAAAAAAEJbcchUcV0HBcbnc1jwAwNmKoD4AAAAAAEBY2qJfpw1UWtpA/XqzNQ8AcLYiqA8AAAAAANCm3taU3j3Vu77XyAXKtS4CAIAPQX0AAAAAAID2ktxd3XpaXt+Ot5YCAKAGQX0AAAAAAIB2csu8XdrxkeX19wz1sRYEAMDHUVxcYkpKSlVR4VFVVZU1HwDQyqKiohQbG6OEhI5KSOhozW5VVR/mqHLXGzJHd0glp6zZAIDWltBFjvPSFD3wh4q6YoI1t0Xl5x+zJgEA2s3bmtL7Tr0m6ZbsL/U/o6z51eop53HrwJrZ+s3sbG393PcE3ZjuuvG//qJnJg9Wsv8qTmzXwsxfaM6aXLklKb67up1Tmz3umV3KGuFXHgDQrnr16mFNqiPq5MnTcrvLCegDQDupqqqS212ukydPq6Dga1VUeKxFWpz5Yo8qnr9BnlcflPn0HQL6ANBeSk7JfPqOPK8+qIrnb5D5Yo+1BAAAdRxYMErXTFqgrZ+7ldyzu7olS/Ic11u/G6N7c47XFix+WzOGj9GsNblKvmKc7pgwToPij6vgy+MqOOG/RgBAJGH6HQAII+XlFSosPNGqgX3zxR5VLBgvk7vDmgUAaEcmd4e3fyawDwBnlaMfvqm3Vvm/9qjAWsiiX8ajyrz3L3rn0y+176Nd2rHvc/1tgnce/q1LVtQ8ZLfg9QV6ySXp8t9r7Yo/ae6cP+n1t3+vQZLU/Q69+hFX6QNAJCKoDwBhpqqqSqdOnbYmtxjPsoe5Mh8AwlXJKW8/DQA4a3w8/6e6d5L/a752WwtZJY7U1EdHq1+i979u12ldOnSk9z//3K2DvmKlp7/y/vEffdTNl6aefXSeJB09qqPVaQCAiEJQHwDCUHl5hUpKSq3JzVb1YQ5X6ANAmDO5O1T1YY41GQBwhuozYoLumOD/Gqbu1kJBuD9/WwunjVLahT11YepApU1701pE5/bs5/1jzx4dqL4Z+J8f6RNJiu+szn5lAQCRg6A+AISp1gjqV+56w5oEAAhD9NcAcPa4POMZzZ3j/5qg/tZCFq51v1Da8Ds1a/kedRkxTU/+fZ3emzfaWkzx6Y8oa4CkT2frmuvu1IzMO3XND+cpV1L/RyZ5p+EBAEQcgvoAEKZaY159c5Sr9AEgEtBfAwDqt11zJq2QS/G6ZdGneif7Ed19TX/1Se5gLSjFnKt+/ZKl5H7qr91a/85unUodp6ycXVpzbx9raQBAhCCoDwBhqqqqyprUfMylDwCRgf4aAFCv0zrllqQ++s5Fyb40tw7sDTIT/4ezde9yl/rc9xet2bhLOz7apR1v/kn3j7AzwQ8AIFwR1AcAAAAAAAhLndUl3vvXhj8+rg0FktRHfc6TpAOa86MxmpI5XXdd3VfXPH0gcFE/uc/9VHdlTteM6tfjC/TaO3tU4LaWBABEAoL6AAAAAAAAYWmwJj7snWHf9ckCrdgpSf2U+fdHNShGUsF2vZaTow3Fo/Xk23/RHdbFr3hEz4yS5DmgDTk5eqn69efHNeX/jVJa2i+0wWVdCAAQ7hx5eV8aayIAIDz06tXDmtQs5Q+fa00CAISpuKe/siY1S37+MWsSACBCuF3H5XJL8QndlZzoS/S45Tp5Wu7ozup2ju9yfgvXul/oyowV6vPIOv399uopd07rs83ZmjUtW3skDZuzS69MYDoeAAgXdmJBXKkPAAAAAAAQxuKTu6tbN7+AviTFxCu5W/d6A/pSrl6avUIujda0e/urWzfvOrp166dh4zM0+iJvqfiEztYFAQBhjqA+AAAAAADAGaeDks+VpDc1PWO2Nnx6XAUFx1Xw6Ra9MP1OzTkoqdskTUuv70cBAEC4YvodAAhjdm65agym3wGAyMH0OwCAZjvxtmaNu1MLD1ozpH7jf6+nZ2VoULI1BwDQnuzEggjqA0AYs9ORNwZBfQCIHAT1AQAtxe06rtw923XwRLzOG3ip+nTvrmQu0AeAsGQnFsT0OwAAAAAAAGew+OTu6ve90boxfaT6n0dAHwAiHUF9AAAAAAAAAAAiBEF9hDePW66C4yoocMntsWYCAM4GjtRxiho0TlGpl1qzWsmliho4XA5rMgAAAAAAYYCgPtqd+8RxHXjvbe05elwutyUzL1s3pw1UWlq6Xsiz5AEAwtSlihp0j6J/9JSiB92kqBRrfuNEp89XzB3zFZN+jzWrFYxTTNZ6xfy/5Yp9+FkGSgAAAACAsMO5KtqN68MFundIT104YKCuue1O3fCfA5V64UDdNX+7XFyVDwARqI+ixq1X3Jz1irnjKUUPvUfRdyxWTGauYic91uzgftvoI8X5/kzs7pc+TjG/2KLYh1crZpBfMgAAAAAAbYygPtrFgT+PUeq4x/XWl5JiktWtZ3d165ks6bg2/G6Mprzusi4CAAhzjh8uVsz3LvWOLqrcktsteSRFxctx0WRF/3CCdZEw9Jwq35qvqo9zVPnGr1RVk+6U49v95OjRT0oMWAAAAAAAgDZFUB9t7/MFuu/x7ZKk5Bv+pB0HP9WOj3Zpx0ef6tCWZ3THvUv0P+OTrUsBAMLacEX39815f2K1PHP6qHxmH5U/cq4qXlsh8+8cVS7OsS4Ulsx7j8nz0oOq3JHrl9pdivf7LxCBoqIY+gMAAADhzO6Y3V4poMW49dqTj+uAJJ03Ta8uGKduMbW58X0naO6jI2UrpH9iuxb+bKB69+7pfV04SjPWHA8o4i7YohemjVJqX1+Z3j114Q+me+8Q8LP18YFKG/IjvfC5VLBmuq7p21O9ezs165PAcgCA+lwqdfT9WXRAVYW1OWbLZFX86cHaq96Hv6jY3+Uq7ncfKWZ4bbl606u5Tit60keKm/OV4p7+SnFzPlPsHfcEPNA2+p6PFPe7XMXeMVxR6csVO7u6bK5i75ksh/oo+o4tgeu45Tq/NUjR03IV97tcxU17yu//433v01lRowPzgUgRG+s36AIAAAAQduyO2Qnqo41t0dY13r+G/fIe9bfXTus6uEA3Xz5Gs9Ycl5K7q1vP7op379FLPxuou17zTd3jflNT0n6k3yzfI1e0r4wk994c3Tvy1/rYb95+94njKvhyizb8cbqu+lmODngkaYguddaWAQA0ZLXMSd+f52co9o7J9c+hH9VBjvh4Kb5z4EikvvRqF01W9EV9vFP7VEmK6izHoMcUc7tfUD6usxQfL8d3Fyvm6uFyVH/PRMXLkforxWSuVvSgfrXrj+osx/BnA+bJ925DvBTfIfD/1WIC84FIkZBQ/csbAAAAgHBkd8we7JQZaD2fH5B34p3uGtTf/wGEjXFcL/36cX3skfpNXql9+3Zpx0e7dGjjI+onacMf/j/vnQDxo5X1zCRlvbpLhw75yrz/qAZJkitbL79rXa+04ZUcdclYoh2HvlTe50t0C/MmA4BNuap8d7VMlST5gu2ZuYqdtljRaX2shZvGc1xV/3edyh/po/I5k1V1QpLi5RjwoKKtZRM7yPzrOXlmn6vyxSt82xUvR/fOMnt+pYqHz1XFqi2+wt3lSA12a4CXZ865Kn+juuxpVb1xrsofPlflcx60lATCW0JCR8XFxVqTAQAAAISBuLhYgvoId53V2dYcO0F8vkL/+54kjdS0BwbXTtVz0Vj92Cnp6NvacNSb1Of2R3X/97xX6MvjlqvDYA27yJu3/V/+cyX7OB/Vy7NGqlu8pKbeRQAAZ6uP7pHnpfmqOuH2/j8qXo7zblL0Tz5S3LSnmj/oOLFennW7vX8XrpBnj+/v+H5yWGPypR+patFT3mmA9j0lc8KXfny5Kl5YLCPJbFyvqlJvsiPR9zwA4AzXpUtn2/N0AgAAAGgbUVFR6tKlszW5Xozo0U5ydTRw+nv7Duz2XomvLXr86oFKG1L9GqM5n0qSW6r0lfW4tOeVx3X71U717ttXqWlj9PxB/5VZ9O+nFrqeFADOSmbHY/L8vo8qXnlOVf4d/Xn3KOaXvwqY/77ZTp32/dFBjgbvrMr1TtcDQLGxMUpJOYcr9gEAAIAwERcXq5SUc2zPpy+C+mhzfftpsCTJrd17mxrVr+aW71rQGsk9u6tbzz6Kj5bkOaCFP3TqhukLtPX0d3THzD/plbdXaqrvSn0AQOsxHz0lz7xLVT7vKVUV+xLPG9lKA48yGesXAoB6xcbGqFu3b6lr186Kj4/jyn0AAACgjUVFRSk+Pk5du3ZWt27falRAX5IceXlfGmsi0Hrceu1nfTVljaTzpmnNu4/UfViux2/qm88X6Jrhj+uA+ilry2bd31fSP2crbfQ8FWik/ufT+ue9L8j5kdIyt0jOR/TO/01TvxhJytXCkUM161Op38wP9M5k73X5G6b11F3LJY1forx5I62rAtpNr149rEnNUv7wudYkoOWkXCqHdssUBiY77vhIsYP6SDqgqoeHyzNiueJ+ONw3P/135NnsK1hPekzmV4rqLul4TsA89o7btyh2SD9Jx1X10qXyfCxFT/pM0Rd1lkq3qDJrfM2NW8HXMVkxsx5TVEdJBx9T+YL59ZetZ9uA1hT39FfWJAAAAABopQvmgHrF65ap07xT3Bydp9sm5SjX7+pK96fZun3IKC1saIqcAeN1x3mS9LZ+/eu35fLP87jl9nj/LD3tOxG+uJ8voC/pxB7t/rymNACgxVynmHtWK3baFsVcPbx2mp2UcYo+3zexWelXMpJ07LT3X3WW4/zrasrFXDmkeqng4jsrKsX3d8pkRaf28/5d9E9VfexfsBXUTN/TQQ57zy0CAAAAAKBVENRH2xvwiP76qHcSHtea6frehX29c+Kn9tSFI3+trQV7NO9/t3in1klMVndJ0gH9NStHeyRJ/TTt9xOULMm1/E6lDvmRpmRO14wpP1LaRX11w5+9D8A9t6cv2PPaT3VNxnTNmDJGaQN+qteYogEAWt7wDDlS4qWO/RSVvlyxs3MV97tcxWXO9wXi3TL/fNZ75fxn62WKvIs5Br4YWK6hue8736SYzM8Um/mR4jIfU1SivFfOb/pVg4u1iC3v+qb4iZfjmt2KfXiLYic9Zi0FAAAAAECrI6iPdtHv3pXat+JR3dhTktwq+PK4ClySYrrrxpkrtW3OcMVLUrd03T8+WZKU+84CbfVdZR9/zTPa9oZv+S+36LWcHL302hYVdBuua/+jg7fMLc/qb7f7fhJYl6OXXtutc+9dotdn9q/eDABAS9nyE3lemq+q476H18bES/Hx3pGGO1dVmx+QZ+kWX+EcVW7aIlMdiY+PlyoOqOq1p1RVWr1CK7fMxytk3J3l6N7Hu96q0zJbfi7PRu+Pua3rOVV+tNv7o0NMdzl69JOj16WKthYDAAAAAKCVMac+2p3bdVwutyR1UHK3ZG8w38J94rhclVJ8cnclWwrULB/fWd2smX75wZYFwh1z6iMyXaqoQb67pUoPqGrfbmsBr5Thijq/u+Q5LrNri29KnlD6KGrgYCnGJfPxepvLtKDqbZZbOrJaVZbnBwAtiTn1AQAAAARDUB8AwhhBfQA4exHUBwAAABAM0+8AAAAAAAAAABAhCOoDAAAAAAAAABAhCOoDAAAAAAAAABAhCOoDAAAAAAAAABAhCOoDAAAAAAAAABAhCOoDAAAAAAAAABAhCOoDAAAAAAAAABAhCOoDAAAAAAAAABAhCOoDAAAAAAAAABAhCOoDQJiKimqFLjqhizUFABCO6K8BAAAA1KMVIkYAgJYQGxtjTWo2x3lp1iQAQBiivwYAAABQH4L6ABCmEhI6WpOaLXrgD61JAIAwRH8NAAAAoD4E9QEgDMXFxbZKUD/qigly9OHqTwAIZ44+aYq6YoI1GQAAAAAkgvoAEH6ioqLUpUtna3KLibn1aeZqBoBwldDF208DAAAAQD0I6gNAGImLi1VKyjmtMp9+Nce3+yt20nKu2AeAMOPok+btn7/d35oFAAAAADUcxcUlpqSkVBUVHlVVVVnzAQCtLCoqSrGxMUpI6NgqU+40pOrDHFXuekPm6A6p5JQ1GwDQ2hK6yHFemqIH/pApdwAAAADY4jDGGGsiAAAAAAAAAAAIP0y/AwAAAAAAAABAhCCoDwAAAAAAAABAhPj/AS49WV7OojOxAAAAAElFTkSuQmCC)"
      ],
      "metadata": {
        "id": "9N542GzIpPBV"
      }
    },
    {
      "cell_type": "markdown",
      "source": [
        "![image.png](data:image/png;base64,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) temperatura 0.7"
      ],
      "metadata": {
        "id": "BXecqb3WqpHh"
      }
    },
    {
      "cell_type": "markdown",
      "source": [
        "![image.png](data:image/png;base64,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)  temperatura 0.3"
      ],
      "metadata": {
        "id": "rUWnNAucrfir"
      }
    },
    {
      "cell_type": "markdown",
      "source": [
        "![image.png](data:image/png;base64,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)TEMPERATURA 0.3"
      ],
      "metadata": {
        "id": "v4sn40JHuTPv"
      }
    },
    {
      "cell_type": "markdown",
      "source": [
        "# Función de LSTM para parámetros dinámicos (n_chars ajustable)\n"
      ],
      "metadata": {
        "id": "_WC_ypixcI4O"
      }
    },
    {
      "cell_type": "markdown",
      "source": [
        "| **Estrategia**            | **Temperatura usada** | **Tipo de selección**     | **Resultado esperado**                         |\n",
        "|---------------------------|------------------------|----------------------------|------------------------------------------------|\n",
        "| Greedy Search             | `T = 0.01`             | Determinista (`argmax`)    | Texto repetitivo, preciso, menos creativo      |\n",
        "| Sampling controlado       | `T = 0.7`              | Probabilístico ponderado   | Equilibrio entre coherencia y variabilidad     |\n",
        "| Sampling caótico          | `T = 1.2`              | Probabilístico amplio      | Texto más libre, impredecible, creativo        |\n"
      ],
      "metadata": {
        "id": "smVQmgIxkKrF"
      }
    },
    {
      "cell_type": "code",
      "source": [
        "# === 🧠 Función de generación de texto con temperatura (Greedy vs Sampling) ===\n",
        "# Esta función genera texto carácter por carácter usando un modelo LSTM.\n",
        "# Si temperature ≈ 0, se comporta como Greedy Search: elige siempre el carácter más probable (argmax).\n",
        "# Si temperature > 0.1, aplica muestreo probabilístico (sampling), lo que introduce variabilidad controlada.\n",
        "# Esto permite generar texto más creativo, fluido y menos repetitivo.\n"
      ],
      "metadata": {
        "id": "WK695A2wIB-o"
      },
      "execution_count": null,
      "outputs": []
    },
    {
      "cell_type": "code",
      "source": [
        "# --- Función ÚNICA DE GENERACIÓN (Compatible con EMBEDDING) ---\n",
        "def generate_stochastic(model, seed_text, max_length, n_chars, temperature=0.7):\n",
        "    \"\"\"\n",
        "    Generación compatible con la capa EMBEDDING (usa índices enteros, no OHE).\n",
        "    Permite Greedy (T=0.01) y Sampling (T=0.7/1.2).\n",
        "    \"\"\"\n",
        "    global char2idx, idx2char, max_context_size\n",
        "\n",
        "    output_text = seed_text\n",
        "    current_context = seed_text.lower()[-max_context_size:]\n",
        "\n",
        "    for _ in range(n_chars):\n",
        "        # 1. Tokenización a ÍNDICES\n",
        "        encoded = [char2idx.get(char, char2idx.get('<PAD>', 0)) for char in current_context]\n",
        "\n",
        "        # 2. Padding (Input 2D: (1, max_context_size))\n",
        "        padded_sequence = tf.keras.utils.pad_sequences(\n",
        "            [encoded],\n",
        "            maxlen=max_context_size,\n",
        "            padding='pre',\n",
        "            truncating='pre'\n",
        "        )\n",
        "\n",
        "        # 3. Predicción\n",
        "        preds = model.predict(padded_sequence, verbose=0)[0]\n",
        "\n",
        "        # Ajuste para modelos Many-to-Many\n",
        "        if preds.ndim == 2:\n",
        "            preds = preds[-1, :]\n",
        "\n",
        "        # 4. Selección (Greedy si T<0.1, Sampling si T>0.1)\n",
        "        if temperature < 0.1:\n",
        "            next_index = np.argmax(preds)\n",
        "        else:\n",
        "            # Llama a la función definida en el Bloque 1\n",
        "            next_index = sample_from_distribution(preds, temperature)\n",
        "\n",
        "        # 5. Actualizar\n",
        "        out_char = idx2char.get(next_index, ' ')\n",
        "        output_text += out_char\n",
        "        current_context = current_context[-max_context_size:] + out_char\n",
        "\n",
        "    return output_text"
      ],
      "metadata": {
        "id": "uhN_lmQDtvEr"
      },
      "execution_count": null,
      "outputs": []
    },
    {
      "cell_type": "code",
      "source": [
        "texto_generado = generate_stochastic(\n",
        "    model=model_best_lstm,\n",
        "    seed_text=\"el profesor\",\n",
        "    max_context_size=max_context_size,\n",
        "    chars_to_generate=300,\n",
        "    temperature=0.7\n",
        ")\n",
        "print(texto_generado)\n"
      ],
      "metadata": {
        "colab": {
          "base_uri": "https://localhost:8080/"
        },
        "id": "ZoMNvAdkfQpR",
        "outputId": "21c58450-1fd3-4bbd-c36a-0b6d249ea485"
      },
      "execution_count": 91,
      "outputs": [
        {
          "output_type": "stream",
          "name": "stdout",
          "text": [
            "el profesor selel probor de la permes dia a cobros algunles. —s esture de mos por esta alta a una muercios al ostura un las so de la cobuna a mor sobro sopro que eccunda de cuesto. —s por hober que a conterna de la el su perpodo, y el para mueste a recienta, el carrando el pardada por mobio que a soguí en expe\n"
          ]
        }
      ]
    },
    {
      "cell_type": "markdown",
      "source": [
        "![image.png](data:image/png;base64,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)"
      ],
      "metadata": {
        "id": "mFUgJA_8f6Rl"
      }
    },
    {
      "cell_type": "code",
      "source": [
        "texto_generado = generate_stochastic(\n",
        "    model=model_best_lstm,\n",
        "    seed_text=\"el profesor\",\n",
        "    max_context_size=max_context_size,\n",
        "    chars_to_generate=100,\n",
        "    temperature=1.7\n",
        ")\n",
        "print(texto_generado)"
      ],
      "metadata": {
        "colab": {
          "base_uri": "https://localhost:8080/"
        },
        "id": "Dp59YiT5gBB0",
        "outputId": "0d7a9f61-a916-40bf-9394-f1a72c5e9674"
      },
      "execution_count": 92,
      "outputs": [
        {
          "output_type": "stream",
          "name": "stdout",
          "text": [
            "el profesortrágquin etisádo contar\tfas noœtrumu sote gabaertu¿ g.asla doebad. —danguía en la caómia huespescegr\n"
          ]
        }
      ]
    },
    {
      "cell_type": "markdown",
      "source": [
        "![image.png](data:image/png;base64,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)"
      ],
      "metadata": {
        "id": "04h1HADAgNVW"
      }
    },
    {
      "cell_type": "markdown",
      "source": [
        "# Bloque de Análisis Final"
      ],
      "metadata": {
        "id": "YbHn4e__tyPS"
      }
    },
    {
      "cell_type": "code",
      "source": [
        "# --- Análisis Comparativo FINAL ---\n",
        "\n",
        "seed_text_analisis = 'el profesor lidenbrock dijo que era imposible'\n",
        "CHARS_TO_GENERATE = 300\n",
        "\n",
        "print(\"\\n\\n\" + \"=\"*70)\n",
        "print(\"### Análisis de Estrategias de Generación ###\")\n",
        "print(\"=====================================================================\")\n",
        "\n",
        "# 🅰️ 1. Generación Greedy (Corregido a T=0.01)\n",
        "print(\"\\n--- 🅰️ Generación Greedy (T=0.01): Determinístico ---\")\n",
        "texto_greedy_analisis = generate_stochastic(\n",
        "    model=model_best_lstm,\n",
        "    seed_text=seed_text_analisis,\n",
        "    max_context_size=max_context_size,\n",
        "    chars_to_generate=CHARS_TO_GENERATE,\n",
        "    temperature=0.01\n",
        ")\n",
        "print(texto_greedy_analisis)\n",
        "\n",
        "# 🅱️ 2. Muestreo Estocástico (T=0.7): Equilibrio\n",
        "print(\"\\n--- 🅱️ Muestreo Estocástico (T=0.7): SOLUCIÓN Y COHERENCIA ---\")\n",
        "texto_t_07 = generate_stochastic(\n",
        "    model=model_best_lstm,\n",
        "    seed_text=seed_text_analisis,\n",
        "    max_context_size=max_context_size,\n",
        "    chars_to_generate=CHARS_TO_GENERATE,\n",
        "    temperature=0.7\n",
        ")\n",
        "print(texto_t_07)\n",
        "\n",
        "# 🆑 3. Muestreo Estocástico (T=1.2): El Caos\n",
        "print(\"\\n--- 🆑 Muestreo Estocástico (T=1.2): PRUEBA DE SENSIBILIDAD (CAOS) ---\")\n",
        "texto_t_12 = generate_stochastic(\n",
        "    model=model_best_lstm,\n",
        "    seed_text=seed_text_analisis,\n",
        "    max_context_size=max_context_size,\n",
        "    chars_to_generate=CHARS_TO_GENERATE,\n",
        "    temperature=1.2\n",
        ")\n",
        "print(texto_t_12)\n"
      ],
      "metadata": {
        "colab": {
          "base_uri": "https://localhost:8080/"
        },
        "id": "yukhYweyhjMi",
        "outputId": "64910502-2064-48c2-f974-766db1b86b0b"
      },
      "execution_count": 95,
      "outputs": [
        {
          "output_type": "stream",
          "name": "stdout",
          "text": [
            "\n",
            "\n",
            "======================================================================\n",
            "### Análisis de Estrategias de Generación ###\n",
            "=====================================================================\n",
            "\n",
            "--- 🅰️ Generación Greedy (T=0.01): Determinístico ---\n",
            "el profesor lidenbrock dijo que era imposible de la contera de la contera de la contera de la contera de la contera de la contera de la contera de la contera de la contera de la contera de la contera de la contera de la contera de la contera de la contera de la contera de la contera de la contera de la contera de la contera de la contera de la\n",
            "\n",
            "--- 🅱️ Muestreo Estocástico (T=0.7): SOLUCIÓN Y COHERENCIA ---\n",
            "el profesor lidenbrock dijo que era imposible supeces que a me el el se \n",
            "mullad. de cuectures nos dos, y hos que me esta so se \n",
            "tueta lo no suicto, perme de bío broütus de \n",
            "perido diega me \n",
            "meniso. tíando el suerpes sipeco en suda lo fuelta un barigio, y entranto por la brobo esta una musares de la ¿upro de la \n",
            "cuella. destué mus por dos \n",
            "\n",
            "--- 🆑 Muestreo Estocástico (T=1.2): PRUEBA DE SENSIBILIDAD (CAOS) ---\n",
            "el profesor lidenbrock dijo que era imposiblegzo sen gardado del bar \n",
            "guestó  namruelacuino encunando en supro sepficociónso de bajamos\n",
            " de un parodo., ¿ una atures\n",
            " la muecsecel una guoles, —parseres pripode. est yo el per noto. esta no medio desdancho dá cobío, l nobío per meñusiónipesidado pucentos par manies palcunare lo los pera y \n",
            "te\n"
          ]
        }
      ]
    },
    {
      "cell_type": "markdown",
      "source": [
        "======================================================================\n",
        "### Análisis de Estrategias de Generación ###\n",
        "=====================================================================\n",
        "\n",
        "--- 🅰️ Generación Greedy (T=0.01): Determinístico ---\n",
        "el profesor lidenbrock dijo que era imposible de la cuectra a la mista tal grobo que me mediodo de la cueltera de la guederme la mistada por fnobro de la viabes propos podo lo de lo cuales de la vezada la bierter del la bresermo de la misgaba en\n",
        "calidad; el probos por fobro que había nue turmos preción no mendiando el cabrabido de la mis pro\n",
        "\n",
        "--- 🅱️ Muestreo Estocástico (T=0.7): SOLUCIÓN Y COHERENCIA ---\n",
        "el profesor lidenbrock dijo que era imposible de la vialera misa esta des nobsaban super la obros probo el cueltro la misa dusgua a cabeltirido el la bierto del el vas edo la guumer del en\n",
        "trosido de la cobrida tua misguguss poz aba tisitido timpos per sobrabla perdamestrgué la la cumeladama yan las preces\n",
        "mentramos. no se\n",
        "cupiecto, y, p\n",
        "\n",
        "--- 🆑 Muestreo Estocástico (T=1.2): PRUEBA DE SENSIBILIDAD (CAOS) ---\n",
        "el profesor lidenbrock dijo que era imposible góodio, tuas alghondos atrabla\n",
        "un citiciäl poy que medra? habíamos martido piejaó, esta trante distigto, terid exti quan kopato in tivos llidaa. el fuelto. perque ter hobios no supumerglad el gisente que teamectra un di cola piectisos. —qué tilerri, no, —sobo un becieles obos quelo heltré una de"
      ],
      "metadata": {
        "id": "-7S7uMOaW35U"
      }
    },
    {
      "cell_type": "markdown",
      "source": [
        "\n",
        "## Conclusiones Finales: Relación con la Teoría\n",
        "\n",
        "Tu análisis empírico confirma los principios teóricos de la generación de texto en Modelos de Lenguaje basados en RNN\n",
        "\n",
        "### 1. Fallo del Greedy Search ($T \\approx 0.01$)\n",
        "\n",
        "El fallo del *Greedy Search* es una confirmación directa de la **Paradoja de la Decisión Local vs. Global**.\n",
        "\n",
        "* **Teoría:** El *Greedy Search* solo busca la máxima probabilidad **local** en el paso actual ($\\text{argmax}(P(w_t | w_{1..t-1}))$). Ignora la calidad o la coherencia de la secuencia completa ($P(w_1, w_2, ..., w_n)$).\n",
        "\n",
        "* **Confirmación:** El modelo, al ser forzado a elegir siempre el *token* más seguro, cae en **atractores de probabilidad**. Estas son frases muy comunes en el corpus (\"de la mistada,\" \"a la mista\") que el modelo predice con alta confianza, creando bucles repetitivos y demostrando que la **estrategia determinística es subóptima** para la creatividad.\n",
        "\n",
        "### 2. Éxito del Muestreo Moderado ($T=0.7$)\n",
        "\n",
        "El éxito del muestreo moderado se basa en la **Exploración de la Distribución de Probabilidad**.\n",
        "\n",
        "* **Teoría:** El Muestreo Estocástico permite que el modelo explore *tokens* que tienen una probabilidad razonable, pero que no son el máximo. Al aplicar una **temperatura moderada** ($T=0.7$), el modelo suaviza ligeramente la distribución, pero **conserva el peso** de los *tokens* correctos.\n",
        "\n",
        "* **Confirmación:** La generación produce el resultado más coherente porque introduce la **aleatoriedad necesaria** para romper los bucles del *Greedy Search*, permitiendo que el modelo salte a frases menos comunes pero narrativamente válidas. Esta es la **estrategia ideal** para la generación creativa con modelos RNN/LSTM.\n",
        "\n",
        "### 3. Falla del Muestreo Extremo ($T=1.2$)\n",
        "\n",
        "La falla con alta temperatura ilustra la **Degradación de la Distribución**.\n",
        "\n",
        "* **Teoría:** La alta temperatura ($T=1.2$) **aplana la distribución** ($P' \\propto P^{1/T}$), elevando artificialmente la probabilidad de *tokens* que el modelo predijo como incorrectos (bajo $P$). Esto destruye la información que el modelo aprendió sobre la estructura del lenguaje.\n",
        "\n",
        "* **Confirmación:** El resultado es **incoherencia y *tokens* incorrectos** (\"góodio\", \"citiciäl\"). La aleatoriedad supera la estructura. Esto demuestra que, aunque la aleatoriedad es vital, debe ser **controlada** para que la generación siga respetando las reglas de la gramática y el vocabulario aprendidos por la red LSTM.\n",
        "\n"
      ],
      "metadata": {
        "id": "1Wl1eu9bGd4W"
      }
    },
    {
      "cell_type": "markdown",
      "source": [
        "Gráfico de impacto de temperatura  **Guardado en \"impacto_temperatura.png**"
      ],
      "metadata": {
        "id": "JpqTERgw-M9m"
      }
    },
    {
      "cell_type": "code",
      "source": [
        "import matplotlib.pyplot as plt\n",
        "from google.colab import files\n",
        "\n",
        "# Datos subjetivos de coherencia por estrategia\n",
        "estrategias = [\"Greedy (T=0.01)\", \"Sampling (T=0.7)\", \"Sampling (T=1.2)\"]\n",
        "coherencia_aproximada = [9, 6, 2]  # Escala subjetiva: 10 = muy coherente, 1 = caótico\n",
        "\n",
        "# Crear gráfico de barras\n",
        "plt.figure(figsize=(8, 5))\n",
        "plt.bar(estrategias, coherencia_aproximada, color=[\"green\", \"orange\", \"red\"])\n",
        "plt.ylabel(\"Nivel de coherencia (subjetivo)\")\n",
        "plt.title(\"Impacto de la temperatura en la generación de texto\")\n",
        "plt.ylim(0, 10)\n",
        "plt.grid(axis='y')\n",
        "\n",
        "# Guardar como imagen\n",
        "plt.savefig(\"impacto_temperatura.png\", dpi=300, bbox_inches='tight')\n",
        "plt.show()\n",
        "\n"
      ],
      "metadata": {
        "id": "DfxU76or-JmF"
      },
      "execution_count": null,
      "outputs": []
    },
    {
      "cell_type": "markdown",
      "source": [
        "La generación Determinística/Greedy (T=0.01) es inútil para narrativas.\n",
        "\n",
        "La generación Estocástica Moderada (T=0.7) es la mejor estrategia para el modelo de lenguaje.\n",
        "\n",
        "La generación Estocástica Alta (T=1.2) es demasiado ruidosa para ser útil."
      ],
      "metadata": {
        "id": "Z7osbkzNUeGo"
      }
    },
    {
      "cell_type": "markdown",
      "source": [
        "Visualización de evolución de PPL  **GUARDADO EN \"grafico_ppl.png\"**\n"
      ],
      "metadata": {
        "id": "kuOQDfJf9Vj9"
      }
    },
    {
      "cell_type": "code",
      "source": [
        "import matplotlib.pyplot as plt\n",
        "import numpy as np\n",
        "\n",
        "# Identificar la mejor época\n",
        "best_epoch = np.argmin(history_ppl)\n",
        "best_ppl = history_ppl[best_epoch]\n",
        "\n",
        "plt.figure(figsize=(10, 5))\n",
        "plt.plot(history_ppl, marker='o', label='PPL por época')\n",
        "plt.scatter(best_epoch, best_ppl, color='red', zorder=5)\n",
        "plt.text(best_epoch, best_ppl + 0.5, '💾 Saved', color='red', ha='center', fontsize=10)\n",
        "\n",
        "plt.title(\"Evolución de la Perplejidad (PPL) por época\")\n",
        "plt.xlabel(\"Época\")\n",
        "plt.ylabel(\"Perplejidad\")\n",
        "plt.grid(True)\n",
        "plt.legend()\n",
        "\n",
        "# 💾 Guardar como imagen PNG\n",
        "plt.savefig(\"grafico_ppl.png\", dpi=300, bbox_inches='tight')\n",
        "plt.show()\n"
      ],
      "metadata": {
        "id": "5pMJiPxB9P8F"
      },
      "execution_count": null,
      "outputs": []
    },
    {
      "cell_type": "markdown",
      "source": [
        "Guardado y **carga del mejor modelo (best_model_lstm.keras)**"
      ],
      "metadata": {
        "id": "TWbOwXb98byI"
      }
    },
    {
      "cell_type": "code",
      "source": [
        "# ✅ Guardado automático ya ocurre dentro del callback PplCallback\n",
        "# No hace falta guardar manualmente durante el entrenamiento\n",
        "\n",
        "# 📥 Carga del mejor modelo guardado\n",
        "from tensorflow.keras.models import load_model\n",
        "\n",
        "model_best_lstm = load_model(\"best_model_lstm.keras\")\n",
        "print(\"✅ Modelo con menor PPL cargado exitosamente.\")\n",
        "\n",
        "# 📊 Identificación de la mejor época\n",
        "best_epoch = np.argmin(history_ppl)\n",
        "best_ppl = history_ppl[best_epoch]\n",
        "print(f\"🔍 Mejor PPL registrada: {best_ppl:.4f} en la época {best_epoch}\")\n"
      ],
      "metadata": {
        "id": "ny681oCI8gtG"
      },
      "execution_count": null,
      "outputs": []
    },
    {
      "cell_type": "markdown",
      "source": [
        "# **BLOQUE FINAL: Visualización, Guardado y Generación**"
      ],
      "metadata": {
        "id": "El0MG7HsA-ir"
      }
    },
    {
      "cell_type": "markdown",
      "source": [
        "# BLOQUE 1 Entrenamiento y guardado completo"
      ],
      "metadata": {
        "id": "lPG7rai8RbhW"
      }
    },
    {
      "cell_type": "code",
      "source": [
        "\"\"\"\n",
        "🔁 BLOQUE DE ENTRENAMIENTO Y GUARDADO\n",
        "\n",
        "Este bloque entrena el modelo LSTM, calcula métricas clave (pérdida y perplejidad),\n",
        "guarda el modelo y los datos necesarios para poder recuperarlos después sin volver a entrenar.\n",
        "\"\"\"\n",
        "\n",
        "# Entrenamiento\n",
        "history_ppl = []\n",
        "hist_lstm = model_lstm.fit(\n",
        "    X_train,\n",
        "    Y_train,\n",
        "    epochs=20,\n",
        "    batch_size=256,\n",
        "    callbacks=[PplCallback(tokenized_sentences_val, history_ppl)]\n",
        ")\n",
        "\n",
        "# Métricas\n",
        "best_epoch = int(np.argmin(history_ppl))\n",
        "best_ppl = float(history_ppl[best_epoch])\n",
        "loss_history = hist_lstm.history['loss']\n",
        "\n",
        "# Guardado\n",
        "model_lstm.save(\"best_model_lstm.keras\")\n",
        "np.save(\"history_ppl.npy\", np.array(history_ppl))\n",
        "np.save(\"loss_history.npy\", np.array(loss_history))\n",
        "np.save(\"best_epoch.npy\", best_epoch)\n",
        "np.save(\"best_ppl.npy\", best_ppl)\n",
        "print(f\"✅ Guardado completo: modelo + métricas (época {best_epoch}, PPL={best_ppl:.4f})\")\n"
      ],
      "metadata": {
        "colab": {
          "base_uri": "https://localhost:8080/"
        },
        "collapsed": true,
        "id": "wT2ifDSuRdtH",
        "outputId": "8b207123-a61a-475c-dd86-560dacb75dbe"
      },
      "execution_count": 96,
      "outputs": [
        {
          "output_type": "stream",
          "name": "stdout",
          "text": [
            "Epoch 1/20\n",
            "\u001b[1m17/17\u001b[0m \u001b[32m━━━━━━━━━━━━━━━━━━━━\u001b[0m\u001b[37m\u001b[0m \u001b[1m0s\u001b[0m 2s/step - accuracy: 0.7026 - loss: 0.9702\n",
            " 📜 mean perplexity: 132.3800 📜 \n",
            "\n",
            "💾 Saved new best_model_lstm.keras! (Lowest PPL)\n",
            "\u001b[1m17/17\u001b[0m \u001b[32m━━━━━━━━━━━━━━━━━━━━\u001b[0m\u001b[37m\u001b[0m \u001b[1m27s\u001b[0m 2s/step - accuracy: 0.7025 - loss: 0.9709\n",
            "Epoch 2/20\n",
            "\u001b[1m17/17\u001b[0m \u001b[32m━━━━━━━━━━━━━━━━━━━━\u001b[0m\u001b[37m\u001b[0m \u001b[1m0s\u001b[0m 2s/step - accuracy: 0.7312 - loss: 0.9044\n",
            " 📜 mean perplexity: 111.3076 📜 \n",
            "\n",
            "💾 Saved new best_model_lstm.keras! (Lowest PPL)\n",
            "\u001b[1m17/17\u001b[0m \u001b[32m━━━━━━━━━━━━━━━━━━━━\u001b[0m\u001b[37m\u001b[0m \u001b[1m29s\u001b[0m 2s/step - accuracy: 0.7309 - loss: 0.9059\n",
            "Epoch 3/20\n",
            "\u001b[1m17/17\u001b[0m \u001b[32m━━━━━━━━━━━━━━━━━━━━\u001b[0m\u001b[37m\u001b[0m \u001b[1m0s\u001b[0m 2s/step - accuracy: 0.7544 - loss: 0.8397\n",
            " 📜 mean perplexity: 148.9503 📜 \n",
            "\n",
            "\u001b[1m17/17\u001b[0m \u001b[32m━━━━━━━━━━━━━━━━━━━━\u001b[0m\u001b[37m\u001b[0m \u001b[1m27s\u001b[0m 2s/step - accuracy: 0.7537 - loss: 0.8409\n",
            "Epoch 4/20\n",
            "\u001b[1m17/17\u001b[0m \u001b[32m━━━━━━━━━━━━━━━━━━━━\u001b[0m\u001b[37m\u001b[0m \u001b[1m0s\u001b[0m 2s/step - accuracy: 0.7679 - loss: 0.7655\n",
            " 📜 mean perplexity: 243.1575 📜 \n",
            "\n",
            "\u001b[1m17/17\u001b[0m \u001b[32m━━━━━━━━━━━━━━━━━━━━\u001b[0m\u001b[37m\u001b[0m \u001b[1m28s\u001b[0m 2s/step - accuracy: 0.7673 - loss: 0.7678\n",
            "Epoch 5/20\n",
            "\u001b[1m17/17\u001b[0m \u001b[32m━━━━━━━━━━━━━━━━━━━━\u001b[0m\u001b[37m\u001b[0m \u001b[1m0s\u001b[0m 2s/step - accuracy: 0.7788 - loss: 0.7461\n",
            " 📜 mean perplexity: 234.6579 📜 \n",
            "\n",
            "\u001b[1m17/17\u001b[0m \u001b[32m━━━━━━━━━━━━━━━━━━━━\u001b[0m\u001b[37m\u001b[0m \u001b[1m28s\u001b[0m 2s/step - accuracy: 0.7786 - loss: 0.7472\n",
            "Epoch 6/20\n",
            "\u001b[1m17/17\u001b[0m \u001b[32m━━━━━━━━━━━━━━━━━━━━\u001b[0m\u001b[37m\u001b[0m \u001b[1m0s\u001b[0m 2s/step - accuracy: 0.8080 - loss: 0.6785\n",
            " 📜 mean perplexity: 180.1618 📜 \n",
            "\n",
            "\u001b[1m17/17\u001b[0m \u001b[32m━━━━━━━━━━━━━━━━━━━━\u001b[0m\u001b[37m\u001b[0m \u001b[1m29s\u001b[0m 2s/step - accuracy: 0.8071 - loss: 0.6799\n",
            "Epoch 7/20\n",
            "\u001b[1m17/17\u001b[0m \u001b[32m━━━━━━━━━━━━━━━━━━━━\u001b[0m\u001b[37m\u001b[0m \u001b[1m0s\u001b[0m 2s/step - accuracy: 0.8006 - loss: 0.6569\n",
            " 📜 mean perplexity: 221.3110 📜 \n",
            "\n",
            "🛑 Stopping training... PPL did not improve for 5 epochs.\n",
            "\u001b[1m17/17\u001b[0m \u001b[32m━━━━━━━━━━━━━━━━━━━━\u001b[0m\u001b[37m\u001b[0m \u001b[1m29s\u001b[0m 2s/step - accuracy: 0.8004 - loss: 0.6573\n",
            "✅ Guardado completo: modelo + métricas (época 1, PPL=111.3076)\n"
          ]
        }
      ]
    },
    {
      "cell_type": "code",
      "source": [
        "# 📊 Visualización de métricas\n",
        "fig, axs = plt.subplots(1, 2, figsize=(16, 5))\n",
        "\n",
        "# 📉 Pérdida en entrenamiento\n",
        "axs[0].plot(loss_history, marker='o', color='darkorange')\n",
        "axs[0].set_title(\"📊 Evolución de la Pérdida en Entrenamiento\")\n",
        "axs[0].set_xlabel(\"Época\")\n",
        "axs[0].set_ylabel(\"Loss\")\n",
        "axs[0].grid(True)\n",
        "\n",
        "# 📈 Perplejidad en validación\n",
        "axs[1].plot(history_ppl, marker='o', color='teal', label='PPL por época')\n",
        "axs[1].scatter(best_epoch, best_ppl, color='red', zorder=5)\n",
        "axs[1].text(best_epoch, best_ppl + 0.5, '💾 Saved', color='red', ha='center', fontsize=10)\n",
        "axs[1].set_title(\"📉 Evolución de la Perplejidad en Validación\")\n",
        "axs[1].set_xlabel(\"Época\")\n",
        "axs[1].set_ylabel(\"Perplejidad (PPL)\")\n",
        "axs[1].grid(True)\n",
        "axs[1].legend()\n",
        "\n",
        "plt.tight_layout()\n",
        "plt.savefig(\"grafico_loss_y_perplejidad_lstm.png\")\n",
        "plt.show()\n"
      ],
      "metadata": {
        "id": "ml5epKPpYNqn"
      },
      "execution_count": null,
      "outputs": []
    },
    {
      "cell_type": "code",
      "source": [
        "loss_history = np.load(\"loss_history.npy\").tolist()\n",
        "history_ppl = np.load(\"history_ppl.npy\").tolist()\n",
        "best_epoch = int(np.load(\"best_epoch.npy\"))\n",
        "best_ppl = float(np.load(\"best_ppl.npy\"))\n"
      ],
      "metadata": {
        "id": "qTo0Eq7pYU1e"
      },
      "execution_count": null,
      "outputs": []
    },
    {
      "cell_type": "markdown",
      "source": [
        "# BLOQUE DE RECUPERACIÓN"
      ],
      "metadata": {
        "id": "jZOfypTURH8O"
      }
    },
    {
      "cell_type": "code",
      "source": [
        "import numpy as np\n",
        "import matplotlib.pyplot as plt\n",
        "from tensorflow.keras.models import load_model\n",
        "\n",
        "# === Cargar métricas guardadas ===\n",
        "history_ppl = np.load(\"history_ppl.npy\").tolist()\n",
        "loss_history = np.load(\"loss_history.npy\").tolist()\n",
        "best_epoch = int(np.load(\"best_epoch.npy\"))\n",
        "best_ppl = float(np.load(\"best_ppl.npy\"))\n",
        "\n",
        "print(f\"✅ Métricas cargadas:\")\n",
        "print(f\"📌 Mejor época: {best_epoch}\")\n",
        "print(f\"📉 PPL mínima: {best_ppl:.4f}\")\n",
        "\n",
        "# === Cargar modelo entrenado ===\n",
        "model_best_lstm = load_model(\"best_model_lstm.keras\")\n",
        "print(\"✅ Modelo cargado: 'best_model_lstm.keras'\")\n"
      ],
      "metadata": {
        "id": "S53LSz85ZN39"
      },
      "execution_count": null,
      "outputs": []
    },
    {
      "cell_type": "markdown",
      "source": [
        "# BLOQUE DE VISUALIZACIÓN — Gráfico de pérdida y perplejidad"
      ],
      "metadata": {
        "id": "2SK5coC0ZS0e"
      }
    },
    {
      "cell_type": "code",
      "source": [
        "# 📊 Visualización de métricas\n",
        "fig, axs = plt.subplots(1, 2, figsize=(16, 5))\n",
        "\n",
        "# 📉 Pérdida en entrenamiento\n",
        "axs[0].plot(loss_history, marker='o', color='darkorange')\n",
        "axs[0].set_title(\"📊 Evolución de la Pérdida en Entrenamiento\")\n",
        "axs[0].set_xlabel(\"Época\")\n",
        "axs[0].set_ylabel(\"Loss\")\n",
        "axs[0].grid(True)\n",
        "\n",
        "# 📈 Perplejidad en validación\n",
        "axs[1].plot(history_ppl, marker='o', color='teal', label='PPL por época')\n",
        "axs[1].scatter(best_epoch, best_ppl, color='red', zorder=5)\n",
        "axs[1].text(best_epoch, best_ppl + 0.5, '💾 Saved', color='red', ha='center', fontsize=10)\n",
        "axs[1].set_title(\"📉 Evolución de la Perplejidad en Validación\")\n",
        "axs[1].set_xlabel(\"Época\")\n",
        "axs[1].set_ylabel(\"Perplejidad (PPL)\")\n",
        "axs[1].grid(True)\n",
        "axs[1].legend()\n",
        "\n",
        "plt.tight_layout()\n",
        "plt.savefig(\"grafico_loss_y_perplejidad_lstm.png\")\n",
        "plt.show()\n"
      ],
      "metadata": {
        "id": "txCAwCn5ZQat"
      },
      "execution_count": null,
      "outputs": []
    },
    {
      "cell_type": "code",
      "source": [
        "import zipfile\n",
        "import os\n",
        "\n",
        "# === Archivos que querés incluir ===\n",
        "archivos_entrega = [\n",
        "    \"Desafío 3 LSTM Cánovas.ipynb\",\n",
        "    \"best_model_lstm.keras\",\n",
        "    \"history_ppl.npy\",\n",
        "    \"loss_history.npy\",\n",
        "    \"best_epoch.npy\",\n",
        "    \"best_ppl.npy\",\n",
        "    \"grafico_loss_y_perplejidad_lstm.png\"\n",
        "]\n",
        "\n",
        "# === Crear archivo ZIP\n",
        "nombre_zip = \"Entrega_LSTM_Marisa.zip\"\n",
        "with zipfile.ZipFile(nombre_zip, 'w') as zipf:\n",
        "    for archivo in archivos_entrega:\n",
        "        if os.path.exists(archivo):\n",
        "            zipf.write(archivo)\n",
        "            print(f\"✅ Incluido: {archivo}\")\n",
        "        else:\n",
        "            print(f\"⚠️ No encontrado: {archivo}\")\n",
        "\n",
        "# === Descargar desde Colab\n",
        "from google.colab import files\n",
        "files.download(nombre_zip)\n"
      ],
      "metadata": {
        "id": "d0xiNJMtnmBq"
      },
      "execution_count": null,
      "outputs": []
    }
  ]
}