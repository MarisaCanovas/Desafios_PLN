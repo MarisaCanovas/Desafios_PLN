{
  "cells": [
    {
      "cell_type": "markdown",
      "metadata": {
        "id": "sZd5yLnnHOK0"
      },
      "source": [
        "<img src=\"https://github.com/hernancontigiani/ceia_memorias_especializacion/raw/master/Figures/logoFIUBA.jpg\" width=\"500\" align=\"center\">\n",
        "\n",
        "\n",
        "# Procesamiento de lenguaje natural\n",
        "## Custom embedddings con Gensim\n",
        "\n"
      ]
    },
    {
      "cell_type": "markdown",
      "metadata": {
        "id": "vA7nqkumo9z9"
      },
      "source": [
        "### Objetivo\n",
        "El objetivo es utilizar documentos / corpus para crear embeddings de palabras basado en ese contexto. Se utilizará canciones de bandas para generar los embeddings, es decir, que los vectores tendrán la forma en función de como esa banda haya utilizado las palabras en sus canciones."
      ]
    },
    {
      "cell_type": "code",
      "source": [
        "!pip install gensim"
      ],
      "metadata": {
        "colab": {
          "base_uri": "https://localhost:8080/"
        },
        "id": "yU-mBTVUwS_k",
        "outputId": "af6d120f-4386-4b91-8e8c-467a93965e3b"
      },
      "execution_count": 4,
      "outputs": [
        {
          "output_type": "stream",
          "name": "stdout",
          "text": [
            "Requirement already satisfied: gensim in /usr/local/lib/python3.12/dist-packages (4.3.3)\n",
            "Requirement already satisfied: numpy<2.0,>=1.18.5 in /usr/local/lib/python3.12/dist-packages (from gensim) (1.26.4)\n",
            "Requirement already satisfied: scipy<1.14.0,>=1.7.0 in /usr/local/lib/python3.12/dist-packages (from gensim) (1.13.1)\n",
            "Requirement already satisfied: smart-open>=1.8.1 in /usr/local/lib/python3.12/dist-packages (from gensim) (7.3.1)\n",
            "Requirement already satisfied: wrapt in /usr/local/lib/python3.12/dist-packages (from smart-open>=1.8.1->gensim) (1.17.3)\n"
          ]
        }
      ]
    },
    {
      "cell_type": "code",
      "source": [
        "!pip install pandas"
      ],
      "metadata": {
        "colab": {
          "base_uri": "https://localhost:8080/"
        },
        "collapsed": true,
        "id": "pG20thJrxfFz",
        "outputId": "43356dcb-1158-4682-a5e9-51ea1dc69cde"
      },
      "execution_count": 6,
      "outputs": [
        {
          "output_type": "stream",
          "name": "stdout",
          "text": [
            "Collecting pandas\n",
            "  Downloading pandas-2.3.2-cp312-cp312-manylinux_2_17_x86_64.manylinux2014_x86_64.whl.metadata (91 kB)\n",
            "\u001b[?25l     \u001b[90m━━━━━━━━━━━━━━━━━━━━━━━━━━━━━━━━━━━━━━━━\u001b[0m \u001b[32m0.0/91.2 kB\u001b[0m \u001b[31m?\u001b[0m eta \u001b[36m-:--:--\u001b[0m\r\u001b[2K     \u001b[90m━━━━━━━━━━━━━━━━━━━━━━━━━━━━━━━━━━━━━━━━\u001b[0m \u001b[32m91.2/91.2 kB\u001b[0m \u001b[31m2.7 MB/s\u001b[0m eta \u001b[36m0:00:00\u001b[0m\n",
            "\u001b[?25hRequirement already satisfied: numpy>=1.26.0 in /usr/local/lib/python3.12/dist-packages (from pandas) (1.26.4)\n",
            "Requirement already satisfied: python-dateutil>=2.8.2 in /usr/local/lib/python3.12/dist-packages (from pandas) (2.9.0.post0)\n",
            "Requirement already satisfied: pytz>=2020.1 in /usr/local/lib/python3.12/dist-packages (from pandas) (2025.2)\n",
            "Requirement already satisfied: tzdata>=2022.7 in /usr/local/lib/python3.12/dist-packages (from pandas) (2025.2)\n",
            "Requirement already satisfied: six>=1.5 in /usr/local/lib/python3.12/dist-packages (from python-dateutil>=2.8.2->pandas) (1.17.0)\n",
            "Downloading pandas-2.3.2-cp312-cp312-manylinux_2_17_x86_64.manylinux2014_x86_64.whl (12.0 MB)\n",
            "\u001b[2K   \u001b[90m━━━━━━━━━━━━━━━━━━━━━━━━━━━━━━━━━━━━━━━━\u001b[0m \u001b[32m12.0/12.0 MB\u001b[0m \u001b[31m67.4 MB/s\u001b[0m eta \u001b[36m0:00:00\u001b[0m\n",
            "\u001b[?25hInstalling collected packages: pandas\n",
            "\u001b[31mERROR: pip's dependency resolver does not currently take into account all the packages that are installed. This behaviour is the source of the following dependency conflicts.\n",
            "arviz 0.22.0 requires matplotlib>=3.8, which is not installed.\n",
            "bigframes 2.19.0 requires matplotlib>=3.7.1, which is not installed.\n",
            "geemap 0.35.3 requires matplotlib, which is not installed.\n",
            "prophet 1.1.7 requires matplotlib>=2.0.0, which is not installed.\n",
            "mlxtend 0.23.4 requires matplotlib>=3.0.0, which is not installed.\n",
            "fastai 2.8.4 requires matplotlib, which is not installed.\n",
            "plotnine 0.14.5 requires matplotlib>=3.8.0, which is not installed.\n",
            "google-colab 1.0.0 requires pandas==2.2.2, but you have pandas 2.3.2 which is incompatible.\n",
            "cudf-cu12 25.6.0 requires pandas<2.2.4dev0,>=2.0, but you have pandas 2.3.2 which is incompatible.\n",
            "dask-cudf-cu12 25.6.0 requires pandas<2.2.4dev0,>=2.0, but you have pandas 2.3.2 which is incompatible.\n",
            "tsfresh 0.21.1 requires scipy>=1.14.0; python_version >= \"3.10\", but you have scipy 1.13.1 which is incompatible.\u001b[0m\u001b[31m\n",
            "\u001b[0mSuccessfully installed pandas-2.3.2\n"
          ]
        }
      ]
    },
    {
      "cell_type": "code",
      "source": [
        "!pip install matplotlib seaborn"
      ],
      "metadata": {
        "colab": {
          "base_uri": "https://localhost:8080/"
        },
        "collapsed": true,
        "id": "KKjF2vLxxhqq",
        "outputId": "e4b8825f-45ed-4484-b864-1b445271fdc5"
      },
      "execution_count": 7,
      "outputs": [
        {
          "output_type": "stream",
          "name": "stdout",
          "text": [
            "Collecting matplotlib\n",
            "  Downloading matplotlib-3.10.6-cp312-cp312-manylinux2014_x86_64.manylinux_2_17_x86_64.whl.metadata (11 kB)\n",
            "Collecting seaborn\n",
            "  Downloading seaborn-0.13.2-py3-none-any.whl.metadata (5.4 kB)\n",
            "Requirement already satisfied: contourpy>=1.0.1 in /usr/local/lib/python3.12/dist-packages (from matplotlib) (1.3.3)\n",
            "Requirement already satisfied: cycler>=0.10 in /usr/local/lib/python3.12/dist-packages (from matplotlib) (0.12.1)\n",
            "Requirement already satisfied: fonttools>=4.22.0 in /usr/local/lib/python3.12/dist-packages (from matplotlib) (4.59.2)\n",
            "Requirement already satisfied: kiwisolver>=1.3.1 in /usr/local/lib/python3.12/dist-packages (from matplotlib) (1.4.9)\n",
            "Requirement already satisfied: numpy>=1.23 in /usr/local/lib/python3.12/dist-packages (from matplotlib) (1.26.4)\n",
            "Requirement already satisfied: packaging>=20.0 in /usr/local/lib/python3.12/dist-packages (from matplotlib) (25.0)\n",
            "Requirement already satisfied: pillow>=8 in /usr/local/lib/python3.12/dist-packages (from matplotlib) (11.3.0)\n",
            "Requirement already satisfied: pyparsing>=2.3.1 in /usr/local/lib/python3.12/dist-packages (from matplotlib) (3.2.3)\n",
            "Requirement already satisfied: python-dateutil>=2.7 in /usr/local/lib/python3.12/dist-packages (from matplotlib) (2.9.0.post0)\n",
            "Requirement already satisfied: pandas>=1.2 in /usr/local/lib/python3.12/dist-packages (from seaborn) (2.3.2)\n",
            "Requirement already satisfied: pytz>=2020.1 in /usr/local/lib/python3.12/dist-packages (from pandas>=1.2->seaborn) (2025.2)\n",
            "Requirement already satisfied: tzdata>=2022.7 in /usr/local/lib/python3.12/dist-packages (from pandas>=1.2->seaborn) (2025.2)\n",
            "Requirement already satisfied: six>=1.5 in /usr/local/lib/python3.12/dist-packages (from python-dateutil>=2.7->matplotlib) (1.17.0)\n",
            "Downloading matplotlib-3.10.6-cp312-cp312-manylinux2014_x86_64.manylinux_2_17_x86_64.whl (8.7 MB)\n",
            "\u001b[2K   \u001b[90m━━━━━━━━━━━━━━━━━━━━━━━━━━━━━━━━━━━━━━━━\u001b[0m \u001b[32m8.7/8.7 MB\u001b[0m \u001b[31m63.2 MB/s\u001b[0m eta \u001b[36m0:00:00\u001b[0m\n",
            "\u001b[?25hDownloading seaborn-0.13.2-py3-none-any.whl (294 kB)\n",
            "\u001b[2K   \u001b[90m━━━━━━━━━━━━━━━━━━━━━━━━━━━━━━━━━━━━━━━━\u001b[0m \u001b[32m294.9/294.9 kB\u001b[0m \u001b[31m23.1 MB/s\u001b[0m eta \u001b[36m0:00:00\u001b[0m\n",
            "\u001b[?25hInstalling collected packages: matplotlib, seaborn\n",
            "Successfully installed matplotlib-3.10.6 seaborn-0.13.2\n"
          ]
        }
      ]
    },
    {
      "cell_type": "code",
      "execution_count": 8,
      "metadata": {
        "id": "lFToQs5FK5uZ"
      },
      "outputs": [],
      "source": [
        "import pandas as pd\n",
        "import matplotlib.pyplot as plt\n",
        "import seaborn as sns\n",
        "import multiprocessing\n",
        "from gensim.models import Word2Vec"
      ]
    },
    {
      "cell_type": "markdown",
      "metadata": {
        "id": "g07zJxG7H9vG"
      },
      "source": [
        "### Datos\n",
        "Utilizaremos como dataset canciones de bandas de habla inglesa."
      ]
    },
    {
      "cell_type": "code",
      "execution_count": 9,
      "metadata": {
        "collapsed": true,
        "id": "l7z4CSBfpR3X",
        "colab": {
          "base_uri": "https://localhost:8080/"
        },
        "outputId": "e9965020-9ba1-4d40-dd27-08e2d40613dd"
      },
      "outputs": [
        {
          "output_type": "stream",
          "name": "stdout",
          "text": [
            "--2025-09-18 12:22:31--  http://songs_dataset.zip/\n",
            "Resolving songs_dataset.zip (songs_dataset.zip)... failed: Name or service not known.\n",
            "wget: unable to resolve host address ‘songs_dataset.zip’\n",
            "--2025-09-18 12:22:31--  https://github.com/FIUBA-Posgrado-Inteligencia-Artificial/procesamiento_lenguaje_natural/raw/main/datasets/songs_dataset.zip\n",
            "Resolving github.com (github.com)... 140.82.112.4\n",
            "Connecting to github.com (github.com)|140.82.112.4|:443... connected.\n",
            "HTTP request sent, awaiting response... 302 Found\n",
            "Location: https://raw.githubusercontent.com/FIUBA-Posgrado-Inteligencia-Artificial/procesamiento_lenguaje_natural/main/datasets/songs_dataset.zip [following]\n",
            "--2025-09-18 12:22:32--  https://raw.githubusercontent.com/FIUBA-Posgrado-Inteligencia-Artificial/procesamiento_lenguaje_natural/main/datasets/songs_dataset.zip\n",
            "Resolving raw.githubusercontent.com (raw.githubusercontent.com)... 185.199.108.133, 185.199.109.133, 185.199.110.133, ...\n",
            "Connecting to raw.githubusercontent.com (raw.githubusercontent.com)|185.199.108.133|:443... connected.\n",
            "HTTP request sent, awaiting response... 200 OK\n",
            "Length: 2075036 (2.0M) [application/zip]\n",
            "Saving to: ‘songs_dataset.zip’\n",
            "\n",
            "songs_dataset.zip   100%[===================>]   1.98M  --.-KB/s    in 0.07s   \n",
            "\n",
            "2025-09-18 12:22:32 (28.6 MB/s) - ‘songs_dataset.zip’ saved [2075036/2075036]\n",
            "\n",
            "FINISHED --2025-09-18 12:22:32--\n",
            "Total wall clock time: 0.7s\n",
            "Downloaded: 1 files, 2.0M in 0.07s (28.6 MB/s)\n"
          ]
        }
      ],
      "source": [
        "# Descargar la carpeta de dataset\n",
        "import os\n",
        "import platform\n",
        "if os.access('./songs_dataset', os.F_OK) is False:\n",
        "    if os.access('songs_dataset.zip', os.F_OK) is False:\n",
        "        if platform.system() == 'Windows':\n",
        "            !curl https://raw.githubusercontent.com/FIUBA-Posgrado-Inteligencia-Artificial/procesamiento_lenguaje_natural/main/datasets/songs_dataset.zip -o songs_dataset.zip\n",
        "        else:\n",
        "            !wget songs_dataset.zip https://github.com/FIUBA-Posgrado-Inteligencia-Artificial/procesamiento_lenguaje_natural/raw/main/datasets/songs_dataset.zip\n",
        "    !unzip -q songs_dataset.zip\n",
        "else:\n",
        "    print(\"El dataset ya se encuentra descargado\")"
      ]
    },
    {
      "cell_type": "code",
      "execution_count": 10,
      "metadata": {
        "id": "mysGrIw9ljC2",
        "colab": {
          "base_uri": "https://localhost:8080/"
        },
        "outputId": "832bfb5d-fcd9-453d-e1d2-39b8aba88940"
      },
      "outputs": [
        {
          "output_type": "execute_result",
          "data": {
            "text/plain": [
              "['patti-smith.txt',\n",
              " 'nickelback.txt',\n",
              " 'missy-elliott.txt',\n",
              " 'bjork.txt',\n",
              " 'bob-dylan.txt',\n",
              " 'beatles.txt',\n",
              " 'lorde.txt',\n",
              " 'blink-182.txt',\n",
              " 'paul-simon.txt',\n",
              " 'jimi-hendrix.txt',\n",
              " 'amy-winehouse.txt',\n",
              " 'prince.txt',\n",
              " 'dickinson.txt',\n",
              " 'eminem.txt',\n",
              " 'leonard-cohen.txt',\n",
              " 'radiohead.txt',\n",
              " 'britney-spears.txt',\n",
              " 'dj-khaled.txt',\n",
              " 'adele.txt',\n",
              " 'drake.txt',\n",
              " 'lil-wayne.txt',\n",
              " 'kanye-west.txt',\n",
              " 'bruno-mars.txt',\n",
              " 'janisjoplin.txt',\n",
              " 'lin-manuel-miranda.txt',\n",
              " 'bieber.txt',\n",
              " 'ludacris.txt',\n",
              " 'joni-mitchell.txt',\n",
              " 'nicki-minaj.txt',\n",
              " 'dr-seuss.txt',\n",
              " 'notorious-big.txt',\n",
              " 'r-kelly.txt',\n",
              " 'bob-marley.txt',\n",
              " 'kanye.txt',\n",
              " 'nirvana.txt',\n",
              " 'dolly-parton.txt',\n",
              " 'rihanna.txt',\n",
              " 'disney.txt',\n",
              " 'nursery_rhymes.txt',\n",
              " 'bruce-springsteen.txt',\n",
              " 'michael-jackson.txt',\n",
              " 'cake.txt',\n",
              " 'notorious_big.txt',\n",
              " 'al-green.txt',\n",
              " 'Lil_Wayne.txt',\n",
              " 'lady-gaga.txt',\n",
              " 'Kanye_West.txt',\n",
              " 'alicia-keys.txt',\n",
              " 'johnny-cash.txt']"
            ]
          },
          "metadata": {},
          "execution_count": 10
        }
      ],
      "source": [
        "# Posibles bandas\n",
        "os.listdir(\"./songs_dataset/\")"
      ]
    },
    {
      "cell_type": "code",
      "execution_count": null,
      "metadata": {
        "collapsed": true,
        "id": "ticoqYD1Z3I7"
      },
      "outputs": [],
      "source": [
        "# Armar el dataset utilizando salto de línea para separar las oraciones/docs\n",
        "df = pd.read_csv('songs_dataset/beatles.txt', sep='/n', header=None)\n",
        "df.head()"
      ]
    },
    {
      "cell_type": "code",
      "execution_count": null,
      "metadata": {
        "id": "LEpKubK9XzXN"
      },
      "outputs": [],
      "source": [
        "print(\"Cantidad de documentos:\", df.shape[0])"
      ]
    },
    {
      "cell_type": "markdown",
      "metadata": {
        "id": "ab94qaFlrA1G"
      },
      "source": [
        "### 1 - Preprocesamiento"
      ]
    },
    {
      "cell_type": "code",
      "execution_count": null,
      "metadata": {
        "id": "rIsmMWmjrDHd"
      },
      "outputs": [],
      "source": [
        "from tensorflow.keras.preprocessing.text import text_to_word_sequence\n",
        "\n",
        "sentence_tokens = []\n",
        "# Recorrer todas las filas y transformar las oraciones\n",
        "# en una secuencia de palabras (esto podría realizarse con NLTK o spaCy también)\n",
        "for _, row in df[:None].iterrows():\n",
        "    sentence_tokens.append(text_to_word_sequence(row[0]))"
      ]
    },
    {
      "cell_type": "code",
      "execution_count": null,
      "metadata": {
        "id": "CHepi_DGrbhq"
      },
      "outputs": [],
      "source": [
        "# Demos un vistazo\n",
        "sentence_tokens[:2]"
      ]
    },
    {
      "cell_type": "markdown",
      "metadata": {
        "id": "pZGMe7NomwCZ"
      },
      "source": [
        "### 2 - Crear los vectores (word2vec)"
      ]
    },
    {
      "cell_type": "code",
      "execution_count": null,
      "metadata": {
        "id": "OSb0v7h8r7hK"
      },
      "outputs": [],
      "source": [
        "from gensim.models.callbacks import CallbackAny2Vec\n",
        "# Durante el entrenamiento gensim por defecto no informa el \"loss\" en cada época\n",
        "# Sobrecargamos el callback para poder tener esta información\n",
        "class callback(CallbackAny2Vec):\n",
        "    \"\"\"\n",
        "    Callback to print loss after each epoch\n",
        "    \"\"\"\n",
        "    def __init__(self):\n",
        "        self.epoch = 0\n",
        "\n",
        "    def on_epoch_end(self, model):\n",
        "        loss = model.get_latest_training_loss()\n",
        "        if self.epoch == 0:\n",
        "            print('Loss after epoch {}: {}'.format(self.epoch, loss))\n",
        "        else:\n",
        "            print('Loss after epoch {}: {}'.format(self.epoch, loss- self.loss_previous_step))\n",
        "        self.epoch += 1\n",
        "        self.loss_previous_step = loss"
      ]
    },
    {
      "cell_type": "code",
      "execution_count": null,
      "metadata": {
        "id": "i0wnDdv9sJ47"
      },
      "outputs": [],
      "source": [
        "# Crearmos el modelo generador de vectores\n",
        "# En este caso utilizaremos la estructura modelo Skipgram\n",
        "w2v_model = Word2Vec(min_count=5,    # frecuencia mínima de palabra para incluirla en el vocabulario\n",
        "                     window=2,       # cant de palabras antes y desp de la predicha\n",
        "                     vector_size=300,       # dimensionalidad de los vectores\n",
        "                     negative=20,    # cantidad de negative samples... 0 es no se usa\n",
        "                     workers=1,      # si tienen más cores pueden cambiar este valor\n",
        "                     sg=1)           # modelo 0:CBOW  1:skipgram"
      ]
    },
    {
      "cell_type": "code",
      "execution_count": null,
      "metadata": {
        "id": "5lTt8wErsf17"
      },
      "outputs": [],
      "source": [
        "# Obtener el vocabulario con los tokens\n",
        "w2v_model.build_vocab(sentence_tokens)"
      ]
    },
    {
      "cell_type": "code",
      "execution_count": null,
      "metadata": {
        "id": "TNc9qt4os5AT"
      },
      "outputs": [],
      "source": [
        "# Cantidad de filas/docs encontradas en el corpus\n",
        "print(\"Cantidad de docs en el corpus:\", w2v_model.corpus_count)"
      ]
    },
    {
      "cell_type": "code",
      "execution_count": null,
      "metadata": {
        "id": "idw9cHF3tSMl"
      },
      "outputs": [],
      "source": [
        "# Cantidad de words encontradas en el corpus\n",
        "print(\"Cantidad de words distintas en el corpus:\", len(w2v_model.wv.index_to_key))"
      ]
    },
    {
      "cell_type": "markdown",
      "metadata": {
        "id": "81c5ScbCxC9i"
      },
      "source": [
        "### 3 - Entrenar embeddings"
      ]
    },
    {
      "cell_type": "code",
      "execution_count": null,
      "metadata": {
        "id": "QSp-x0PAsq56"
      },
      "outputs": [],
      "source": [
        "# Entrenamos el modelo generador de vectores\n",
        "# Utilizamos nuestro callback\n",
        "w2v_model.train(sentence_tokens,\n",
        "                 total_examples=w2v_model.corpus_count,\n",
        "                 epochs=20,\n",
        "                 compute_loss = True,\n",
        "                 callbacks=[callback()]\n",
        "                 )"
      ]
    },
    {
      "cell_type": "markdown",
      "metadata": {
        "id": "heIz2Lpz0dgd"
      },
      "source": [
        "### 4 - Ensayar"
      ]
    },
    {
      "cell_type": "code",
      "execution_count": null,
      "metadata": {
        "id": "6cHN9xGLuPEm"
      },
      "outputs": [],
      "source": [
        "# Palabras que MÁS se relacionan con...:\n",
        "w2v_model.wv.most_similar(positive=[\"darling\"], topn=10)"
      ]
    },
    {
      "cell_type": "code",
      "execution_count": null,
      "metadata": {
        "id": "47HiU5gdkdMq"
      },
      "outputs": [],
      "source": [
        "# Palabras que MENOS se relacionan con...:\n",
        "w2v_model.wv.most_similar(negative=[\"love\"], topn=10)"
      ]
    },
    {
      "cell_type": "code",
      "execution_count": null,
      "metadata": {
        "id": "DT4Rvno2mD65"
      },
      "outputs": [],
      "source": [
        "# Palabras que MÁS se relacionan con...:\n",
        "w2v_model.wv.most_similar(positive=[\"four\"], topn=10)"
      ]
    },
    {
      "cell_type": "code",
      "execution_count": null,
      "metadata": {
        "id": "XPLDPgzBmQXt"
      },
      "outputs": [],
      "source": [
        "# Palabras que MÁS se relacionan con...:\n",
        "w2v_model.wv.most_similar(positive=[\"money\"], topn=5)"
      ]
    },
    {
      "cell_type": "code",
      "execution_count": null,
      "metadata": {
        "id": "L_UvHPMMklOr"
      },
      "outputs": [],
      "source": [
        "# Ensayar con una palabra que no está en el vocabulario:\n",
        "w2v_model.wv.most_similar(negative=[\"diedaa\"])"
      ]
    },
    {
      "cell_type": "code",
      "execution_count": null,
      "metadata": {
        "id": "YiKvsljRjM7x"
      },
      "outputs": [],
      "source": [
        "# el método `get_vector` permite obtener los vectores:\n",
        "vector_love = w2v_model.wv.get_vector(\"love\")\n",
        "print(vector_love)"
      ]
    },
    {
      "cell_type": "code",
      "execution_count": null,
      "metadata": {
        "id": "kMeYANHqjM7x"
      },
      "outputs": [],
      "source": [
        "# el método `most_similar` también permite comparar a partir de vectores\n",
        "w2v_model.wv.most_similar(vector_love)"
      ]
    },
    {
      "cell_type": "code",
      "execution_count": null,
      "metadata": {
        "id": "Ei40JY2QjM7x"
      },
      "outputs": [],
      "source": [
        "# Palabras que MÁS se relacionan con...:\n",
        "w2v_model.wv.most_similar(positive=[\"love\"], topn=10)"
      ]
    },
    {
      "cell_type": "markdown",
      "metadata": {
        "id": "_g8UVWe6lFmh"
      },
      "source": [
        "### 5 - Visualizar agrupación de vectores"
      ]
    },
    {
      "cell_type": "code",
      "execution_count": null,
      "metadata": {
        "id": "pDxEVXAivjr9"
      },
      "outputs": [],
      "source": [
        "from sklearn.decomposition import IncrementalPCA\n",
        "from sklearn.manifold import TSNE\n",
        "import numpy as np\n",
        "\n",
        "def reduce_dimensions(model, num_dimensions = 2 ):\n",
        "\n",
        "    vectors = np.asarray(model.wv.vectors)\n",
        "    labels = np.asarray(model.wv.index_to_key)\n",
        "\n",
        "    tsne = TSNE(n_components=num_dimensions, random_state=0)\n",
        "    vectors = tsne.fit_transform(vectors)\n",
        "\n",
        "    return vectors, labels"
      ]
    },
    {
      "cell_type": "code",
      "execution_count": null,
      "metadata": {
        "id": "NCCXtDpcugmd"
      },
      "outputs": [],
      "source": [
        "# Graficar los embedddings en 2D\n",
        "import plotly.graph_objects as go\n",
        "import plotly.express as px\n",
        "\n",
        "vecs, labels = reduce_dimensions(w2v_model)\n",
        "\n",
        "MAX_WORDS=200\n",
        "fig = px.scatter(x=vecs[:MAX_WORDS,0], y=vecs[:MAX_WORDS,1], text=labels[:MAX_WORDS])\n",
        "fig.show(renderer=\"colab\") # esto para plotly en colab"
      ]
    },
    {
      "cell_type": "code",
      "execution_count": null,
      "metadata": {
        "id": "YeoldyQCjM7x"
      },
      "outputs": [],
      "source": [
        "# Graficar los embedddings en 3D\n",
        "\n",
        "vecs, labels = reduce_dimensions(w2v_model,3)\n",
        "\n",
        "fig = px.scatter_3d(x=vecs[:MAX_WORDS,0], y=vecs[:MAX_WORDS,1], z=vecs[:MAX_WORDS,2],text=labels[:MAX_WORDS])\n",
        "fig.update_traces(marker_size = 2)\n",
        "fig.show(renderer=\"colab\") # esto para plotly en colab"
      ]
    },
    {
      "cell_type": "code",
      "execution_count": null,
      "metadata": {
        "id": "FprBkNDwjM7x"
      },
      "outputs": [],
      "source": [
        "# También se pueden guardar los vectores y labels como tsv para graficar en\n",
        "# http://projector.tensorflow.org/\n",
        "\n",
        "\n",
        "vectors = np.asarray(w2v_model.wv.vectors)\n",
        "labels = list(w2v_model.wv.index_to_key)\n",
        "\n",
        "np.savetxt(\"vectors.tsv\", vectors, delimiter=\"\\t\")\n",
        "\n",
        "with open(\"labels.tsv\", \"w\") as fp:\n",
        "    for item in labels:\n",
        "        fp.write(\"%s\\n\" % item)"
      ]
    },
    {
      "cell_type": "markdown",
      "metadata": {
        "id": "yMM_SHSaZ9N-"
      },
      "source": [
        "### Alumno"
      ]
    },
    {
      "cell_type": "markdown",
      "metadata": {
        "id": "WivQZ3ZCZ9N_"
      },
      "source": [
        "- Crear sus propios vectores con Gensim basado en lo visto en clase con otro dataset.\n",
        "- Probar términos de interés y explicar similitudes en el espacio de embeddings (sacar conclusiones entre palabras similitudes y diferencias).\n",
        "- Graficarlos.\n",
        "- Obtener conclusiones."
      ]
    },
    {
      "cell_type": "code",
      "execution_count": 11,
      "metadata": {
        "colab": {
          "base_uri": "https://localhost:8080/",
          "height": 262
        },
        "id": "dS5GNxfVvCL6",
        "outputId": "6b8e38c5-51da-4b4b-b950-389b83d1a988"
      },
      "outputs": [
        {
          "output_type": "stream",
          "name": "stderr",
          "text": [
            "/tmp/ipython-input-350300306.py:2: ParserWarning: Falling back to the 'python' engine because the 'c' engine does not support regex separators (separators > 1 char and different from '\\s+' are interpreted as regex); you can avoid this warning by specifying engine='python'.\n",
            "  df_adele = pd.read_csv('songs_dataset/adele.txt', sep='/n', header=None)\n"
          ]
        },
        {
          "output_type": "execute_result",
          "data": {
            "text/plain": [
              "                                                   0\n",
              "0                         Looking for some education\n",
              "1                         Made my way into the night\n",
              "2                     All that bullshit conversation\n",
              "3  Baby, can't you read the signs? I won't bore y...\n",
              "4                 I don't even wanna waste your time"
            ],
            "text/html": [
              "\n",
              "  <div id=\"df-ec6f9485-b237-4cd6-a896-7b42a1d7e93e\" class=\"colab-df-container\">\n",
              "    <div>\n",
              "<style scoped>\n",
              "    .dataframe tbody tr th:only-of-type {\n",
              "        vertical-align: middle;\n",
              "    }\n",
              "\n",
              "    .dataframe tbody tr th {\n",
              "        vertical-align: top;\n",
              "    }\n",
              "\n",
              "    .dataframe thead th {\n",
              "        text-align: right;\n",
              "    }\n",
              "</style>\n",
              "<table border=\"1\" class=\"dataframe\">\n",
              "  <thead>\n",
              "    <tr style=\"text-align: right;\">\n",
              "      <th></th>\n",
              "      <th>0</th>\n",
              "    </tr>\n",
              "  </thead>\n",
              "  <tbody>\n",
              "    <tr>\n",
              "      <th>0</th>\n",
              "      <td>Looking for some education</td>\n",
              "    </tr>\n",
              "    <tr>\n",
              "      <th>1</th>\n",
              "      <td>Made my way into the night</td>\n",
              "    </tr>\n",
              "    <tr>\n",
              "      <th>2</th>\n",
              "      <td>All that bullshit conversation</td>\n",
              "    </tr>\n",
              "    <tr>\n",
              "      <th>3</th>\n",
              "      <td>Baby, can't you read the signs? I won't bore y...</td>\n",
              "    </tr>\n",
              "    <tr>\n",
              "      <th>4</th>\n",
              "      <td>I don't even wanna waste your time</td>\n",
              "    </tr>\n",
              "  </tbody>\n",
              "</table>\n",
              "</div>\n",
              "    <div class=\"colab-df-buttons\">\n",
              "\n",
              "  <div class=\"colab-df-container\">\n",
              "    <button class=\"colab-df-convert\" onclick=\"convertToInteractive('df-ec6f9485-b237-4cd6-a896-7b42a1d7e93e')\"\n",
              "            title=\"Convert this dataframe to an interactive table.\"\n",
              "            style=\"display:none;\">\n",
              "\n",
              "  <svg xmlns=\"http://www.w3.org/2000/svg\" height=\"24px\" viewBox=\"0 -960 960 960\">\n",
              "    <path d=\"M120-120v-720h720v720H120Zm60-500h600v-160H180v160Zm220 220h160v-160H400v160Zm0 220h160v-160H400v160ZM180-400h160v-160H180v160Zm440 0h160v-160H620v160ZM180-180h160v-160H180v160Zm440 0h160v-160H620v160Z\"/>\n",
              "  </svg>\n",
              "    </button>\n",
              "\n",
              "  <style>\n",
              "    .colab-df-container {\n",
              "      display:flex;\n",
              "      gap: 12px;\n",
              "    }\n",
              "\n",
              "    .colab-df-convert {\n",
              "      background-color: #E8F0FE;\n",
              "      border: none;\n",
              "      border-radius: 50%;\n",
              "      cursor: pointer;\n",
              "      display: none;\n",
              "      fill: #1967D2;\n",
              "      height: 32px;\n",
              "      padding: 0 0 0 0;\n",
              "      width: 32px;\n",
              "    }\n",
              "\n",
              "    .colab-df-convert:hover {\n",
              "      background-color: #E2EBFA;\n",
              "      box-shadow: 0px 1px 2px rgba(60, 64, 67, 0.3), 0px 1px 3px 1px rgba(60, 64, 67, 0.15);\n",
              "      fill: #174EA6;\n",
              "    }\n",
              "\n",
              "    .colab-df-buttons div {\n",
              "      margin-bottom: 4px;\n",
              "    }\n",
              "\n",
              "    [theme=dark] .colab-df-convert {\n",
              "      background-color: #3B4455;\n",
              "      fill: #D2E3FC;\n",
              "    }\n",
              "\n",
              "    [theme=dark] .colab-df-convert:hover {\n",
              "      background-color: #434B5C;\n",
              "      box-shadow: 0px 1px 3px 1px rgba(0, 0, 0, 0.15);\n",
              "      filter: drop-shadow(0px 1px 2px rgba(0, 0, 0, 0.3));\n",
              "      fill: #FFFFFF;\n",
              "    }\n",
              "  </style>\n",
              "\n",
              "    <script>\n",
              "      const buttonEl =\n",
              "        document.querySelector('#df-ec6f9485-b237-4cd6-a896-7b42a1d7e93e button.colab-df-convert');\n",
              "      buttonEl.style.display =\n",
              "        google.colab.kernel.accessAllowed ? 'block' : 'none';\n",
              "\n",
              "      async function convertToInteractive(key) {\n",
              "        const element = document.querySelector('#df-ec6f9485-b237-4cd6-a896-7b42a1d7e93e');\n",
              "        const dataTable =\n",
              "          await google.colab.kernel.invokeFunction('convertToInteractive',\n",
              "                                                    [key], {});\n",
              "        if (!dataTable) return;\n",
              "\n",
              "        const docLinkHtml = 'Like what you see? Visit the ' +\n",
              "          '<a target=\"_blank\" href=https://colab.research.google.com/notebooks/data_table.ipynb>data table notebook</a>'\n",
              "          + ' to learn more about interactive tables.';\n",
              "        element.innerHTML = '';\n",
              "        dataTable['output_type'] = 'display_data';\n",
              "        await google.colab.output.renderOutput(dataTable, element);\n",
              "        const docLink = document.createElement('div');\n",
              "        docLink.innerHTML = docLinkHtml;\n",
              "        element.appendChild(docLink);\n",
              "      }\n",
              "    </script>\n",
              "  </div>\n",
              "\n",
              "\n",
              "    <div id=\"df-322bdc5d-c028-44db-8021-5d2565782838\">\n",
              "      <button class=\"colab-df-quickchart\" onclick=\"quickchart('df-322bdc5d-c028-44db-8021-5d2565782838')\"\n",
              "                title=\"Suggest charts\"\n",
              "                style=\"display:none;\">\n",
              "\n",
              "<svg xmlns=\"http://www.w3.org/2000/svg\" height=\"24px\"viewBox=\"0 0 24 24\"\n",
              "     width=\"24px\">\n",
              "    <g>\n",
              "        <path d=\"M19 3H5c-1.1 0-2 .9-2 2v14c0 1.1.9 2 2 2h14c1.1 0 2-.9 2-2V5c0-1.1-.9-2-2-2zM9 17H7v-7h2v7zm4 0h-2V7h2v10zm4 0h-2v-4h2v4z\"/>\n",
              "    </g>\n",
              "</svg>\n",
              "      </button>\n",
              "\n",
              "<style>\n",
              "  .colab-df-quickchart {\n",
              "      --bg-color: #E8F0FE;\n",
              "      --fill-color: #1967D2;\n",
              "      --hover-bg-color: #E2EBFA;\n",
              "      --hover-fill-color: #174EA6;\n",
              "      --disabled-fill-color: #AAA;\n",
              "      --disabled-bg-color: #DDD;\n",
              "  }\n",
              "\n",
              "  [theme=dark] .colab-df-quickchart {\n",
              "      --bg-color: #3B4455;\n",
              "      --fill-color: #D2E3FC;\n",
              "      --hover-bg-color: #434B5C;\n",
              "      --hover-fill-color: #FFFFFF;\n",
              "      --disabled-bg-color: #3B4455;\n",
              "      --disabled-fill-color: #666;\n",
              "  }\n",
              "\n",
              "  .colab-df-quickchart {\n",
              "    background-color: var(--bg-color);\n",
              "    border: none;\n",
              "    border-radius: 50%;\n",
              "    cursor: pointer;\n",
              "    display: none;\n",
              "    fill: var(--fill-color);\n",
              "    height: 32px;\n",
              "    padding: 0;\n",
              "    width: 32px;\n",
              "  }\n",
              "\n",
              "  .colab-df-quickchart:hover {\n",
              "    background-color: var(--hover-bg-color);\n",
              "    box-shadow: 0 1px 2px rgba(60, 64, 67, 0.3), 0 1px 3px 1px rgba(60, 64, 67, 0.15);\n",
              "    fill: var(--button-hover-fill-color);\n",
              "  }\n",
              "\n",
              "  .colab-df-quickchart-complete:disabled,\n",
              "  .colab-df-quickchart-complete:disabled:hover {\n",
              "    background-color: var(--disabled-bg-color);\n",
              "    fill: var(--disabled-fill-color);\n",
              "    box-shadow: none;\n",
              "  }\n",
              "\n",
              "  .colab-df-spinner {\n",
              "    border: 2px solid var(--fill-color);\n",
              "    border-color: transparent;\n",
              "    border-bottom-color: var(--fill-color);\n",
              "    animation:\n",
              "      spin 1s steps(1) infinite;\n",
              "  }\n",
              "\n",
              "  @keyframes spin {\n",
              "    0% {\n",
              "      border-color: transparent;\n",
              "      border-bottom-color: var(--fill-color);\n",
              "      border-left-color: var(--fill-color);\n",
              "    }\n",
              "    20% {\n",
              "      border-color: transparent;\n",
              "      border-left-color: var(--fill-color);\n",
              "      border-top-color: var(--fill-color);\n",
              "    }\n",
              "    30% {\n",
              "      border-color: transparent;\n",
              "      border-left-color: var(--fill-color);\n",
              "      border-top-color: var(--fill-color);\n",
              "      border-right-color: var(--fill-color);\n",
              "    }\n",
              "    40% {\n",
              "      border-color: transparent;\n",
              "      border-right-color: var(--fill-color);\n",
              "      border-top-color: var(--fill-color);\n",
              "    }\n",
              "    60% {\n",
              "      border-color: transparent;\n",
              "      border-right-color: var(--fill-color);\n",
              "    }\n",
              "    80% {\n",
              "      border-color: transparent;\n",
              "      border-right-color: var(--fill-color);\n",
              "      border-bottom-color: var(--fill-color);\n",
              "    }\n",
              "    90% {\n",
              "      border-color: transparent;\n",
              "      border-bottom-color: var(--fill-color);\n",
              "    }\n",
              "  }\n",
              "</style>\n",
              "\n",
              "      <script>\n",
              "        async function quickchart(key) {\n",
              "          const quickchartButtonEl =\n",
              "            document.querySelector('#' + key + ' button');\n",
              "          quickchartButtonEl.disabled = true;  // To prevent multiple clicks.\n",
              "          quickchartButtonEl.classList.add('colab-df-spinner');\n",
              "          try {\n",
              "            const charts = await google.colab.kernel.invokeFunction(\n",
              "                'suggestCharts', [key], {});\n",
              "          } catch (error) {\n",
              "            console.error('Error during call to suggestCharts:', error);\n",
              "          }\n",
              "          quickchartButtonEl.classList.remove('colab-df-spinner');\n",
              "          quickchartButtonEl.classList.add('colab-df-quickchart-complete');\n",
              "        }\n",
              "        (() => {\n",
              "          let quickchartButtonEl =\n",
              "            document.querySelector('#df-322bdc5d-c028-44db-8021-5d2565782838 button');\n",
              "          quickchartButtonEl.style.display =\n",
              "            google.colab.kernel.accessAllowed ? 'block' : 'none';\n",
              "        })();\n",
              "      </script>\n",
              "    </div>\n",
              "\n",
              "    </div>\n",
              "  </div>\n"
            ],
            "application/vnd.google.colaboratory.intrinsic+json": {
              "type": "dataframe",
              "variable_name": "df_adele",
              "summary": "{\n  \"name\": \"df_adele\",\n  \"rows\": 2400,\n  \"fields\": [\n    {\n      \"column\": 0,\n      \"properties\": {\n        \"dtype\": \"string\",\n        \"num_unique_values\": 1534,\n        \"samples\": [\n          \"Let's go back there, back to the star\",\n          \"The scars of your love, they leave me breathless\",\n          \"Tell a story that I cannot bear to hear\"\n        ],\n        \"semantic_type\": \"\",\n        \"description\": \"\"\n      }\n    }\n  ]\n}"
            }
          },
          "metadata": {},
          "execution_count": 11
        }
      ],
      "source": [
        " #Armar el dataset utilizando salto de línea para separar las oraciones/docs\n",
        "df_adele = pd.read_csv('songs_dataset/adele.txt', sep='/n', header=None)\n",
        "df_adele.head()"
      ]
    },
    {
      "cell_type": "code",
      "execution_count": 13,
      "metadata": {
        "colab": {
          "base_uri": "https://localhost:8080/"
        },
        "id": "H6VYLz8plA26",
        "outputId": "60cc0f55-f02b-4f94-a3fe-05f0f2f38a3e"
      },
      "outputs": [
        {
          "output_type": "stream",
          "name": "stdout",
          "text": [
            "Cantidad de documentos_adele: 2400\n"
          ]
        }
      ],
      "source": [
        "print(\"Cantidad de documentos_adele:\", df_adele.shape[0])"
      ]
    },
    {
      "cell_type": "markdown",
      "metadata": {
        "id": "QCMNCUuGlM6S"
      },
      "source": [
        "### 1 - Preprocesamiento"
      ]
    },
    {
      "cell_type": "code",
      "execution_count": 15,
      "metadata": {
        "id": "lY3cIPwZvjtx"
      },
      "outputs": [],
      "source": [
        "from tensorflow.keras.preprocessing.text import text_to_word_sequence\n",
        "\n",
        "sentence_tokens_adele = []\n",
        "# Recorrer todas las filas y transformar las oraciones\n",
        "# en una secuencia de palabras (esto podría realizarse con NLTK o spaCy también)\n",
        "for _, row in df_adele[:None].iterrows():\n",
        "    sentence_tokens_adele.append(text_to_word_sequence(row[0]))"
      ]
    },
    {
      "cell_type": "code",
      "execution_count": 16,
      "metadata": {
        "colab": {
          "base_uri": "https://localhost:8080/"
        },
        "id": "GCDe813Jvvqh",
        "outputId": "331458a5-bca2-4d08-96c7-94d76c1016cc"
      },
      "outputs": [
        {
          "output_type": "execute_result",
          "data": {
            "text/plain": [
              "[['looking', 'for', 'some', 'education'],\n",
              " ['made', 'my', 'way', 'into', 'the', 'night']]"
            ]
          },
          "metadata": {},
          "execution_count": 16
        }
      ],
      "source": [
        "# Demos un vistazo\n",
        "sentence_tokens_adele[:2]"
      ]
    },
    {
      "cell_type": "markdown",
      "metadata": {
        "id": "BaXV6nlHr5Aa"
      },
      "source": [
        "### 2 - Crear los vectores (word2vec)"
      ]
    },
    {
      "cell_type": "code",
      "execution_count": 17,
      "metadata": {
        "id": "mivYUkEYDg3Z"
      },
      "outputs": [],
      "source": [
        "from gensim.models.callbacks import CallbackAny2Vec\n",
        "# Durante el entrenamiento gensim por defecto no informa el \"loss\" en cada época\n",
        "# Sobrecargamos el callback para poder tener esta información\n",
        "class callback(CallbackAny2Vec):\n",
        "    \"\"\"\n",
        "    Callback to print loss after each epoch\n",
        "    \"\"\"\n",
        "    def __init__(self):\n",
        "        self.epoch = 0\n",
        "\n",
        "    def on_epoch_end(self, model):\n",
        "        loss = model.get_latest_training_loss()\n",
        "        if self.epoch == 0:\n",
        "            print('Loss after epoch {}: {}'.format(self.epoch, loss))\n",
        "        else:\n",
        "            print('Loss after epoch {}: {}'.format(self.epoch, loss- self.loss_previous_step))\n",
        "        self.epoch += 1\n",
        "        self.loss_previous_step = loss"
      ]
    },
    {
      "cell_type": "code",
      "execution_count": 19,
      "metadata": {
        "id": "pLs9_6keD0Ew"
      },
      "outputs": [],
      "source": [
        "# Crearmos el modelo generador de vectores\n",
        "# En este caso utilizaremos la estructura modelo Skipgram\n",
        "w2v_model_adele = Word2Vec(min_count=5,    # frecuencia mínima de palabra para incluirla en el vocabulario\n",
        "                     window=2,       # cant de palabras antes y desp de la predicha\n",
        "                     vector_size=300,       # dimensionalidad de los vectores\n",
        "                     negative=20,    # cantidad de negative samples... 0 es no se usa\n",
        "                     workers=1,      # si tienen más cores pueden cambiar este valor\n",
        "                     sg=1)           # modelo 0:CBOW  1:skipgram"
      ]
    },
    {
      "cell_type": "code",
      "execution_count": 20,
      "metadata": {
        "id": "4AaBG6g5D6ig"
      },
      "outputs": [],
      "source": [
        "# Obtener el vocabulario con los tokens\n",
        "w2v_model_adele.build_vocab(sentence_tokens_adele)\n"
      ]
    },
    {
      "cell_type": "code",
      "execution_count": 21,
      "metadata": {
        "colab": {
          "base_uri": "https://localhost:8080/"
        },
        "id": "hWH1se8fD-dv",
        "outputId": "ef46b5f7-39fb-49b4-fb33-7a184fb03d8c"
      },
      "outputs": [
        {
          "output_type": "stream",
          "name": "stdout",
          "text": [
            "Cantidad de docs en el corpus: 2400\n"
          ]
        }
      ],
      "source": [
        "# Cantidad de filas/docs encontradas en el corpus\n",
        "print(\"Cantidad de docs en el corpus:\", w2v_model_adele.corpus_count)"
      ]
    },
    {
      "cell_type": "code",
      "execution_count": 22,
      "metadata": {
        "colab": {
          "base_uri": "https://localhost:8080/"
        },
        "id": "Wrj-931AEFkI",
        "outputId": "8394c5c1-fdca-4dc8-b6ce-67c58af4d776"
      },
      "outputs": [
        {
          "output_type": "stream",
          "name": "stdout",
          "text": [
            "Cantidad de words distintas en el corpus: 516\n"
          ]
        }
      ],
      "source": [
        "# Cantidad de words encontradas en el corpus\n",
        "print(\"Cantidad de words distintas en el corpus:\", len(w2v_model_adele.wv.index_to_key))"
      ]
    },
    {
      "cell_type": "markdown",
      "metadata": {
        "id": "Zo7bc1znEM1x"
      },
      "source": [
        "# Entrenamiento"
      ]
    },
    {
      "cell_type": "code",
      "execution_count": 23,
      "metadata": {
        "colab": {
          "base_uri": "https://localhost:8080/"
        },
        "id": "sjVwe8c_Ghb3",
        "outputId": "a4049010-6a39-40e7-d4b0-f41a5c885664"
      },
      "outputs": [
        {
          "output_type": "stream",
          "name": "stdout",
          "text": [
            "Loss after epoch 0: 156064.734375\n",
            "Loss after epoch 1: 94113.765625\n",
            "Loss after epoch 2: 92955.625\n",
            "Loss after epoch 3: 92854.875\n",
            "Loss after epoch 4: 92871.3125\n",
            "Loss after epoch 5: 94204.5625\n",
            "Loss after epoch 6: 91984.9375\n",
            "Loss after epoch 7: 88876.8125\n",
            "Loss after epoch 8: 87212.4375\n",
            "Loss after epoch 9: 85029.4375\n",
            "Loss after epoch 10: 81237.875\n",
            "Loss after epoch 11: 72765.125\n",
            "Loss after epoch 12: 71033.625\n",
            "Loss after epoch 13: 70587.875\n",
            "Loss after epoch 14: 70159.875\n",
            "Loss after epoch 15: 68915.875\n",
            "Loss after epoch 16: 68236.0\n",
            "Loss after epoch 17: 68022.25\n",
            "Loss after epoch 18: 68458.5\n",
            "Loss after epoch 19: 67770.375\n"
          ]
        },
        {
          "output_type": "execute_result",
          "data": {
            "text/plain": [
              "(218266, 380480)"
            ]
          },
          "metadata": {},
          "execution_count": 23
        }
      ],
      "source": [
        "# Entrenamos el modelo generador de vectores\n",
        "# Utilizamos nuestro callback\n",
        "w2v_model_adele.train(\n",
        "    sentence_tokens_adele,\n",
        "    total_examples=w2v_model_adele.corpus_count,\n",
        "    epochs=20,\n",
        "    compute_loss=True,\n",
        "    callbacks=[callback()]\n",
        ")\n"
      ]
    },
    {
      "cell_type": "markdown",
      "metadata": {
        "id": "6_oRckUUIUON"
      },
      "source": [
        "# Ensayar"
      ]
    },
    {
      "cell_type": "code",
      "execution_count": 28,
      "metadata": {
        "colab": {
          "base_uri": "https://localhost:8080/"
        },
        "id": "udvWKj58IV78",
        "outputId": "cc9dfd6b-54d4-430b-8830-6968467514fe"
      },
      "outputs": [
        {
          "output_type": "execute_result",
          "data": {
            "text/plain": [
              "[('hearts', 0.981159508228302),\n",
              " ('wait', 0.962829053401947),\n",
              " (\"they're\", 0.960909903049469),\n",
              " ('watch', 0.9574174284934998),\n",
              " ('piece', 0.9550704956054688),\n",
              " ('part', 0.9529026746749878),\n",
              " ('old', 0.9502490758895874),\n",
              " ('getting', 0.947179913520813),\n",
              " ('finally', 0.9466720819473267),\n",
              " ('moment', 0.9466462731361389)]"
            ]
          },
          "metadata": {},
          "execution_count": 28
        }
      ],
      "source": [
        "# Palabras que MÁS se relacionan con...:\n",
        "w2v_model_adele.wv.most_similar(positive=[\"break\"], topn=10)"
      ]
    },
    {
      "cell_type": "markdown",
      "source": [
        "Estas palabras similares expresan:\n",
        "\n",
        "1-La idea de romper corazones (break hearts,) Y un sentimiento de espera pasivo en el tiempo (wait, moment)\n",
        "\n",
        "2-Por otra parte semánticamente lo relacionó con piece y part"
      ],
      "metadata": {
        "id": "L9C3qX590NvH"
      }
    },
    {
      "cell_type": "code",
      "execution_count": 29,
      "metadata": {
        "colab": {
          "base_uri": "https://localhost:8080/"
        },
        "id": "roktTmBCIT6V",
        "outputId": "fe01dc97-3255-44b8-dddd-6dcaefd36346"
      },
      "outputs": [
        {
          "output_type": "execute_result",
          "data": {
            "text/plain": [
              "[('ready', -0.44789254665374756),\n",
              " ('her', -0.46378761529922485),\n",
              " ('wish', -0.48194748163223267),\n",
              " ('gonna', -0.4836290776729584),\n",
              " (\"you're\", -0.4932636618614197),\n",
              " ('when', -0.4952651858329773),\n",
              " ('treat', -0.49613940715789795),\n",
              " ('better', -0.50475013256073),\n",
              " ('one', -0.5062729120254517),\n",
              " ('miss', -0.5129149556159973)]"
            ]
          },
          "metadata": {},
          "execution_count": 29
        }
      ],
      "source": [
        "# Palabras que MENOS se relacionan con...:\n",
        "w2v_model_adele.wv.most_similar(negative=[\"break\"], topn=10)"
      ]
    },
    {
      "cell_type": "markdown",
      "source": [
        "Acá no lo relaciona con esperanza o deseos (wish, miss ) ni con  un futuro activo ya que estos verbos que están menos relacionados expresan acción ( going to, treat)  y siguiendo con la idea de espera pasiva  marcada por la palabras menos relacionada \"ready \""
      ],
      "metadata": {
        "id": "crOQR3AQ16-9"
      }
    },
    {
      "cell_type": "code",
      "execution_count": 31,
      "metadata": {
        "colab": {
          "base_uri": "https://localhost:8080/"
        },
        "id": "Eq87w0NFItCz",
        "outputId": "aa471fcb-91bb-4fa7-aed9-d238d90b8481"
      },
      "outputs": [
        {
          "output_type": "execute_result",
          "data": {
            "text/plain": [
              "[('win', 0.9216226935386658),\n",
              " ('would', 0.8944078683853149),\n",
              " ('promise', 0.7749091386795044),\n",
              " ('stay', 0.7524643540382385),\n",
              " ('however', 0.7514536380767822),\n",
              " ('remedy', 0.749398946762085),\n",
              " (\"i'd\", 0.746101438999176),\n",
              " ('he', 0.7387968897819519),\n",
              " ('still', 0.7299801111221313),\n",
              " ('long', 0.7176405787467957)]"
            ]
          },
          "metadata": {},
          "execution_count": 31
        }
      ],
      "source": [
        "# Palabras que MÁS se relacionan con...:\n",
        "w2v_model_adele.wv.most_similar(positive=[\"always\"], topn=10)"
      ]
    },
    {
      "cell_type": "markdown",
      "source": [
        "Relación emocional y morfosintáctica= deseos, promesas, algo que hubiera pasado (would, promise)\n",
        "\n",
        "Otra vez la idea de pasividad en la espera (stay)\n"
      ],
      "metadata": {
        "id": "J4DfWuM_4DEN"
      }
    },
    {
      "cell_type": "code",
      "execution_count": 32,
      "metadata": {
        "colab": {
          "base_uri": "https://localhost:8080/"
        },
        "id": "71S93Wg3UHUT",
        "outputId": "5bdc5380-f9ed-4a4d-b835-699885da6f24"
      },
      "outputs": [
        {
          "output_type": "execute_result",
          "data": {
            "text/plain": [
              "[('the', -0.1630517840385437),\n",
              " ('sky', -0.18635150790214539),\n",
              " ('take', -0.18793517351150513),\n",
              " ('night', -0.1942976713180542),\n",
              " ('together', -0.2027338147163391),\n",
              " ('skyfall', -0.2041073441505432),\n",
              " ('lights', -0.21348078548908234),\n",
              " ('fall', -0.22194665670394897),\n",
              " ('gotta', -0.22717465460300446),\n",
              " ('rolling', -0.23252888023853302)]"
            ]
          },
          "metadata": {},
          "execution_count": 32
        }
      ],
      "source": [
        "# Palabras que MENOS se relacionan con...:\n",
        "w2v_model_adele.wv.most_similar(negative=[\"always\"], topn=10)"
      ]
    },
    {
      "cell_type": "markdown",
      "source": [
        "No se relaciona con acciones que el sujeto realiza activamente (always take)  ni con espacios luminosos o\" buenos\"  como sky, lights.   \n",
        "\n",
        "La palabra together podría expresar  la idea de soledad .\n"
      ],
      "metadata": {
        "id": "Yh74FTrj5IaK"
      }
    },
    {
      "cell_type": "code",
      "execution_count": 33,
      "metadata": {
        "colab": {
          "base_uri": "https://localhost:8080/",
          "height": 316
        },
        "id": "8Vp0Z-BqJcWc",
        "collapsed": true,
        "outputId": "59035747-fa8c-40df-bd1c-4241506bbefc"
      },
      "outputs": [
        {
          "output_type": "error",
          "ename": "KeyError",
          "evalue": "\"Key 'happy' not present in vocabulary\"",
          "traceback": [
            "\u001b[0;31m---------------------------------------------------------------------------\u001b[0m",
            "\u001b[0;31mKeyError\u001b[0m                                  Traceback (most recent call last)",
            "\u001b[0;32m/tmp/ipython-input-1915031877.py\u001b[0m in \u001b[0;36m<cell line: 0>\u001b[0;34m()\u001b[0m\n\u001b[1;32m      1\u001b[0m \u001b[0;31m# Ensayar con una palabra que no está en el vocabulario:\u001b[0m\u001b[0;34m\u001b[0m\u001b[0;34m\u001b[0m\u001b[0m\n\u001b[0;32m----> 2\u001b[0;31m \u001b[0mw2v_model_adele\u001b[0m\u001b[0;34m.\u001b[0m\u001b[0mwv\u001b[0m\u001b[0;34m.\u001b[0m\u001b[0mmost_similar\u001b[0m\u001b[0;34m(\u001b[0m\u001b[0mnegative\u001b[0m\u001b[0;34m=\u001b[0m\u001b[0;34m[\u001b[0m\u001b[0;34m\"happy\"\u001b[0m\u001b[0;34m]\u001b[0m\u001b[0;34m)\u001b[0m\u001b[0;34m\u001b[0m\u001b[0;34m\u001b[0m\u001b[0m\n\u001b[0m",
            "\u001b[0;32m/usr/local/lib/python3.12/dist-packages/gensim/models/keyedvectors.py\u001b[0m in \u001b[0;36mmost_similar\u001b[0;34m(self, positive, negative, topn, clip_start, clip_end, restrict_vocab, indexer)\u001b[0m\n\u001b[1;32m    839\u001b[0m \u001b[0;34m\u001b[0m\u001b[0m\n\u001b[1;32m    840\u001b[0m         \u001b[0;31m# compute the weighted average of all keys\u001b[0m\u001b[0;34m\u001b[0m\u001b[0;34m\u001b[0m\u001b[0m\n\u001b[0;32m--> 841\u001b[0;31m         \u001b[0mmean\u001b[0m \u001b[0;34m=\u001b[0m \u001b[0mself\u001b[0m\u001b[0;34m.\u001b[0m\u001b[0mget_mean_vector\u001b[0m\u001b[0;34m(\u001b[0m\u001b[0mkeys\u001b[0m\u001b[0;34m,\u001b[0m \u001b[0mweight\u001b[0m\u001b[0;34m,\u001b[0m \u001b[0mpre_normalize\u001b[0m\u001b[0;34m=\u001b[0m\u001b[0;32mTrue\u001b[0m\u001b[0;34m,\u001b[0m \u001b[0mpost_normalize\u001b[0m\u001b[0;34m=\u001b[0m\u001b[0;32mTrue\u001b[0m\u001b[0;34m,\u001b[0m \u001b[0mignore_missing\u001b[0m\u001b[0;34m=\u001b[0m\u001b[0;32mFalse\u001b[0m\u001b[0;34m)\u001b[0m\u001b[0;34m\u001b[0m\u001b[0;34m\u001b[0m\u001b[0m\n\u001b[0m\u001b[1;32m    842\u001b[0m         all_keys = [\n\u001b[1;32m    843\u001b[0m             \u001b[0mself\u001b[0m\u001b[0;34m.\u001b[0m\u001b[0mget_index\u001b[0m\u001b[0;34m(\u001b[0m\u001b[0mkey\u001b[0m\u001b[0;34m)\u001b[0m \u001b[0;32mfor\u001b[0m \u001b[0mkey\u001b[0m \u001b[0;32min\u001b[0m \u001b[0mkeys\u001b[0m \u001b[0;32mif\u001b[0m \u001b[0misinstance\u001b[0m\u001b[0;34m(\u001b[0m\u001b[0mkey\u001b[0m\u001b[0;34m,\u001b[0m \u001b[0m_KEY_TYPES\u001b[0m\u001b[0;34m)\u001b[0m \u001b[0;32mand\u001b[0m \u001b[0mself\u001b[0m\u001b[0;34m.\u001b[0m\u001b[0mhas_index_for\u001b[0m\u001b[0;34m(\u001b[0m\u001b[0mkey\u001b[0m\u001b[0;34m)\u001b[0m\u001b[0;34m\u001b[0m\u001b[0;34m\u001b[0m\u001b[0m\n",
            "\u001b[0;32m/usr/local/lib/python3.12/dist-packages/gensim/models/keyedvectors.py\u001b[0m in \u001b[0;36mget_mean_vector\u001b[0;34m(self, keys, weights, pre_normalize, post_normalize, ignore_missing)\u001b[0m\n\u001b[1;32m    516\u001b[0m                 \u001b[0mtotal_weight\u001b[0m \u001b[0;34m+=\u001b[0m \u001b[0mabs\u001b[0m\u001b[0;34m(\u001b[0m\u001b[0mweights\u001b[0m\u001b[0;34m[\u001b[0m\u001b[0midx\u001b[0m\u001b[0;34m]\u001b[0m\u001b[0;34m)\u001b[0m\u001b[0;34m\u001b[0m\u001b[0;34m\u001b[0m\u001b[0m\n\u001b[1;32m    517\u001b[0m             \u001b[0;32melif\u001b[0m \u001b[0;32mnot\u001b[0m \u001b[0mignore_missing\u001b[0m\u001b[0;34m:\u001b[0m\u001b[0;34m\u001b[0m\u001b[0;34m\u001b[0m\u001b[0m\n\u001b[0;32m--> 518\u001b[0;31m                 \u001b[0;32mraise\u001b[0m \u001b[0mKeyError\u001b[0m\u001b[0;34m(\u001b[0m\u001b[0;34mf\"Key '{key}' not present in vocabulary\"\u001b[0m\u001b[0;34m)\u001b[0m\u001b[0;34m\u001b[0m\u001b[0;34m\u001b[0m\u001b[0m\n\u001b[0m\u001b[1;32m    519\u001b[0m \u001b[0;34m\u001b[0m\u001b[0m\n\u001b[1;32m    520\u001b[0m         \u001b[0;32mif\u001b[0m \u001b[0mtotal_weight\u001b[0m \u001b[0;34m>\u001b[0m \u001b[0;36m0\u001b[0m\u001b[0;34m:\u001b[0m\u001b[0;34m\u001b[0m\u001b[0;34m\u001b[0m\u001b[0m\n",
            "\u001b[0;31mKeyError\u001b[0m: \"Key 'happy' not present in vocabulary\""
          ]
        }
      ],
      "source": [
        "# Ensayar con una palabra que no está en el vocabulario:\n",
        "w2v_model_adele.wv.most_similar(negative=[\"happy\"])"
      ]
    },
    {
      "cell_type": "markdown",
      "source": [
        "Happy  no es un término que se use en el tipo de letra de Adele ya que sus sentimientos son de  dolor intenso o de amores extensos terminados o de  angustia tras las ropturas amorosas."
      ],
      "metadata": {
        "id": "DC31_g-06Usf"
      }
    },
    {
      "cell_type": "code",
      "execution_count": 35,
      "metadata": {
        "colab": {
          "base_uri": "https://localhost:8080/"
        },
        "id": "z6my_Fu2JlB6",
        "outputId": "23d70d38-4eb4-4c32-c517-14644665b43f"
      },
      "outputs": [
        {
          "output_type": "stream",
          "name": "stdout",
          "text": [
            "[-0.02380449  0.0996833  -0.10738026  0.08760989 -0.11226208  0.03955043\n",
            "  0.1788185   0.21351463 -0.01002653  0.0144475   0.09448683 -0.01138666\n",
            "  0.0645882  -0.01714084  0.02500312 -0.17147641  0.18574306 -0.13031483\n",
            "  0.0686506   0.01426189 -0.01728987 -0.03944006  0.04131838  0.14216231\n",
            "  0.15365876  0.02658117 -0.09731677 -0.06513214 -0.13812232  0.04856484\n",
            "  0.11163878 -0.00206231  0.05877159 -0.07481293  0.01454056  0.07197302\n",
            "  0.08594699 -0.1542946  -0.12938513  0.10291304 -0.00465012 -0.11009993\n",
            " -0.01506857  0.07155253  0.18025158  0.10753044 -0.0459106   0.02803144\n",
            "  0.04257443  0.13233621 -0.05164624  0.08323949 -0.02581533  0.0436778\n",
            " -0.04901412  0.0142749  -0.03183051 -0.06524665 -0.0587381   0.07643826\n",
            "  0.00363653 -0.14546083  0.03437543 -0.02755503  0.11491017  0.13188766\n",
            "  0.09942731  0.15804686 -0.1209056  -0.08904403  0.18272299 -0.01245281\n",
            "  0.04202103  0.04331023  0.06075816 -0.02633542 -0.14812563 -0.00556749\n",
            " -0.02801869  0.08700354 -0.18154764 -0.12442389  0.01825424  0.22403008\n",
            "  0.02430479 -0.08990174 -0.06005685 -0.09671878  0.03278198 -0.03364861\n",
            "  0.21432486 -0.05524085  0.06555421  0.04759733  0.04154286  0.19254449\n",
            "  0.05160668  0.00092826  0.11605544  0.00915004 -0.09268428  0.00256394\n",
            "  0.18365578  0.12154968 -0.12113012 -0.201111    0.05906703  0.05394001\n",
            " -0.01726258 -0.0085634  -0.15430355 -0.02381829  0.00303933  0.00146168\n",
            "  0.04783084  0.04384296 -0.05945075 -0.02004409  0.1724073  -0.03727866\n",
            "  0.10837437  0.06855786  0.07917693 -0.0875048  -0.04735448  0.21189521\n",
            "  0.03719418 -0.09125572  0.08575836  0.15756218 -0.05550477  0.06272399\n",
            "  0.00690098 -0.11607394  0.04019906 -0.04336357 -0.11872463 -0.06154824\n",
            "  0.07641312 -0.08052271  0.11062664 -0.07025814 -0.02740939 -0.07572526\n",
            " -0.02601881 -0.00931996 -0.18749762  0.03708808  0.14661935 -0.11618902\n",
            " -0.00347274 -0.16907705 -0.06185173 -0.06510516  0.07591568 -0.09198764\n",
            " -0.09041315 -0.06952626 -0.15639664  0.11523397  0.05841842  0.03401982\n",
            " -0.07825805  0.12044901 -0.16906442  0.13788947 -0.06740093 -0.02519322\n",
            "  0.01139145  0.32346115 -0.08801986  0.0503386   0.18636543 -0.0019363\n",
            "  0.10998434  0.03648818 -0.2032418  -0.21642658 -0.00551389 -0.04936017\n",
            " -0.13798657  0.1800735  -0.09782445 -0.07970519  0.10086353 -0.0459145\n",
            "  0.09887145 -0.09356658  0.04974486 -0.07737293 -0.01822797  0.04404242\n",
            " -0.05837663 -0.00093119 -0.04718924 -0.21021464 -0.00247661 -0.08703135\n",
            "  0.12627533  0.11544768 -0.21907105 -0.00836886 -0.01702706 -0.10631464\n",
            " -0.07383566 -0.07102768 -0.01202998  0.01154056  0.04322124 -0.02498417\n",
            "  0.0474722  -0.08491648  0.00305734 -0.05424905 -0.03206038 -0.10954553\n",
            " -0.06834903 -0.02898631 -0.14758395 -0.10627904  0.1083995   0.00240555\n",
            " -0.07129714 -0.06409708  0.01138733 -0.00604501  0.10061541 -0.08515386\n",
            " -0.07550249  0.10848274  0.1821922  -0.13400234 -0.09301291 -0.05159545\n",
            "  0.10986898  0.09561431 -0.06103732  0.06885844  0.01909743 -0.11252643\n",
            " -0.0149964   0.0459676   0.05261047 -0.00522211 -0.05187067 -0.08903499\n",
            " -0.05217073 -0.02434218  0.06004908  0.10597218  0.19238347  0.04555563\n",
            "  0.0635369   0.08031786 -0.21621     0.03658049  0.0844636   0.11595588\n",
            " -0.28369918 -0.02307842 -0.01613935 -0.06071495  0.12843083 -0.2583411\n",
            " -0.1757663  -0.17997062 -0.02407926  0.14618419 -0.17520618 -0.02243199\n",
            " -0.07618827 -0.02357113  0.15588911 -0.01896826  0.05416347  0.13468747\n",
            "  0.04966223 -0.03812706 -0.08789116 -0.05733293 -0.07348966 -0.05933322\n",
            " -0.12080432 -0.04739786  0.03690182  0.04000965 -0.11156788  0.08036835\n",
            "  0.03213784  0.08316688  0.005897    0.21939822 -0.02830562  0.02041617\n",
            "  0.01523649  0.20661095  0.10359122 -0.01993784  0.07156375 -0.13214204]\n"
          ]
        }
      ],
      "source": [
        "# el método `get_vector` permite obtener los vectores:\n",
        "vector_break_adele = w2v_model_adele.wv.get_vector(\"break\")\n",
        "print(vector_break_adele)"
      ]
    },
    {
      "cell_type": "code",
      "execution_count": 37,
      "metadata": {
        "colab": {
          "base_uri": "https://localhost:8080/"
        },
        "id": "sN4onGrvJsyL",
        "outputId": "a9755d2f-a5f3-476c-89fe-ee4780eb2638"
      },
      "outputs": [
        {
          "output_type": "execute_result",
          "data": {
            "text/plain": [
              "[('break', 1.0000001192092896),\n",
              " ('hearts', 0.981159508228302),\n",
              " ('wait', 0.9628289937973022),\n",
              " (\"they're\", 0.9609097838401794),\n",
              " ('watch', 0.9574174284934998),\n",
              " ('piece', 0.9550704956054688),\n",
              " ('part', 0.952902615070343),\n",
              " ('old', 0.9502490758895874),\n",
              " ('getting', 0.947179913520813),\n",
              " ('finally', 0.9466720819473267)]"
            ]
          },
          "metadata": {},
          "execution_count": 37
        }
      ],
      "source": [
        "# el método `most_similar` también permite comparar a partir de vectores\n",
        "w2v_model_adele.wv.most_similar(vector_break_adele)"
      ]
    },
    {
      "cell_type": "markdown",
      "source": [
        "Los vectores  similares expresan el sentimiento de las canciones de Adele de ruptura de corazones (break,piece,part, get break heart) y  espera pasiva  (wait, watch)  al igual que  la búsqueda por las palabras que más se relacionan del codigo anterior."
      ],
      "metadata": {
        "id": "BX1uIt6h6_EW"
      }
    },
    {
      "cell_type": "code",
      "source": [
        "# el método `get_vector` permite obtener los vectores:\n",
        "vector_always_adele = w2v_model_adele.wv.get_vector(\"always\")\n",
        "print(vector_always_adele)"
      ],
      "metadata": {
        "colab": {
          "base_uri": "https://localhost:8080/"
        },
        "id": "pGnmw0Tm-hOj",
        "outputId": "7cffe1ba-960d-4331-edec-f4b273abce90"
      },
      "execution_count": 48,
      "outputs": [
        {
          "output_type": "stream",
          "name": "stdout",
          "text": [
            "[-0.0908862   0.20485173 -0.15531148 -0.26342887 -0.09984998 -0.0619072\n",
            "  0.25671092  0.08579756  0.42748967 -0.02176334 -0.10652056  0.02356089\n",
            " -0.14784743  0.03998227 -0.11275868 -0.0052334   0.20907563 -0.08565539\n",
            " -0.0971342  -0.01718638 -0.11153125 -0.19697899 -0.06397893  0.34336516\n",
            " -0.04793438  0.26274905 -0.25561112  0.07410721 -0.25736365  0.20327544\n",
            "  0.12768304  0.12253608 -0.17805634 -0.07718696 -0.15271145  0.09067912\n",
            " -0.03770993 -0.23785108 -0.4873347   0.21478683  0.19212301 -0.20047136\n",
            "  0.15451987 -0.13911198  0.4666366   0.15434249  0.04071083 -0.00403251\n",
            "  0.11162946  0.22016335  0.02534015 -0.1074343   0.21423785  0.0896607\n",
            " -0.09627452 -0.0539974   0.2296376  -0.22065195 -0.11656207  0.01124181\n",
            "  0.24781984 -0.3092614   0.20802397 -0.15381414 -0.17008403  0.36154675\n",
            "  0.14716841 -0.06206972 -0.29532108 -0.11014932  0.15127356  0.0334827\n",
            " -0.00451769 -0.15761352  0.26686832  0.0582644  -0.14843573  0.08976056\n",
            " -0.24581979 -0.03198067 -0.5359654  -0.08201324 -0.1174364   0.33501375\n",
            "  0.10534345 -0.23601373  0.04149417 -0.13515465  0.0262871  -0.00280307\n",
            "  0.57150465 -0.21932967  0.11240836  0.22336616  0.36240485  0.45340607\n",
            "  0.22754875  0.11835936  0.11558359 -0.02202147 -0.38277963  0.08186403\n",
            "  0.19355334  0.3276931   0.00690427 -0.3609026  -0.00235284 -0.23402874\n",
            " -0.02934902  0.01793736 -0.30414796  0.00575351 -0.09027603 -0.03315572\n",
            "  0.01583433  0.06686483 -0.05379866  0.13094154  0.20310515  0.14187674\n",
            "  0.16843732  0.00591248  0.22301513 -0.2763493  -0.03130002  0.1965026\n",
            " -0.00546375 -0.1748624  -0.03030613  0.32413653  0.20258023  0.11313815\n",
            "  0.03184769 -0.2399907   0.02506847  0.00477613 -0.40232292 -0.03638461\n",
            " -0.0453189  -0.03557278  0.10639653 -0.09869563 -0.14695919 -0.04547719\n",
            " -0.18907838 -0.1068827   0.12262931 -0.01725182  0.06022164 -0.22051209\n",
            "  0.01311669 -0.23685232 -0.05853721 -0.07915352  0.03892088 -0.24553691\n",
            " -0.00374812  0.07596385 -0.15744635  0.11147694  0.16446225 -0.08800478\n",
            "  0.18949765  0.24703339 -0.08107666 -0.14078592 -0.06384401  0.01733259\n",
            "  0.06701218  0.29687667 -0.1897102   0.05529572  0.33162135  0.00679272\n",
            " -0.03096473  0.1149546  -0.391424   -0.15933718  0.13969423 -0.48084393\n",
            " -0.28365734  0.16177075  0.01832175 -0.2989847   0.26996705 -0.06648621\n",
            "  0.27212632  0.07088819  0.0326315  -0.11230019  0.09392408  0.04269297\n",
            " -0.38575327 -0.2611343  -0.0718185  -0.35033882  0.2902444  -0.02949531\n",
            "  0.04737102  0.36836177 -0.00528212 -0.17513916 -0.00905334 -0.27897838\n",
            " -0.01241778  0.24135765 -0.0177574   0.01267758 -0.0637594   0.02480863\n",
            " -0.11466379 -0.10760477 -0.12676866 -0.14154252  0.00749594 -0.02486543\n",
            "  0.00245384 -0.20915678 -0.08787206 -0.36858198  0.20657259 -0.06352922\n",
            " -0.3502084  -0.405143    0.04144154  0.30526328 -0.08771608  0.19528674\n",
            " -0.15248929  0.2422287   0.12164909 -0.30942184 -0.1429313   0.08776098\n",
            " -0.02018168  0.14216815  0.00683394 -0.10606594 -0.16795488 -0.16705568\n",
            "  0.11248372 -0.22230363 -0.09864961  0.1486528   0.1277936   0.1910725\n",
            "  0.19815572 -0.2971477   0.05868598 -0.0920888   0.22927462  0.02474441\n",
            " -0.04769968  0.30091497 -0.57321924 -0.20586146  0.3606977  -0.12908217\n",
            " -0.38668552 -0.41488048  0.10385807  0.24408256  0.15612788 -0.1801383\n",
            " -0.32452777  0.02273917  0.18109195  0.22364329 -0.41471422  0.00583042\n",
            "  0.03395091  0.13980058  0.18334769 -0.1038401   0.15035984  0.25281864\n",
            "  0.07003168 -0.20500478 -0.19933735 -0.05641191  0.27594703 -0.28220788\n",
            " -0.1820466  -0.08065646  0.23739205  0.20151144 -0.31773627  0.10577298\n",
            " -0.22735877 -0.09952381 -0.05736192  0.41783303 -0.01236231 -0.02607406\n",
            "  0.06752372  0.07205562  0.36302334 -0.20410891  0.10737195  0.07869738]\n"
          ]
        }
      ]
    },
    {
      "cell_type": "code",
      "source": [
        "# el método `most_similar` también permite comparar a partir de vectores\n",
        "w2v_model_adele.wv.most_similar(vector_always_adele)"
      ],
      "metadata": {
        "colab": {
          "base_uri": "https://localhost:8080/"
        },
        "id": "XPB5CdK7-aJb",
        "outputId": "02606feb-48b0-4b0d-c1b7-1a2492c84adb"
      },
      "execution_count": 49,
      "outputs": [
        {
          "output_type": "execute_result",
          "data": {
            "text/plain": [
              "[('always', 0.9999999403953552),\n",
              " ('win', 0.9216226935386658),\n",
              " ('would', 0.8944078683853149),\n",
              " ('promise', 0.7749091386795044),\n",
              " ('stay', 0.7524642944335938),\n",
              " ('however', 0.7514536380767822),\n",
              " ('remedy', 0.749398946762085),\n",
              " (\"i'd\", 0.746101438999176),\n",
              " ('he', 0.7387968897819519),\n",
              " ('still', 0.7299801111221313)]"
            ]
          },
          "metadata": {},
          "execution_count": 49
        }
      ]
    },
    {
      "cell_type": "markdown",
      "source": [
        "Esta similitud de vectores nuevamente expresan los sentimientos de las canciones de Adele (espera , algo que hubiera pasado , promesas)"
      ],
      "metadata": {
        "id": "Sr4D1qXj-zUR"
      }
    },
    {
      "cell_type": "markdown",
      "source": [
        "**El método most_similar puede usarse tanto con palabras como con vectores. En este caso, al pasar el vector de \"break\" y \"always\" directamente, se obtienen los mismos resultados que al usar la palabra, lo que confirma que el modelo está trabajando con la misma representación interna**"
      ],
      "metadata": {
        "id": "jm7KhRRKK85j"
      }
    },
    {
      "cell_type": "markdown",
      "metadata": {
        "id": "zuH_XN6uLQPc"
      },
      "source": [
        "# Visualización de vectores"
      ]
    },
    {
      "cell_type": "code",
      "execution_count": 52,
      "metadata": {
        "id": "_1jGttDELSvK"
      },
      "outputs": [],
      "source": [
        "from sklearn.decomposition import IncrementalPCA\n",
        "from sklearn.manifold import TSNE\n",
        "import numpy as np\n",
        "def reduce_dimensions_adele(model, num_dimensions=2):\n",
        "    vectors_adele = np.asarray(model.wv.vectors)\n",
        "    labels_adele = np.asarray(model.wv.index_to_key)\n",
        "\n",
        "    tsne = TSNE(n_components=num_dimensions, random_state=0)\n",
        "    vectors_adele = tsne.fit_transform(vectors_adele)\n",
        "\n",
        "    return vectors_adele, labels_adele"
      ]
    },
    {
      "cell_type": "code",
      "execution_count": 53,
      "metadata": {
        "colab": {
          "base_uri": "https://localhost:8080/",
          "height": 542
        },
        "id": "J4-F7rj_LWqc",
        "outputId": "e167ce3c-cf70-478d-e444-ae4baabbdcd8"
      },
      "outputs": [
        {
          "output_type": "display_data",
          "data": {
            "text/html": [
              "<html>\n",
              "<head><meta charset=\"utf-8\" /></head>\n",
              "<body>\n",
              "    <div>            <script src=\"https://cdnjs.cloudflare.com/ajax/libs/mathjax/2.7.5/MathJax.js?config=TeX-AMS-MML_SVG\"></script><script type=\"text/javascript\">if (window.MathJax && window.MathJax.Hub && window.MathJax.Hub.Config) {window.MathJax.Hub.Config({SVG: {font: \"STIX-Web\"}});}</script>                <script type=\"text/javascript\">window.PlotlyConfig = {MathJaxConfig: 'local'};</script>\n",
              "        <script charset=\"utf-8\" src=\"https://cdn.plot.ly/plotly-2.35.2.min.js\"></script>                <div id=\"21088eef-9547-4563-a609-b496cea165ec\" class=\"plotly-graph-div\" style=\"height:525px; width:100%;\"></div>            <script type=\"text/javascript\">                                    window.PLOTLYENV=window.PLOTLYENV || {};                                    if (document.getElementById(\"21088eef-9547-4563-a609-b496cea165ec\")) {                    Plotly.newPlot(                        \"21088eef-9547-4563-a609-b496cea165ec\",                        [{\"hovertemplate\":\"x=%{x}\\u003cbr\\u003ey=%{y}\\u003cbr\\u003etext=%{text}\\u003cextra\\u003e\\u003c\\u002fextra\\u003e\",\"legendgroup\":\"\",\"marker\":{\"color\":\"#636efa\",\"symbol\":\"circle\"},\"mode\":\"markers+text\",\"name\":\"\",\"orientation\":\"v\",\"showlegend\":false,\"text\":[\"i\",\"you\",\"the\",\"me\",\"to\",\"it\",\"and\",\"my\",\"your\",\"that\",\"love\",\"of\",\"in\",\"all\",\"we\",\"a\",\"i'm\",\"when\",\"but\",\"be\",\"for\",\"so\",\"don't\",\"never\",\"you're\",\"let\",\"if\",\"is\",\"up\",\"know\",\"go\",\"down\",\"will\",\"on\",\"just\",\"do\",\"ain't\",\"heart\",\"like\",\"with\",\"baby\",\"this\",\"want\",\"it's\",\"i've\",\"say\",\"no\",\"as\",\"had\",\"can\",\"make\",\"out\",\"ooh\",\"one\",\"was\",\"can't\",\"time\",\"what\",\"are\",\"feel\",\"see\",\"i'll\",\"fall\",\"there\",\"were\",\"gonna\",\"more\",\"won't\",\"back\",\"oh\",\"face\",\"have\",\"yeah\",\"at\",\"'cause\",\"been\",\"only\",\"stand\",\"ready\",\"take\",\"way\",\"has\",\"she\",\"could\",\"give\",\"wish\",\"now\",\"then\",\"lay\",\"why\",\"miss\",\"every\",\"us\",\"always\",\"our\",\"or\",\"they\",\"life\",\"again\",\"look\",\"sky\",\"rumor\",\"things\",\"away\",\"steady\",\"right\",\"by\",\"not\",\"nothing\",\"even\",\"goes\",\"from\",\"leave\",\"everything\",\"should\",\"think\",\"there's\",\"better\",\"made\",\"deep\",\"tell\",\"how\",\"mind\",\"tall\",\"eyes\",\"name\",\"her\",\"enough\",\"knew\",\"hold\",\"last\",\"who\",\"keep\",\"night\",\"through\",\"where\",\"lights\",\"help\",\"world\",\"rain\",\"too\",\"crumbles\",\"river\",\"before\",\"get\",\"find\",\"home\",\"here\",\"am\",\"still\",\"sometimes\",\"you'll\",\"own\",\"said\",\"into\",\"ever\",\"you'd\",\"hand\",\"treat\",\"words\",\"fire\",\"together\",\"set\",\"he\",\"come\",\"would\",\"skyfall\",\"met\",\"well\",\"dark\",\"over\",\"kids\",\"new\",\"both\",\"day\",\"i'd\",\"whenever\",\"off\",\"under\",\"head\",\"gotta\",\"we've\",\"true\",\"cried\",\"known\",\"tears\",\"lea\",\"rolling\",\"waiting\",\"without\",\"need\",\"left\",\"turn\",\"hear\",\"remember\",\"wanna\",\"put\",\"lover\",\"send\",\"heard\"],\"x\":[0.008190785,-0.20510633,8.078222,5.973808,-12.353784,-11.191007,-1.302975,15.242499,12.555583,-9.83452,-17.820696,25.612627,10.516988,15.846775,12.916771,-10.022679,-12.326483,12.865704,-2.46272,6.483619,-17.198536,-4.105054,-4.922209,4.8188944,-14.622941,22.91508,-19.652893,-15.173878,14.297827,2.4490147,22.469744,21.280375,14.607986,-0.33402777,-1.2565271,-2.9057074,19.548811,18.134367,-8.306202,13.4886,-1.5315975,-14.637335,-2.9679844,11.574844,-14.102309,-12.515723,-20.895123,-12.343818,11.088917,0.81679624,-10.022841,17.168957,-14.278986,-17.844124,-9.400887,-3.9319837,-1.7508007,-16.34801,12.9844675,-9.838595,2.6741958,-2.8029988,12.879869,-8.696279,11.12846,16.46613,-21.784525,-3.932871,-6.7345915,-2.893991,12.739041,7.056443,-18.467772,-9.420121,-9.052088,-18.52944,-18.905869,14.8186655,-16.324059,0.72647524,3.7009757,-14.07512,-13.463644,8.375512,-3.6374815,10.308921,-11.401286,-15.522821,21.159672,-2.9179745,-1.3115464,12.565946,5.245444,15.101287,24.64427,1.7939932,6.004001,16.765165,2.7846906,-8.606441,15.871054,-14.346024,-11.166588,9.755355,-13.227411,-10.051978,2.5378678,-13.301867,-6.294732,-21.271185,-12.77878,4.092577,-0.22917768,-16.498686,0.5920029,3.16184,6.8983226,-22.253094,14.88011,11.84249,-6.6760726,-0.6090503,-5.815036,14.706631,8.491514,16.356373,-22.709682,-18.35916,3.501319,-14.683786,-1.7557248,-11.325473,0.5738026,7.2647595,4.2582455,14.049005,21.78368,7.7867036,9.24458,-13.182437,-17.379791,15.101722,-3.8837764,9.980995,-6.0351233,-6.347797,8.094344,-13.64056,-15.401844,1.1274298,-5.125686,3.5857928,-0.2590575,1.7446555,7.0565658,-14.926118,-11.553935,17.896837,-22.296675,13.266785,-13.499429,14.39863,-13.734377,7.7960343,13.290833,14.373142,15.99809,10.236079,-9.999531,6.8341002,-10.500584,17.938774,-19.054653,17.663097,-18.597923,4.8347974,-8.891788,20.123886,24.509733,11.441618,23.652569,23.380636,4.622539,-6.9676504,-14.246046,12.803884,-3.878006,12.005905,-14.67286,9.25542,-3.179725,-1.102223,19.93782,1.8816935,-4.512052,-2.565866,16.989206,-19.072203,-18.986765,-9.141698],\"xaxis\":\"x\",\"y\":[16.516735,15.859889,-17.935303,14.91072,16.540834,-8.543899,-1.749647,-4.015334,-8.959827,4.5337634,15.887684,-10.47721,-17.528578,-14.668561,11.039364,-0.05528312,10.447693,4.854045,5.665484,11.826009,6.0290275,-1.1181368,17.45345,19.295193,9.5016165,-12.042029,3.5900657,1.4699645,-8.943951,13.214085,-10.542046,-14.992862,12.306262,-7.9854927,23.36662,19.385645,9.578225,-4.7017746,9.857257,-5.6066127,-12.491154,2.8549907,16.171354,-3.3519542,-4.015612,-11.887959,-6.7803254,-20.498493,15.102173,-18.857738,13.754868,-11.612093,-9.8738165,9.188727,8.625139,-15.128757,-17.447607,3.9822547,-18.222542,13.3866625,16.358137,9.681048,-20.5431,22.75348,9.91584,6.083087,-5.964127,-15.151563,22.563938,-11.896805,-14.275713,17.667822,-3.0714476,18.625185,-5.6666236,1.1010027,8.646068,10.444675,11.489112,-24.504204,-19.227034,-9.290703,-19.807344,13.435454,-10.049464,17.023897,-16.362871,4.7770305,-15.332498,19.206501,-13.246506,-11.783956,-16.778137,16.073463,-8.858087,23.447437,10.119708,-3.628383,17.28653,17.950512,-19.998,-10.051312,-10.813066,3.1556766,-20.54217,-15.210766,-19.619442,5.3375306,20.471565,2.7123494,-20.435028,-14.125645,18.65728,-3.4030411,24.800869,14.021662,-25.067957,12.038339,-7.382343,-20.27463,12.856292,14.548184,-9.576183,11.483975,-7.5222926,-11.007677,12.23007,-7.2138805,19.994654,19.59616,-17.447947,8.731244,23.220013,-13.890633,-9.753238,8.858627,-14.194044,7.995113,-9.920047,-26.532536,-13.234787,-21.198008,-20.886189,6.8993134,20.210943,9.312805,15.277029,13.095198,10.579606,13.183083,-5.461505,17.550552,-7.28707,5.7709274,-16.086721,-5.152347,-11.218801,-6.3214912,12.060353,-6.7164326,-26.558538,-15.233048,-26.571733,10.552031,-0.88143885,14.808512,-19.795082,16.356611,-15.853324,-11.00676,-7.3980446,10.857045,20.254597,10.786067,7.568927,10.662079,17.576374,-12.42149,-6.637359,-6.3453674,-10.515389,-10.6180725,19.20226,-15.698605,-4.7668505,-18.551767,-20.888084,-20.337292,12.003881,-3.164316,15.023234,11.209475,-12.374329,-17.31084,16.76853,13.019572,-8.360921,20.292105,20.12953,-6.3661404],\"yaxis\":\"y\",\"type\":\"scatter\"}],                        {\"template\":{\"data\":{\"histogram2dcontour\":[{\"type\":\"histogram2dcontour\",\"colorbar\":{\"outlinewidth\":0,\"ticks\":\"\"},\"colorscale\":[[0.0,\"#0d0887\"],[0.1111111111111111,\"#46039f\"],[0.2222222222222222,\"#7201a8\"],[0.3333333333333333,\"#9c179e\"],[0.4444444444444444,\"#bd3786\"],[0.5555555555555556,\"#d8576b\"],[0.6666666666666666,\"#ed7953\"],[0.7777777777777778,\"#fb9f3a\"],[0.8888888888888888,\"#fdca26\"],[1.0,\"#f0f921\"]]}],\"choropleth\":[{\"type\":\"choropleth\",\"colorbar\":{\"outlinewidth\":0,\"ticks\":\"\"}}],\"histogram2d\":[{\"type\":\"histogram2d\",\"colorbar\":{\"outlinewidth\":0,\"ticks\":\"\"},\"colorscale\":[[0.0,\"#0d0887\"],[0.1111111111111111,\"#46039f\"],[0.2222222222222222,\"#7201a8\"],[0.3333333333333333,\"#9c179e\"],[0.4444444444444444,\"#bd3786\"],[0.5555555555555556,\"#d8576b\"],[0.6666666666666666,\"#ed7953\"],[0.7777777777777778,\"#fb9f3a\"],[0.8888888888888888,\"#fdca26\"],[1.0,\"#f0f921\"]]}],\"heatmap\":[{\"type\":\"heatmap\",\"colorbar\":{\"outlinewidth\":0,\"ticks\":\"\"},\"colorscale\":[[0.0,\"#0d0887\"],[0.1111111111111111,\"#46039f\"],[0.2222222222222222,\"#7201a8\"],[0.3333333333333333,\"#9c179e\"],[0.4444444444444444,\"#bd3786\"],[0.5555555555555556,\"#d8576b\"],[0.6666666666666666,\"#ed7953\"],[0.7777777777777778,\"#fb9f3a\"],[0.8888888888888888,\"#fdca26\"],[1.0,\"#f0f921\"]]}],\"heatmapgl\":[{\"type\":\"heatmapgl\",\"colorbar\":{\"outlinewidth\":0,\"ticks\":\"\"},\"colorscale\":[[0.0,\"#0d0887\"],[0.1111111111111111,\"#46039f\"],[0.2222222222222222,\"#7201a8\"],[0.3333333333333333,\"#9c179e\"],[0.4444444444444444,\"#bd3786\"],[0.5555555555555556,\"#d8576b\"],[0.6666666666666666,\"#ed7953\"],[0.7777777777777778,\"#fb9f3a\"],[0.8888888888888888,\"#fdca26\"],[1.0,\"#f0f921\"]]}],\"contourcarpet\":[{\"type\":\"contourcarpet\",\"colorbar\":{\"outlinewidth\":0,\"ticks\":\"\"}}],\"contour\":[{\"type\":\"contour\",\"colorbar\":{\"outlinewidth\":0,\"ticks\":\"\"},\"colorscale\":[[0.0,\"#0d0887\"],[0.1111111111111111,\"#46039f\"],[0.2222222222222222,\"#7201a8\"],[0.3333333333333333,\"#9c179e\"],[0.4444444444444444,\"#bd3786\"],[0.5555555555555556,\"#d8576b\"],[0.6666666666666666,\"#ed7953\"],[0.7777777777777778,\"#fb9f3a\"],[0.8888888888888888,\"#fdca26\"],[1.0,\"#f0f921\"]]}],\"surface\":[{\"type\":\"surface\",\"colorbar\":{\"outlinewidth\":0,\"ticks\":\"\"},\"colorscale\":[[0.0,\"#0d0887\"],[0.1111111111111111,\"#46039f\"],[0.2222222222222222,\"#7201a8\"],[0.3333333333333333,\"#9c179e\"],[0.4444444444444444,\"#bd3786\"],[0.5555555555555556,\"#d8576b\"],[0.6666666666666666,\"#ed7953\"],[0.7777777777777778,\"#fb9f3a\"],[0.8888888888888888,\"#fdca26\"],[1.0,\"#f0f921\"]]}],\"mesh3d\":[{\"type\":\"mesh3d\",\"colorbar\":{\"outlinewidth\":0,\"ticks\":\"\"}}],\"scatter\":[{\"fillpattern\":{\"fillmode\":\"overlay\",\"size\":10,\"solidity\":0.2},\"type\":\"scatter\"}],\"parcoords\":[{\"type\":\"parcoords\",\"line\":{\"colorbar\":{\"outlinewidth\":0,\"ticks\":\"\"}}}],\"scatterpolargl\":[{\"type\":\"scatterpolargl\",\"marker\":{\"colorbar\":{\"outlinewidth\":0,\"ticks\":\"\"}}}],\"bar\":[{\"error_x\":{\"color\":\"#2a3f5f\"},\"error_y\":{\"color\":\"#2a3f5f\"},\"marker\":{\"line\":{\"color\":\"#E5ECF6\",\"width\":0.5},\"pattern\":{\"fillmode\":\"overlay\",\"size\":10,\"solidity\":0.2}},\"type\":\"bar\"}],\"scattergeo\":[{\"type\":\"scattergeo\",\"marker\":{\"colorbar\":{\"outlinewidth\":0,\"ticks\":\"\"}}}],\"scatterpolar\":[{\"type\":\"scatterpolar\",\"marker\":{\"colorbar\":{\"outlinewidth\":0,\"ticks\":\"\"}}}],\"histogram\":[{\"marker\":{\"pattern\":{\"fillmode\":\"overlay\",\"size\":10,\"solidity\":0.2}},\"type\":\"histogram\"}],\"scattergl\":[{\"type\":\"scattergl\",\"marker\":{\"colorbar\":{\"outlinewidth\":0,\"ticks\":\"\"}}}],\"scatter3d\":[{\"type\":\"scatter3d\",\"line\":{\"colorbar\":{\"outlinewidth\":0,\"ticks\":\"\"}},\"marker\":{\"colorbar\":{\"outlinewidth\":0,\"ticks\":\"\"}}}],\"scattermapbox\":[{\"type\":\"scattermapbox\",\"marker\":{\"colorbar\":{\"outlinewidth\":0,\"ticks\":\"\"}}}],\"scatterternary\":[{\"type\":\"scatterternary\",\"marker\":{\"colorbar\":{\"outlinewidth\":0,\"ticks\":\"\"}}}],\"scattercarpet\":[{\"type\":\"scattercarpet\",\"marker\":{\"colorbar\":{\"outlinewidth\":0,\"ticks\":\"\"}}}],\"carpet\":[{\"aaxis\":{\"endlinecolor\":\"#2a3f5f\",\"gridcolor\":\"white\",\"linecolor\":\"white\",\"minorgridcolor\":\"white\",\"startlinecolor\":\"#2a3f5f\"},\"baxis\":{\"endlinecolor\":\"#2a3f5f\",\"gridcolor\":\"white\",\"linecolor\":\"white\",\"minorgridcolor\":\"white\",\"startlinecolor\":\"#2a3f5f\"},\"type\":\"carpet\"}],\"table\":[{\"cells\":{\"fill\":{\"color\":\"#EBF0F8\"},\"line\":{\"color\":\"white\"}},\"header\":{\"fill\":{\"color\":\"#C8D4E3\"},\"line\":{\"color\":\"white\"}},\"type\":\"table\"}],\"barpolar\":[{\"marker\":{\"line\":{\"color\":\"#E5ECF6\",\"width\":0.5},\"pattern\":{\"fillmode\":\"overlay\",\"size\":10,\"solidity\":0.2}},\"type\":\"barpolar\"}],\"pie\":[{\"automargin\":true,\"type\":\"pie\"}]},\"layout\":{\"autotypenumbers\":\"strict\",\"colorway\":[\"#636efa\",\"#EF553B\",\"#00cc96\",\"#ab63fa\",\"#FFA15A\",\"#19d3f3\",\"#FF6692\",\"#B6E880\",\"#FF97FF\",\"#FECB52\"],\"font\":{\"color\":\"#2a3f5f\"},\"hovermode\":\"closest\",\"hoverlabel\":{\"align\":\"left\"},\"paper_bgcolor\":\"white\",\"plot_bgcolor\":\"#E5ECF6\",\"polar\":{\"bgcolor\":\"#E5ECF6\",\"angularaxis\":{\"gridcolor\":\"white\",\"linecolor\":\"white\",\"ticks\":\"\"},\"radialaxis\":{\"gridcolor\":\"white\",\"linecolor\":\"white\",\"ticks\":\"\"}},\"ternary\":{\"bgcolor\":\"#E5ECF6\",\"aaxis\":{\"gridcolor\":\"white\",\"linecolor\":\"white\",\"ticks\":\"\"},\"baxis\":{\"gridcolor\":\"white\",\"linecolor\":\"white\",\"ticks\":\"\"},\"caxis\":{\"gridcolor\":\"white\",\"linecolor\":\"white\",\"ticks\":\"\"}},\"coloraxis\":{\"colorbar\":{\"outlinewidth\":0,\"ticks\":\"\"}},\"colorscale\":{\"sequential\":[[0.0,\"#0d0887\"],[0.1111111111111111,\"#46039f\"],[0.2222222222222222,\"#7201a8\"],[0.3333333333333333,\"#9c179e\"],[0.4444444444444444,\"#bd3786\"],[0.5555555555555556,\"#d8576b\"],[0.6666666666666666,\"#ed7953\"],[0.7777777777777778,\"#fb9f3a\"],[0.8888888888888888,\"#fdca26\"],[1.0,\"#f0f921\"]],\"sequentialminus\":[[0.0,\"#0d0887\"],[0.1111111111111111,\"#46039f\"],[0.2222222222222222,\"#7201a8\"],[0.3333333333333333,\"#9c179e\"],[0.4444444444444444,\"#bd3786\"],[0.5555555555555556,\"#d8576b\"],[0.6666666666666666,\"#ed7953\"],[0.7777777777777778,\"#fb9f3a\"],[0.8888888888888888,\"#fdca26\"],[1.0,\"#f0f921\"]],\"diverging\":[[0,\"#8e0152\"],[0.1,\"#c51b7d\"],[0.2,\"#de77ae\"],[0.3,\"#f1b6da\"],[0.4,\"#fde0ef\"],[0.5,\"#f7f7f7\"],[0.6,\"#e6f5d0\"],[0.7,\"#b8e186\"],[0.8,\"#7fbc41\"],[0.9,\"#4d9221\"],[1,\"#276419\"]]},\"xaxis\":{\"gridcolor\":\"white\",\"linecolor\":\"white\",\"ticks\":\"\",\"title\":{\"standoff\":15},\"zerolinecolor\":\"white\",\"automargin\":true,\"zerolinewidth\":2},\"yaxis\":{\"gridcolor\":\"white\",\"linecolor\":\"white\",\"ticks\":\"\",\"title\":{\"standoff\":15},\"zerolinecolor\":\"white\",\"automargin\":true,\"zerolinewidth\":2},\"scene\":{\"xaxis\":{\"backgroundcolor\":\"#E5ECF6\",\"gridcolor\":\"white\",\"linecolor\":\"white\",\"showbackground\":true,\"ticks\":\"\",\"zerolinecolor\":\"white\",\"gridwidth\":2},\"yaxis\":{\"backgroundcolor\":\"#E5ECF6\",\"gridcolor\":\"white\",\"linecolor\":\"white\",\"showbackground\":true,\"ticks\":\"\",\"zerolinecolor\":\"white\",\"gridwidth\":2},\"zaxis\":{\"backgroundcolor\":\"#E5ECF6\",\"gridcolor\":\"white\",\"linecolor\":\"white\",\"showbackground\":true,\"ticks\":\"\",\"zerolinecolor\":\"white\",\"gridwidth\":2}},\"shapedefaults\":{\"line\":{\"color\":\"#2a3f5f\"}},\"annotationdefaults\":{\"arrowcolor\":\"#2a3f5f\",\"arrowhead\":0,\"arrowwidth\":1},\"geo\":{\"bgcolor\":\"white\",\"landcolor\":\"#E5ECF6\",\"subunitcolor\":\"white\",\"showland\":true,\"showlakes\":true,\"lakecolor\":\"white\"},\"title\":{\"x\":0.05},\"mapbox\":{\"style\":\"light\"}}},\"xaxis\":{\"anchor\":\"y\",\"domain\":[0.0,1.0],\"title\":{\"text\":\"x\"}},\"yaxis\":{\"anchor\":\"x\",\"domain\":[0.0,1.0],\"title\":{\"text\":\"y\"}},\"legend\":{\"tracegroupgap\":0},\"margin\":{\"t\":60}},                        {\"responsive\": true}                    ).then(function(){\n",
              "                            \n",
              "var gd = document.getElementById('21088eef-9547-4563-a609-b496cea165ec');\n",
              "var x = new MutationObserver(function (mutations, observer) {{\n",
              "        var display = window.getComputedStyle(gd).display;\n",
              "        if (!display || display === 'none') {{\n",
              "            console.log([gd, 'removed!']);\n",
              "            Plotly.purge(gd);\n",
              "            observer.disconnect();\n",
              "        }}\n",
              "}});\n",
              "\n",
              "// Listen for the removal of the full notebook cells\n",
              "var notebookContainer = gd.closest('#notebook-container');\n",
              "if (notebookContainer) {{\n",
              "    x.observe(notebookContainer, {childList: true});\n",
              "}}\n",
              "\n",
              "// Listen for the clearing of the current output cell\n",
              "var outputEl = gd.closest('.output');\n",
              "if (outputEl) {{\n",
              "    x.observe(outputEl, {childList: true});\n",
              "}}\n",
              "\n",
              "                        })                };                            </script>        </div>\n",
              "</body>\n",
              "</html>"
            ]
          },
          "metadata": {}
        }
      ],
      "source": [
        "# Graficar los embedddings en 2D\n",
        "import plotly.graph_objects as go\n",
        "import plotly.express as px\n",
        "vecs, labels = reduce_dimensions_adele(w2v_model_adele)\n",
        "MAX_WORDS=200\n",
        "fig = px.scatter(x=vecs[:MAX_WORDS,0], y=vecs[:MAX_WORDS,1], text=labels[:MAX_WORDS])\n",
        "fig.show(renderer=\"colab\") # esto para plotly en colab"
      ]
    },
    {
      "cell_type": "markdown",
      "metadata": {
        "id": "OTGWVz-OQ7vd"
      },
      "source": [
        "# Se observa patrones reales:\n",
        "\n",
        "Zona del dolor: broken, heart, tears, cry, hurt, miss, alone\n",
        "\n",
        "Zona de la separación: leave, go, away, gone, without, never\n",
        "\n",
        "Zona del tiempo: time, when, then, before, now, always\n",
        "\n",
        "Zona de la memoria: remember, know, think, feel, was, had\n",
        "\n",
        "El modelo aprendió temas emocionales claves de Adele."
      ]
    },
    {
      "cell_type": "code",
      "execution_count": 54,
      "metadata": {
        "colab": {
          "base_uri": "https://localhost:8080/",
          "height": 542
        },
        "id": "4ZBLo5M2LiA5",
        "outputId": "aa5eab3a-a9a5-475f-9c2c-11622cfbaabc"
      },
      "outputs": [
        {
          "output_type": "display_data",
          "data": {
            "text/html": [
              "<html>\n",
              "<head><meta charset=\"utf-8\" /></head>\n",
              "<body>\n",
              "    <div>            <script src=\"https://cdnjs.cloudflare.com/ajax/libs/mathjax/2.7.5/MathJax.js?config=TeX-AMS-MML_SVG\"></script><script type=\"text/javascript\">if (window.MathJax && window.MathJax.Hub && window.MathJax.Hub.Config) {window.MathJax.Hub.Config({SVG: {font: \"STIX-Web\"}});}</script>                <script type=\"text/javascript\">window.PlotlyConfig = {MathJaxConfig: 'local'};</script>\n",
              "        <script charset=\"utf-8\" src=\"https://cdn.plot.ly/plotly-2.35.2.min.js\"></script>                <div id=\"443320eb-7587-418d-9c79-b99ea67931b8\" class=\"plotly-graph-div\" style=\"height:525px; width:100%;\"></div>            <script type=\"text/javascript\">                                    window.PLOTLYENV=window.PLOTLYENV || {};                                    if (document.getElementById(\"443320eb-7587-418d-9c79-b99ea67931b8\")) {                    Plotly.newPlot(                        \"443320eb-7587-418d-9c79-b99ea67931b8\",                        [{\"hovertemplate\":\"x=%{x}\\u003cbr\\u003ey=%{y}\\u003cbr\\u003ez=%{z}\\u003cbr\\u003etext=%{text}\\u003cextra\\u003e\\u003c\\u002fextra\\u003e\",\"legendgroup\":\"\",\"marker\":{\"color\":\"#636efa\",\"symbol\":\"circle\",\"size\":2},\"mode\":\"markers+text\",\"name\":\"\",\"scene\":\"scene\",\"showlegend\":false,\"text\":[\"i\",\"you\",\"the\",\"me\",\"to\",\"it\",\"and\",\"my\",\"your\",\"that\",\"love\",\"of\",\"in\",\"all\",\"we\",\"a\",\"i'm\",\"when\",\"but\",\"be\",\"for\",\"so\",\"don't\",\"never\",\"you're\",\"let\",\"if\",\"is\",\"up\",\"know\",\"go\",\"down\",\"will\",\"on\",\"just\",\"do\",\"ain't\",\"heart\",\"like\",\"with\",\"baby\",\"this\",\"want\",\"it's\",\"i've\",\"say\",\"no\",\"as\",\"had\",\"can\",\"make\",\"out\",\"ooh\",\"one\",\"was\",\"can't\",\"time\",\"what\",\"are\",\"feel\",\"see\",\"i'll\",\"fall\",\"there\",\"were\",\"gonna\",\"more\",\"won't\",\"back\",\"oh\",\"face\",\"have\",\"yeah\",\"at\",\"'cause\",\"been\",\"only\",\"stand\",\"ready\",\"take\",\"way\",\"has\",\"she\",\"could\",\"give\",\"wish\",\"now\",\"then\",\"lay\",\"why\",\"miss\",\"every\",\"us\",\"always\",\"our\",\"or\",\"they\",\"life\",\"again\",\"look\",\"sky\",\"rumor\",\"things\",\"away\",\"steady\",\"right\",\"by\",\"not\",\"nothing\",\"even\",\"goes\",\"from\",\"leave\",\"everything\",\"should\",\"think\",\"there's\",\"better\",\"made\",\"deep\",\"tell\",\"how\",\"mind\",\"tall\",\"eyes\",\"name\",\"her\",\"enough\",\"knew\",\"hold\",\"last\",\"who\",\"keep\",\"night\",\"through\",\"where\",\"lights\",\"help\",\"world\",\"rain\",\"too\",\"crumbles\",\"river\",\"before\",\"get\",\"find\",\"home\",\"here\",\"am\",\"still\",\"sometimes\",\"you'll\",\"own\",\"said\",\"into\",\"ever\",\"you'd\",\"hand\",\"treat\",\"words\",\"fire\",\"together\",\"set\",\"he\",\"come\",\"would\",\"skyfall\",\"met\",\"well\",\"dark\",\"over\",\"kids\",\"new\",\"both\",\"day\",\"i'd\",\"whenever\",\"off\",\"under\",\"head\",\"gotta\",\"we've\",\"true\",\"cried\",\"known\",\"tears\",\"lea\",\"rolling\",\"waiting\",\"without\",\"need\",\"left\",\"turn\",\"hear\",\"remember\",\"wanna\",\"put\",\"lover\",\"send\",\"heard\"],\"x\":[29.94999,26.445288,-12.746823,31.31937,-2.7180748,-20.256613,0.58849835,-15.567696,-12.173657,22.523191,13.761199,-21.389858,-25.261812,-26.476183,11.514316,14.3423605,23.642067,-4.3850713,11.021954,7.3403816,7.3667684,-8.669063,13.598276,30.287457,16.129307,-15.896874,7.0025496,-0.36715686,-22.790766,15.242567,-18.058432,-7.2451916,12.206418,-22.870874,24.931576,25.420223,8.869952,-23.896006,18.797024,-26.675018,6.6367664,-0.58553326,19.837986,-18.62897,-12.784438,-14.0312395,15.329218,-14.08883,2.0616791,10.794802,4.3425536,-24.561617,-24.327913,15.871702,23.054533,16.398,-6.1103077,3.2472157,-30.473024,4.835317,25.674381,25.433271,-32.839886,-7.156941,16.468756,-34.012028,17.243723,13.9819,-0.31533766,0.63166845,-17.66018,25.178276,4.831966,4.261211,31.438545,-2.675974,13.0898,6.632961,17.984594,-29.952639,5.4976244,-22.579353,-13.061061,34.339108,18.391384,36.010647,-9.14491,8.002422,-3.6413147,22.290318,4.6664715,-23.810545,-5.569068,21.489153,-26.23792,25.32224,19.246927,-17.65104,28.961786,37.985203,-29.622385,-27.445488,-18.510908,-9.967118,-9.917156,-16.573639,11.18118,13.343324,6.243042,4.5019608,-10.438046,1.6649059,29.072338,11.494187,27.427954,20.67677,-13.472799,26.790329,-21.688705,-31.034132,14.179596,25.229342,-29.378992,10.117299,-18.911522,-18.712955,29.296144,8.867477,32.3008,13.23832,-5.377696,15.983254,21.210535,-5.4458413,-9.489701,4.107087,-10.949446,12.55608,-22.092838,-0.6011868,-6.771708,-30.037815,-27.47342,-1.4770834,8.163137,22.614508,28.953268,24.24622,16.411469,20.609585,-11.097483,27.13874,-19.341496,-4.1009026,-2.2692552,-9.566167,-17.101946,-26.828688,26.556286,-26.535143,-1.0028981,-21.274494,1.9836106,11.654803,-3.0784433,17.397657,-30.225334,32.215946,-13.551742,-22.775875,-12.861187,15.456617,-0.86027336,12.772006,7.860549,18.211239,37.878525,-6.752056,-28.443747,-19.809814,-19.185732,-19.4853,30.698145,-21.216288,-8.723841,-30.972914,-28.24279,-33.534492,22.675669,-8.022114,17.931948,13.282729,-10.470475,5.958213,12.979055,21.586397,-31.287052,-1.268532,2.308865,-21.845646],\"y\":[11.378435,8.741952,-8.317614,-5.064681,-24.906305,-1.7581712,-2.6838365,-28.290163,-21.750948,-8.759576,-31.45313,3.4517207,-9.580948,5.852273,22.399965,-18.10893,-0.5576177,6.4044523,1.5842687,30.107653,-16.079302,15.35555,18.2844,18.42376,-5.698688,12.31164,-4.9768124,-13.539353,-16.136557,14.880309,16.847471,19.029491,26.154547,18.893332,-2.2299862,20.453903,17.03841,-29.402414,-17.606514,-14.043961,10.616441,-16.886372,13.663416,-12.9879265,-7.575091,7.9574966,12.432007,29.132431,26.343678,-2.184393,-26.907299,-24.308613,-10.708139,-20.400415,-13.316571,27.56042,-12.471955,-15.226444,-5.1947317,-23.159578,20.398483,-0.31971636,-0.8932426,10.126032,22.786345,0.99701667,7.177071,29.459015,24.206219,-25.803953,-16.255232,10.3027935,0.6829775,26.038443,-5.2641416,-7.015951,-23.888174,30.558556,-11.583754,-7.051406,-12.249783,-10.956848,25.39001,1.2066969,6.2780795,8.945301,17.784939,-10.860001,18.557714,18.999027,14.068554,-11.634732,-22.208124,28.110119,10.496079,7.229291,24.618956,-28.359983,22.386292,5.046161,5.257986,-10.1343565,5.310745,25.21282,28.617865,16.045658,-10.954315,0.57216513,24.382376,2.1006393,26.93284,-13.189338,5.949355,0.8578407,0.9058829,18.557556,0.04466902,-19.70929,-23.451889,-5.5634713,-5.950287,13.459116,-17.398441,29.345419,-2.0916681,-24.180077,-15.904007,10.890321,14.309195,-25.189198,-9.773263,-12.085308,3.2746978,-9.122162,-1.1826291,25.280863,20.08231,5.451548,-6.1122193,-26.964848,19.067139,2.41538,16.37604,5.504473,21.679556,-7.4217515,-0.40761113,-8.155164,-12.163622,12.452413,-20.469173,18.47152,20.722971,26.802092,-16.289654,-1.190357,7.2002387,-23.94768,-17.983149,-20.454536,-29.781364,8.887309,-28.580732,27.297527,14.373492,24.491072,6.7228546,10.810659,15.182592,0.7585677,1.7413057,17.507391,-33.945045,19.337564,-23.97993,23.639652,4.508776,17.492258,12.296647,-18.951202,11.111225,12.956184,17.46084,9.740107,-5.2454495,-2.438765,14.997069,-5.266648,-9.0118685,-19.617498,17.056505,8.768541,16.71072,-4.1256037,13.685105,6.720586,-16.918825,-33.81255,-32.90779,-18.870155],\"z\":[-8.101155,-6.773553,-24.383553,4.042316,-2.5495355,19.606604,-3.1926234,-11.553061,-11.304705,-4.9607873,3.29567,-20.74397,2.751166,-11.259713,19.800861,0.42957506,23.084396,29.484573,-0.2683757,-2.9162025,19.752542,3.2629118,-15.9037695,12.166236,23.505056,-16.756195,30.82198,15.805592,-17.412567,18.04642,-21.111208,-26.948017,8.188827,-1.8890785,-13.523956,-15.933283,27.312586,-10.412556,6.048006,-12.464579,-25.420616,21.830938,-13.38374,3.9615679,27.013447,25.213257,27.375933,9.9041605,20.50578,-24.26366,5.028264,8.298221,15.751432,17.631104,2.244281,-12.808523,-33.939342,26.544685,-7.0251374,4.2693987,0.10294632,-3.7063646,2.0940623,16.570053,14.920575,-6.102338,27.453983,-11.387064,-14.602007,-9.214566,-24.334734,17.65704,-34.49046,-22.706709,-6.0567374,30.247156,13.5559225,7.45305,26.096928,-19.90318,-27.197481,19.256712,13.89823,9.947584,-22.382801,11.335559,13.878944,25.414354,-26.669662,-16.040342,-27.47684,-6.4574037,-17.724766,8.796932,-21.300306,-18.349163,-4.2555304,-3.524076,3.225726,-1.8914373,3.5637312,15.476822,18.486002,-10.175677,12.7575655,16.271643,-25.258474,24.7068,-13.107763,32.271976,9.149243,-19.579899,1.5463469,-35.5804,-20.138285,8.48774,-32.101273,10.816026,-15.685771,2.9101963,-20.37851,-2.1530178,1.321095,10.196833,-18.942497,7.302026,11.303614,25.179352,4.6921,-10.341331,-32.39488,13.919892,-19.81695,-24.601847,-21.050058,7.6695986,-24.553349,-18.348618,-11.901286,-22.56833,23.012325,7.920499,6.6795664,20.745552,-14.980737,7.9460835,12.552576,15.792812,21.098978,12.237495,15.971888,5.7249146,-4.4703383,0.1449559,-23.881132,27.735195,21.630444,-5.296704,13.509613,-13.391241,-20.17001,-11.396655,-18.586882,2.0226028,-16.26388,7.1369305,0.43595093,12.660085,13.198446,-2.2401206,14.861511,24.778877,-0.86517364,22.73335,16.816912,1.473416,2.0543954,-19.181015,-15.440642,-1.2397441,-22.693508,-19.667978,8.854554,7.484127,26.645733,-4.5393724,9.3213825,0.36908522,22.271397,3.0212624,-8.913983,2.5955389,-18.737253,-20.37703,-16.023293,-0.58733857,-3.589519,-4.3768597,-2.6332161,11.627197],\"type\":\"scatter3d\"}],                        {\"template\":{\"data\":{\"histogram2dcontour\":[{\"type\":\"histogram2dcontour\",\"colorbar\":{\"outlinewidth\":0,\"ticks\":\"\"},\"colorscale\":[[0.0,\"#0d0887\"],[0.1111111111111111,\"#46039f\"],[0.2222222222222222,\"#7201a8\"],[0.3333333333333333,\"#9c179e\"],[0.4444444444444444,\"#bd3786\"],[0.5555555555555556,\"#d8576b\"],[0.6666666666666666,\"#ed7953\"],[0.7777777777777778,\"#fb9f3a\"],[0.8888888888888888,\"#fdca26\"],[1.0,\"#f0f921\"]]}],\"choropleth\":[{\"type\":\"choropleth\",\"colorbar\":{\"outlinewidth\":0,\"ticks\":\"\"}}],\"histogram2d\":[{\"type\":\"histogram2d\",\"colorbar\":{\"outlinewidth\":0,\"ticks\":\"\"},\"colorscale\":[[0.0,\"#0d0887\"],[0.1111111111111111,\"#46039f\"],[0.2222222222222222,\"#7201a8\"],[0.3333333333333333,\"#9c179e\"],[0.4444444444444444,\"#bd3786\"],[0.5555555555555556,\"#d8576b\"],[0.6666666666666666,\"#ed7953\"],[0.7777777777777778,\"#fb9f3a\"],[0.8888888888888888,\"#fdca26\"],[1.0,\"#f0f921\"]]}],\"heatmap\":[{\"type\":\"heatmap\",\"colorbar\":{\"outlinewidth\":0,\"ticks\":\"\"},\"colorscale\":[[0.0,\"#0d0887\"],[0.1111111111111111,\"#46039f\"],[0.2222222222222222,\"#7201a8\"],[0.3333333333333333,\"#9c179e\"],[0.4444444444444444,\"#bd3786\"],[0.5555555555555556,\"#d8576b\"],[0.6666666666666666,\"#ed7953\"],[0.7777777777777778,\"#fb9f3a\"],[0.8888888888888888,\"#fdca26\"],[1.0,\"#f0f921\"]]}],\"heatmapgl\":[{\"type\":\"heatmapgl\",\"colorbar\":{\"outlinewidth\":0,\"ticks\":\"\"},\"colorscale\":[[0.0,\"#0d0887\"],[0.1111111111111111,\"#46039f\"],[0.2222222222222222,\"#7201a8\"],[0.3333333333333333,\"#9c179e\"],[0.4444444444444444,\"#bd3786\"],[0.5555555555555556,\"#d8576b\"],[0.6666666666666666,\"#ed7953\"],[0.7777777777777778,\"#fb9f3a\"],[0.8888888888888888,\"#fdca26\"],[1.0,\"#f0f921\"]]}],\"contourcarpet\":[{\"type\":\"contourcarpet\",\"colorbar\":{\"outlinewidth\":0,\"ticks\":\"\"}}],\"contour\":[{\"type\":\"contour\",\"colorbar\":{\"outlinewidth\":0,\"ticks\":\"\"},\"colorscale\":[[0.0,\"#0d0887\"],[0.1111111111111111,\"#46039f\"],[0.2222222222222222,\"#7201a8\"],[0.3333333333333333,\"#9c179e\"],[0.4444444444444444,\"#bd3786\"],[0.5555555555555556,\"#d8576b\"],[0.6666666666666666,\"#ed7953\"],[0.7777777777777778,\"#fb9f3a\"],[0.8888888888888888,\"#fdca26\"],[1.0,\"#f0f921\"]]}],\"surface\":[{\"type\":\"surface\",\"colorbar\":{\"outlinewidth\":0,\"ticks\":\"\"},\"colorscale\":[[0.0,\"#0d0887\"],[0.1111111111111111,\"#46039f\"],[0.2222222222222222,\"#7201a8\"],[0.3333333333333333,\"#9c179e\"],[0.4444444444444444,\"#bd3786\"],[0.5555555555555556,\"#d8576b\"],[0.6666666666666666,\"#ed7953\"],[0.7777777777777778,\"#fb9f3a\"],[0.8888888888888888,\"#fdca26\"],[1.0,\"#f0f921\"]]}],\"mesh3d\":[{\"type\":\"mesh3d\",\"colorbar\":{\"outlinewidth\":0,\"ticks\":\"\"}}],\"scatter\":[{\"fillpattern\":{\"fillmode\":\"overlay\",\"size\":10,\"solidity\":0.2},\"type\":\"scatter\"}],\"parcoords\":[{\"type\":\"parcoords\",\"line\":{\"colorbar\":{\"outlinewidth\":0,\"ticks\":\"\"}}}],\"scatterpolargl\":[{\"type\":\"scatterpolargl\",\"marker\":{\"colorbar\":{\"outlinewidth\":0,\"ticks\":\"\"}}}],\"bar\":[{\"error_x\":{\"color\":\"#2a3f5f\"},\"error_y\":{\"color\":\"#2a3f5f\"},\"marker\":{\"line\":{\"color\":\"#E5ECF6\",\"width\":0.5},\"pattern\":{\"fillmode\":\"overlay\",\"size\":10,\"solidity\":0.2}},\"type\":\"bar\"}],\"scattergeo\":[{\"type\":\"scattergeo\",\"marker\":{\"colorbar\":{\"outlinewidth\":0,\"ticks\":\"\"}}}],\"scatterpolar\":[{\"type\":\"scatterpolar\",\"marker\":{\"colorbar\":{\"outlinewidth\":0,\"ticks\":\"\"}}}],\"histogram\":[{\"marker\":{\"pattern\":{\"fillmode\":\"overlay\",\"size\":10,\"solidity\":0.2}},\"type\":\"histogram\"}],\"scattergl\":[{\"type\":\"scattergl\",\"marker\":{\"colorbar\":{\"outlinewidth\":0,\"ticks\":\"\"}}}],\"scatter3d\":[{\"type\":\"scatter3d\",\"line\":{\"colorbar\":{\"outlinewidth\":0,\"ticks\":\"\"}},\"marker\":{\"colorbar\":{\"outlinewidth\":0,\"ticks\":\"\"}}}],\"scattermapbox\":[{\"type\":\"scattermapbox\",\"marker\":{\"colorbar\":{\"outlinewidth\":0,\"ticks\":\"\"}}}],\"scatterternary\":[{\"type\":\"scatterternary\",\"marker\":{\"colorbar\":{\"outlinewidth\":0,\"ticks\":\"\"}}}],\"scattercarpet\":[{\"type\":\"scattercarpet\",\"marker\":{\"colorbar\":{\"outlinewidth\":0,\"ticks\":\"\"}}}],\"carpet\":[{\"aaxis\":{\"endlinecolor\":\"#2a3f5f\",\"gridcolor\":\"white\",\"linecolor\":\"white\",\"minorgridcolor\":\"white\",\"startlinecolor\":\"#2a3f5f\"},\"baxis\":{\"endlinecolor\":\"#2a3f5f\",\"gridcolor\":\"white\",\"linecolor\":\"white\",\"minorgridcolor\":\"white\",\"startlinecolor\":\"#2a3f5f\"},\"type\":\"carpet\"}],\"table\":[{\"cells\":{\"fill\":{\"color\":\"#EBF0F8\"},\"line\":{\"color\":\"white\"}},\"header\":{\"fill\":{\"color\":\"#C8D4E3\"},\"line\":{\"color\":\"white\"}},\"type\":\"table\"}],\"barpolar\":[{\"marker\":{\"line\":{\"color\":\"#E5ECF6\",\"width\":0.5},\"pattern\":{\"fillmode\":\"overlay\",\"size\":10,\"solidity\":0.2}},\"type\":\"barpolar\"}],\"pie\":[{\"automargin\":true,\"type\":\"pie\"}]},\"layout\":{\"autotypenumbers\":\"strict\",\"colorway\":[\"#636efa\",\"#EF553B\",\"#00cc96\",\"#ab63fa\",\"#FFA15A\",\"#19d3f3\",\"#FF6692\",\"#B6E880\",\"#FF97FF\",\"#FECB52\"],\"font\":{\"color\":\"#2a3f5f\"},\"hovermode\":\"closest\",\"hoverlabel\":{\"align\":\"left\"},\"paper_bgcolor\":\"white\",\"plot_bgcolor\":\"#E5ECF6\",\"polar\":{\"bgcolor\":\"#E5ECF6\",\"angularaxis\":{\"gridcolor\":\"white\",\"linecolor\":\"white\",\"ticks\":\"\"},\"radialaxis\":{\"gridcolor\":\"white\",\"linecolor\":\"white\",\"ticks\":\"\"}},\"ternary\":{\"bgcolor\":\"#E5ECF6\",\"aaxis\":{\"gridcolor\":\"white\",\"linecolor\":\"white\",\"ticks\":\"\"},\"baxis\":{\"gridcolor\":\"white\",\"linecolor\":\"white\",\"ticks\":\"\"},\"caxis\":{\"gridcolor\":\"white\",\"linecolor\":\"white\",\"ticks\":\"\"}},\"coloraxis\":{\"colorbar\":{\"outlinewidth\":0,\"ticks\":\"\"}},\"colorscale\":{\"sequential\":[[0.0,\"#0d0887\"],[0.1111111111111111,\"#46039f\"],[0.2222222222222222,\"#7201a8\"],[0.3333333333333333,\"#9c179e\"],[0.4444444444444444,\"#bd3786\"],[0.5555555555555556,\"#d8576b\"],[0.6666666666666666,\"#ed7953\"],[0.7777777777777778,\"#fb9f3a\"],[0.8888888888888888,\"#fdca26\"],[1.0,\"#f0f921\"]],\"sequentialminus\":[[0.0,\"#0d0887\"],[0.1111111111111111,\"#46039f\"],[0.2222222222222222,\"#7201a8\"],[0.3333333333333333,\"#9c179e\"],[0.4444444444444444,\"#bd3786\"],[0.5555555555555556,\"#d8576b\"],[0.6666666666666666,\"#ed7953\"],[0.7777777777777778,\"#fb9f3a\"],[0.8888888888888888,\"#fdca26\"],[1.0,\"#f0f921\"]],\"diverging\":[[0,\"#8e0152\"],[0.1,\"#c51b7d\"],[0.2,\"#de77ae\"],[0.3,\"#f1b6da\"],[0.4,\"#fde0ef\"],[0.5,\"#f7f7f7\"],[0.6,\"#e6f5d0\"],[0.7,\"#b8e186\"],[0.8,\"#7fbc41\"],[0.9,\"#4d9221\"],[1,\"#276419\"]]},\"xaxis\":{\"gridcolor\":\"white\",\"linecolor\":\"white\",\"ticks\":\"\",\"title\":{\"standoff\":15},\"zerolinecolor\":\"white\",\"automargin\":true,\"zerolinewidth\":2},\"yaxis\":{\"gridcolor\":\"white\",\"linecolor\":\"white\",\"ticks\":\"\",\"title\":{\"standoff\":15},\"zerolinecolor\":\"white\",\"automargin\":true,\"zerolinewidth\":2},\"scene\":{\"xaxis\":{\"backgroundcolor\":\"#E5ECF6\",\"gridcolor\":\"white\",\"linecolor\":\"white\",\"showbackground\":true,\"ticks\":\"\",\"zerolinecolor\":\"white\",\"gridwidth\":2},\"yaxis\":{\"backgroundcolor\":\"#E5ECF6\",\"gridcolor\":\"white\",\"linecolor\":\"white\",\"showbackground\":true,\"ticks\":\"\",\"zerolinecolor\":\"white\",\"gridwidth\":2},\"zaxis\":{\"backgroundcolor\":\"#E5ECF6\",\"gridcolor\":\"white\",\"linecolor\":\"white\",\"showbackground\":true,\"ticks\":\"\",\"zerolinecolor\":\"white\",\"gridwidth\":2}},\"shapedefaults\":{\"line\":{\"color\":\"#2a3f5f\"}},\"annotationdefaults\":{\"arrowcolor\":\"#2a3f5f\",\"arrowhead\":0,\"arrowwidth\":1},\"geo\":{\"bgcolor\":\"white\",\"landcolor\":\"#E5ECF6\",\"subunitcolor\":\"white\",\"showland\":true,\"showlakes\":true,\"lakecolor\":\"white\"},\"title\":{\"x\":0.05},\"mapbox\":{\"style\":\"light\"}}},\"scene\":{\"domain\":{\"x\":[0.0,1.0],\"y\":[0.0,1.0]},\"xaxis\":{\"title\":{\"text\":\"x\"}},\"yaxis\":{\"title\":{\"text\":\"y\"}},\"zaxis\":{\"title\":{\"text\":\"z\"}}},\"legend\":{\"tracegroupgap\":0},\"margin\":{\"t\":60}},                        {\"responsive\": true}                    ).then(function(){\n",
              "                            \n",
              "var gd = document.getElementById('443320eb-7587-418d-9c79-b99ea67931b8');\n",
              "var x = new MutationObserver(function (mutations, observer) {{\n",
              "        var display = window.getComputedStyle(gd).display;\n",
              "        if (!display || display === 'none') {{\n",
              "            console.log([gd, 'removed!']);\n",
              "            Plotly.purge(gd);\n",
              "            observer.disconnect();\n",
              "        }}\n",
              "}});\n",
              "\n",
              "// Listen for the removal of the full notebook cells\n",
              "var notebookContainer = gd.closest('#notebook-container');\n",
              "if (notebookContainer) {{\n",
              "    x.observe(notebookContainer, {childList: true});\n",
              "}}\n",
              "\n",
              "// Listen for the clearing of the current output cell\n",
              "var outputEl = gd.closest('.output');\n",
              "if (outputEl) {{\n",
              "    x.observe(outputEl, {childList: true});\n",
              "}}\n",
              "\n",
              "                        })                };                            </script>        </div>\n",
              "</body>\n",
              "</html>"
            ]
          },
          "metadata": {}
        }
      ],
      "source": [
        "# Graficar los embedddings en 3D\n",
        "\n",
        "vecs, labels = reduce_dimensions_adele(w2v_model_adele,3)\n",
        "\n",
        "fig = px.scatter_3d(x=vecs[:MAX_WORDS,0], y=vecs[:MAX_WORDS,1], z=vecs[:MAX_WORDS,2],text=labels[:MAX_WORDS])\n",
        "fig.update_traces(marker_size = 2)\n",
        "fig.show(renderer=\"colab\") # esto para plotly en colab"
      ]
    },
    {
      "cell_type": "markdown",
      "source": [
        "# Esta gráfica no solo muestra palabras… muestra emociones.\n",
        "'Break' está en el centro del dolor, rodeado por lágrimas, ausencias y silencios.\n",
        "'Always' está en la cima de la espera, rodeado por promesas que no se cumplieron.\n",
        "El modelo, con precisión matemática, nos revela que en Adele, el amor no termina con un adiós  sino con un always .\n",
        "\n",
        "**Para finalizar, es importante destacar que, aunque el modelo Word2Vec logra identificar asociaciones semánticas con alta precisión, estas adquieren verdadero significado solo cuando son interpretadas por el ojo humano. Es la experiencia, el contexto cultural y la sensibilidad emocional del analista lo que permite comprender  el universo de Adele**"
      ],
      "metadata": {
        "id": "eyN5hmLACvHt"
      }
    },
    {
      "cell_type": "code",
      "execution_count": 55,
      "metadata": {
        "id": "2s4snHmJLwk5"
      },
      "outputs": [],
      "source": [
        "# También se pueden guardar los vectores y labels como tsv para graficar en\n",
        "# http://projector.tensorflow.org/\n",
        "\n",
        "\n",
        "vectors_adele = np.asarray(w2v_model_adele.wv.vectors)\n",
        "labels_adele = list(w2v_model_adele.wv.index_to_key)\n",
        "\n",
        "np.savetxt(\"vectors.tsv\", vectors_adele, delimiter=\"\\t\")\n",
        "\n",
        "with open(\"labels.tsv\", \"w\") as fp:\n",
        "    for item in labels:\n",
        "        fp.write(\"%s\\n\" % item)"
      ]
    },
    {
      "cell_type": "code",
      "source": [
        "from google.colab import files\n",
        "\n",
        "files.download(\"vectors.tsv\")\n",
        "files.download(\"labels.tsv\")"
      ],
      "metadata": {
        "id": "5SrkPxH9MIvb",
        "outputId": "e17a1c87-1c12-45b7-b23b-bf7d56d00f58",
        "colab": {
          "base_uri": "https://localhost:8080/",
          "height": 17
        }
      },
      "execution_count": 56,
      "outputs": [
        {
          "output_type": "display_data",
          "data": {
            "text/plain": [
              "<IPython.core.display.Javascript object>"
            ],
            "application/javascript": [
              "\n",
              "    async function download(id, filename, size) {\n",
              "      if (!google.colab.kernel.accessAllowed) {\n",
              "        return;\n",
              "      }\n",
              "      const div = document.createElement('div');\n",
              "      const label = document.createElement('label');\n",
              "      label.textContent = `Downloading \"${filename}\": `;\n",
              "      div.appendChild(label);\n",
              "      const progress = document.createElement('progress');\n",
              "      progress.max = size;\n",
              "      div.appendChild(progress);\n",
              "      document.body.appendChild(div);\n",
              "\n",
              "      const buffers = [];\n",
              "      let downloaded = 0;\n",
              "\n",
              "      const channel = await google.colab.kernel.comms.open(id);\n",
              "      // Send a message to notify the kernel that we're ready.\n",
              "      channel.send({})\n",
              "\n",
              "      for await (const message of channel.messages) {\n",
              "        // Send a message to notify the kernel that we're ready.\n",
              "        channel.send({})\n",
              "        if (message.buffers) {\n",
              "          for (const buffer of message.buffers) {\n",
              "            buffers.push(buffer);\n",
              "            downloaded += buffer.byteLength;\n",
              "            progress.value = downloaded;\n",
              "          }\n",
              "        }\n",
              "      }\n",
              "      const blob = new Blob(buffers, {type: 'application/binary'});\n",
              "      const a = document.createElement('a');\n",
              "      a.href = window.URL.createObjectURL(blob);\n",
              "      a.download = filename;\n",
              "      div.appendChild(a);\n",
              "      a.click();\n",
              "      div.remove();\n",
              "    }\n",
              "  "
            ]
          },
          "metadata": {}
        },
        {
          "output_type": "display_data",
          "data": {
            "text/plain": [
              "<IPython.core.display.Javascript object>"
            ],
            "application/javascript": [
              "download(\"download_22c865cd-9bb5-4a3e-9f16-a756c407eedd\", \"vectors.tsv\", 3947511)"
            ]
          },
          "metadata": {}
        },
        {
          "output_type": "display_data",
          "data": {
            "text/plain": [
              "<IPython.core.display.Javascript object>"
            ],
            "application/javascript": [
              "\n",
              "    async function download(id, filename, size) {\n",
              "      if (!google.colab.kernel.accessAllowed) {\n",
              "        return;\n",
              "      }\n",
              "      const div = document.createElement('div');\n",
              "      const label = document.createElement('label');\n",
              "      label.textContent = `Downloading \"${filename}\": `;\n",
              "      div.appendChild(label);\n",
              "      const progress = document.createElement('progress');\n",
              "      progress.max = size;\n",
              "      div.appendChild(progress);\n",
              "      document.body.appendChild(div);\n",
              "\n",
              "      const buffers = [];\n",
              "      let downloaded = 0;\n",
              "\n",
              "      const channel = await google.colab.kernel.comms.open(id);\n",
              "      // Send a message to notify the kernel that we're ready.\n",
              "      channel.send({})\n",
              "\n",
              "      for await (const message of channel.messages) {\n",
              "        // Send a message to notify the kernel that we're ready.\n",
              "        channel.send({})\n",
              "        if (message.buffers) {\n",
              "          for (const buffer of message.buffers) {\n",
              "            buffers.push(buffer);\n",
              "            downloaded += buffer.byteLength;\n",
              "            progress.value = downloaded;\n",
              "          }\n",
              "        }\n",
              "      }\n",
              "      const blob = new Blob(buffers, {type: 'application/binary'});\n",
              "      const a = document.createElement('a');\n",
              "      a.href = window.URL.createObjectURL(blob);\n",
              "      a.download = filename;\n",
              "      div.appendChild(a);\n",
              "      a.click();\n",
              "      div.remove();\n",
              "    }\n",
              "  "
            ]
          },
          "metadata": {}
        },
        {
          "output_type": "display_data",
          "data": {
            "text/plain": [
              "<IPython.core.display.Javascript object>"
            ],
            "application/javascript": [
              "download(\"download_b4bd23bd-a20d-4f28-8c7d-c1b1ee18fc21\", \"labels.tsv\", 2981)"
            ]
          },
          "metadata": {}
        }
      ]
    }
  ],
  "metadata": {
    "colab": {
      "provenance": []
    },
    "kernelspec": {
      "display_name": "Python 3 (ipykernel)",
      "language": "python",
      "name": "python3"
    },
    "language_info": {
      "codemirror_mode": {
        "name": "ipython",
        "version": 3
      },
      "file_extension": ".py",
      "mimetype": "text/x-python",
      "name": "python",
      "nbconvert_exporter": "python",
      "pygments_lexer": "ipython3",
      "version": "3.10.6"
    }
  },
  "nbformat": 4,
  "nbformat_minor": 0
}